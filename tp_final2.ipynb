{
 "cells": [
  {
   "cell_type": "markdown",
   "source": [
    "## Librerias"
   ],
   "metadata": {
    "collapsed": false,
    "pycharm": {
     "name": "#%% md\n"
    }
   }
  },
  {
   "cell_type": "code",
   "execution_count": 201,
   "metadata": {
    "collapsed": true,
    "pycharm": {
     "name": "#%%\n"
    }
   },
   "outputs": [],
   "source": [
    "import glob\n",
    "import os\n",
    "\n",
    "from matplotlib import rcParams\n",
    "import pandas as pd\n",
    "import numpy as np\n",
    "import seaborn as sns\n",
    "\n",
    "import matplotlib.pyplot as plt\n",
    "from matplotlib import style\n",
    "\n",
    "from scipy import stats\n",
    "import inspect\n",
    "from statsmodels.distributions.empirical_distribution import ECDF\n",
    "from sklearn.model_selection import cross_validate\n",
    "from sklearn.linear_model import LogisticRegression"
   ]
  },
  {
   "cell_type": "markdown",
   "source": [],
   "metadata": {
    "collapsed": false,
    "pycharm": {
     "name": "#%% md\n"
    }
   }
  },
  {
   "cell_type": "markdown",
   "source": [
    "## Glosario y datasets"
   ],
   "metadata": {
    "collapsed": false,
    "pycharm": {
     "name": "#%% md\n"
    }
   }
  },
  {
   "cell_type": "code",
   "execution_count": null,
   "outputs": [],
   "source": [
    "\"\"\"Rk -- Rank\n",
    "This is a count of the rows from top to bottom.\n",
    "It is recalculated following the sorting of a column.\n",
    "Fantasy\n",
    "FantPos -- Fantasy position: QB, RB, WR, or TE\n",
    "Age -- Players age on December 31st of that year\n",
    "Games\n",
    "G -- Games played\n",
    "GS -- Games started as an offensive or defensive player\n",
    "Passing\n",
    "Cmp -- Passes completed\n",
    "Att -- Passes attempted\n",
    "Yds -- Yards Gained by Passing\n",
    "For teams, sack yardage is deducted from this total\n",
    "TD -- Passing Touchdowns\n",
    "Int -- Interceptions thrown\n",
    "Rushing\n",
    "Att -- Rushing Attempts (sacks not included in NFL)\n",
    "Yds -- Rushing Yards Gained (sack yardage is not included by NFL)\n",
    "Y/A -- Rushing Yards per Attempt\n",
    "Minimum 6.25 rushes per game scheduled to qualify as leader.\n",
    "Minimum 750 rushes to qualify as career leader.\n",
    "TD -- Rushing Touchdowns\n",
    "Receiving\n",
    "Tgt -- Pass Targets (since 1992, derived from NFL play-by-play data)\n",
    "Rec -- Receptions\n",
    "Yds -- Receiving Yards\n",
    "Y/R -- Receiving Yards per Reception\n",
    "Minimum 1.875 catches per game scheduled to qualify as leader.\n",
    "Minimum 200 receptions to qualify as career leader.\n",
    "TD -- Receiving Touchdowns\n",
    "Fumbles\n",
    "Fmb -- Number of times fumbled both lost and recovered by own team\n",
    "These represent ALL fumbles by the player on offense, defense, and special teams.\n",
    "Available for player games since 1990.\n",
    "FL -- Fumbles Lost by Player (since 1994) or Team\n",
    "Scoring\n",
    "TD -- Touchdowns of every type\n",
    "2PM -- Two-Point Conversions Made\n",
    "2PP -- Two-Point Conversion Passes\n",
    "Fantasy\n",
    "FantPt -- Fantasy points:\n",
    "1 point per 25 yards passing\n",
    "4 points per passing touchdown\n",
    "-2 points per interception thrown\n",
    "1 point per 10 yards rushing/receiving\n",
    "6 points per TD\n",
    "2 points per two-point conversion\n",
    "-2 points per fumble lost (est. prior to 1994)\n",
    "PPR -- Fantasy points (PPR scoring):\n",
    "1 point per 25 yards passing\n",
    "4 points per passing touchdown\n",
    "-2 points per interception thrown\n",
    "1 point per reception\n",
    "1 point per 10 yards rushing/receiving\n",
    "6 points per TD\n",
    "2 points per two-point conversion\n",
    "-2 points per fumble lost (est. prior to 1994)\n",
    "DKPt -- Fantasy points (DraftKings scoring)\n",
    "FDPt -- Fantasy points (FanDuel scoring)\n",
    "VBD -- VBD: popularized by Joe Bryant in the 90s,\n",
    "this is the players fantasy points minus the fantasy points of the baseline player,\n",
    "where the baseline player is the 12th-ranked QB,\n",
    "the 24th-ranked RB,\n",
    "the 30th-ranked WR,\n",
    "or the 12th-ranked TE\n",
    "PosRank -- The players fantasy rank within his position\n",
    "OvRank -- The players overall fantasy rank (blank if the player was below the baseline)\n",
    "Rk -- Rank\n",
    "This is a count of the rows from top to bottom.\n",
    "It is recalculated following the sorting of a column.\n",
    "FantPos -- Fantasy position: QB, RB, WR, or TE\n",
    "Age -- Player's age on December 31st of that year\n",
    "G -- Games played\n",
    "GS -- Games started as an offensive or defensive player\n",
    "Cmp -- Passes completed\n",
    "Att -- Passes attempted\n",
    "Yds -- Yards Gained by Passing\n",
    "For teams, sack yardage is deducted from this total\n",
    "TD -- Passing Touchdowns\n",
    "Int -- Interceptions thrown\n",
    "Att -- Rushing Attempts (sacks not included in NFL)\n",
    "Yds -- Rushing Yards Gained (sack yardage is not included by NFL)\n",
    "Y/A -- Rushing Yards per Attempt\n",
    "Minimum 6.25 rushes per game scheduled to qualify as leader.\n",
    "Minimum 750 rushes to qualify as career leader.\n",
    "TD -- Rushing Touchdowns\n",
    "Tgt -- Pass Targets (since 1992, derived from NFL play-by-play data)\n",
    "Rec -- Receptions\n",
    "Yds -- Receiving Yards\n",
    "Y/R -- Receiving Yards per Reception\n",
    "Minimum 1.875 catches per game scheduled to qualify as leader.\n",
    "Minimum 200 receptions to qualify as career leader.\n",
    "TD -- Receiving Touchdowns\n",
    "Fmb -- Number of times fumbled both lost and recovered by own team\n",
    "These represent ALL fumbles by the player on offense, defense, and special teams.\n",
    "Available for player games since 1990.\n",
    "FL -- Fumbles Lost by Player (since 1994) or Team\n",
    "TD -- Touchdowns of every type\n",
    "2PM -- Two-Point Conversions Made\n",
    "2PP -- Two-Point Conversion Passes\n",
    "FantPt -- Fantasy points:\n",
    "1 point per 25 yards passing\n",
    "4 points per passing touchdown\n",
    "-2 points per interception thrown\n",
    "1 point per 10 yards rushing/receiving\n",
    "6 points per TD\n",
    "2 points per two-point conversion\n",
    "-2 points per fumble lost (est. prior to 1994)\n",
    "PPR -- Fantasy points (PPR scoring):\n",
    "1 point per 25 yards passing\n",
    "4 points per passing touchdown\n",
    "-2 points per interception thrown\n",
    "1 point per reception\n",
    "1 point per 10 yards rushing/receiving\n",
    "6 points per TD\n",
    "2 points per two-point conversion\n",
    "-2 points per fumble lost (est. prior to 1994)\n",
    "DKPt -- Fantasy points (DraftKings scoring)\n",
    "FDPt -- Fantasy points (FanDuel scoring)\n",
    "VBD -- VBD: popularized by Joe Bryant in the 90s,\n",
    "this is the players fantasy points minus the fantasy points of the baseline player,\n",
    "where the baseline player is the 12th-ranked QB,\n",
    "the 24th-ranked RB,\n",
    "the 30th-ranked WR,\n",
    "or the 12th-ranked TE\n",
    "PosRank -- The players fantasy rank within his position\n",
    "OvRank -- The players overall fantasy rank (blank if the player was below the baseline)\n",
    "Rk -- Rank\n",
    "This is a count of the rows from top to bottom.\n",
    "It is recalculated following the sorting of a column.\n",
    "FantPos -- Fantasy position: QB, RB, WR, or TE\n",
    "Age -- Player's age on December 31st of that year\n",
    "G -- Games played\n",
    "GS -- Games started as an offensive or defensive player\n",
    "Cmp -- Passes completed\n",
    "Att -- Passes attempted\n",
    "Yds -- Yards Gained by Passing\n",
    "For teams, sack yardage is deducted from this total\n",
    "TD -- Passing Touchdowns\n",
    "Int -- Interceptions thrown\n",
    "Att -- Rushing Attempts (sacks not included in NFL)\n",
    "Yds -- Rushing Yards Gained (sack yardage is not included by NFL)\n",
    "Y/A -- Rushing Yards per Attempt\n",
    "Minimum 6.25 rushes per game scheduled to qualify as leader.\n",
    "Minimum 750 rushes to qualify as career leader.\n",
    "TD -- Rushing Touchdowns\n",
    "Tgt -- Pass Targets (since 1992, derived from NFL play-by-play data)\n",
    "Rec -- Receptions\n",
    "Yds -- Receiving Yards\n",
    "Y/R -- Receiving Yards per Reception\n",
    "Minimum 1.875 catches per game scheduled to qualify as leader.\n",
    "Minimum 200 receptions to qualify as career leader.\n",
    "TD -- Receiving Touchdowns\n",
    "Fmb -- Number of times fumbled both lost and recovered by own team\n",
    "These represent ALL fumbles by the player on offense, defense, and special teams.\n",
    "Available for player games since 1990.\n",
    "FL -- Fumbles Lost by Player (since 1994) or Team\n",
    "TD -- Touchdowns of every type\n",
    "2PM -- Two-Point Conversions Made\n",
    "2PP -- Two-Point Conversion Passes\n",
    "FantPt -- Fantasy points:\n",
    "1 point per 25 yards passing\n",
    "4 points per passing touchdown\n",
    "-2 points per interception thrown\n",
    "1 point per 10 yards rushing/receiving\n",
    "6 points per TD\n",
    "2 points per two-point conversion\n",
    "-2 points per fumble lost (est. prior to 1994)\n",
    "PPR -- Fantasy points (PPR scoring):\n",
    "1 point per 25 yards passing\n",
    "4 points per passing touchdown\n",
    "-2 points per interception thrown\n",
    "1 point per reception\n",
    "1 point per 10 yards rushing/receiving\n",
    "6 points per TD\n",
    "2 points per two-point conversion\n",
    "-2 points per fumble lost (est. prior to 1994)\n",
    "DKPt -- Fantasy points (DraftKings scoring)\n",
    "FDPt -- Fantasy points (FanDuel scoring)\n",
    "VBD -- VBD: popularized by Joe Bryant in the 90s,\n",
    "this is the players fantasy points minus the fantasy points of the baseline player,\n",
    "where the baseline player is the 12th-ranked QB,\n",
    "the 24th-ranked RB,\n",
    "the 30th-ranked WR,\n",
    "or the 12th-ranked TE\n",
    "PosRank -- The players fantasy rank within his position\n",
    "OvRank -- The players overall fantasy rank (blank if the player was below the baseline)\n",
    "Rk -- Rank\n",
    "This is a count of the rows from top to bottom.\n",
    "It is recalculated following the sorting of a column.\n",
    "FantPos -- Fantasy position: QB, RB, WR, or TE\n",
    "Age -- Player's age on December 31st of that year\n",
    "G -- Games played\n",
    "GS -- Games started as an offensive or defensive player\n",
    "Cmp -- Passes completed\n",
    "Att -- Passes attempted\n",
    "Yds -- Yards Gained by Passing\n",
    "For teams, sack yardage is deducted from this total\n",
    "TD -- Passing Touchdowns\n",
    "Int -- Interceptions thrown\n",
    "Att -- Rushing Attempts (sacks not included in NFL)\n",
    "Yds -- Rushing Yards Gained (sack yardage is not included by NFL)\n",
    "Y/A -- Rushing Yards per Attempt\n",
    "Minimum 6.25 rushes per game scheduled to qualify as leader.\n",
    "Minimum 750 rushes to qualify as career leader.\n",
    "TD -- Rushing Touchdowns\n",
    "Tgt -- Pass Targets (since 1992, derived from NFL play-by-play data)\n",
    "Rec -- Receptions\n",
    "Yds -- Receiving Yards\n",
    "Y/R -- Receiving Yards per Reception\n",
    "Minimum 1.875 catches per game scheduled to qualify as leader.\n",
    "Minimum 200 receptions to qualify as career leader.\n",
    "TD -- Receiving Touchdowns\n",
    "Fmb -- Number of times fumbled both lost and recovered by own team\n",
    "These represent ALL fumbles by the player on offense, defense, and special teams.\n",
    "Available for player games since 1990.\n",
    "FL -- Fumbles Lost by Player (since 1994) or Team\n",
    "TD -- Touchdowns of every type\n",
    "2PM -- Two-Point Conversions Made\n",
    "2PP -- Two-Point Conversion Passes\n",
    "FantPt -- Fantasy points:\n",
    "1 point per 25 yards passing\n",
    "4 points per passing touchdown\n",
    "-2 points per interception thrown\n",
    "1 point per 10 yards rushing/receiving\n",
    "6 points per TD\n",
    "2 points per two-point conversion\n",
    "-2 points per fumble lost (est. prior to 1994)\n",
    "PPR -- Fantasy points (PPR scoring):\n",
    "1 point per 25 yards passing\n",
    "4 points per passing touchdown\n",
    "-2 points per interception thrown\n",
    "1 point per reception\n",
    "1 point per 10 yards rushing/receiving\n",
    "6 points per TD\n",
    "2 points per two-point conversion\n",
    "-2 points per fumble lost (est. prior to 1994)\n",
    "DKPt -- Fantasy points (DraftKings scoring)\n",
    "FDPt -- Fantasy points (FanDuel scoring)\n",
    "VBD -- VBD: popularized by Joe Bryant in the 90s,\n",
    "this is the players fantasy points minus the fantasy points of the baseline player,\n",
    "where the baseline player is the 12th-ranked QB,\n",
    "the 24th-ranked RB,\n",
    "the 30th-ranked WR,\n",
    "or the 12th-ranked TE\n",
    "PosRank -- The players fantasy rank within his position\n",
    "OvRank -- The players overall fantasy rank (blank if the player was below the baseline)\n",
    "Rk -- Rank\n",
    "This is a count of the rows from top to bottom.\n",
    "It is recalculated following the sorting of a column.\n",
    "FantPos -- Fantasy position: QB, RB, WR, or TE\n",
    "Age -- Player's age on December 31st of that year\n",
    "G -- Games played\n",
    "GS -- Games started as an offensive or defensive player\n",
    "Cmp -- Passes completed\n",
    "Att -- Passes attempted\n",
    "Yds -- Yards Gained by Passing\n",
    "For teams, sack yardage is deducted from this total\n",
    "TD -- Passing Touchdowns\n",
    "Int -- Interceptions thrown\n",
    "Att -- Rushing Attempts (sacks not included in NFL)\n",
    "Yds -- Rushing Yards Gained (sack yardage is not included by NFL)\n",
    "Y/A -- Rushing Yards per Attempt\n",
    "Minimum 6.25 rushes per game scheduled to qualify as leader.\n",
    "Minimum 750 rushes to qualify as career leader.\n",
    "TD -- Rushing Touchdowns\n",
    "Tgt -- Pass Targets (since 1992, derived from NFL play-by-play data)\n",
    "Rec -- Receptions\n",
    "Yds -- Receiving Yards\n",
    "Y/R -- Receiving Yards per Reception\n",
    "Minimum 1.875 catches per game scheduled to qualify as leader.\n",
    "Minimum 200 receptions to qualify as career leader.\n",
    "TD -- Receiving Touchdowns\n",
    "Fmb -- Number of times fumbled both lost and recovered by own team\n",
    "These represent ALL fumbles by the player on offense, defense, and special teams.\n",
    "Available for player games since 1990.\n",
    "FL -- Fumbles Lost by Player (since 1994) or Team\n",
    "TD -- Touchdowns of every type\n",
    "2PM -- Two-Point Conversions Made\n",
    "2PP -- Two-Point Conversion Passes\n",
    "FantPt -- Fantasy points:\n",
    "1 point per 25 yards passing\n",
    "4 points per passing touchdown\n",
    "-2 points per interception thrown\n",
    "1 point per 10 yards rushing/receiving\n",
    "6 points per TD\n",
    "2 points per two-point conversion\n",
    "-2 points per fumble lost (est. prior to 1994)\n",
    "PPR -- Fantasy points (PPR scoring):\n",
    "1 point per 25 yards passing\n",
    "4 points per passing touchdown\n",
    "-2 points per interception thrown\n",
    "1 point per reception\n",
    "1 point per 10 yards rushing/receiving\n",
    "6 points per TD\n",
    "2 points per two-point conversion\n",
    "-2 points per fumble lost (est. prior to 1994)\n",
    "DKPt -- Fantasy points (DraftKings scoring)\n",
    "FDPt -- Fantasy points (FanDuel scoring)\n",
    "VBD -- VBD: popularized by Joe Bryant in the 90s,\n",
    "this is the players fantasy points minus the fantasy points of the baseline player,\n",
    "where the baseline player is the 12th-ranked QB,\n",
    "the 24th-ranked RB,\n",
    "the 30th-ranked WR,\n",
    "or the 12th-ranked TE\n",
    "PosRank -- The players fantasy rank within his position\n",
    "OvRank -- The players overall fantasy rank (blank if the player was below the baseline)\n",
    "Rk -- Rank\n",
    "This is a count of the rows from top to bottom.\n",
    "It is recalculated following the sorting of a column.\n",
    "FantPos -- Fantasy position: QB, RB, WR, or TE\n",
    "Age -- Player's age on December 31st of that year\n",
    "G -- Games played\n",
    "GS -- Games started as an offensive or defensive player\n",
    "Cmp -- Passes completed\n",
    "Att -- Passes attempted\n",
    "Yds -- Yards Gained by Passing\n",
    "For teams, sack yardage is deducted from this total\n",
    "TD -- Passing Touchdowns\n",
    "Int -- Interceptions thrown\n",
    "Att -- Rushing Attempts (sacks not included in NFL)\n",
    "Yds -- Rushing Yards Gained (sack yardage is not included by NFL)\n",
    "Y/A -- Rushing Yards per Attempt\n",
    "Minimum 6.25 rushes per game scheduled to qualify as leader.\n",
    "Minimum 750 rushes to qualify as career leader.\n",
    "TD -- Rushing Touchdowns\n",
    "Tgt -- Pass Targets (since 1992, derived from NFL play-by-play data)\n",
    "Rec -- Receptions\n",
    "Yds -- Receiving Yards\n",
    "Y/R -- Receiving Yards per Reception\n",
    "Minimum 1.875 catches per game scheduled to qualify as leader.\n",
    "Minimum 200 receptions to qualify as career leader.\n",
    "TD -- Receiving Touchdowns\n",
    "Fmb -- Number of times fumbled both lost and recovered by own team\n",
    "These represent ALL fumbles by the player on offense, defense, and special teams.\n",
    "Available for player games since 1990.\n",
    "FL -- Fumbles Lost by Player (since 1994) or Team\n",
    "TD -- Touchdowns of every type\n",
    "2PM -- Two-Point Conversions Made\n",
    "2PP -- Two-Point Conversion Passes\n",
    "FantPt -- Fantasy points:\n",
    "1 point per 25 yards passing\n",
    "4 points per passing touchdown\n",
    "-2 points per interception thrown\n",
    "1 point per 10 yards rushing/receiving\n",
    "6 points per TD\n",
    "2 points per two-point conversion\n",
    "-2 points per fumble lost (est. prior to 1994)\n",
    "PPR -- Fantasy points (PPR scoring):\n",
    "1 point per 25 yards passing\n",
    "4 points per passing touchdown\n",
    "-2 points per interception thrown\n",
    "1 point per reception\n",
    "1 point per 10 yards rushing/receiving\n",
    "6 points per TD\n",
    "2 points per two-point conversion\n",
    "-2 points per fumble lost (est. prior to 1994)\n",
    "DKPt -- Fantasy points (DraftKings scoring)\n",
    "FDPt -- Fantasy points (FanDuel scoring)\n",
    "VBD -- VBD: popularized by Joe Bryant in the 90s,\n",
    "this is the players fantasy points minus the fantasy points of the baseline player,\n",
    "where the baseline player is the 12th-ranked QB,\n",
    "the 24th-ranked RB,\n",
    "the 30th-ranked WR,\n",
    "or the 12th-ranked TE\n",
    "PosRank -- The players fantasy rank within his position\n",
    "OvRank -- The players overall fantasy rank (blank if the player was below the baseline)\n",
    "Rk -- Rank\n",
    "This is a count of the rows from top to bottom.\n",
    "It is recalculated following the sorting of a column.\n",
    "FantPos -- Fantasy position: QB, RB, WR, or TE\n",
    "Age -- Player's age on December 31st of that year\n",
    "G -- Games played\n",
    "GS -- Games started as an offensive or defensive player\n",
    "Cmp -- Passes completed\n",
    "Att -- Passes attempted\n",
    "Yds -- Yards Gained by Passing\n",
    "For teams, sack yardage is deducted from this total\n",
    "TD -- Passing Touchdowns\n",
    "Int -- Interceptions thrown\n",
    "Att -- Rushing Attempts (sacks not included in NFL)\n",
    "Yds -- Rushing Yards Gained (sack yardage is not included by NFL)\n",
    "Y/A -- Rushing Yards per Attempt\n",
    "Minimum 6.25 rushes per game scheduled to qualify as leader.\n",
    "Minimum 750 rushes to qualify as career leader.\n",
    "TD -- Rushing Touchdowns\n",
    "Tgt -- Pass Targets (since 1992, derived from NFL play-by-play data)\n",
    "Rec -- Receptions\n",
    "Yds -- Receiving Yards\n",
    "Y/R -- Receiving Yards per Reception\n",
    "Minimum 1.875 catches per game scheduled to qualify as leader.\n",
    "Minimum 200 receptions to qualify as career leader.\n",
    "TD -- Receiving Touchdowns\n",
    "Fmb -- Number of times fumbled both lost and recovered by own team\n",
    "These represent ALL fumbles by the player on offense, defense, and special teams.\n",
    "Available for player games since 1990.\n",
    "FL -- Fumbles Lost by Player (since 1994) or Team\n",
    "TD -- Touchdowns of every type\n",
    "2PM -- Two-Point Conversions Made\n",
    "2PP -- Two-Point Conversion Passes\n",
    "FantPt -- Fantasy points:\n",
    "1 point per 25 yards passing\n",
    "4 points per passing touchdown\n",
    "-2 points per interception thrown\n",
    "1 point per 10 yards rushing/receiving\n",
    "6 points per TD\n",
    "2 points per two-point conversion\n",
    "-2 points per fumble lost (est. prior to 1994)\n",
    "PPR -- Fantasy points (PPR scoring):\n",
    "1 point per 25 yards passing\n",
    "4 points per passing touchdown\n",
    "-2 points per interception thrown\n",
    "1 point per reception\n",
    "1 point per 10 yards rushing/receiving\n",
    "6 points per TD\n",
    "2 points per two-point conversion\n",
    "-2 points per fumble lost (est. prior to 1994)\n",
    "DKPt -- Fantasy points (DraftKings scoring)\n",
    "FDPt -- Fantasy points (FanDuel scoring)\n",
    "VBD -- VBD: popularized by Joe Bryant in the 90s,\n",
    "this is the players fantasy points minus the fantasy points of the baseline player,\n",
    "where the baseline player is the 12th-ranked QB,\n",
    "the 24th-ranked RB,\n",
    "the 30th-ranked WR,\n",
    "or the 12th-ranked TE\n",
    "PosRank -- The players fantasy rank within his position\n",
    "OvRank -- The players overall fantasy rank (blank if the player was below the baseline)\n",
    "Rk -- Rank\n",
    "This is a count of the rows from top to bottom.\n",
    "It is recalculated following the sorting of a column.\n",
    "FantPos -- Fantasy position: QB, RB, WR, or TE\n",
    "Age -- Player's age on December 31st of that year\n",
    "G -- Games played\n",
    "GS -- Games started as an offensive or defensive player\n",
    "Cmp -- Passes completed\n",
    "Att -- Passes attempted\n",
    "Yds -- Yards Gained by Passing\n",
    "For teams, sack yardage is deducted from this total\n",
    "TD -- Passing Touchdowns\n",
    "Int -- Interceptions thrown\n",
    "Att -- Rushing Attempts (sacks not included in NFL)\n",
    "Yds -- Rushing Yards Gained (sack yardage is not included by NFL)\n",
    "Y/A -- Rushing Yards per Attempt\n",
    "Minimum 6.25 rushes per game scheduled to qualify as leader.\n",
    "Minimum 750 rushes to qualify as career leader.\n",
    "TD -- Rushing Touchdowns\n",
    "Tgt -- Pass Targets (since 1992, derived from NFL play-by-play data)\n",
    "Rec -- Receptions\n",
    "Yds -- Receiving Yards\n",
    "Y/R -- Receiving Yards per Reception\n",
    "Minimum 1.875 catches per game scheduled to qualify as leader.\n",
    "Minimum 200 receptions to qualify as career leader.\n",
    "TD -- Receiving Touchdowns\n",
    "Fmb -- Number of times fumbled both lost and recovered by own team\n",
    "These represent ALL fumbles by the player on offense, defense, and special teams.\n",
    "Available for player games since 1990.\n",
    "FL -- Fumbles Lost by Player (since 1994) or Team\n",
    "TD -- Touchdowns of every type\n",
    "2PM -- Two-Point Conversions Made\n",
    "2PP -- Two-Point Conversion Passes\n",
    "FantPt -- Fantasy points:\n",
    "1 point per 25 yards passing\n",
    "4 points per passing touchdown\n",
    "-2 points per interception thrown\n",
    "1 point per 10 yards rushing/receiving\n",
    "6 points per TD\n",
    "2 points per two-point conversion\n",
    "-2 points per fumble lost (est. prior to 1994)\n",
    "PPR -- Fantasy points (PPR scoring):\n",
    "1 point per 25 yards passing\n",
    "4 points per passing touchdown\n",
    "-2 points per interception thrown\n",
    "1 point per reception\n",
    "1 point per 10 yards rushing/receiving\n",
    "6 points per TD\n",
    "2 points per two-point conversion\n",
    "-2 points per fumble lost (est. prior to 1994)\n",
    "DKPt -- Fantasy points (DraftKings scoring)\n",
    "FDPt -- Fantasy points (FanDuel scoring)\n",
    "VBD -- VBD: popularized by Joe Bryant in the 90s,\n",
    "this is the players fantasy points minus the fantasy points of the baseline player,\n",
    "where the baseline player is the 12th-ranked QB,\n",
    "the 24th-ranked RB,\n",
    "the 30th-ranked WR,\n",
    "or the 12th-ranked TE\n",
    "PosRank -- The players fantasy rank within his position\n",
    "OvRank -- The players overall fantasy rank (blank if the player was below the baseline)\n",
    "Rk -- Rank\n",
    "This is a count of the rows from top to bottom.\n",
    "It is recalculated following the sorting of a column.\n",
    "FantPos -- Fantasy position: QB, RB, WR, or TE\n",
    "Age -- Player's age on December 31st of that year\n",
    "G -- Games played\n",
    "GS -- Games started as an offensive or defensive player\n",
    "Cmp -- Passes completed\n",
    "Att -- Passes attempted\n",
    "Yds -- Yards Gained by Passing\n",
    "For teams, sack yardage is deducted from this total\n",
    "TD -- Passing Touchdowns\n",
    "Int -- Interceptions thrown\n",
    "Att -- Rushing Attempts (sacks not included in NFL)\n",
    "Yds -- Rushing Yards Gained (sack yardage is not included by NFL)\n",
    "Y/A -- Rushing Yards per Attempt\n",
    "Minimum 6.25 rushes per game scheduled to qualify as leader.\n",
    "Minimum 750 rushes to qualify as career leader.\n",
    "TD -- Rushing Touchdowns\n",
    "Tgt -- Pass Targets (since 1992, derived from NFL play-by-play data)\n",
    "Rec -- Receptions\n",
    "Yds -- Receiving Yards\n",
    "Y/R -- Receiving Yards per Reception\n",
    "Minimum 1.875 catches per game scheduled to qualify as leader.\n",
    "Minimum 200 receptions to qualify as career leader.\n",
    "TD -- Receiving Touchdowns\n",
    "Fmb -- Number of times fumbled both lost and recovered by own team\n",
    "These represent ALL fumbles by the player on offense, defense, and special teams.\n",
    "Available for player games since 1990.\n",
    "FL -- Fumbles Lost by Player (since 1994) or Team\n",
    "TD -- Touchdowns of every type\n",
    "2PM -- Two-Point Conversions Made\n",
    "2PP -- Two-Point Conversion Passes\n",
    "FantPt -- Fantasy points:\n",
    "1 point per 25 yards passing\n",
    "4 points per passing touchdown\n",
    "-2 points per interception thrown\n",
    "1 point per 10 yards rushing/receiving\n",
    "6 points per TD\n",
    "2 points per two-point conversion\n",
    "-2 points per fumble lost (est. prior to 1994)\n",
    "PPR -- Fantasy points (PPR scoring):\n",
    "1 point per 25 yards passing\n",
    "4 points per passing touchdown\n",
    "-2 points per interception thrown\n",
    "1 point per reception\n",
    "1 point per 10 yards rushing/receiving\n",
    "6 points per TD\n",
    "2 points per two-point conversion\n",
    "-2 points per fumble lost (est. prior to 1994)\n",
    "DKPt -- Fantasy points (DraftKings scoring)\n",
    "FDPt -- Fantasy points (FanDuel scoring)\n",
    "VBD -- VBD: popularized by Joe Bryant in the 90s,\n",
    "this is the players fantasy points minus the fantasy points of the baseline player,\n",
    "where the baseline player is the 12th-ranked QB,\n",
    "the 24th-ranked RB,\n",
    "the 30th-ranked WR,\n",
    "or the 12th-ranked TE\n",
    "PosRank -- The players fantasy rank within his position\n",
    "OvRank -- The players overall fantasy rank (blank if the player was below the baseline)\n",
    "Rk -- Rank\n",
    "This is a count of the rows from top to bottom.\n",
    "It is recalculated following the sorting of a column.\n",
    "FantPos -- Fantasy position: QB, RB, WR, or TE\n",
    "Age -- Player's age on December 31st of that year\n",
    "G -- Games played\n",
    "GS -- Games started as an offensive or defensive player\n",
    "Cmp -- Passes completed\n",
    "Att -- Passes attempted\n",
    "Yds -- Yards Gained by Passing\n",
    "For teams, sack yardage is deducted from this total\n",
    "TD -- Passing Touchdowns\n",
    "Int -- Interceptions thrown\n",
    "Att -- Rushing Attempts (sacks not included in NFL)\n",
    "Yds -- Rushing Yards Gained (sack yardage is not included by NFL)\n",
    "Y/A -- Rushing Yards per Attempt\n",
    "Minimum 6.25 rushes per game scheduled to qualify as leader.\n",
    "Minimum 750 rushes to qualify as career leader.\n",
    "TD -- Rushing Touchdowns\n",
    "Tgt -- Pass Targets (since 1992, derived from NFL play-by-play data)\n",
    "Rec -- Receptions\n",
    "Yds -- Receiving Yards\n",
    "Y/R -- Receiving Yards per Reception\n",
    "Minimum 1.875 catches per game scheduled to qualify as leader.\n",
    "Minimum 200 receptions to qualify as career leader.\n",
    "TD -- Receiving Touchdowns\n",
    "Fmb -- Number of times fumbled both lost and recovered by own team\n",
    "These represent ALL fumbles by the player on offense, defense, and special teams.\n",
    "Available for player games since 1990.\n",
    "FL -- Fumbles Lost by Player (since 1994) or Team\n",
    "TD -- Touchdowns of every type\n",
    "2PM -- Two-Point Conversions Made\n",
    "2PP -- Two-Point Conversion Passes\n",
    "FantPt -- Fantasy points:\n",
    "1 point per 25 yards passing\n",
    "4 points per passing touchdown\n",
    "-2 points per interception thrown\n",
    "1 point per 10 yards rushing/receiving\n",
    "6 points per TD\n",
    "2 points per two-point conversion\n",
    "-2 points per fumble lost (est. prior to 1994)\n",
    "PPR -- Fantasy points (PPR scoring):\n",
    "1 point per 25 yards passing\n",
    "4 points per passing touchdown\n",
    "-2 points per interception thrown\n",
    "1 point per reception\n",
    "1 point per 10 yards rushing/receiving\n",
    "6 points per TD\n",
    "2 points per two-point conversion\n",
    "-2 points per fumble lost (est. prior to 1994)\n",
    "DKPt -- Fantasy points (DraftKings scoring)\n",
    "FDPt -- Fantasy points (FanDuel scoring)\n",
    "VBD -- VBD: popularized by Joe Bryant in the 90s,\n",
    "this is the players fantasy points minus the fantasy points of the baseline player,\n",
    "where the baseline player is the 12th-ranked QB,\n",
    "the 24th-ranked RB,\n",
    "the 30th-ranked WR,\n",
    "or the 12th-ranked TE\n",
    "PosRank -- The players fantasy rank within his position\n",
    "OvRank -- The players overall fantasy rank (blank if the player was below the baseline)\n",
    "Rk -- Rank\n",
    "This is a count of the rows from top to bottom.\n",
    "It is recalculated following the sorting of a column.\n",
    "FantPos -- Fantasy position: QB, RB, WR, or TE\n",
    "Age -- Player's age on December 31st of that year\n",
    "G -- Games played\n",
    "GS -- Games started as an offensive or defensive player\n",
    "Cmp -- Passes completed\n",
    "Att -- Passes attempted\n",
    "Yds -- Yards Gained by Passing\n",
    "For teams, sack yardage is deducted from this total\n",
    "TD -- Passing Touchdowns\n",
    "Int -- Interceptions thrown\n",
    "Att -- Rushing Attempts (sacks not included in NFL)\n",
    "Yds -- Rushing Yards Gained (sack yardage is not included by NFL)\n",
    "Y/A -- Rushing Yards per Attempt\n",
    "Minimum 6.25 rushes per game scheduled to qualify as leader.\n",
    "Minimum 750 rushes to qualify as career leader.\n",
    "TD -- Rushing Touchdowns\n",
    "Tgt -- Pass Targets (since 1992, derived from NFL play-by-play data)\n",
    "Rec -- Receptions\n",
    "Yds -- Receiving Yards\n",
    "Y/R -- Receiving Yards per Reception\n",
    "Minimum 1.875 catches per game scheduled to qualify as leader.\n",
    "Minimum 200 receptions to qualify as career leader.\n",
    "TD -- Receiving Touchdowns\n",
    "Fmb -- Number of times fumbled both lost and recovered by own team\n",
    "These represent ALL fumbles by the player on offense, defense, and special teams.\n",
    "Available for player games since 1990.\n",
    "FL -- Fumbles Lost by Player (since 1994) or Team\n",
    "TD -- Touchdowns of every type\n",
    "2PM -- Two-Point Conversions Made\n",
    "2PP -- Two-Point Conversion Passes\n",
    "FantPt -- Fantasy points:\n",
    "1 point per 25 yards passing\n",
    "4 points per passing touchdown\n",
    "-2 points per interception thrown\n",
    "1 point per 10 yards rushing/receiving\n",
    "6 points per TD\n",
    "2 points per two-point conversion\n",
    "-2 points per fumble lost (est. prior to 1994)\n",
    "PPR -- Fantasy points (PPR scoring):\n",
    "1 point per 25 yards passing\n",
    "4 points per passing touchdown\n",
    "-2 points per interception thrown\n",
    "1 point per reception\n",
    "1 point per 10 yards rushing/receiving\n",
    "6 points per TD\n",
    "2 points per two-point conversion\n",
    "-2 points per fumble lost (est. prior to 1994)\n",
    "DKPt -- Fantasy points (DraftKings scoring)\n",
    "FDPt -- Fantasy points (FanDuel scoring)\n",
    "VBD -- VBD: popularized by Joe Bryant in the 90s,\n",
    "this is the players fantasy points minus the fantasy points of the baseline player,\n",
    "where the baseline player is the 12th-ranked QB,\n",
    "the 24th-ranked RB,\n",
    "the 30th-ranked WR,\n",
    "or the 12th-ranked TE\n",
    "PosRank -- The players fantasy rank within his position\n",
    "OvRank -- The players overall fantasy rank (blank if the player was below the baseline)\n",
    "Rk -- Rank\n",
    "This is a count of the rows from top to bottom.\n",
    "It is recalculated following the sorting of a column.\n",
    "FantPos -- Fantasy position: QB, RB, WR, or TE\n",
    "Age -- Player's age on December 31st of that year\n",
    "G -- Games played\n",
    "GS -- Games started as an offensive or defensive player\n",
    "Cmp -- Passes completed\n",
    "Att -- Passes attempted\n",
    "Yds -- Yards Gained by Passing\n",
    "For teams, sack yardage is deducted from this total\n",
    "TD -- Passing Touchdowns\n",
    "Int -- Interceptions thrown\n",
    "Att -- Rushing Attempts (sacks not included in NFL)\n",
    "Yds -- Rushing Yards Gained (sack yardage is not included by NFL)\n",
    "Y/A -- Rushing Yards per Attempt\n",
    "Minimum 6.25 rushes per game scheduled to qualify as leader.\n",
    "Minimum 750 rushes to qualify as career leader.\n",
    "TD -- Rushing Touchdowns\n",
    "Tgt -- Pass Targets (since 1992, derived from NFL play-by-play data)\n",
    "Rec -- Receptions\n",
    "Yds -- Receiving Yards\n",
    "Y/R -- Receiving Yards per Reception\n",
    "Minimum 1.875 catches per game scheduled to qualify as leader.\n",
    "Minimum 200 receptions to qualify as career leader.\n",
    "TD -- Receiving Touchdowns\n",
    "Fmb -- Number of times fumbled both lost and recovered by own team\n",
    "These represent ALL fumbles by the player on offense, defense, and special teams.\n",
    "Available for player games since 1990.\n",
    "FL -- Fumbles Lost by Player (since 1994) or Team\n",
    "TD -- Touchdowns of every type\n",
    "2PM -- Two-Point Conversions Made\n",
    "2PP -- Two-Point Conversion Passes\n",
    "FantPt -- Fantasy points:\n",
    "1 point per 25 yards passing\n",
    "4 points per passing touchdown\n",
    "-2 points per interception thrown\n",
    "1 point per 10 yards rushing/receiving\n",
    "6 points per TD\n",
    "2 points per two-point conversion\n",
    "-2 points per fumble lost (est. prior to 1994)\n",
    "PPR -- Fantasy points (PPR scoring):\n",
    "1 point per 25 yards passing\n",
    "4 points per passing touchdown\n",
    "-2 points per interception thrown\n",
    "1 point per reception\n",
    "1 point per 10 yards rushing/receiving\n",
    "6 points per TD\n",
    "2 points per two-point conversion\n",
    "-2 points per fumble lost (est. prior to 1994)\n",
    "DKPt -- Fantasy points (DraftKings scoring)\n",
    "FDPt -- Fantasy points (FanDuel scoring)\n",
    "VBD -- VBD: popularized by Joe Bryant in the 90s,\n",
    "this is the players fantasy points minus the fantasy points of the baseline player,\n",
    "where the baseline player is the 12th-ranked QB,\n",
    "the 24th-ranked RB,\n",
    "the 30th-ranked WR,\n",
    "or the 12th-ranked TE\n",
    "PosRank -- The players fantasy rank within his position\n",
    "OvRank -- The players overall fantasy rank (blank if the player was below the baseline)\n",
    "Rk -- Rank\n",
    "This is a count of the rows from top to bottom.\n",
    "It is recalculated following the sorting of a column.\n",
    "FantPos -- Fantasy position: QB, RB, WR, or TE\n",
    "Age -- Player's age on December 31st of that year\n",
    "G -- Games played\n",
    "GS -- Games started as an offensive or defensive player\n",
    "Cmp -- Passes completed\n",
    "Att -- Passes attempted\n",
    "Yds -- Yards Gained by Passing\n",
    "For teams, sack yardage is deducted from this total\n",
    "TD -- Passing Touchdowns\n",
    "Int -- Interceptions thrown\n",
    "Att -- Rushing Attempts (sacks not included in NFL)\n",
    "Yds -- Rushing Yards Gained (sack yardage is not included by NFL)\n",
    "Y/A -- Rushing Yards per Attempt\n",
    "Minimum 6.25 rushes per game scheduled to qualify as leader.\n",
    "Minimum 750 rushes to qualify as career leader.\n",
    "TD -- Rushing Touchdowns\n",
    "Tgt -- Pass Targets (since 1992, derived from NFL play-by-play data)\n",
    "Rec -- Receptions\n",
    "Yds -- Receiving Yards\n",
    "Y/R -- Receiving Yards per Reception\n",
    "Minimum 1.875 catches per game scheduled to qualify as leader.\n",
    "Minimum 200 receptions to qualify as career leader.\n",
    "TD -- Receiving Touchdowns\n",
    "Fmb -- Number of times fumbled both lost and recovered by own team\n",
    "These represent ALL fumbles by the player on offense, defense, and special teams.\n",
    "Available for player games since 1990.\n",
    "FL -- Fumbles Lost by Player (since 1994) or Team\n",
    "TD -- Touchdowns of every type\n",
    "2PM -- Two-Point Conversions Made\n",
    "2PP -- Two-Point Conversion Passes\n",
    "FantPt -- Fantasy points:\n",
    "1 point per 25 yards passing\n",
    "4 points per passing touchdown\n",
    "-2 points per interception thrown\n",
    "1 point per 10 yards rushing/receiving\n",
    "6 points per TD\n",
    "2 points per two-point conversion\n",
    "-2 points per fumble lost (est. prior to 1994)\n",
    "PPR -- Fantasy points (PPR scoring):\n",
    "1 point per 25 yards passing\n",
    "4 points per passing touchdown\n",
    "-2 points per interception thrown\n",
    "1 point per reception\n",
    "1 point per 10 yards rushing/receiving\n",
    "6 points per TD\n",
    "2 points per two-point conversion\n",
    "-2 points per fumble lost (est. prior to 1994)\n",
    "DKPt -- Fantasy points (DraftKings scoring)\n",
    "FDPt -- Fantasy points (FanDuel scoring)\n",
    "VBD -- VBD: popularized by Joe Bryant in the 90s,\n",
    "this is the players fantasy points minus the fantasy points of the baseline player,\n",
    "where the baseline player is the 12th-ranked QB,\n",
    "the 24th-ranked RB,\n",
    "the 30th-ranked WR,\n",
    "or the 12th-ranked TE\n",
    "PosRank -- The players fantasy rank within his position\n",
    "OvRank -- The players overall fantasy rank (blank if the player was below the baseline)\n",
    "Rk -- Rank\n",
    "This is a count of the rows from top to bottom.\n",
    "It is recalculated following the sorting of a column.\n",
    "FantPos -- Fantasy position: QB, RB, WR, or TE\n",
    "Age -- Player's age on December 31st of that year\n",
    "G -- Games played\n",
    "GS -- Games started as an offensive or defensive player\n",
    "Cmp -- Passes completed\n",
    "Att -- Passes attempted\n",
    "Yds -- Yards Gained by Passing\n",
    "For teams, sack yardage is deducted from this total\n",
    "TD -- Passing Touchdowns\n",
    "Int -- Interceptions thrown\n",
    "Att -- Rushing Attempts (sacks not included in NFL)\n",
    "Yds -- Rushing Yards Gained (sack yardage is not included by NFL)\n",
    "Y/A -- Rushing Yards per Attempt\n",
    "Minimum 6.25 rushes per game scheduled to qualify as leader.\n",
    "Minimum 750 rushes to qualify as career leader.\n",
    "TD -- Rushing Touchdowns\n",
    "Tgt -- Pass Targets (since 1992, derived from NFL play-by-play data)\n",
    "Rec -- Receptions\n",
    "Yds -- Receiving Yards\n",
    "Y/R -- Receiving Yards per Reception\n",
    "Minimum 1.875 catches per game scheduled to qualify as leader.\n",
    "Minimum 200 receptions to qualify as career leader.\n",
    "TD -- Receiving Touchdowns\n",
    "Fmb -- Number of times fumbled both lost and recovered by own team\n",
    "These represent ALL fumbles by the player on offense, defense, and special teams.\n",
    "Available for player games since 1990.\n",
    "FL -- Fumbles Lost by Player (since 1994) or Team\n",
    "TD -- Touchdowns of every type\n",
    "2PM -- Two-Point Conversions Made\n",
    "2PP -- Two-Point Conversion Passes\n",
    "FantPt -- Fantasy points:\n",
    "1 point per 25 yards passing\n",
    "4 points per passing touchdown\n",
    "-2 points per interception thrown\n",
    "1 point per 10 yards rushing/receiving\n",
    "6 points per TD\n",
    "2 points per two-point conversion\n",
    "-2 points per fumble lost (est. prior to 1994)\n",
    "PPR -- Fantasy points (PPR scoring):\n",
    "1 point per 25 yards passing\n",
    "4 points per passing touchdown\n",
    "-2 points per interception thrown\n",
    "1 point per reception\n",
    "1 point per 10 yards rushing/receiving\n",
    "6 points per TD\n",
    "2 points per two-point conversion\n",
    "-2 points per fumble lost (est. prior to 1994)\n",
    "DKPt -- Fantasy points (DraftKings scoring)\n",
    "FDPt -- Fantasy points (FanDuel scoring)\n",
    "VBD -- VBD: popularized by Joe Bryant in the 90s,\n",
    "this is the players fantasy points minus the fantasy points of the baseline player,\n",
    "where the baseline player is the 12th-ranked QB,\n",
    "the 24th-ranked RB,\n",
    "the 30th-ranked WR,\n",
    "or the 12th-ranked TE\n",
    "PosRank -- The players fantasy rank within his position\n",
    "OvRank -- The players overall fantasy rank (blank if the player was below the baseline)\n",
    "Rk -- Rank\n",
    "This is a count of the rows from top to bottom.\n",
    "It is recalculated following the sorting of a column.\n",
    "FantPos -- Fantasy position: QB, RB, WR, or TE\n",
    "Age -- Player's age on December 31st of that year\n",
    "G -- Games played\n",
    "GS -- Games started as an offensive or defensive player\n",
    "Cmp -- Passes completed\n",
    "Att -- Passes attempted\n",
    "Yds -- Yards Gained by Passing\n",
    "For teams, sack yardage is deducted from this total\n",
    "TD -- Passing Touchdowns\n",
    "Int -- Interceptions thrown\n",
    "Att -- Rushing Attempts (sacks not included in NFL)\n",
    "Yds -- Rushing Yards Gained (sack yardage is not included by NFL)\n",
    "Y/A -- Rushing Yards per Attempt\n",
    "Minimum 6.25 rushes per game scheduled to qualify as leader.\n",
    "Minimum 750 rushes to qualify as career leader.\n",
    "TD -- Rushing Touchdowns\n",
    "Tgt -- Pass Targets (since 1992, derived from NFL play-by-play data)\n",
    "Rec -- Receptions\n",
    "Yds -- Receiving Yards\n",
    "Y/R -- Receiving Yards per Reception\n",
    "Minimum 1.875 catches per game scheduled to qualify as leader.\n",
    "Minimum 200 receptions to qualify as career leader.\n",
    "TD -- Receiving Touchdowns\n",
    "Fmb -- Number of times fumbled both lost and recovered by own team\n",
    "These represent ALL fumbles by the player on offense, defense, and special teams.\n",
    "Available for player games since 1990.\n",
    "FL -- Fumbles Lost by Player (since 1994) or Team\n",
    "TD -- Touchdowns of every type\n",
    "2PM -- Two-Point Conversions Made\n",
    "2PP -- Two-Point Conversion Passes\n",
    "FantPt -- Fantasy points:\n",
    "1 point per 25 yards passing\n",
    "4 points per passing touchdown\n",
    "-2 points per interception thrown\n",
    "1 point per 10 yards rushing/receiving\n",
    "6 points per TD\n",
    "2 points per two-point conversion\n",
    "-2 points per fumble lost (est. prior to 1994)\n",
    "PPR -- Fantasy points (PPR scoring):\n",
    "1 point per 25 yards passing\n",
    "4 points per passing touchdown\n",
    "-2 points per interception thrown\n",
    "1 point per reception\n",
    "1 point per 10 yards rushing/receiving\n",
    "6 points per TD\n",
    "2 points per two-point conversion\n",
    "-2 points per fumble lost (est. prior to 1994)\n",
    "DKPt -- Fantasy points (DraftKings scoring)\n",
    "FDPt -- Fantasy points (FanDuel scoring)\n",
    "VBD -- VBD: popularized by Joe Bryant in the 90s,\n",
    "this is the players fantasy points minus the fantasy points of the baseline player,\n",
    "where the baseline player is the 12th-ranked QB,\n",
    "the 24th-ranked RB,\n",
    "the 30th-ranked WR,\n",
    "or the 12th-ranked TE\n",
    "PosRank -- The players fantasy rank within his position\n",
    "OvRank -- The players overall fantasy rank (blank if the player was below the baseline)\n",
    "Rk -- Rank\n",
    "This is a count of the rows from top to bottom.\n",
    "It is recalculated following the sorting of a column.\n",
    "FantPos -- Fantasy position: QB, RB, WR, or TE\n",
    "Age -- Player's age on December 31st of that year\n",
    "G -- Games played\n",
    "GS -- Games started as an offensive or defensive player\n",
    "Cmp -- Passes completed\n",
    "Att -- Passes attempted\n",
    "Yds -- Yards Gained by Passing\n",
    "For teams, sack yardage is deducted from this total\n",
    "TD -- Passing Touchdowns\n",
    "Int -- Interceptions thrown\n",
    "Att -- Rushing Attempts (sacks not included in NFL)\n",
    "Yds -- Rushing Yards Gained (sack yardage is not included by NFL)\n",
    "Y/A -- Rushing Yards per Attempt\n",
    "Minimum 6.25 rushes per game scheduled to qualify as leader.\n",
    "Minimum 750 rushes to qualify as career leader.\n",
    "TD -- Rushing Touchdowns\n",
    "Tgt -- Pass Targets (since 1992, derived from NFL play-by-play data)\n",
    "Rec -- Receptions\n",
    "Yds -- Receiving Yards\n",
    "Y/R -- Receiving Yards per Reception\n",
    "Minimum 1.875 catches per game scheduled to qualify as leader.\n",
    "Minimum 200 receptions to qualify as career leader.\n",
    "TD -- Receiving Touchdowns\n",
    "Fmb -- Number of times fumbled both lost and recovered by own team\n",
    "These represent ALL fumbles by the player on offense, defense, and special teams.\n",
    "Available for player games since 1990.\n",
    "FL -- Fumbles Lost by Player (since 1994) or Team\n",
    "TD -- Touchdowns of every type\n",
    "2PM -- Two-Point Conversions Made\n",
    "2PP -- Two-Point Conversion Passes\n",
    "FantPt -- Fantasy points:\n",
    "1 point per 25 yards passing\n",
    "4 points per passing touchdown\n",
    "-2 points per interception thrown\n",
    "1 point per 10 yards rushing/receiving\n",
    "6 points per TD\n",
    "2 points per two-point conversion\n",
    "-2 points per fumble lost (est. prior to 1994)\n",
    "PPR -- Fantasy points (PPR scoring):\n",
    "1 point per 25 yards passing\n",
    "4 points per passing touchdown\n",
    "-2 points per interception thrown\n",
    "1 point per reception\n",
    "1 point per 10 yards rushing/receiving\n",
    "6 points per TD\n",
    "2 points per two-point conversion\n",
    "-2 points per fumble lost (est. prior to 1994)\n",
    "DKPt -- Fantasy points (DraftKings scoring)\n",
    "FDPt -- Fantasy points (FanDuel scoring)\n",
    "VBD -- VBD: popularized by Joe Bryant in the 90s,\n",
    "this is the players fantasy points minus the fantasy points of the baseline player,\n",
    "where the baseline player is the 12th-ranked QB,\n",
    "the 24th-ranked RB,\n",
    "the 30th-ranked WR,\n",
    "or the 12th-ranked TE\n",
    "PosRank -- The players fantasy rank within his position\n",
    "OvRank -- The players overall fantasy rank (blank if the player was below the baseline)\n",
    "Rk -- Rank\n",
    "This is a count of the rows from top to bottom.\n",
    "It is recalculated following the sorting of a column.\n",
    "FantPos -- Fantasy position: QB, RB, WR, or TE\n",
    "Age -- Player's age on December 31st of that year\n",
    "G -- Games played\n",
    "GS -- Games started as an offensive or defensive player\n",
    "Cmp -- Passes completed\n",
    "Att -- Passes attempted\n",
    "Yds -- Yards Gained by Passing\n",
    "For teams, sack yardage is deducted from this total\n",
    "TD -- Passing Touchdowns\n",
    "Int -- Interceptions thrown\n",
    "Att -- Rushing Attempts (sacks not included in NFL)\n",
    "Yds -- Rushing Yards Gained (sack yardage is not included by NFL)\n",
    "Y/A -- Rushing Yards per Attempt\n",
    "Minimum 6.25 rushes per game scheduled to qualify as leader.\n",
    "Minimum 750 rushes to qualify as career leader.\n",
    "TD -- Rushing Touchdowns\n",
    "Tgt -- Pass Targets (since 1992, derived from NFL play-by-play data)\n",
    "Rec -- Receptions\n",
    "Yds -- Receiving Yards\n",
    "Y/R -- Receiving Yards per Reception\n",
    "Minimum 1.875 catches per game scheduled to qualify as leader.\n",
    "Minimum 200 receptions to qualify as career leader.\n",
    "TD -- Receiving Touchdowns\n",
    "Fmb -- Number of times fumbled both lost and recovered by own team\n",
    "These represent ALL fumbles by the player on offense, defense, and special teams.\n",
    "Available for player games since 1990.\n",
    "FL -- Fumbles Lost by Player (since 1994) or Team\n",
    "TD -- Touchdowns of every type\n",
    "2PM -- Two-Point Conversions Made\n",
    "2PP -- Two-Point Conversion Passes\n",
    "FantPt -- Fantasy points:\n",
    "1 point per 25 yards passing\n",
    "4 points per passing touchdown\n",
    "-2 points per interception thrown\n",
    "1 point per 10 yards rushing/receiving\n",
    "6 points per TD\n",
    "2 points per two-point conversion\n",
    "-2 points per fumble lost (est. prior to 1994)\n",
    "PPR -- Fantasy points (PPR scoring):\n",
    "1 point per 25 yards passing\n",
    "4 points per passing touchdown\n",
    "-2 points per interception thrown\n",
    "1 point per reception\n",
    "1 point per 10 yards rushing/receiving\n",
    "6 points per TD\n",
    "2 points per two-point conversion\n",
    "-2 points per fumble lost (est. prior to 1994)\n",
    "DKPt -- Fantasy points (DraftKings scoring)\n",
    "FDPt -- Fantasy points (FanDuel scoring)\n",
    "VBD -- VBD: popularized by Joe Bryant in the 90s,\n",
    "this is the players fantasy points minus the fantasy points of the baseline player,\n",
    "where the baseline player is the 12th-ranked QB,\n",
    "the 24th-ranked RB,\n",
    "the 30th-ranked WR,\n",
    "or the 12th-ranked TE\n",
    "PosRank -- The players fantasy rank within his position\n",
    "OvRank -- The players overall fantasy rank (blank if the player was below the baseline)\n",
    "Rk -- Rank\n",
    "This is a count of the rows from top to bottom.\n",
    "It is recalculated following the sorting of a column.\n",
    "FantPos -- Fantasy position: QB, RB, WR, or TE\n",
    "Age -- Player's age on December 31st of that year\n",
    "G -- Games played\n",
    "GS -- Games started as an offensive or defensive player\n",
    "Cmp -- Passes completed\n",
    "Att -- Passes attempted\n",
    "Yds -- Yards Gained by Passing\n",
    "For teams, sack yardage is deducted from this total\n",
    "TD -- Passing Touchdowns\n",
    "Int -- Interceptions thrown\n",
    "Att -- Rushing Attempts (sacks not included in NFL)\n",
    "Yds -- Rushing Yards Gained (sack yardage is not included by NFL)\n",
    "Y/A -- Rushing Yards per Attempt\n",
    "Minimum 6.25 rushes per game scheduled to qualify as leader.\n",
    "Minimum 750 rushes to qualify as career leader.\n",
    "TD -- Rushing Touchdowns\n",
    "Tgt -- Pass Targets (since 1992, derived from NFL play-by-play data)\n",
    "Rec -- Receptions\n",
    "Yds -- Receiving Yards\n",
    "Y/R -- Receiving Yards per Reception\n",
    "Minimum 1.875 catches per game scheduled to qualify as leader.\n",
    "Minimum 200 receptions to qualify as career leader.\n",
    "TD -- Receiving Touchdowns\n",
    "Fmb -- Number of times fumbled both lost and recovered by own team\n",
    "These represent ALL fumbles by the player on offense, defense, and special teams.\n",
    "Available for player games since 1990.\n",
    "FL -- Fumbles Lost by Player (since 1994) or Team\n",
    "TD -- Touchdowns of every type\n",
    "2PM -- Two-Point Conversions Made\n",
    "2PP -- Two-Point Conversion Passes\n",
    "FantPt -- Fantasy points:\n",
    "1 point per 25 yards passing\n",
    "4 points per passing touchdown\n",
    "-2 points per interception thrown\n",
    "1 point per 10 yards rushing/receiving\n",
    "6 points per TD\n",
    "2 points per two-point conversion\n",
    "-2 points per fumble lost (est. prior to 1994)\n",
    "PPR -- Fantasy points (PPR scoring):\n",
    "1 point per 25 yards passing\n",
    "4 points per passing touchdown\n",
    "-2 points per interception thrown\n",
    "1 point per reception\n",
    "1 point per 10 yards rushing/receiving\n",
    "6 points per TD\n",
    "2 points per two-point conversion\n",
    "-2 points per fumble lost (est. prior to 1994)\n",
    "DKPt -- Fantasy points (DraftKings scoring)\n",
    "FDPt -- Fantasy points (FanDuel scoring)\n",
    "VBD -- VBD: popularized by Joe Bryant in the 90s,\n",
    "this is the players fantasy points minus the fantasy points of the baseline player,\n",
    "where the baseline player is the 12th-ranked QB,\n",
    "the 24th-ranked RB,\n",
    "the 30th-ranked WR,\n",
    "or the 12th-ranked TE\n",
    "PosRank -- The players fantasy rank within his position\n",
    "OvRank -- The players overall fantasy rank (blank if the player was below the baseline)\n",
    "Rk -- Rank\n",
    "This is a count of the rows from top to bottom.\n",
    "It is recalculated following the sorting of a column.\n",
    "FantPos -- Fantasy position: QB, RB, WR, or TE\n",
    "Age -- Player's age on December 31st of that year\n",
    "G -- Games played\n",
    "GS -- Games started as an offensive or defensive player\n",
    "Cmp -- Passes completed\n",
    "Att -- Passes attempted\n",
    "Yds -- Yards Gained by Passing\n",
    "For teams, sack yardage is deducted from this total\n",
    "TD -- Passing Touchdowns\n",
    "Int -- Interceptions thrown\n",
    "Att -- Rushing Attempts (sacks not included in NFL)\n",
    "Yds -- Rushing Yards Gained (sack yardage is not included by NFL)\n",
    "Y/A -- Rushing Yards per Attempt\n",
    "Minimum 6.25 rushes per game scheduled to qualify as leader.\n",
    "Minimum 750 rushes to qualify as career leader.\n",
    "TD -- Rushing Touchdowns\n",
    "Tgt -- Pass Targets (since 1992, derived from NFL play-by-play data)\n",
    "Rec -- Receptions\n",
    "Yds -- Receiving Yards\n",
    "Y/R -- Receiving Yards per Reception\n",
    "Minimum 1.875 catches per game scheduled to qualify as leader.\n",
    "Minimum 200 receptions to qualify as career leader.\n",
    "TD -- Receiving Touchdowns\n",
    "Fmb -- Number of times fumbled both lost and recovered by own team\n",
    "These represent ALL fumbles by the player on offense, defense, and special teams.\n",
    "Available for player games since 1990.\n",
    "FL -- Fumbles Lost by Player (since 1994) or Team\n",
    "TD -- Touchdowns of every type\n",
    "2PM -- Two-Point Conversions Made\n",
    "2PP -- Two-Point Conversion Passes\n",
    "FantPt -- Fantasy points:\n",
    "1 point per 25 yards passing\n",
    "4 points per passing touchdown\n",
    "-2 points per interception thrown\n",
    "1 point per 10 yards rushing/receiving\n",
    "6 points per TD\n",
    "2 points per two-point conversion\n",
    "-2 points per fumble lost (est. prior to 1994)\n",
    "PPR -- Fantasy points (PPR scoring):\n",
    "1 point per 25 yards passing\n",
    "4 points per passing touchdown\n",
    "-2 points per interception thrown\n",
    "1 point per reception\n",
    "1 point per 10 yards rushing/receiving\n",
    "6 points per TD\n",
    "2 points per two-point conversion\n",
    "-2 points per fumble lost (est. prior to 1994)\n",
    "DKPt -- Fantasy points (DraftKings scoring)\n",
    "FDPt -- Fantasy points (FanDuel scoring)\n",
    "VBD -- VBD: popularized by Joe Bryant in the 90s,\n",
    "this is the players fantasy points minus the fantasy points of the baseline player,\n",
    "where the baseline player is the 12th-ranked QB,\n",
    "the 24th-ranked RB,\n",
    "the 30th-ranked WR,\n",
    "or the 12th-ranked TE\n",
    "PosRank -- The players fantasy rank within his position\n",
    "OvRank -- The players overall fantasy rank (blank if the player was below the baseline)\n",
    "Rk -- Rank\n",
    "This is a count of the rows from top to bottom.\n",
    "It is recalculated following the sorting of a column.\n",
    "FantPos -- Fantasy position: QB, RB, WR, or TE\n",
    "Age -- Player's age on December 31st of that year\n",
    "G -- Games played\n",
    "GS -- Games started as an offensive or defensive player\n",
    "Cmp -- Passes completed\n",
    "Att -- Passes attempted\n",
    "Yds -- Yards Gained by Passing\n",
    "For teams, sack yardage is deducted from this total\n",
    "TD -- Passing Touchdowns\n",
    "Int -- Interceptions thrown\n",
    "Att -- Rushing Attempts (sacks not included in NFL)\n",
    "Yds -- Rushing Yards Gained (sack yardage is not included by NFL)\n",
    "Y/A -- Rushing Yards per Attempt\n",
    "Minimum 6.25 rushes per game scheduled to qualify as leader.\n",
    "Minimum 750 rushes to qualify as career leader.\n",
    "TD -- Rushing Touchdowns\n",
    "Tgt -- Pass Targets (since 1992, derived from NFL play-by-play data)\n",
    "Rec -- Receptions\n",
    "Yds -- Receiving Yards\n",
    "Y/R -- Receiving Yards per Reception\n",
    "Minimum 1.875 catches per game scheduled to qualify as leader.\n",
    "Minimum 200 receptions to qualify as career leader.\n",
    "TD -- Receiving Touchdowns\n",
    "Fmb -- Number of times fumbled both lost and recovered by own team\n",
    "These represent ALL fumbles by the player on offense, defense, and special teams.\n",
    "Available for player games since 1990.\n",
    "FL -- Fumbles Lost by Player (since 1994) or Team\n",
    "TD -- Touchdowns of every type\n",
    "2PM -- Two-Point Conversions Made\n",
    "2PP -- Two-Point Conversion Passes\n",
    "FantPt -- Fantasy points:\n",
    "1 point per 25 yards passing\n",
    "4 points per passing touchdown\n",
    "-2 points per interception thrown\n",
    "1 point per 10 yards rushing/receiving\n",
    "6 points per TD\n",
    "2 points per two-point conversion\n",
    "-2 points per fumble lost (est. prior to 1994)\n",
    "PPR -- Fantasy points (PPR scoring):\n",
    "1 point per 25 yards passing\n",
    "4 points per passing touchdown\n",
    "-2 points per interception thrown\n",
    "1 point per reception\n",
    "1 point per 10 yards rushing/receiving\n",
    "6 points per TD\n",
    "2 points per two-point conversion\n",
    "-2 points per fumble lost (est. prior to 1994)\n",
    "DKPt -- Fantasy points (DraftKings scoring)\n",
    "FDPt -- Fantasy points (FanDuel scoring)\n",
    "VBD -- VBD: popularized by Joe Bryant in the 90s,\n",
    "this is the players fantasy points minus the fantasy points of the baseline player,\n",
    "where the baseline player is the 12th-ranked QB,\n",
    "the 24th-ranked RB,\n",
    "the 30th-ranked WR,\n",
    "or the 12th-ranked TE\n",
    "PosRank -- The players fantasy rank within his position\n",
    "OvRank -- The players overall fantasy rank (blank if the player was below the baseline) \"\"\""
   ],
   "metadata": {
    "collapsed": false,
    "pycharm": {
     "name": "#%%\n"
    }
   }
  },
  {
   "cell_type": "code",
   "execution_count": 577,
   "outputs": [],
   "source": [
    "jug_2019 = pd.read_csv(\"data/data-master/data-master/yearly/jugadores_2019.csv\", header=[1])\n",
    "jug_2019[\"year\"] = np.where(jug_2019[\"Player\"] == 2019, '2019', '2019')\n",
    "jug_2020 = pd.read_csv(\"data/data-master/data-master/yearly/jugadores_2020.csv\", header=[1])\n",
    "jug_2020[\"year\"] = np.where(jug_2020[\"Player\"] == 2020, '2020', '2020')\n",
    "jug_2021 = pd.read_csv(\"data/data-master/data-master/yearly/jugadores_2021.csv\", header=[1])\n",
    "jug_2021[\"year\"] = np.where(jug_2021[\"Player\"] == 2021, '2021', '2021')\n",
    "###jug_2022 = pd.read_csv(\"data/data-master/data-master/yearly/jugadores_2022.csv\", header=[1])\n",
    "###jug_2022[\"year\"] = np.where(jug_2022[\"Player\"] == 2022, '2022', '2022')\n",
    "###"
   ],
   "metadata": {
    "collapsed": false,
    "pycharm": {
     "name": "#%%\n"
    }
   }
  },
  {
   "cell_type": "markdown",
   "source": [
    "Creo los datasets por posicion y creo una columna que dice el a;o. para despues hacer 4 datasets de las defensas contra las distintas posiciones con los 4 a;os adentro asi poder identificar cuando obtuvieron esos datos."
   ],
   "metadata": {
    "collapsed": false,
    "pycharm": {
     "name": "#%% md\n"
    }
   }
  },
  {
   "cell_type": "markdown",
   "source": [
    "## preprocesamiento"
   ],
   "metadata": {
    "collapsed": false,
    "pycharm": {
     "name": "#%% md\n"
    }
   }
  },
  {
   "cell_type": "code",
   "execution_count": 579,
   "outputs": [
    {
     "data": {
      "text/plain": "Index(['index', 'Rk', 'Player', 'Tm', 'FantPos', 'Age', 'G', 'GS', 'Cmp',\n       'Att', 'Yds', 'TD', 'Int', 'Att.1', 'Yds.1', 'Y/A', 'TD.1', 'Tgt',\n       'Rec', 'Yds.2', 'Y/R', 'TD.2', 'Fmb', 'FL', 'TD.3', '2PM', '2PP',\n       'FantPt', 'PPR', 'DKPt', 'FDPt', 'VBD', 'PosRank', 'OvRank', ' nm',\n       'year', '-9999'],\n      dtype='object')"
     },
     "execution_count": 579,
     "metadata": {},
     "output_type": "execute_result"
    }
   ],
   "source": [
    "###jugadores = pd.concat([jug_2019, jug_2020, jug_2021, jug_2022], axis=0, ).reset_index()\n",
    "jugadores = pd.concat([jug_2019, jug_2020, jug_2021], axis=0, ).reset_index()\n",
    "jugadores.columns"
   ],
   "metadata": {
    "collapsed": false,
    "pycharm": {
     "name": "#%%\n"
    }
   }
  },
  {
   "cell_type": "code",
   "execution_count": 580,
   "outputs": [],
   "source": [
    "jugadores.columns = [\"index\", \"rank\", \"player\", \"team\", \"pos\", \"age\", \"games\", \"games_started\", \"pass_comp\", \"pass_att\", \"pass_yds\",\"pass_tds\", \"ints\", \"rushing_att\", \"rush_yds\", \"yds_x_att\", \"rush_tds\", \"targets\", \"rec\", \"rec_yds\", \"yds_x_rec\", \"rec_tds\", \"fumbles\", \"fum_lst\", \"td_tot\", \"dos_pt_conv\", \"pases_dos_pt\",'FantPt', 'PPR', 'DKPt', 'FDPt', 'VBD', 'posrank', 'OvRank', ' nm',\n",
    "       'year', '-9999']"
   ],
   "metadata": {
    "collapsed": false,
    "pycharm": {
     "name": "#%%\n"
    }
   }
  },
  {
   "cell_type": "markdown",
   "source": [
    "hago lo mismo que antes solo que con el dataset de jugadores"
   ],
   "metadata": {
    "collapsed": false,
    "pycharm": {
     "name": "#%% md\n"
    }
   }
  },
  {
   "cell_type": "code",
   "execution_count": 581,
   "outputs": [],
   "source": [
    "jugadores = jugadores.drop(columns={'FantPt', 'DKPt', 'FDPt', 'VBD', ' nm', '-9999', 'OvRank', 'index'})"
   ],
   "metadata": {
    "collapsed": false,
    "pycharm": {
     "name": "#%%\n"
    }
   }
  },
  {
   "cell_type": "markdown",
   "source": [
    "saco las columnas que son irrelevantes"
   ],
   "metadata": {
    "collapsed": false,
    "pycharm": {
     "name": "#%% md\n"
    }
   }
  },
  {
   "cell_type": "code",
   "execution_count": 511,
   "outputs": [
    {
     "data": {
      "text/plain": "0"
     },
     "execution_count": 511,
     "metadata": {},
     "output_type": "execute_result"
    }
   ],
   "source": [
    "jugadores.duplicated().sum()"
   ],
   "metadata": {
    "collapsed": false,
    "pycharm": {
     "name": "#%%\n"
    }
   }
  },
  {
   "cell_type": "markdown",
   "source": [
    "no hay filas duplicadas en ningun dataset"
   ],
   "metadata": {
    "collapsed": false,
    "pycharm": {
     "name": "#%% md\n"
    }
   }
  },
  {
   "cell_type": "code",
   "execution_count": 661,
   "outputs": [],
   "source": [
    "jugadores = jugadores.loc[jugadores[\"PPR\"] > 60]\n",
    "jugadores['pts_x_gm'] = jugadores['PPR'] / jugadores['games']\n",
    "jugadores[\"td_x_gm\"] = jugadores[\"td_tot\"]/ jugadores[\"games\"]"
   ],
   "metadata": {
    "collapsed": false,
    "pycharm": {
     "name": "#%%\n"
    }
   }
  },
  {
   "cell_type": "markdown",
   "source": [
    "saco todos los jugadores que hicieron menos de 60 pts porque si hicieron menos de 50 pts significa que practicamente no jugaron, siendo irrelevantes para el analisis. y creo la columna pts por partido y td por partido para despues poder encontrar una prediccion"
   ],
   "metadata": {
    "collapsed": false,
    "pycharm": {
     "name": "#%% md\n"
    }
   }
  },
  {
   "cell_type": "code",
   "execution_count": 583,
   "outputs": [],
   "source": [
    "jugadores.yds_x_att =  jugadores.yds_x_att.fillna(0)\n",
    "jugadores.dos_pt_conv = jugadores.dos_pt_conv.fillna(0)\n",
    "jugadores.pases_dos_pt = jugadores.pases_dos_pt.fillna(0)\n",
    "jugadores.yds_x_rec = jugadores.yds_x_rec.fillna(0)"
   ],
   "metadata": {
    "collapsed": false,
    "pycharm": {
     "name": "#%%\n"
    }
   }
  },
  {
   "cell_type": "markdown",
   "source": [
    "saco todos los valores que son NA y los convierto en 0 porque deberian ser 0"
   ],
   "metadata": {
    "collapsed": false,
    "pycharm": {
     "name": "#%% md\n"
    }
   }
  },
  {
   "cell_type": "code",
   "execution_count": 662,
   "outputs": [],
   "source": [
    "jugadores_rb = jugadores.loc[jugadores[\"pos\"]== \"RB\"]\n",
    "jugadores_wr = jugadores.loc[jugadores[\"pos\"]== \"WR\"]\n",
    "jugadores_qb = jugadores.loc[jugadores[\"pos\"]== \"TE\"]\n",
    "jugadores_te = jugadores.loc[jugadores[\"pos\"]== \"QB\"]"
   ],
   "metadata": {
    "collapsed": false,
    "pycharm": {
     "name": "#%%\n"
    }
   }
  },
  {
   "cell_type": "markdown",
   "source": [
    "separo el dataframe jugadores en 4 distintos uno para cada posicion."
   ],
   "metadata": {
    "collapsed": false,
    "pycharm": {
     "name": "#%% md\n"
    }
   }
  },
  {
   "cell_type": "code",
   "execution_count": 516,
   "outputs": [
    {
     "data": {
      "text/plain": "11.15957215659368"
     },
     "execution_count": 516,
     "metadata": {},
     "output_type": "execute_result"
    }
   ],
   "source": [
    "jugadores_rb.pts_x_gm.mean()"
   ],
   "metadata": {
    "collapsed": false,
    "pycharm": {
     "name": "#%%\n"
    }
   }
  },
  {
   "cell_type": "code",
   "execution_count": 664,
   "outputs": [
    {
     "name": "stderr",
     "output_type": "stream",
     "text": [
      "<ipython-input-664-9c3edf93e769>:7: SettingWithCopyWarning:\n",
      "\n",
      "\n",
      "A value is trying to be set on a copy of a slice from a DataFrame.\n",
      "Try using .loc[row_indexer,col_indexer] = value instead\n",
      "\n",
      "See the caveats in the documentation: https://pandas.pydata.org/pandas-docs/stable/user_guide/indexing.html#returning-a-view-versus-a-copy\n",
      "\n"
     ]
    },
    {
     "data": {
      "text/plain": "      rank                 player team pos  age  games  games_started  \\\n0        1  Christian McCaffrey*+  CAR  RB   23     16             16   \n2        3        Derrick Henry *  TEN  RB   25     15             15   \n3        4            Aaron Jones  GNB  RB   25     16             16   \n4        5       Ezekiel Elliott*  DAL  RB   24     16             16   \n5        6           Dalvin Cook*  MIN  RB   24     14             14   \n...    ...                    ...  ...  ..  ...    ...            ...   \n1514   238           Travis Homer  SEA  RB   23     14              0   \n1516   240       Jeremy McNichols  TEN  RB   26     14              0   \n1521   245        Damien Williams  CHI  RB   29     12              2   \n1523   247         Kyle Juszczyk*  SFO  RB   30     17             16   \n1543   267          DeeJay Dallas  SEA  RB   23     17              0   \n\n      pass_comp  pass_att  pass_yds  ...  fum_lst  td_tot  dos_pt_conv  \\\n0           0.0       2.0       0.0  ...      0.0      19          1.0   \n2           0.0       0.0       0.0  ...      3.0      18          0.0   \n3           0.0       0.0       0.0  ...      2.0      19          0.0   \n4           0.0       0.0       0.0  ...      2.0      14          0.0   \n5           0.0       0.0       0.0  ...      2.0      13          0.0   \n...         ...       ...       ...  ...      ...     ...          ...   \n1514        0.0       0.0       0.0  ...      0.0       2          0.0   \n1516        0.0       0.0       0.0  ...      0.0       1          0.0   \n1521        0.0       0.0       0.0  ...      0.0       3          0.0   \n1523        0.0       0.0       0.0  ...      0.0       2          0.0   \n1543        0.0       0.0       0.0  ...      0.0       2          0.0   \n\n      pases_dos_pt    PPR  posrank  year   pts_x_gm   td_x_gm  clasificacion  \n0              0.0  471.2        1  2019  29.450000  1.187500          bueno  \n2              0.0  294.6        2  2019  19.640000  1.200000          bueno  \n3              0.0  314.8        3  2019  19.675000  1.187500          bueno  \n4              0.0  311.7        4  2019  19.481250  0.875000          bueno  \n5              0.0  292.4        5  2019  20.885714  0.928571          bueno  \n...            ...    ...      ...   ...        ...       ...            ...  \n1514           0.0   61.8       70  2021   4.414286  0.142857           malo  \n1516           0.0   73.6       71  2021   5.257143  0.071429           malo  \n1521           0.0   60.7       72  2021   5.058333  0.250000           malo  \n1523           0.0   73.8       74  2021   4.341176  0.117647           malo  \n1543           0.0   60.1       79  2021   3.535294  0.117647           malo  \n\n[207 rows x 32 columns]",
      "text/html": "<div>\n<style scoped>\n    .dataframe tbody tr th:only-of-type {\n        vertical-align: middle;\n    }\n\n    .dataframe tbody tr th {\n        vertical-align: top;\n    }\n\n    .dataframe thead th {\n        text-align: right;\n    }\n</style>\n<table border=\"1\" class=\"dataframe\">\n  <thead>\n    <tr style=\"text-align: right;\">\n      <th></th>\n      <th>rank</th>\n      <th>player</th>\n      <th>team</th>\n      <th>pos</th>\n      <th>age</th>\n      <th>games</th>\n      <th>games_started</th>\n      <th>pass_comp</th>\n      <th>pass_att</th>\n      <th>pass_yds</th>\n      <th>...</th>\n      <th>fum_lst</th>\n      <th>td_tot</th>\n      <th>dos_pt_conv</th>\n      <th>pases_dos_pt</th>\n      <th>PPR</th>\n      <th>posrank</th>\n      <th>year</th>\n      <th>pts_x_gm</th>\n      <th>td_x_gm</th>\n      <th>clasificacion</th>\n    </tr>\n  </thead>\n  <tbody>\n    <tr>\n      <th>0</th>\n      <td>1</td>\n      <td>Christian McCaffrey*+</td>\n      <td>CAR</td>\n      <td>RB</td>\n      <td>23</td>\n      <td>16</td>\n      <td>16</td>\n      <td>0.0</td>\n      <td>2.0</td>\n      <td>0.0</td>\n      <td>...</td>\n      <td>0.0</td>\n      <td>19</td>\n      <td>1.0</td>\n      <td>0.0</td>\n      <td>471.2</td>\n      <td>1</td>\n      <td>2019</td>\n      <td>29.450000</td>\n      <td>1.187500</td>\n      <td>bueno</td>\n    </tr>\n    <tr>\n      <th>2</th>\n      <td>3</td>\n      <td>Derrick Henry *</td>\n      <td>TEN</td>\n      <td>RB</td>\n      <td>25</td>\n      <td>15</td>\n      <td>15</td>\n      <td>0.0</td>\n      <td>0.0</td>\n      <td>0.0</td>\n      <td>...</td>\n      <td>3.0</td>\n      <td>18</td>\n      <td>0.0</td>\n      <td>0.0</td>\n      <td>294.6</td>\n      <td>2</td>\n      <td>2019</td>\n      <td>19.640000</td>\n      <td>1.200000</td>\n      <td>bueno</td>\n    </tr>\n    <tr>\n      <th>3</th>\n      <td>4</td>\n      <td>Aaron Jones</td>\n      <td>GNB</td>\n      <td>RB</td>\n      <td>25</td>\n      <td>16</td>\n      <td>16</td>\n      <td>0.0</td>\n      <td>0.0</td>\n      <td>0.0</td>\n      <td>...</td>\n      <td>2.0</td>\n      <td>19</td>\n      <td>0.0</td>\n      <td>0.0</td>\n      <td>314.8</td>\n      <td>3</td>\n      <td>2019</td>\n      <td>19.675000</td>\n      <td>1.187500</td>\n      <td>bueno</td>\n    </tr>\n    <tr>\n      <th>4</th>\n      <td>5</td>\n      <td>Ezekiel Elliott*</td>\n      <td>DAL</td>\n      <td>RB</td>\n      <td>24</td>\n      <td>16</td>\n      <td>16</td>\n      <td>0.0</td>\n      <td>0.0</td>\n      <td>0.0</td>\n      <td>...</td>\n      <td>2.0</td>\n      <td>14</td>\n      <td>0.0</td>\n      <td>0.0</td>\n      <td>311.7</td>\n      <td>4</td>\n      <td>2019</td>\n      <td>19.481250</td>\n      <td>0.875000</td>\n      <td>bueno</td>\n    </tr>\n    <tr>\n      <th>5</th>\n      <td>6</td>\n      <td>Dalvin Cook*</td>\n      <td>MIN</td>\n      <td>RB</td>\n      <td>24</td>\n      <td>14</td>\n      <td>14</td>\n      <td>0.0</td>\n      <td>0.0</td>\n      <td>0.0</td>\n      <td>...</td>\n      <td>2.0</td>\n      <td>13</td>\n      <td>0.0</td>\n      <td>0.0</td>\n      <td>292.4</td>\n      <td>5</td>\n      <td>2019</td>\n      <td>20.885714</td>\n      <td>0.928571</td>\n      <td>bueno</td>\n    </tr>\n    <tr>\n      <th>...</th>\n      <td>...</td>\n      <td>...</td>\n      <td>...</td>\n      <td>...</td>\n      <td>...</td>\n      <td>...</td>\n      <td>...</td>\n      <td>...</td>\n      <td>...</td>\n      <td>...</td>\n      <td>...</td>\n      <td>...</td>\n      <td>...</td>\n      <td>...</td>\n      <td>...</td>\n      <td>...</td>\n      <td>...</td>\n      <td>...</td>\n      <td>...</td>\n      <td>...</td>\n      <td>...</td>\n    </tr>\n    <tr>\n      <th>1514</th>\n      <td>238</td>\n      <td>Travis Homer</td>\n      <td>SEA</td>\n      <td>RB</td>\n      <td>23</td>\n      <td>14</td>\n      <td>0</td>\n      <td>0.0</td>\n      <td>0.0</td>\n      <td>0.0</td>\n      <td>...</td>\n      <td>0.0</td>\n      <td>2</td>\n      <td>0.0</td>\n      <td>0.0</td>\n      <td>61.8</td>\n      <td>70</td>\n      <td>2021</td>\n      <td>4.414286</td>\n      <td>0.142857</td>\n      <td>malo</td>\n    </tr>\n    <tr>\n      <th>1516</th>\n      <td>240</td>\n      <td>Jeremy McNichols</td>\n      <td>TEN</td>\n      <td>RB</td>\n      <td>26</td>\n      <td>14</td>\n      <td>0</td>\n      <td>0.0</td>\n      <td>0.0</td>\n      <td>0.0</td>\n      <td>...</td>\n      <td>0.0</td>\n      <td>1</td>\n      <td>0.0</td>\n      <td>0.0</td>\n      <td>73.6</td>\n      <td>71</td>\n      <td>2021</td>\n      <td>5.257143</td>\n      <td>0.071429</td>\n      <td>malo</td>\n    </tr>\n    <tr>\n      <th>1521</th>\n      <td>245</td>\n      <td>Damien Williams</td>\n      <td>CHI</td>\n      <td>RB</td>\n      <td>29</td>\n      <td>12</td>\n      <td>2</td>\n      <td>0.0</td>\n      <td>0.0</td>\n      <td>0.0</td>\n      <td>...</td>\n      <td>0.0</td>\n      <td>3</td>\n      <td>0.0</td>\n      <td>0.0</td>\n      <td>60.7</td>\n      <td>72</td>\n      <td>2021</td>\n      <td>5.058333</td>\n      <td>0.250000</td>\n      <td>malo</td>\n    </tr>\n    <tr>\n      <th>1523</th>\n      <td>247</td>\n      <td>Kyle Juszczyk*</td>\n      <td>SFO</td>\n      <td>RB</td>\n      <td>30</td>\n      <td>17</td>\n      <td>16</td>\n      <td>0.0</td>\n      <td>0.0</td>\n      <td>0.0</td>\n      <td>...</td>\n      <td>0.0</td>\n      <td>2</td>\n      <td>0.0</td>\n      <td>0.0</td>\n      <td>73.8</td>\n      <td>74</td>\n      <td>2021</td>\n      <td>4.341176</td>\n      <td>0.117647</td>\n      <td>malo</td>\n    </tr>\n    <tr>\n      <th>1543</th>\n      <td>267</td>\n      <td>DeeJay Dallas</td>\n      <td>SEA</td>\n      <td>RB</td>\n      <td>23</td>\n      <td>17</td>\n      <td>0</td>\n      <td>0.0</td>\n      <td>0.0</td>\n      <td>0.0</td>\n      <td>...</td>\n      <td>0.0</td>\n      <td>2</td>\n      <td>0.0</td>\n      <td>0.0</td>\n      <td>60.1</td>\n      <td>79</td>\n      <td>2021</td>\n      <td>3.535294</td>\n      <td>0.117647</td>\n      <td>malo</td>\n    </tr>\n  </tbody>\n</table>\n<p>207 rows × 32 columns</p>\n</div>"
     },
     "execution_count": 664,
     "metadata": {},
     "output_type": "execute_result"
    }
   ],
   "source": [
    "def clasificacion (x):\n",
    "       if x > jugadores_rb.pts_x_gm.mean():\n",
    "              return \"bueno\"\n",
    "       else: return \"malo\"\n",
    "\n",
    "\n",
    "jugadores_rb[\"clasificacion\"] = jugadores_rb[\"pts_x_gm\"].apply(clasificacion)\n",
    "jugadores_rb\n"
   ],
   "metadata": {
    "collapsed": false,
    "pycharm": {
     "name": "#%%\n"
    }
   }
  },
  {
   "cell_type": "markdown",
   "source": [
    "creo una columna nueva llamada clasificacion donde los jugadores que tuvieron mas puntos por partido que el promedio de la liga (de los jugadores que fueron relevantes,aquellos con mas de 60 pts totales) son clasificados como buenos y los que estuvieron debajo del promedio como malos. esta sera nuestra variable target."
   ],
   "metadata": {
    "collapsed": false,
    "pycharm": {
     "name": "#%% md\n"
    }
   }
  },
  {
   "cell_type": "code",
   "execution_count": 370,
   "outputs": [
    {
     "name": "stderr",
     "output_type": "stream",
     "text": [
      "<ipython-input-370-1a773d4fa9c7>:2: FutureWarning:\n",
      "\n",
      "The default value of numeric_only in DataFrame.corr is deprecated. In a future version, it will default to False. Select only valid columns or specify the value of numeric_only to silence this warning.\n",
      "\n"
     ]
    },
    {
     "data": {
      "text/plain": "<AxesSubplot:>"
     },
     "execution_count": 370,
     "metadata": {},
     "output_type": "execute_result"
    },
    {
     "data": {
      "text/plain": "<Figure size 1440x1440 with 2 Axes>",
      "image/png": "[encoded data removed]"
     },
     "metadata": {
      "needs_background": "light"
     },
     "output_type": "display_data"
    }
   ],
   "source": [
    "rcParams['figure.figsize'] = 20,20\n",
    "sns.heatmap(jugadores_rb.corr(),cmap='coolwarm',annot=True)"
   ],
   "metadata": {
    "collapsed": false,
    "pycharm": {
     "name": "#%%\n"
    }
   }
  },
  {
   "cell_type": "markdown",
   "source": [
    "aca podemos ver cuales son las variables con mas relacion entre ellas, las mas cercanas a 1 significa que tienen una relacion positiva muy fuerte y las mas cercanas a -1 tienen una relacion negativa fuerte."
   ],
   "metadata": {
    "collapsed": false,
    "pycharm": {
     "name": "#%% md\n"
    }
   }
  },
  {
   "cell_type": "code",
   "execution_count": 357,
   "outputs": [
    {
     "data": {
      "application/vnd.plotly.v1+json": {
       "data": [
        {
         "hovertemplate": "player=Christian McCaffrey*+<br>td_tot=%{x}<br>rushing_att=%{y}<extra></extra>",
         "legendgroup": "Christian McCaffrey*+",
         "marker": {
          "color": "#636efa",
          "symbol": "circle"
         },
         "mode": "markers",
         "name": "Christian McCaffrey*+",
         "orientation": "v",
         "showlegend": true,
         "x": [
          19
         ],
         "xaxis": "x",
         "y": [
          287.0
         ],
         "yaxis": "y",
         "type": "scatter"
        },
        {
         "hovertemplate": "player=Derrick Henry *<br>td_tot=%{x}<br>rushing_att=%{y}<extra></extra>",
         "legendgroup": "Derrick Henry *",
         "marker": {
          "color": "#EF553B",
          "symbol": "circle"
         },
         "mode": "markers",
         "name": "Derrick Henry *",
         "orientation": "v",
         "showlegend": true,
         "x": [
          18
         ],
         "xaxis": "x",
         "y": [
          303.0
         ],
         "yaxis": "y",
         "type": "scatter"
        },
        {
         "hovertemplate": "player=Aaron Jones<br>td_tot=%{x}<br>rushing_att=%{y}<extra></extra>",
         "legendgroup": "Aaron Jones",
         "marker": {
          "color": "#00cc96",
          "symbol": "circle"
         },
         "mode": "markers",
         "name": "Aaron Jones",
         "orientation": "v",
         "showlegend": true,
         "x": [
          19,
          10,
          6
         ],
         "xaxis": "x",
         "y": [
          236.0,
          171.0,
          164.0
         ],
         "yaxis": "y",
         "type": "scatter"
        },
        {
         "hovertemplate": "player=Ezekiel Elliott*<br>td_tot=%{x}<br>rushing_att=%{y}<extra></extra>",
         "legendgroup": "Ezekiel Elliott*",
         "marker": {
          "color": "#ab63fa",
          "symbol": "circle"
         },
         "mode": "markers",
         "name": "Ezekiel Elliott*",
         "orientation": "v",
         "showlegend": true,
         "x": [
          14
         ],
         "xaxis": "x",
         "y": [
          301.0
         ],
         "yaxis": "y",
         "type": "scatter"
        },
        {
         "hovertemplate": "player=Dalvin Cook*<br>td_tot=%{x}<br>rushing_att=%{y}<extra></extra>",
         "legendgroup": "Dalvin Cook*",
         "marker": {
          "color": "#FFA15A",
          "symbol": "circle"
         },
         "mode": "markers",
         "name": "Dalvin Cook*",
         "orientation": "v",
         "showlegend": true,
         "x": [
          13,
          17,
          6
         ],
         "xaxis": "x",
         "y": [
          250.0,
          312.0,
          249.0
         ],
         "yaxis": "y",
         "type": "scatter"
        },
        {
         "hovertemplate": "player=Nick Chubb*<br>td_tot=%{x}<br>rushing_att=%{y}<extra></extra>",
         "legendgroup": "Nick Chubb*",
         "marker": {
          "color": "#19d3f3",
          "symbol": "circle"
         },
         "mode": "markers",
         "name": "Nick Chubb*",
         "orientation": "v",
         "showlegend": true,
         "x": [
          8,
          12,
          9
         ],
         "xaxis": "x",
         "y": [
          298.0,
          190.0,
          228.0
         ],
         "yaxis": "y",
         "type": "scatter"
        },
        {
         "hovertemplate": "player=Austin Ekeler<br>td_tot=%{x}<br>rushing_att=%{y}<extra></extra>",
         "legendgroup": "Austin Ekeler",
         "marker": {
          "color": "#FF6692",
          "symbol": "circle"
         },
         "mode": "markers",
         "name": "Austin Ekeler",
         "orientation": "v",
         "showlegend": true,
         "x": [
          11,
          3,
          20,
          12
         ],
         "xaxis": "x",
         "y": [
          132.0,
          116.0,
          206.0,
          138.0
         ],
         "yaxis": "y",
         "type": "scatter"
        },
        {
         "hovertemplate": "player=Mark Ingram*<br>td_tot=%{x}<br>rushing_att=%{y}<extra></extra>",
         "legendgroup": "Mark Ingram*",
         "marker": {
          "color": "#B6E880",
          "symbol": "circle"
         },
         "mode": "markers",
         "name": "Mark Ingram*",
         "orientation": "v",
         "showlegend": true,
         "x": [
          15
         ],
         "xaxis": "x",
         "y": [
          202.0
         ],
         "yaxis": "y",
         "type": "scatter"
        },
        {
         "hovertemplate": "player=Chris Carson<br>td_tot=%{x}<br>rushing_att=%{y}<extra></extra>",
         "legendgroup": "Chris Carson",
         "marker": {
          "color": "#FF97FF",
          "symbol": "circle"
         },
         "mode": "markers",
         "name": "Chris Carson",
         "orientation": "v",
         "showlegend": true,
         "x": [
          9,
          9
         ],
         "xaxis": "x",
         "y": [
          278.0,
          141.0
         ],
         "yaxis": "y",
         "type": "scatter"
        },
        {
         "hovertemplate": "player=Saquon Barkley<br>td_tot=%{x}<br>rushing_att=%{y}<extra></extra>",
         "legendgroup": "Saquon Barkley",
         "marker": {
          "color": "#FECB52",
          "symbol": "circle"
         },
         "mode": "markers",
         "name": "Saquon Barkley",
         "orientation": "v",
         "showlegend": true,
         "x": [
          8,
          4,
          8
         ],
         "xaxis": "x",
         "y": [
          217.0,
          162.0,
          242.0
         ],
         "yaxis": "y",
         "type": "scatter"
        },
        {
         "hovertemplate": "player=Joe Mixon<br>td_tot=%{x}<br>rushing_att=%{y}<extra></extra>",
         "legendgroup": "Joe Mixon",
         "marker": {
          "color": "#636efa",
          "symbol": "circle"
         },
         "mode": "markers",
         "name": "Joe Mixon",
         "orientation": "v",
         "showlegend": true,
         "x": [
          8,
          4,
          8
         ],
         "xaxis": "x",
         "y": [
          278.0,
          119.0,
          158.0
         ],
         "yaxis": "y",
         "type": "scatter"
        },
        {
         "hovertemplate": "player=Todd Gurley<br>td_tot=%{x}<br>rushing_att=%{y}<extra></extra>",
         "legendgroup": "Todd Gurley",
         "marker": {
          "color": "#EF553B",
          "symbol": "circle"
         },
         "mode": "markers",
         "name": "Todd Gurley",
         "orientation": "v",
         "showlegend": true,
         "x": [
          14,
          9
         ],
         "xaxis": "x",
         "y": [
          223.0,
          195.0
         ],
         "yaxis": "y",
         "type": "scatter"
        },
        {
         "hovertemplate": "player=Leonard Fournette<br>td_tot=%{x}<br>rushing_att=%{y}<extra></extra>",
         "legendgroup": "Leonard Fournette",
         "marker": {
          "color": "#00cc96",
          "symbol": "circle"
         },
         "mode": "markers",
         "name": "Leonard Fournette",
         "orientation": "v",
         "showlegend": true,
         "x": [
          3,
          6,
          10,
          6
         ],
         "xaxis": "x",
         "y": [
          265.0,
          97.0,
          180.0,
          135.0
         ],
         "yaxis": "y",
         "type": "scatter"
        },
        {
         "hovertemplate": "player=Josh Jacobs<br>td_tot=%{x}<br>rushing_att=%{y}<extra></extra>",
         "legendgroup": "Josh Jacobs",
         "marker": {
          "color": "#ab63fa",
          "symbol": "circle"
         },
         "mode": "markers",
         "name": "Josh Jacobs",
         "orientation": "v",
         "showlegend": true,
         "x": [
          7,
          9,
          10
         ],
         "xaxis": "x",
         "y": [
          242.0,
          217.0,
          242.0
         ],
         "yaxis": "y",
         "type": "scatter"
        },
        {
         "hovertemplate": "player=Miles Sanders<br>td_tot=%{x}<br>rushing_att=%{y}<extra></extra>",
         "legendgroup": "Miles Sanders",
         "marker": {
          "color": "#FFA15A",
          "symbol": "circle"
         },
         "mode": "markers",
         "name": "Miles Sanders",
         "orientation": "v",
         "showlegend": true,
         "x": [
          6,
          6,
          0,
          9
         ],
         "xaxis": "x",
         "y": [
          179.0,
          164.0,
          137.0,
          187.0
         ],
         "yaxis": "y",
         "type": "scatter"
        },
        {
         "hovertemplate": "player=Alvin Kamara*<br>td_tot=%{x}<br>rushing_att=%{y}<extra></extra>",
         "legendgroup": "Alvin Kamara*",
         "marker": {
          "color": "#19d3f3",
          "symbol": "circle"
         },
         "mode": "markers",
         "name": "Alvin Kamara*",
         "orientation": "v",
         "showlegend": true,
         "x": [
          6,
          21,
          9
         ],
         "xaxis": "x",
         "y": [
          171.0,
          187.0,
          240.0
         ],
         "yaxis": "y",
         "type": "scatter"
        },
        {
         "hovertemplate": "player=Marlon Mack<br>td_tot=%{x}<br>rushing_att=%{y}<extra></extra>",
         "legendgroup": "Marlon Mack",
         "marker": {
          "color": "#FF6692",
          "symbol": "circle"
         },
         "mode": "markers",
         "name": "Marlon Mack",
         "orientation": "v",
         "showlegend": true,
         "x": [
          8
         ],
         "xaxis": "x",
         "y": [
          247.0
         ],
         "yaxis": "y",
         "type": "scatter"
        },
        {
         "hovertemplate": "player=Kenyan Drake<br>td_tot=%{x}<br>rushing_att=%{y}<extra></extra>",
         "legendgroup": "Kenyan Drake",
         "marker": {
          "color": "#B6E880",
          "symbol": "circle"
         },
         "mode": "markers",
         "name": "Kenyan Drake",
         "orientation": "v",
         "showlegend": true,
         "x": [
          8,
          10,
          3,
          4
         ],
         "xaxis": "x",
         "y": [
          170.0,
          239.0,
          63.0,
          92.0
         ],
         "yaxis": "y",
         "type": "scatter"
        },
        {
         "hovertemplate": "player=Phillip Lindsay<br>td_tot=%{x}<br>rushing_att=%{y}<extra></extra>",
         "legendgroup": "Phillip Lindsay",
         "marker": {
          "color": "#FF97FF",
          "symbol": "circle"
         },
         "mode": "markers",
         "name": "Phillip Lindsay",
         "orientation": "v",
         "showlegend": true,
         "x": [
          7,
          1
         ],
         "xaxis": "x",
         "y": [
          224.0,
          118.0
         ],
         "yaxis": "y",
         "type": "scatter"
        },
        {
         "hovertemplate": "player=Raheem Mostert<br>td_tot=%{x}<br>rushing_att=%{y}<extra></extra>",
         "legendgroup": "Raheem Mostert",
         "marker": {
          "color": "#FECB52",
          "symbol": "circle"
         },
         "mode": "markers",
         "name": "Raheem Mostert",
         "orientation": "v",
         "showlegend": true,
         "x": [
          10,
          3,
          4
         ],
         "xaxis": "x",
         "y": [
          137.0,
          104.0,
          125.0
         ],
         "yaxis": "y",
         "type": "scatter"
        },
        {
         "hovertemplate": "player=Le'Veon Bell<br>td_tot=%{x}<br>rushing_att=%{y}<extra></extra>",
         "legendgroup": "Le'Veon Bell",
         "marker": {
          "color": "#636efa",
          "symbol": "circle"
         },
         "mode": "markers",
         "name": "Le'Veon Bell",
         "orientation": "v",
         "showlegend": true,
         "x": [
          4,
          2
         ],
         "xaxis": "x",
         "y": [
          245.0,
          82.0
         ],
         "yaxis": "y",
         "type": "scatter"
        },
        {
         "hovertemplate": "player=David Montgomery<br>td_tot=%{x}<br>rushing_att=%{y}<extra></extra>",
         "legendgroup": "David Montgomery",
         "marker": {
          "color": "#EF553B",
          "symbol": "circle"
         },
         "mode": "markers",
         "name": "David Montgomery",
         "orientation": "v",
         "showlegend": true,
         "x": [
          7,
          10,
          7,
          4
         ],
         "xaxis": "x",
         "y": [
          242.0,
          247.0,
          225.0,
          160.0
         ],
         "yaxis": "y",
         "type": "scatter"
        },
        {
         "hovertemplate": "player=Carlos Hyde<br>td_tot=%{x}<br>rushing_att=%{y}<extra></extra>",
         "legendgroup": "Carlos Hyde",
         "marker": {
          "color": "#00cc96",
          "symbol": "circle"
         },
         "mode": "markers",
         "name": "Carlos Hyde",
         "orientation": "v",
         "showlegend": true,
         "x": [
          6,
          4
         ],
         "xaxis": "x",
         "y": [
          245.0,
          81.0
         ],
         "yaxis": "y",
         "type": "scatter"
        },
        {
         "hovertemplate": "player=Sony Michel<br>td_tot=%{x}<br>rushing_att=%{y}<extra></extra>",
         "legendgroup": "Sony Michel",
         "marker": {
          "color": "#ab63fa",
          "symbol": "circle"
         },
         "mode": "markers",
         "name": "Sony Michel",
         "orientation": "v",
         "showlegend": true,
         "x": [
          7,
          2,
          5
         ],
         "xaxis": "x",
         "y": [
          247.0,
          79.0,
          208.0
         ],
         "yaxis": "y",
         "type": "scatter"
        },
        {
         "hovertemplate": "player=Devonta Freeman<br>td_tot=%{x}<br>rushing_att=%{y}<extra></extra>",
         "legendgroup": "Devonta Freeman",
         "marker": {
          "color": "#FFA15A",
          "symbol": "circle"
         },
         "mode": "markers",
         "name": "Devonta Freeman",
         "orientation": "v",
         "showlegend": true,
         "x": [
          6,
          6
         ],
         "xaxis": "x",
         "y": [
          184.0,
          133.0
         ],
         "yaxis": "y",
         "type": "scatter"
        },
        {
         "hovertemplate": "player=Melvin Gordon<br>td_tot=%{x}<br>rushing_att=%{y}<extra></extra>",
         "legendgroup": "Melvin Gordon",
         "marker": {
          "color": "#19d3f3",
          "symbol": "circle"
         },
         "mode": "markers",
         "name": "Melvin Gordon",
         "orientation": "v",
         "showlegend": true,
         "x": [
          9,
          10,
          10,
          2
         ],
         "xaxis": "x",
         "y": [
          162.0,
          215.0,
          203.0,
          90.0
         ],
         "yaxis": "y",
         "type": "scatter"
        },
        {
         "hovertemplate": "player=Ronald Jones II<br>td_tot=%{x}<br>rushing_att=%{y}<extra></extra>",
         "legendgroup": "Ronald Jones II",
         "marker": {
          "color": "#FF6692",
          "symbol": "circle"
         },
         "mode": "markers",
         "name": "Ronald Jones II",
         "orientation": "v",
         "showlegend": true,
         "x": [
          6,
          8,
          4
         ],
         "xaxis": "x",
         "y": [
          172.0,
          192.0,
          101.0
         ],
         "yaxis": "y",
         "type": "scatter"
        },
        {
         "hovertemplate": "player=Adrian Peterson<br>td_tot=%{x}<br>rushing_att=%{y}<extra></extra>",
         "legendgroup": "Adrian Peterson",
         "marker": {
          "color": "#B6E880",
          "symbol": "circle"
         },
         "mode": "markers",
         "name": "Adrian Peterson",
         "orientation": "v",
         "showlegend": true,
         "x": [
          5,
          7
         ],
         "xaxis": "x",
         "y": [
          211.0,
          156.0
         ],
         "yaxis": "y",
         "type": "scatter"
        },
        {
         "hovertemplate": "player=James White<br>td_tot=%{x}<br>rushing_att=%{y}<extra></extra>",
         "legendgroup": "James White",
         "marker": {
          "color": "#FF97FF",
          "symbol": "circle"
         },
         "mode": "markers",
         "name": "James White",
         "orientation": "v",
         "showlegend": true,
         "x": [
          6,
          3
         ],
         "xaxis": "x",
         "y": [
          67.0,
          35.0
         ],
         "yaxis": "y",
         "type": "scatter"
        },
        {
         "hovertemplate": "player=Latavius Murray<br>td_tot=%{x}<br>rushing_att=%{y}<extra></extra>",
         "legendgroup": "Latavius Murray",
         "marker": {
          "color": "#FECB52",
          "symbol": "circle"
         },
         "mode": "markers",
         "name": "Latavius Murray",
         "orientation": "v",
         "showlegend": true,
         "x": [
          6,
          5,
          6,
          4
         ],
         "xaxis": "x",
         "y": [
          146.0,
          146.0,
          119.0,
          104.0
         ],
         "yaxis": "y",
         "type": "scatter"
        },
        {
         "hovertemplate": "player=Devin Singletary<br>td_tot=%{x}<br>rushing_att=%{y}<extra></extra>",
         "legendgroup": "Devin Singletary",
         "marker": {
          "color": "#636efa",
          "symbol": "circle"
         },
         "mode": "markers",
         "name": "Devin Singletary",
         "orientation": "v",
         "showlegend": true,
         "x": [
          4,
          2,
          8,
          5
         ],
         "xaxis": "x",
         "y": [
          151.0,
          156.0,
          188.0,
          137.0
         ],
         "yaxis": "y",
         "type": "scatter"
        },
        {
         "hovertemplate": "player=Tevin Coleman<br>td_tot=%{x}<br>rushing_att=%{y}<extra></extra>",
         "legendgroup": "Tevin Coleman",
         "marker": {
          "color": "#EF553B",
          "symbol": "circle"
         },
         "mode": "markers",
         "name": "Tevin Coleman",
         "orientation": "v",
         "showlegend": true,
         "x": [
          7
         ],
         "xaxis": "x",
         "y": [
          137.0
         ],
         "yaxis": "y",
         "type": "scatter"
        },
        {
         "hovertemplate": "player=James Conner<br>td_tot=%{x}<br>rushing_att=%{y}<extra></extra>",
         "legendgroup": "James Conner",
         "marker": {
          "color": "#00cc96",
          "symbol": "circle"
         },
         "mode": "markers",
         "name": "James Conner",
         "orientation": "v",
         "showlegend": true,
         "x": [
          7,
          6,
          5
         ],
         "xaxis": "x",
         "y": [
          116.0,
          169.0,
          121.0
         ],
         "yaxis": "y",
         "type": "scatter"
        },
        {
         "hovertemplate": "player=Damien Williams<br>td_tot=%{x}<br>rushing_att=%{y}<extra></extra>",
         "legendgroup": "Damien Williams",
         "marker": {
          "color": "#ab63fa",
          "symbol": "circle"
         },
         "mode": "markers",
         "name": "Damien Williams",
         "orientation": "v",
         "showlegend": true,
         "x": [
          7,
          3
         ],
         "xaxis": "x",
         "y": [
          111.0,
          40.0
         ],
         "yaxis": "y",
         "type": "scatter"
        },
        {
         "hovertemplate": "player=Duke Johnson<br>td_tot=%{x}<br>rushing_att=%{y}<extra></extra>",
         "legendgroup": "Duke Johnson",
         "marker": {
          "color": "#FFA15A",
          "symbol": "circle"
         },
         "mode": "markers",
         "name": "Duke Johnson",
         "orientation": "v",
         "showlegend": true,
         "x": [
          5,
          2
         ],
         "xaxis": "x",
         "y": [
          83.0,
          77.0
         ],
         "yaxis": "y",
         "type": "scatter"
        },
        {
         "hovertemplate": "player=Jamaal Williams<br>td_tot=%{x}<br>rushing_att=%{y}<extra></extra>",
         "legendgroup": "Jamaal Williams",
         "marker": {
          "color": "#19d3f3",
          "symbol": "circle"
         },
         "mode": "markers",
         "name": "Jamaal Williams",
         "orientation": "v",
         "showlegend": true,
         "x": [
          6,
          3,
          3,
          14
         ],
         "xaxis": "x",
         "y": [
          107.0,
          119.0,
          153.0,
          188.0
         ],
         "yaxis": "y",
         "type": "scatter"
        },
        {
         "hovertemplate": "player=David Johnson<br>td_tot=%{x}<br>rushing_att=%{y}<extra></extra>",
         "legendgroup": "David Johnson",
         "marker": {
          "color": "#FF6692",
          "symbol": "circle"
         },
         "mode": "markers",
         "name": "David Johnson",
         "orientation": "v",
         "showlegend": true,
         "x": [
          6,
          8,
          1
         ],
         "xaxis": "x",
         "y": [
          94.0,
          147.0,
          67.0
         ],
         "yaxis": "y",
         "type": "scatter"
        },
        {
         "hovertemplate": "player=Peyton Barber<br>td_tot=%{x}<br>rushing_att=%{y}<extra></extra>",
         "legendgroup": "Peyton Barber",
         "marker": {
          "color": "#B6E880",
          "symbol": "circle"
         },
         "mode": "markers",
         "name": "Peyton Barber",
         "orientation": "v",
         "showlegend": true,
         "x": [
          7
         ],
         "xaxis": "x",
         "y": [
          154.0
         ],
         "yaxis": "y",
         "type": "scatter"
        },
        {
         "hovertemplate": "player=Jordan Howard<br>td_tot=%{x}<br>rushing_att=%{y}<extra></extra>",
         "legendgroup": "Jordan Howard",
         "marker": {
          "color": "#FF97FF",
          "symbol": "circle"
         },
         "mode": "markers",
         "name": "Jordan Howard",
         "orientation": "v",
         "showlegend": true,
         "x": [
          7,
          3
         ],
         "xaxis": "x",
         "y": [
          119.0,
          86.0
         ],
         "yaxis": "y",
         "type": "scatter"
        },
        {
         "hovertemplate": "player=Royce Freeman<br>td_tot=%{x}<br>rushing_att=%{y}<extra></extra>",
         "legendgroup": "Royce Freeman",
         "marker": {
          "color": "#FECB52",
          "symbol": "circle"
         },
         "mode": "markers",
         "name": "Royce Freeman",
         "orientation": "v",
         "showlegend": true,
         "x": [
          4
         ],
         "xaxis": "x",
         "y": [
          132.0
         ],
         "yaxis": "y",
         "type": "scatter"
        },
        {
         "hovertemplate": "player=LeSean McCoy<br>td_tot=%{x}<br>rushing_att=%{y}<extra></extra>",
         "legendgroup": "LeSean McCoy",
         "marker": {
          "color": "#636efa",
          "symbol": "circle"
         },
         "mode": "markers",
         "name": "LeSean McCoy",
         "orientation": "v",
         "showlegend": true,
         "x": [
          5
         ],
         "xaxis": "x",
         "y": [
          101.0
         ],
         "yaxis": "y",
         "type": "scatter"
        },
        {
         "hovertemplate": "player=Gus Edwards<br>td_tot=%{x}<br>rushing_att=%{y}<extra></extra>",
         "legendgroup": "Gus Edwards",
         "marker": {
          "color": "#EF553B",
          "symbol": "circle"
         },
         "mode": "markers",
         "name": "Gus Edwards",
         "orientation": "v",
         "showlegend": true,
         "x": [
          2,
          6
         ],
         "xaxis": "x",
         "y": [
          133.0,
          144.0
         ],
         "yaxis": "y",
         "type": "scatter"
        },
        {
         "hovertemplate": "player=DeAndre Washington<br>td_tot=%{x}<br>rushing_att=%{y}<extra></extra>",
         "legendgroup": "DeAndre Washington",
         "marker": {
          "color": "#00cc96",
          "symbol": "circle"
         },
         "mode": "markers",
         "name": "DeAndre Washington",
         "orientation": "v",
         "showlegend": true,
         "x": [
          3
         ],
         "xaxis": "x",
         "y": [
          108.0
         ],
         "yaxis": "y",
         "type": "scatter"
        },
        {
         "hovertemplate": "player=Tarik Cohen<br>td_tot=%{x}<br>rushing_att=%{y}<extra></extra>",
         "legendgroup": "Tarik Cohen",
         "marker": {
          "color": "#ab63fa",
          "symbol": "circle"
         },
         "mode": "markers",
         "name": "Tarik Cohen",
         "orientation": "v",
         "showlegend": true,
         "x": [
          3
         ],
         "xaxis": "x",
         "y": [
          64.0
         ],
         "yaxis": "y",
         "type": "scatter"
        },
        {
         "hovertemplate": "player=Matt Breida<br>td_tot=%{x}<br>rushing_att=%{y}<extra></extra>",
         "legendgroup": "Matt Breida",
         "marker": {
          "color": "#FFA15A",
          "symbol": "circle"
         },
         "mode": "markers",
         "name": "Matt Breida",
         "orientation": "v",
         "showlegend": true,
         "x": [
          2
         ],
         "xaxis": "x",
         "y": [
          123.0
         ],
         "yaxis": "y",
         "type": "scatter"
        },
        {
         "hovertemplate": "player=Frank Gore<br>td_tot=%{x}<br>rushing_att=%{y}<extra></extra>",
         "legendgroup": "Frank Gore",
         "marker": {
          "color": "#19d3f3",
          "symbol": "circle"
         },
         "mode": "markers",
         "name": "Frank Gore",
         "orientation": "v",
         "showlegend": true,
         "x": [
          2,
          2
         ],
         "xaxis": "x",
         "y": [
          166.0,
          187.0
         ],
         "yaxis": "y",
         "type": "scatter"
        },
        {
         "hovertemplate": "player=Kerryon Johnson<br>td_tot=%{x}<br>rushing_att=%{y}<extra></extra>",
         "legendgroup": "Kerryon Johnson",
         "marker": {
          "color": "#FF6692",
          "symbol": "circle"
         },
         "mode": "markers",
         "name": "Kerryon Johnson",
         "orientation": "v",
         "showlegend": true,
         "x": [
          4,
          3
         ],
         "xaxis": "x",
         "y": [
          113.0,
          52.0
         ],
         "yaxis": "y",
         "type": "scatter"
        },
        {
         "hovertemplate": "player=Rex Burkhead<br>td_tot=%{x}<br>rushing_att=%{y}<extra></extra>",
         "legendgroup": "Rex Burkhead",
         "marker": {
          "color": "#B6E880",
          "symbol": "circle"
         },
         "mode": "markers",
         "name": "Rex Burkhead",
         "orientation": "v",
         "showlegend": true,
         "x": [
          3,
          6,
          3
         ],
         "xaxis": "x",
         "y": [
          65.0,
          67.0,
          122.0
         ],
         "yaxis": "y",
         "type": "scatter"
        },
        {
         "hovertemplate": "player=Nyheim Hines<br>td_tot=%{x}<br>rushing_att=%{y}<extra></extra>",
         "legendgroup": "Nyheim Hines",
         "marker": {
          "color": "#FF97FF",
          "symbol": "circle"
         },
         "mode": "markers",
         "name": "Nyheim Hines",
         "orientation": "v",
         "showlegend": true,
         "x": [
          4,
          7,
          3
         ],
         "xaxis": "x",
         "y": [
          52.0,
          89.0,
          56.0
         ],
         "yaxis": "y",
         "type": "scatter"
        },
        {
         "hovertemplate": "player=Tony Pollard<br>td_tot=%{x}<br>rushing_att=%{y}<extra></extra>",
         "legendgroup": "Tony Pollard",
         "marker": {
          "color": "#FECB52",
          "symbol": "circle"
         },
         "mode": "markers",
         "name": "Tony Pollard",
         "orientation": "v",
         "showlegend": true,
         "x": [
          3,
          5,
          3,
          10
         ],
         "xaxis": "x",
         "y": [
          86.0,
          101.0,
          130.0,
          148.0
         ],
         "yaxis": "y",
         "type": "scatter"
        },
        {
         "hovertemplate": "player=Boston Scott<br>td_tot=%{x}<br>rushing_att=%{y}<extra></extra>",
         "legendgroup": "Boston Scott",
         "marker": {
          "color": "#636efa",
          "symbol": "circle"
         },
         "mode": "markers",
         "name": "Boston Scott",
         "orientation": "v",
         "showlegend": true,
         "x": [
          5,
          2,
          7
         ],
         "xaxis": "x",
         "y": [
          61.0,
          80.0,
          87.0
         ],
         "yaxis": "y",
         "type": "scatter"
        },
        {
         "hovertemplate": "player=Chase Edmonds<br>td_tot=%{x}<br>rushing_att=%{y}<extra></extra>",
         "legendgroup": "Chase Edmonds",
         "marker": {
          "color": "#EF553B",
          "symbol": "circle"
         },
         "mode": "markers",
         "name": "Chase Edmonds",
         "orientation": "v",
         "showlegend": true,
         "x": [
          5,
          5,
          2
         ],
         "xaxis": "x",
         "y": [
          60.0,
          97.0,
          116.0
         ],
         "yaxis": "y",
         "type": "scatter"
        },
        {
         "hovertemplate": "player=Rashaad Penny<br>td_tot=%{x}<br>rushing_att=%{y}<extra></extra>",
         "legendgroup": "Rashaad Penny",
         "marker": {
          "color": "#00cc96",
          "symbol": "circle"
         },
         "mode": "markers",
         "name": "Rashaad Penny",
         "orientation": "v",
         "showlegend": true,
         "x": [
          4,
          6
         ],
         "xaxis": "x",
         "y": [
          65.0,
          119.0
         ],
         "yaxis": "y",
         "type": "scatter"
        },
        {
         "hovertemplate": "player=Kareem Hunt<br>td_tot=%{x}<br>rushing_att=%{y}<extra></extra>",
         "legendgroup": "Kareem Hunt",
         "marker": {
          "color": "#ab63fa",
          "symbol": "circle"
         },
         "mode": "markers",
         "name": "Kareem Hunt",
         "orientation": "v",
         "showlegend": true,
         "x": [
          3,
          11,
          5,
          4
         ],
         "xaxis": "x",
         "y": [
          43.0,
          198.0,
          78.0,
          102.0
         ],
         "yaxis": "y",
         "type": "scatter"
        },
        {
         "hovertemplate": "player=Alexander Mattison<br>td_tot=%{x}<br>rushing_att=%{y}<extra></extra>",
         "legendgroup": "Alexander Mattison",
         "marker": {
          "color": "#FFA15A",
          "symbol": "circle"
         },
         "mode": "markers",
         "name": "Alexander Mattison",
         "orientation": "v",
         "showlegend": true,
         "x": [
          1,
          3,
          4,
          4
         ],
         "xaxis": "x",
         "y": [
          100.0,
          96.0,
          134.0,
          48.0
         ],
         "yaxis": "y",
         "type": "scatter"
        },
        {
         "hovertemplate": "player=Brian Hill<br>td_tot=%{x}<br>rushing_att=%{y}<extra></extra>",
         "legendgroup": "Brian Hill",
         "marker": {
          "color": "#19d3f3",
          "symbol": "circle"
         },
         "mode": "markers",
         "name": "Brian Hill",
         "orientation": "v",
         "showlegend": true,
         "x": [
          3,
          1
         ],
         "xaxis": "x",
         "y": [
          78.0,
          100.0
         ],
         "yaxis": "y",
         "type": "scatter"
        },
        {
         "hovertemplate": "player=Jaylen Samuels<br>td_tot=%{x}<br>rushing_att=%{y}<extra></extra>",
         "legendgroup": "Jaylen Samuels",
         "marker": {
          "color": "#FF6692",
          "symbol": "circle"
         },
         "mode": "markers",
         "name": "Jaylen Samuels",
         "orientation": "v",
         "showlegend": true,
         "x": [
          2
         ],
         "xaxis": "x",
         "y": [
          66.0
         ],
         "yaxis": "y",
         "type": "scatter"
        },
        {
         "hovertemplate": "player=Darrel Williams<br>td_tot=%{x}<br>rushing_att=%{y}<extra></extra>",
         "legendgroup": "Darrel Williams",
         "marker": {
          "color": "#B6E880",
          "symbol": "circle"
         },
         "mode": "markers",
         "name": "Darrel Williams",
         "orientation": "v",
         "showlegend": true,
         "x": [
          4,
          8
         ],
         "xaxis": "x",
         "y": [
          41.0,
          144.0
         ],
         "yaxis": "y",
         "type": "scatter"
        },
        {
         "hovertemplate": "player=Chris Thompson<br>td_tot=%{x}<br>rushing_att=%{y}<extra></extra>",
         "legendgroup": "Chris Thompson",
         "marker": {
          "color": "#FF97FF",
          "symbol": "circle"
         },
         "mode": "markers",
         "name": "Chris Thompson",
         "orientation": "v",
         "showlegend": true,
         "x": [
          0
         ],
         "xaxis": "x",
         "y": [
          37.0
         ],
         "yaxis": "y",
         "type": "scatter"
        },
        {
         "hovertemplate": "player=J.D. McKissic<br>td_tot=%{x}<br>rushing_att=%{y}<extra></extra>",
         "legendgroup": "J.D. McKissic",
         "marker": {
          "color": "#FECB52",
          "symbol": "circle"
         },
         "mode": "markers",
         "name": "J.D. McKissic",
         "orientation": "v",
         "showlegend": true,
         "x": [
          1,
          3,
          4
         ],
         "xaxis": "x",
         "y": [
          38.0,
          85.0,
          48.0
         ],
         "yaxis": "y",
         "type": "scatter"
        },
        {
         "hovertemplate": "player=Jalen Richard<br>td_tot=%{x}<br>rushing_att=%{y}<extra></extra>",
         "legendgroup": "Jalen Richard",
         "marker": {
          "color": "#636efa",
          "symbol": "circle"
         },
         "mode": "markers",
         "name": "Jalen Richard",
         "orientation": "v",
         "showlegend": true,
         "x": [
          0
         ],
         "xaxis": "x",
         "y": [
          39.0
         ],
         "yaxis": "y",
         "type": "scatter"
        },
        {
         "hovertemplate": "player=Patrick Laird<br>td_tot=%{x}<br>rushing_att=%{y}<extra></extra>",
         "legendgroup": "Patrick Laird",
         "marker": {
          "color": "#EF553B",
          "symbol": "circle"
         },
         "mode": "markers",
         "name": "Patrick Laird",
         "orientation": "v",
         "showlegend": true,
         "x": [
          1
         ],
         "xaxis": "x",
         "y": [
          62.0
         ],
         "yaxis": "y",
         "type": "scatter"
        },
        {
         "hovertemplate": "player=Dion Lewis<br>td_tot=%{x}<br>rushing_att=%{y}<extra></extra>",
         "legendgroup": "Dion Lewis",
         "marker": {
          "color": "#00cc96",
          "symbol": "circle"
         },
         "mode": "markers",
         "name": "Dion Lewis",
         "orientation": "v",
         "showlegend": true,
         "x": [
          1
         ],
         "xaxis": "x",
         "y": [
          54.0
         ],
         "yaxis": "y",
         "type": "scatter"
        },
        {
         "hovertemplate": "player=Dare Ogunbowale<br>td_tot=%{x}<br>rushing_att=%{y}<extra></extra>",
         "legendgroup": "Dare Ogunbowale",
         "marker": {
          "color": "#ab63fa",
          "symbol": "circle"
         },
         "mode": "markers",
         "name": "Dare Ogunbowale",
         "orientation": "v",
         "showlegend": true,
         "x": [
          2
         ],
         "xaxis": "x",
         "y": [
          11.0
         ],
         "yaxis": "y",
         "type": "scatter"
        },
        {
         "hovertemplate": "player=Giovani Bernard<br>td_tot=%{x}<br>rushing_att=%{y}<extra></extra>",
         "legendgroup": "Giovani Bernard",
         "marker": {
          "color": "#FFA15A",
          "symbol": "circle"
         },
         "mode": "markers",
         "name": "Giovani Bernard",
         "orientation": "v",
         "showlegend": true,
         "x": [
          0,
          6
         ],
         "xaxis": "x",
         "y": [
          53.0,
          124.0
         ],
         "yaxis": "y",
         "type": "scatter"
        },
        {
         "hovertemplate": "player=Ty Johnson<br>td_tot=%{x}<br>rushing_att=%{y}<extra></extra>",
         "legendgroup": "Ty Johnson",
         "marker": {
          "color": "#19d3f3",
          "symbol": "circle"
         },
         "mode": "markers",
         "name": "Ty Johnson",
         "orientation": "v",
         "showlegend": true,
         "x": [
          0,
          2,
          4
         ],
         "xaxis": "x",
         "y": [
          63.0,
          54.0,
          61.0
         ],
         "yaxis": "y",
         "type": "scatter"
        },
        {
         "hovertemplate": "player=Derrick Henry *+<br>td_tot=%{x}<br>rushing_att=%{y}<extra></extra>",
         "legendgroup": "Derrick Henry *+",
         "marker": {
          "color": "#FF6692",
          "symbol": "circle"
         },
         "mode": "markers",
         "name": "Derrick Henry *+",
         "orientation": "v",
         "showlegend": true,
         "x": [
          17
         ],
         "xaxis": "x",
         "y": [
          378.0
         ],
         "yaxis": "y",
         "type": "scatter"
        },
        {
         "hovertemplate": "player=Jonathan Taylor<br>td_tot=%{x}<br>rushing_att=%{y}<extra></extra>",
         "legendgroup": "Jonathan Taylor",
         "marker": {
          "color": "#B6E880",
          "symbol": "circle"
         },
         "mode": "markers",
         "name": "Jonathan Taylor",
         "orientation": "v",
         "showlegend": true,
         "x": [
          12,
          4
         ],
         "xaxis": "x",
         "y": [
          232.0,
          192.0
         ],
         "yaxis": "y",
         "type": "scatter"
        },
        {
         "hovertemplate": "player=Aaron Jones*<br>td_tot=%{x}<br>rushing_att=%{y}<extra></extra>",
         "legendgroup": "Aaron Jones*",
         "marker": {
          "color": "#FF97FF",
          "symbol": "circle"
         },
         "mode": "markers",
         "name": "Aaron Jones*",
         "orientation": "v",
         "showlegend": true,
         "x": [
          11
         ],
         "xaxis": "x",
         "y": [
          201.0
         ],
         "yaxis": "y",
         "type": "scatter"
        },
        {
         "hovertemplate": "player=James Robinson<br>td_tot=%{x}<br>rushing_att=%{y}<extra></extra>",
         "legendgroup": "James Robinson",
         "marker": {
          "color": "#FECB52",
          "symbol": "circle"
         },
         "mode": "markers",
         "name": "James Robinson",
         "orientation": "v",
         "showlegend": true,
         "x": [
          10,
          8,
          5
         ],
         "xaxis": "x",
         "y": [
          240.0,
          164.0,
          110.0
         ],
         "yaxis": "y",
         "type": "scatter"
        },
        {
         "hovertemplate": "player=Josh Jacobs*<br>td_tot=%{x}<br>rushing_att=%{y}<extra></extra>",
         "legendgroup": "Josh Jacobs*",
         "marker": {
          "color": "#636efa",
          "symbol": "circle"
         },
         "mode": "markers",
         "name": "Josh Jacobs*",
         "orientation": "v",
         "showlegend": true,
         "x": [
          12
         ],
         "xaxis": "x",
         "y": [
          273.0
         ],
         "yaxis": "y",
         "type": "scatter"
        },
        {
         "hovertemplate": "player=Ezekiel Elliott<br>td_tot=%{x}<br>rushing_att=%{y}<extra></extra>",
         "legendgroup": "Ezekiel Elliott",
         "marker": {
          "color": "#EF553B",
          "symbol": "circle"
         },
         "mode": "markers",
         "name": "Ezekiel Elliott",
         "orientation": "v",
         "showlegend": true,
         "x": [
          8,
          12,
          8
         ],
         "xaxis": "x",
         "y": [
          244.0,
          237.0,
          157.0
         ],
         "yaxis": "y",
         "type": "scatter"
        },
        {
         "hovertemplate": "player=Antonio Gibson<br>td_tot=%{x}<br>rushing_att=%{y}<extra></extra>",
         "legendgroup": "Antonio Gibson",
         "marker": {
          "color": "#00cc96",
          "symbol": "circle"
         },
         "mode": "markers",
         "name": "Antonio Gibson",
         "orientation": "v",
         "showlegend": true,
         "x": [
          11,
          10,
          5
         ],
         "xaxis": "x",
         "y": [
          170.0,
          258.0,
          139.0
         ],
         "yaxis": "y",
         "type": "scatter"
        },
        {
         "hovertemplate": "player=J.K. Dobbins<br>td_tot=%{x}<br>rushing_att=%{y}<extra></extra>",
         "legendgroup": "J.K. Dobbins",
         "marker": {
          "color": "#ab63fa",
          "symbol": "circle"
         },
         "mode": "markers",
         "name": "J.K. Dobbins",
         "orientation": "v",
         "showlegend": true,
         "x": [
          9
         ],
         "xaxis": "x",
         "y": [
          134.0
         ],
         "yaxis": "y",
         "type": "scatter"
        },
        {
         "hovertemplate": "player=Mike Davis<br>td_tot=%{x}<br>rushing_att=%{y}<extra></extra>",
         "legendgroup": "Mike Davis",
         "marker": {
          "color": "#FFA15A",
          "symbol": "circle"
         },
         "mode": "markers",
         "name": "Mike Davis",
         "orientation": "v",
         "showlegend": true,
         "x": [
          8,
          4
         ],
         "xaxis": "x",
         "y": [
          165.0,
          138.0
         ],
         "yaxis": "y",
         "type": "scatter"
        },
        {
         "hovertemplate": "player=D'Andre Swift<br>td_tot=%{x}<br>rushing_att=%{y}<extra></extra>",
         "legendgroup": "D'Andre Swift",
         "marker": {
          "color": "#19d3f3",
          "symbol": "circle"
         },
         "mode": "markers",
         "name": "D'Andre Swift",
         "orientation": "v",
         "showlegend": true,
         "x": [
          10,
          7,
          6
         ],
         "xaxis": "x",
         "y": [
          114.0,
          151.0,
          64.0
         ],
         "yaxis": "y",
         "type": "scatter"
        },
        {
         "hovertemplate": "player=Clyde Edwards-Helaire<br>td_tot=%{x}<br>rushing_att=%{y}<extra></extra>",
         "legendgroup": "Clyde Edwards-Helaire",
         "marker": {
          "color": "#FF6692",
          "symbol": "circle"
         },
         "mode": "markers",
         "name": "Clyde Edwards-Helaire",
         "orientation": "v",
         "showlegend": true,
         "x": [
          5,
          6,
          6
         ],
         "xaxis": "x",
         "y": [
          181.0,
          119.0,
          71.0
         ],
         "yaxis": "y",
         "type": "scatter"
        },
        {
         "hovertemplate": "player=Jeff Wilson<br>td_tot=%{x}<br>rushing_att=%{y}<extra></extra>",
         "legendgroup": "Jeff Wilson",
         "marker": {
          "color": "#B6E880",
          "symbol": "circle"
         },
         "mode": "markers",
         "name": "Jeff Wilson",
         "orientation": "v",
         "showlegend": true,
         "x": [
          10,
          5
         ],
         "xaxis": "x",
         "y": [
          126.0,
          132.0
         ],
         "yaxis": "y",
         "type": "scatter"
        },
        {
         "hovertemplate": "player=Myles Gaskin<br>td_tot=%{x}<br>rushing_att=%{y}<extra></extra>",
         "legendgroup": "Myles Gaskin",
         "marker": {
          "color": "#FF97FF",
          "symbol": "circle"
         },
         "mode": "markers",
         "name": "Myles Gaskin",
         "orientation": "v",
         "showlegend": true,
         "x": [
          5,
          7
         ],
         "xaxis": "x",
         "y": [
          142.0,
          173.0
         ],
         "yaxis": "y",
         "type": "scatter"
        },
        {
         "hovertemplate": "player=Wayne Gallman<br>td_tot=%{x}<br>rushing_att=%{y}<extra></extra>",
         "legendgroup": "Wayne Gallman",
         "marker": {
          "color": "#FECB52",
          "symbol": "circle"
         },
         "mode": "markers",
         "name": "Wayne Gallman",
         "orientation": "v",
         "showlegend": true,
         "x": [
          6
         ],
         "xaxis": "x",
         "y": [
          147.0
         ],
         "yaxis": "y",
         "type": "scatter"
        },
        {
         "hovertemplate": "player=Darrell Henderson<br>td_tot=%{x}<br>rushing_att=%{y}<extra></extra>",
         "legendgroup": "Darrell Henderson",
         "marker": {
          "color": "#636efa",
          "symbol": "circle"
         },
         "mode": "markers",
         "name": "Darrell Henderson",
         "orientation": "v",
         "showlegend": true,
         "x": [
          6,
          8,
          3
         ],
         "xaxis": "x",
         "y": [
          138.0,
          149.0,
          70.0
         ],
         "yaxis": "y",
         "type": "scatter"
        },
        {
         "hovertemplate": "player=Jerick McKinnon<br>td_tot=%{x}<br>rushing_att=%{y}<extra></extra>",
         "legendgroup": "Jerick McKinnon",
         "marker": {
          "color": "#EF553B",
          "symbol": "circle"
         },
         "mode": "markers",
         "name": "Jerick McKinnon",
         "orientation": "v",
         "showlegend": true,
         "x": [
          6,
          2
         ],
         "xaxis": "x",
         "y": [
          81.0,
          47.0
         ],
         "yaxis": "y",
         "type": "scatter"
        },
        {
         "hovertemplate": "player=Cam Akers<br>td_tot=%{x}<br>rushing_att=%{y}<extra></extra>",
         "legendgroup": "Cam Akers",
         "marker": {
          "color": "#00cc96",
          "symbol": "circle"
         },
         "mode": "markers",
         "name": "Cam Akers",
         "orientation": "v",
         "showlegend": true,
         "x": [
          3
         ],
         "xaxis": "x",
         "y": [
          145.0
         ],
         "yaxis": "y",
         "type": "scatter"
        },
        {
         "hovertemplate": "player=Zack Moss<br>td_tot=%{x}<br>rushing_att=%{y}<extra></extra>",
         "legendgroup": "Zack Moss",
         "marker": {
          "color": "#ab63fa",
          "symbol": "circle"
         },
         "mode": "markers",
         "name": "Zack Moss",
         "orientation": "v",
         "showlegend": true,
         "x": [
          5,
          5
         ],
         "xaxis": "x",
         "y": [
          112.0,
          96.0
         ],
         "yaxis": "y",
         "type": "scatter"
        },
        {
         "hovertemplate": "player=Malcolm Brown<br>td_tot=%{x}<br>rushing_att=%{y}<extra></extra>",
         "legendgroup": "Malcolm Brown",
         "marker": {
          "color": "#FFA15A",
          "symbol": "circle"
         },
         "mode": "markers",
         "name": "Malcolm Brown",
         "orientation": "v",
         "showlegend": true,
         "x": [
          5
         ],
         "xaxis": "x",
         "y": [
          101.0
         ],
         "yaxis": "y",
         "type": "scatter"
        },
        {
         "hovertemplate": "player=Damien Harris<br>td_tot=%{x}<br>rushing_att=%{y}<extra></extra>",
         "legendgroup": "Damien Harris",
         "marker": {
          "color": "#19d3f3",
          "symbol": "circle"
         },
         "mode": "markers",
         "name": "Damien Harris",
         "orientation": "v",
         "showlegend": true,
         "x": [
          2,
          15,
          3
         ],
         "xaxis": "x",
         "y": [
          137.0,
          202.0,
          84.0
         ],
         "yaxis": "y",
         "type": "scatter"
        },
        {
         "hovertemplate": "player=Christian McCaffrey<br>td_tot=%{x}<br>rushing_att=%{y}<extra></extra>",
         "legendgroup": "Christian McCaffrey",
         "marker": {
          "color": "#FF6692",
          "symbol": "circle"
         },
         "mode": "markers",
         "name": "Christian McCaffrey",
         "orientation": "v",
         "showlegend": true,
         "x": [
          6,
          2,
          7
         ],
         "xaxis": "x",
         "y": [
          59.0,
          99.0,
          160.0
         ],
         "yaxis": "y",
         "type": "scatter"
        },
        {
         "hovertemplate": "player=Devontae Booker<br>td_tot=%{x}<br>rushing_att=%{y}<extra></extra>",
         "legendgroup": "Devontae Booker",
         "marker": {
          "color": "#B6E880",
          "symbol": "circle"
         },
         "mode": "markers",
         "name": "Devontae Booker",
         "orientation": "v",
         "showlegend": true,
         "x": [
          3,
          3
         ],
         "xaxis": "x",
         "y": [
          93.0,
          145.0
         ],
         "yaxis": "y",
         "type": "scatter"
        },
        {
         "hovertemplate": "player=Kalen Ballage<br>td_tot=%{x}<br>rushing_att=%{y}<extra></extra>",
         "legendgroup": "Kalen Ballage",
         "marker": {
          "color": "#FF97FF",
          "symbol": "circle"
         },
         "mode": "markers",
         "name": "Kalen Ballage",
         "orientation": "v",
         "showlegend": true,
         "x": [
          3
         ],
         "xaxis": "x",
         "y": [
          91.0
         ],
         "yaxis": "y",
         "type": "scatter"
        },
        {
         "hovertemplate": "player=Benny Snell Jr.<br>td_tot=%{x}<br>rushing_att=%{y}<extra></extra>",
         "legendgroup": "Benny Snell Jr.",
         "marker": {
          "color": "#FECB52",
          "symbol": "circle"
         },
         "mode": "markers",
         "name": "Benny Snell Jr.",
         "orientation": "v",
         "showlegend": true,
         "x": [
          4
         ],
         "xaxis": "x",
         "y": [
          111.0
         ],
         "yaxis": "y",
         "type": "scatter"
        },
        {
         "hovertemplate": "player=Kyle Juszczyk*<br>td_tot=%{x}<br>rushing_att=%{y}<extra></extra>",
         "legendgroup": "Kyle Juszczyk*",
         "marker": {
          "color": "#636efa",
          "symbol": "circle"
         },
         "mode": "markers",
         "name": "Kyle Juszczyk*",
         "orientation": "v",
         "showlegend": true,
         "x": [
          6,
          2
         ],
         "xaxis": "x",
         "y": [
          17.0,
          8.0
         ],
         "yaxis": "y",
         "type": "scatter"
        },
        {
         "hovertemplate": "player=Salvon Ahmed<br>td_tot=%{x}<br>rushing_att=%{y}<extra></extra>",
         "legendgroup": "Salvon Ahmed",
         "marker": {
          "color": "#EF553B",
          "symbol": "circle"
         },
         "mode": "markers",
         "name": "Salvon Ahmed",
         "orientation": "v",
         "showlegend": true,
         "x": [
          3
         ],
         "xaxis": "x",
         "y": [
          75.0
         ],
         "yaxis": "y",
         "type": "scatter"
        },
        {
         "hovertemplate": "player=Joshua Kelley<br>td_tot=%{x}<br>rushing_att=%{y}<extra></extra>",
         "legendgroup": "Joshua Kelley",
         "marker": {
          "color": "#00cc96",
          "symbol": "circle"
         },
         "mode": "markers",
         "name": "Joshua Kelley",
         "orientation": "v",
         "showlegend": true,
         "x": [
          2
         ],
         "xaxis": "x",
         "y": [
          111.0
         ],
         "yaxis": "y",
         "type": "scatter"
        },
        {
         "hovertemplate": "player=Samaje Perine<br>td_tot=%{x}<br>rushing_att=%{y}<extra></extra>",
         "legendgroup": "Samaje Perine",
         "marker": {
          "color": "#ab63fa",
          "symbol": "circle"
         },
         "mode": "markers",
         "name": "Samaje Perine",
         "orientation": "v",
         "showlegend": true,
         "x": [
          3,
          2,
          5
         ],
         "xaxis": "x",
         "y": [
          63.0,
          55.0,
          74.0
         ],
         "yaxis": "y",
         "type": "scatter"
        },
        {
         "hovertemplate": "player=Jordan Wilkins<br>td_tot=%{x}<br>rushing_att=%{y}<extra></extra>",
         "legendgroup": "Jordan Wilkins",
         "marker": {
          "color": "#FFA15A",
          "symbol": "circle"
         },
         "mode": "markers",
         "name": "Jordan Wilkins",
         "orientation": "v",
         "showlegend": true,
         "x": [
          1
         ],
         "xaxis": "x",
         "y": [
          84.0
         ],
         "yaxis": "y",
         "type": "scatter"
        },
        {
         "hovertemplate": "player=Justin Jackson<br>td_tot=%{x}<br>rushing_att=%{y}<extra></extra>",
         "legendgroup": "Justin Jackson",
         "marker": {
          "color": "#19d3f3",
          "symbol": "circle"
         },
         "mode": "markers",
         "name": "Justin Jackson",
         "orientation": "v",
         "showlegend": true,
         "x": [
          0,
          2
         ],
         "xaxis": "x",
         "y": [
          59.0,
          68.0
         ],
         "yaxis": "y",
         "type": "scatter"
        },
        {
         "hovertemplate": "player=Jonathan Taylor*+<br>td_tot=%{x}<br>rushing_att=%{y}<extra></extra>",
         "legendgroup": "Jonathan Taylor*+",
         "marker": {
          "color": "#FF6692",
          "symbol": "circle"
         },
         "mode": "markers",
         "name": "Jonathan Taylor*+",
         "orientation": "v",
         "showlegend": true,
         "x": [
          20
         ],
         "xaxis": "x",
         "y": [
          332.0
         ],
         "yaxis": "y",
         "type": "scatter"
        },
        {
         "hovertemplate": "player=Joe Mixon*<br>td_tot=%{x}<br>rushing_att=%{y}<extra></extra>",
         "legendgroup": "Joe Mixon*",
         "marker": {
          "color": "#B6E880",
          "symbol": "circle"
         },
         "mode": "markers",
         "name": "Joe Mixon*",
         "orientation": "v",
         "showlegend": true,
         "x": [
          16
         ],
         "xaxis": "x",
         "y": [
          292.0
         ],
         "yaxis": "y",
         "type": "scatter"
        },
        {
         "hovertemplate": "player=Najee Harris*<br>td_tot=%{x}<br>rushing_att=%{y}<extra></extra>",
         "legendgroup": "Najee Harris*",
         "marker": {
          "color": "#FF97FF",
          "symbol": "circle"
         },
         "mode": "markers",
         "name": "Najee Harris*",
         "orientation": "v",
         "showlegend": true,
         "x": [
          10
         ],
         "xaxis": "x",
         "y": [
          307.0
         ],
         "yaxis": "y",
         "type": "scatter"
        },
        {
         "hovertemplate": "player=James Conner*<br>td_tot=%{x}<br>rushing_att=%{y}<extra></extra>",
         "legendgroup": "James Conner*",
         "marker": {
          "color": "#FECB52",
          "symbol": "circle"
         },
         "mode": "markers",
         "name": "James Conner*",
         "orientation": "v",
         "showlegend": true,
         "x": [
          18
         ],
         "xaxis": "x",
         "y": [
          202.0
         ],
         "yaxis": "y",
         "type": "scatter"
        },
        {
         "hovertemplate": "player=Cordarrelle Patterson<br>td_tot=%{x}<br>rushing_att=%{y}<extra></extra>",
         "legendgroup": "Cordarrelle Patterson",
         "marker": {
          "color": "#636efa",
          "symbol": "circle"
         },
         "mode": "markers",
         "name": "Cordarrelle Patterson",
         "orientation": "v",
         "showlegend": true,
         "x": [
          11,
          6
         ],
         "xaxis": "x",
         "y": [
          153.0,
          108.0
         ],
         "yaxis": "y",
         "type": "scatter"
        },
        {
         "hovertemplate": "player=Derrick Henry<br>td_tot=%{x}<br>rushing_att=%{y}<extra></extra>",
         "legendgroup": "Derrick Henry",
         "marker": {
          "color": "#EF553B",
          "symbol": "circle"
         },
         "mode": "markers",
         "name": "Derrick Henry",
         "orientation": "v",
         "showlegend": true,
         "x": [
          10,
          10
         ],
         "xaxis": "x",
         "y": [
          219.0,
          258.0
         ],
         "yaxis": "y",
         "type": "scatter"
        },
        {
         "hovertemplate": "player=Javonte Williams<br>td_tot=%{x}<br>rushing_att=%{y}<extra></extra>",
         "legendgroup": "Javonte Williams",
         "marker": {
          "color": "#00cc96",
          "symbol": "circle"
         },
         "mode": "markers",
         "name": "Javonte Williams",
         "orientation": "v",
         "showlegend": true,
         "x": [
          7
         ],
         "xaxis": "x",
         "y": [
          203.0
         ],
         "yaxis": "y",
         "type": "scatter"
        },
        {
         "hovertemplate": "player=AJ Dillon<br>td_tot=%{x}<br>rushing_att=%{y}<extra></extra>",
         "legendgroup": "AJ Dillon",
         "marker": {
          "color": "#ab63fa",
          "symbol": "circle"
         },
         "mode": "markers",
         "name": "AJ Dillon",
         "orientation": "v",
         "showlegend": true,
         "x": [
          7,
          3
         ],
         "xaxis": "x",
         "y": [
          187.0,
          143.0
         ],
         "yaxis": "y",
         "type": "scatter"
        },
        {
         "hovertemplate": "player=Elijah Mitchell<br>td_tot=%{x}<br>rushing_att=%{y}<extra></extra>",
         "legendgroup": "Elijah Mitchell",
         "marker": {
          "color": "#FFA15A",
          "symbol": "circle"
         },
         "mode": "markers",
         "name": "Elijah Mitchell",
         "orientation": "v",
         "showlegend": true,
         "x": [
          6
         ],
         "xaxis": "x",
         "y": [
          207.0
         ],
         "yaxis": "y",
         "type": "scatter"
        },
        {
         "hovertemplate": "player=Michael Carter<br>td_tot=%{x}<br>rushing_att=%{y}<extra></extra>",
         "legendgroup": "Michael Carter",
         "marker": {
          "color": "#19d3f3",
          "symbol": "circle"
         },
         "mode": "markers",
         "name": "Michael Carter",
         "orientation": "v",
         "showlegend": true,
         "x": [
          4,
          3
         ],
         "xaxis": "x",
         "y": [
          147.0,
          99.0
         ],
         "yaxis": "y",
         "type": "scatter"
        },
        {
         "hovertemplate": "player=Chuba Hubbard<br>td_tot=%{x}<br>rushing_att=%{y}<extra></extra>",
         "legendgroup": "Chuba Hubbard",
         "marker": {
          "color": "#FF6692",
          "symbol": "circle"
         },
         "mode": "markers",
         "name": "Chuba Hubbard",
         "orientation": "v",
         "showlegend": true,
         "x": [
          6
         ],
         "xaxis": "x",
         "y": [
          172.0
         ],
         "yaxis": "y",
         "type": "scatter"
        },
        {
         "hovertemplate": "player=Rhamondre Stevenson<br>td_tot=%{x}<br>rushing_att=%{y}<extra></extra>",
         "legendgroup": "Rhamondre Stevenson",
         "marker": {
          "color": "#B6E880",
          "symbol": "circle"
         },
         "mode": "markers",
         "name": "Rhamondre Stevenson",
         "orientation": "v",
         "showlegend": true,
         "x": [
          5,
          5
         ],
         "xaxis": "x",
         "y": [
          133.0,
          161.0
         ],
         "yaxis": "y",
         "type": "scatter"
        },
        {
         "hovertemplate": "player=Kenneth Gainwell<br>td_tot=%{x}<br>rushing_att=%{y}<extra></extra>",
         "legendgroup": "Kenneth Gainwell",
         "marker": {
          "color": "#FF97FF",
          "symbol": "circle"
         },
         "mode": "markers",
         "name": "Kenneth Gainwell",
         "orientation": "v",
         "showlegend": true,
         "x": [
          6,
          4
         ],
         "xaxis": "x",
         "y": [
          68.0,
          41.0
         ],
         "yaxis": "y",
         "type": "scatter"
        },
        {
         "hovertemplate": "player=D'Onta Foreman<br>td_tot=%{x}<br>rushing_att=%{y}<extra></extra>",
         "legendgroup": "D'Onta Foreman",
         "marker": {
          "color": "#FECB52",
          "symbol": "circle"
         },
         "mode": "markers",
         "name": "D'Onta Foreman",
         "orientation": "v",
         "showlegend": true,
         "x": [
          3,
          4
         ],
         "xaxis": "x",
         "y": [
          133.0,
          126.0
         ],
         "yaxis": "y",
         "type": "scatter"
        },
        {
         "hovertemplate": "player=D'Ernest Johnson<br>td_tot=%{x}<br>rushing_att=%{y}<extra></extra>",
         "legendgroup": "D'Ernest Johnson",
         "marker": {
          "color": "#636efa",
          "symbol": "circle"
         },
         "mode": "markers",
         "name": "D'Ernest Johnson",
         "orientation": "v",
         "showlegend": true,
         "x": [
          3
         ],
         "xaxis": "x",
         "y": [
          100.0
         ],
         "yaxis": "y",
         "type": "scatter"
        },
        {
         "hovertemplate": "player=Brandon Bolden<br>td_tot=%{x}<br>rushing_att=%{y}<extra></extra>",
         "legendgroup": "Brandon Bolden",
         "marker": {
          "color": "#EF553B",
          "symbol": "circle"
         },
         "mode": "markers",
         "name": "Brandon Bolden",
         "orientation": "v",
         "showlegend": true,
         "x": [
          3
         ],
         "xaxis": "x",
         "y": [
          44.0
         ],
         "yaxis": "y",
         "type": "scatter"
        },
        {
         "hovertemplate": "player=Mark Ingram<br>td_tot=%{x}<br>rushing_att=%{y}<extra></extra>",
         "legendgroup": "Mark Ingram",
         "marker": {
          "color": "#00cc96",
          "symbol": "circle"
         },
         "mode": "markers",
         "name": "Mark Ingram",
         "orientation": "v",
         "showlegend": true,
         "x": [
          2
         ],
         "xaxis": "x",
         "y": [
          160.0
         ],
         "yaxis": "y",
         "type": "scatter"
        },
        {
         "hovertemplate": "player=Khalil Herbert<br>td_tot=%{x}<br>rushing_att=%{y}<extra></extra>",
         "legendgroup": "Khalil Herbert",
         "marker": {
          "color": "#ab63fa",
          "symbol": "circle"
         },
         "mode": "markers",
         "name": "Khalil Herbert",
         "orientation": "v",
         "showlegend": true,
         "x": [
          2,
          5
         ],
         "xaxis": "x",
         "y": [
          103.0,
          108.0
         ],
         "yaxis": "y",
         "type": "scatter"
        },
        {
         "hovertemplate": "player=Alex Collins<br>td_tot=%{x}<br>rushing_att=%{y}<extra></extra>",
         "legendgroup": "Alex Collins",
         "marker": {
          "color": "#FFA15A",
          "symbol": "circle"
         },
         "mode": "markers",
         "name": "Alex Collins",
         "orientation": "v",
         "showlegend": true,
         "x": [
          2
         ],
         "xaxis": "x",
         "y": [
          108.0
         ],
         "yaxis": "y",
         "type": "scatter"
        },
        {
         "hovertemplate": "player=Dontrell Hilliard<br>td_tot=%{x}<br>rushing_att=%{y}<extra></extra>",
         "legendgroup": "Dontrell Hilliard",
         "marker": {
          "color": "#19d3f3",
          "symbol": "circle"
         },
         "mode": "markers",
         "name": "Dontrell Hilliard",
         "orientation": "v",
         "showlegend": true,
         "x": [
          2,
          4
         ],
         "xaxis": "x",
         "y": [
          56.0,
          22.0
         ],
         "yaxis": "y",
         "type": "scatter"
        },
        {
         "hovertemplate": "player=Ameer Abdullah<br>td_tot=%{x}<br>rushing_att=%{y}<extra></extra>",
         "legendgroup": "Ameer Abdullah",
         "marker": {
          "color": "#FF6692",
          "symbol": "circle"
         },
         "mode": "markers",
         "name": "Ameer Abdullah",
         "orientation": "v",
         "showlegend": true,
         "x": [
          1
         ],
         "xaxis": "x",
         "y": [
          51.0
         ],
         "yaxis": "y",
         "type": "scatter"
        },
        {
         "hovertemplate": "player=Travis Homer<br>td_tot=%{x}<br>rushing_att=%{y}<extra></extra>",
         "legendgroup": "Travis Homer",
         "marker": {
          "color": "#B6E880",
          "symbol": "circle"
         },
         "mode": "markers",
         "name": "Travis Homer",
         "orientation": "v",
         "showlegend": true,
         "x": [
          2
         ],
         "xaxis": "x",
         "y": [
          21.0
         ],
         "yaxis": "y",
         "type": "scatter"
        },
        {
         "hovertemplate": "player=Jeremy McNichols<br>td_tot=%{x}<br>rushing_att=%{y}<extra></extra>",
         "legendgroup": "Jeremy McNichols",
         "marker": {
          "color": "#FF97FF",
          "symbol": "circle"
         },
         "mode": "markers",
         "name": "Jeremy McNichols",
         "orientation": "v",
         "showlegend": true,
         "x": [
          1
         ],
         "xaxis": "x",
         "y": [
          41.0
         ],
         "yaxis": "y",
         "type": "scatter"
        },
        {
         "hovertemplate": "player=DeeJay Dallas<br>td_tot=%{x}<br>rushing_att=%{y}<extra></extra>",
         "legendgroup": "DeeJay Dallas",
         "marker": {
          "color": "#FECB52",
          "symbol": "circle"
         },
         "mode": "markers",
         "name": "DeeJay Dallas",
         "orientation": "v",
         "showlegend": true,
         "x": [
          2
         ],
         "xaxis": "x",
         "y": [
          33.0
         ],
         "yaxis": "y",
         "type": "scatter"
        },
        {
         "hovertemplate": "player=Nick Chubb<br>td_tot=%{x}<br>rushing_att=%{y}<extra></extra>",
         "legendgroup": "Nick Chubb",
         "marker": {
          "color": "#636efa",
          "symbol": "circle"
         },
         "mode": "markers",
         "name": "Nick Chubb",
         "orientation": "v",
         "showlegend": true,
         "x": [
          12
         ],
         "xaxis": "x",
         "y": [
          217.0
         ],
         "yaxis": "y",
         "type": "scatter"
        },
        {
         "hovertemplate": "player=Dalvin Cook<br>td_tot=%{x}<br>rushing_att=%{y}<extra></extra>",
         "legendgroup": "Dalvin Cook",
         "marker": {
          "color": "#EF553B",
          "symbol": "circle"
         },
         "mode": "markers",
         "name": "Dalvin Cook",
         "orientation": "v",
         "showlegend": true,
         "x": [
          8
         ],
         "xaxis": "x",
         "y": [
          198.0
         ],
         "yaxis": "y",
         "type": "scatter"
        },
        {
         "hovertemplate": "player=Kenneth Walker III<br>td_tot=%{x}<br>rushing_att=%{y}<extra></extra>",
         "legendgroup": "Kenneth Walker III",
         "marker": {
          "color": "#00cc96",
          "symbol": "circle"
         },
         "mode": "markers",
         "name": "Kenneth Walker III",
         "orientation": "v",
         "showlegend": true,
         "x": [
          9
         ],
         "xaxis": "x",
         "y": [
          138.0
         ],
         "yaxis": "y",
         "type": "scatter"
        },
        {
         "hovertemplate": "player=Dameon Pierce<br>td_tot=%{x}<br>rushing_att=%{y}<extra></extra>",
         "legendgroup": "Dameon Pierce",
         "marker": {
          "color": "#ab63fa",
          "symbol": "circle"
         },
         "mode": "markers",
         "name": "Dameon Pierce",
         "orientation": "v",
         "showlegend": true,
         "x": [
          4
         ],
         "xaxis": "x",
         "y": [
          198.0
         ],
         "yaxis": "y",
         "type": "scatter"
        },
        {
         "hovertemplate": "player=Travis Etienne<br>td_tot=%{x}<br>rushing_att=%{y}<extra></extra>",
         "legendgroup": "Travis Etienne",
         "marker": {
          "color": "#FFA15A",
          "symbol": "circle"
         },
         "mode": "markers",
         "name": "Travis Etienne",
         "orientation": "v",
         "showlegend": true,
         "x": [
          4
         ],
         "xaxis": "x",
         "y": [
          146.0
         ],
         "yaxis": "y",
         "type": "scatter"
        },
        {
         "hovertemplate": "player=Najee Harris<br>td_tot=%{x}<br>rushing_att=%{y}<extra></extra>",
         "legendgroup": "Najee Harris",
         "marker": {
          "color": "#19d3f3",
          "symbol": "circle"
         },
         "mode": "markers",
         "name": "Najee Harris",
         "orientation": "v",
         "showlegend": true,
         "x": [
          6
         ],
         "xaxis": "x",
         "y": [
          175.0
         ],
         "yaxis": "y",
         "type": "scatter"
        },
        {
         "hovertemplate": "player=Alvin Kamara<br>td_tot=%{x}<br>rushing_att=%{y}<extra></extra>",
         "legendgroup": "Alvin Kamara",
         "marker": {
          "color": "#FF6692",
          "symbol": "circle"
         },
         "mode": "markers",
         "name": "Alvin Kamara",
         "orientation": "v",
         "showlegend": true,
         "x": [
          3
         ],
         "xaxis": "x",
         "y": [
          131.0
         ],
         "yaxis": "y",
         "type": "scatter"
        },
        {
         "hovertemplate": "player=Breece Hall<br>td_tot=%{x}<br>rushing_att=%{y}<extra></extra>",
         "legendgroup": "Breece Hall",
         "marker": {
          "color": "#B6E880",
          "symbol": "circle"
         },
         "mode": "markers",
         "name": "Breece Hall",
         "orientation": "v",
         "showlegend": true,
         "x": [
          5
         ],
         "xaxis": "x",
         "y": [
          80.0
         ],
         "yaxis": "y",
         "type": "scatter"
        },
        {
         "hovertemplate": "player=Tyler Allgeier<br>td_tot=%{x}<br>rushing_att=%{y}<extra></extra>",
         "legendgroup": "Tyler Allgeier",
         "marker": {
          "color": "#FF97FF",
          "symbol": "circle"
         },
         "mode": "markers",
         "name": "Tyler Allgeier",
         "orientation": "v",
         "showlegend": true,
         "x": [
          2
         ],
         "xaxis": "x",
         "y": [
          131.0
         ],
         "yaxis": "y",
         "type": "scatter"
        },
        {
         "hovertemplate": "player=Brian Robinson Jr.<br>td_tot=%{x}<br>rushing_att=%{y}<extra></extra>",
         "legendgroup": "Brian Robinson Jr.",
         "marker": {
          "color": "#FECB52",
          "symbol": "circle"
         },
         "mode": "markers",
         "name": "Brian Robinson Jr.",
         "orientation": "v",
         "showlegend": true,
         "x": [
          3
         ],
         "xaxis": "x",
         "y": [
          147.0
         ],
         "yaxis": "y",
         "type": "scatter"
        },
        {
         "hovertemplate": "player=Isiah Pacheco<br>td_tot=%{x}<br>rushing_att=%{y}<extra></extra>",
         "legendgroup": "Isiah Pacheco",
         "marker": {
          "color": "#636efa",
          "symbol": "circle"
         },
         "mode": "markers",
         "name": "Isiah Pacheco",
         "orientation": "v",
         "showlegend": true,
         "x": [
          3
         ],
         "xaxis": "x",
         "y": [
          111.0
         ],
         "yaxis": "y",
         "type": "scatter"
        },
        {
         "hovertemplate": "player=Eno Benjamin<br>td_tot=%{x}<br>rushing_att=%{y}<extra></extra>",
         "legendgroup": "Eno Benjamin",
         "marker": {
          "color": "#EF553B",
          "symbol": "circle"
         },
         "mode": "markers",
         "name": "Eno Benjamin",
         "orientation": "v",
         "showlegend": true,
         "x": [
          2
         ],
         "xaxis": "x",
         "y": [
          70.0
         ],
         "yaxis": "y",
         "type": "scatter"
        },
        {
         "hovertemplate": "player=James Cook<br>td_tot=%{x}<br>rushing_att=%{y}<extra></extra>",
         "legendgroup": "James Cook",
         "marker": {
          "color": "#00cc96",
          "symbol": "circle"
         },
         "mode": "markers",
         "name": "James Cook",
         "orientation": "v",
         "showlegend": true,
         "x": [
          1
         ],
         "xaxis": "x",
         "y": [
          60.0
         ],
         "yaxis": "y",
         "type": "scatter"
        },
        {
         "hovertemplate": "player=Rachaad White<br>td_tot=%{x}<br>rushing_att=%{y}<extra></extra>",
         "legendgroup": "Rachaad White",
         "marker": {
          "color": "#ab63fa",
          "symbol": "circle"
         },
         "mode": "markers",
         "name": "Rachaad White",
         "orientation": "v",
         "showlegend": true,
         "x": [
          1
         ],
         "xaxis": "x",
         "y": [
          74.0
         ],
         "yaxis": "y",
         "type": "scatter"
        }
       ],
       "layout": {
        "template": {
         "data": {
          "histogram2dcontour": [
           {
            "type": "histogram2dcontour",
            "colorbar": {
             "outlinewidth": 0,
             "ticks": ""
            },
            "colorscale": [
             [
              0.0,
              "#0d0887"
             ],
             [
              0.1111111111111111,
              "#46039f"
             ],
             [
              0.2222222222222222,
              "#7201a8"
             ],
             [
              0.3333333333333333,
              "#9c179e"
             ],
             [
              0.4444444444444444,
              "#bd3786"
             ],
             [
              0.5555555555555556,
              "#d8576b"
             ],
             [
              0.6666666666666666,
              "#ed7953"
             ],
             [
              0.7777777777777778,
              "#fb9f3a"
             ],
             [
              0.8888888888888888,
              "#fdca26"
             ],
             [
              1.0,
              "#f0f921"
             ]
            ]
           }
          ],
          "choropleth": [
           {
            "type": "choropleth",
            "colorbar": {
             "outlinewidth": 0,
             "ticks": ""
            }
           }
          ],
          "histogram2d": [
           {
            "type": "histogram2d",
            "colorbar": {
             "outlinewidth": 0,
             "ticks": ""
            },
            "colorscale": [
             [
              0.0,
              "#0d0887"
             ],
             [
              0.1111111111111111,
              "#46039f"
             ],
             [
              0.2222222222222222,
              "#7201a8"
             ],
             [
              0.3333333333333333,
              "#9c179e"
             ],
             [
              0.4444444444444444,
              "#bd3786"
             ],
             [
              0.5555555555555556,
              "#d8576b"
             ],
             [
              0.6666666666666666,
              "#ed7953"
             ],
             [
              0.7777777777777778,
              "#fb9f3a"
             ],
             [
              0.8888888888888888,
              "#fdca26"
             ],
             [
              1.0,
              "#f0f921"
             ]
            ]
           }
          ],
          "heatmap": [
           {
            "type": "heatmap",
            "colorbar": {
             "outlinewidth": 0,
             "ticks": ""
            },
            "colorscale": [
             [
              0.0,
              "#0d0887"
             ],
             [
              0.1111111111111111,
              "#46039f"
             ],
             [
              0.2222222222222222,
              "#7201a8"
             ],
             [
              0.3333333333333333,
              "#9c179e"
             ],
             [
              0.4444444444444444,
              "#bd3786"
             ],
             [
              0.5555555555555556,
              "#d8576b"
             ],
             [
              0.6666666666666666,
              "#ed7953"
             ],
             [
              0.7777777777777778,
              "#fb9f3a"
             ],
             [
              0.8888888888888888,
              "#fdca26"
             ],
             [
              1.0,
              "#f0f921"
             ]
            ]
           }
          ],
          "heatmapgl": [
           {
            "type": "heatmapgl",
            "colorbar": {
             "outlinewidth": 0,
             "ticks": ""
            },
            "colorscale": [
             [
              0.0,
              "#0d0887"
             ],
             [
              0.1111111111111111,
              "#46039f"
             ],
             [
              0.2222222222222222,
              "#7201a8"
             ],
             [
              0.3333333333333333,
              "#9c179e"
             ],
             [
              0.4444444444444444,
              "#bd3786"
             ],
             [
              0.5555555555555556,
              "#d8576b"
             ],
             [
              0.6666666666666666,
              "#ed7953"
             ],
             [
              0.7777777777777778,
              "#fb9f3a"
             ],
             [
              0.8888888888888888,
              "#fdca26"
             ],
             [
              1.0,
              "#f0f921"
             ]
            ]
           }
          ],
          "contourcarpet": [
           {
            "type": "contourcarpet",
            "colorbar": {
             "outlinewidth": 0,
             "ticks": ""
            }
           }
          ],
          "contour": [
           {
            "type": "contour",
            "colorbar": {
             "outlinewidth": 0,
             "ticks": ""
            },
            "colorscale": [
             [
              0.0,
              "#0d0887"
             ],
             [
              0.1111111111111111,
              "#46039f"
             ],
             [
              0.2222222222222222,
              "#7201a8"
             ],
             [
              0.3333333333333333,
              "#9c179e"
             ],
             [
              0.4444444444444444,
              "#bd3786"
             ],
             [
              0.5555555555555556,
              "#d8576b"
             ],
             [
              0.6666666666666666,
              "#ed7953"
             ],
             [
              0.7777777777777778,
              "#fb9f3a"
             ],
             [
              0.8888888888888888,
              "#fdca26"
             ],
             [
              1.0,
              "#f0f921"
             ]
            ]
           }
          ],
          "surface": [
           {
            "type": "surface",
            "colorbar": {
             "outlinewidth": 0,
             "ticks": ""
            },
            "colorscale": [
             [
              0.0,
              "#0d0887"
             ],
             [
              0.1111111111111111,
              "#46039f"
             ],
             [
              0.2222222222222222,
              "#7201a8"
             ],
             [
              0.3333333333333333,
              "#9c179e"
             ],
             [
              0.4444444444444444,
              "#bd3786"
             ],
             [
              0.5555555555555556,
              "#d8576b"
             ],
             [
              0.6666666666666666,
              "#ed7953"
             ],
             [
              0.7777777777777778,
              "#fb9f3a"
             ],
             [
              0.8888888888888888,
              "#fdca26"
             ],
             [
              1.0,
              "#f0f921"
             ]
            ]
           }
          ],
          "mesh3d": [
           {
            "type": "mesh3d",
            "colorbar": {
             "outlinewidth": 0,
             "ticks": ""
            }
           }
          ],
          "scatter": [
           {
            "marker": {
             "line": {
              "color": "#283442"
             }
            },
            "type": "scatter"
           }
          ],
          "parcoords": [
           {
            "type": "parcoords",
            "line": {
             "colorbar": {
              "outlinewidth": 0,
              "ticks": ""
             }
            }
           }
          ],
          "scatterpolargl": [
           {
            "type": "scatterpolargl",
            "marker": {
             "colorbar": {
              "outlinewidth": 0,
              "ticks": ""
             }
            }
           }
          ],
          "bar": [
           {
            "error_x": {
             "color": "#f2f5fa"
            },
            "error_y": {
             "color": "#f2f5fa"
            },
            "marker": {
             "line": {
              "color": "rgb(17,17,17)",
              "width": 0.5
             },
             "pattern": {
              "fillmode": "overlay",
              "size": 10,
              "solidity": 0.2
             }
            },
            "type": "bar"
           }
          ],
          "scattergeo": [
           {
            "type": "scattergeo",
            "marker": {
             "colorbar": {
              "outlinewidth": 0,
              "ticks": ""
             }
            }
           }
          ],
          "scatterpolar": [
           {
            "type": "scatterpolar",
            "marker": {
             "colorbar": {
              "outlinewidth": 0,
              "ticks": ""
             }
            }
           }
          ],
          "histogram": [
           {
            "marker": {
             "pattern": {
              "fillmode": "overlay",
              "size": 10,
              "solidity": 0.2
             }
            },
            "type": "histogram"
           }
          ],
          "scattergl": [
           {
            "marker": {
             "line": {
              "color": "#283442"
             }
            },
            "type": "scattergl"
           }
          ],
          "scatter3d": [
           {
            "type": "scatter3d",
            "line": {
             "colorbar": {
              "outlinewidth": 0,
              "ticks": ""
             }
            },
            "marker": {
             "colorbar": {
              "outlinewidth": 0,
              "ticks": ""
             }
            }
           }
          ],
          "scattermapbox": [
           {
            "type": "scattermapbox",
            "marker": {
             "colorbar": {
              "outlinewidth": 0,
              "ticks": ""
             }
            }
           }
          ],
          "scatterternary": [
           {
            "type": "scatterternary",
            "marker": {
             "colorbar": {
              "outlinewidth": 0,
              "ticks": ""
             }
            }
           }
          ],
          "scattercarpet": [
           {
            "type": "scattercarpet",
            "marker": {
             "colorbar": {
              "outlinewidth": 0,
              "ticks": ""
             }
            }
           }
          ],
          "carpet": [
           {
            "aaxis": {
             "endlinecolor": "#A2B1C6",
             "gridcolor": "#506784",
             "linecolor": "#506784",
             "minorgridcolor": "#506784",
             "startlinecolor": "#A2B1C6"
            },
            "baxis": {
             "endlinecolor": "#A2B1C6",
             "gridcolor": "#506784",
             "linecolor": "#506784",
             "minorgridcolor": "#506784",
             "startlinecolor": "#A2B1C6"
            },
            "type": "carpet"
           }
          ],
          "table": [
           {
            "cells": {
             "fill": {
              "color": "#506784"
             },
             "line": {
              "color": "rgb(17,17,17)"
             }
            },
            "header": {
             "fill": {
              "color": "#2a3f5f"
             },
             "line": {
              "color": "rgb(17,17,17)"
             }
            },
            "type": "table"
           }
          ],
          "barpolar": [
           {
            "marker": {
             "line": {
              "color": "rgb(17,17,17)",
              "width": 0.5
             },
             "pattern": {
              "fillmode": "overlay",
              "size": 10,
              "solidity": 0.2
             }
            },
            "type": "barpolar"
           }
          ],
          "pie": [
           {
            "automargin": true,
            "type": "pie"
           }
          ]
         },
         "layout": {
          "autotypenumbers": "strict",
          "colorway": [
           "#636efa",
           "#EF553B",
           "#00cc96",
           "#ab63fa",
           "#FFA15A",
           "#19d3f3",
           "#FF6692",
           "#B6E880",
           "#FF97FF",
           "#FECB52"
          ],
          "font": {
           "color": "#f2f5fa"
          },
          "hovermode": "closest",
          "hoverlabel": {
           "align": "left"
          },
          "paper_bgcolor": "rgb(17,17,17)",
          "plot_bgcolor": "rgb(17,17,17)",
          "polar": {
           "bgcolor": "rgb(17,17,17)",
           "angularaxis": {
            "gridcolor": "#506784",
            "linecolor": "#506784",
            "ticks": ""
           },
           "radialaxis": {
            "gridcolor": "#506784",
            "linecolor": "#506784",
            "ticks": ""
           }
          },
          "ternary": {
           "bgcolor": "rgb(17,17,17)",
           "aaxis": {
            "gridcolor": "#506784",
            "linecolor": "#506784",
            "ticks": ""
           },
           "baxis": {
            "gridcolor": "#506784",
            "linecolor": "#506784",
            "ticks": ""
           },
           "caxis": {
            "gridcolor": "#506784",
            "linecolor": "#506784",
            "ticks": ""
           }
          },
          "coloraxis": {
           "colorbar": {
            "outlinewidth": 0,
            "ticks": ""
           }
          },
          "colorscale": {
           "sequential": [
            [
             0.0,
             "#0d0887"
            ],
            [
             0.1111111111111111,
             "#46039f"
            ],
            [
             0.2222222222222222,
             "#7201a8"
            ],
            [
             0.3333333333333333,
             "#9c179e"
            ],
            [
             0.4444444444444444,
             "#bd3786"
            ],
            [
             0.5555555555555556,
             "#d8576b"
            ],
            [
             0.6666666666666666,
             "#ed7953"
            ],
            [
             0.7777777777777778,
             "#fb9f3a"
            ],
            [
             0.8888888888888888,
             "#fdca26"
            ],
            [
             1.0,
             "#f0f921"
            ]
           ],
           "sequentialminus": [
            [
             0.0,
             "#0d0887"
            ],
            [
             0.1111111111111111,
             "#46039f"
            ],
            [
             0.2222222222222222,
             "#7201a8"
            ],
            [
             0.3333333333333333,
             "#9c179e"
            ],
            [
             0.4444444444444444,
             "#bd3786"
            ],
            [
             0.5555555555555556,
             "#d8576b"
            ],
            [
             0.6666666666666666,
             "#ed7953"
            ],
            [
             0.7777777777777778,
             "#fb9f3a"
            ],
            [
             0.8888888888888888,
             "#fdca26"
            ],
            [
             1.0,
             "#f0f921"
            ]
           ],
           "diverging": [
            [
             0,
             "#8e0152"
            ],
            [
             0.1,
             "#c51b7d"
            ],
            [
             0.2,
             "#de77ae"
            ],
            [
             0.3,
             "#f1b6da"
            ],
            [
             0.4,
             "#fde0ef"
            ],
            [
             0.5,
             "#f7f7f7"
            ],
            [
             0.6,
             "#e6f5d0"
            ],
            [
             0.7,
             "#b8e186"
            ],
            [
             0.8,
             "#7fbc41"
            ],
            [
             0.9,
             "#4d9221"
            ],
            [
             1,
             "#276419"
            ]
           ]
          },
          "xaxis": {
           "gridcolor": "#283442",
           "linecolor": "#506784",
           "ticks": "",
           "title": {
            "standoff": 15
           },
           "zerolinecolor": "#283442",
           "automargin": true,
           "zerolinewidth": 2
          },
          "yaxis": {
           "gridcolor": "#283442",
           "linecolor": "#506784",
           "ticks": "",
           "title": {
            "standoff": 15
           },
           "zerolinecolor": "#283442",
           "automargin": true,
           "zerolinewidth": 2
          },
          "scene": {
           "xaxis": {
            "backgroundcolor": "rgb(17,17,17)",
            "gridcolor": "#506784",
            "linecolor": "#506784",
            "showbackground": true,
            "ticks": "",
            "zerolinecolor": "#C8D4E3",
            "gridwidth": 2
           },
           "yaxis": {
            "backgroundcolor": "rgb(17,17,17)",
            "gridcolor": "#506784",
            "linecolor": "#506784",
            "showbackground": true,
            "ticks": "",
            "zerolinecolor": "#C8D4E3",
            "gridwidth": 2
           },
           "zaxis": {
            "backgroundcolor": "rgb(17,17,17)",
            "gridcolor": "#506784",
            "linecolor": "#506784",
            "showbackground": true,
            "ticks": "",
            "zerolinecolor": "#C8D4E3",
            "gridwidth": 2
           }
          },
          "shapedefaults": {
           "line": {
            "color": "#f2f5fa"
           }
          },
          "annotationdefaults": {
           "arrowcolor": "#f2f5fa",
           "arrowhead": 0,
           "arrowwidth": 1
          },
          "geo": {
           "bgcolor": "rgb(17,17,17)",
           "landcolor": "rgb(17,17,17)",
           "subunitcolor": "#506784",
           "showland": true,
           "showlakes": true,
           "lakecolor": "rgb(17,17,17)"
          },
          "title": {
           "x": 0.05
          },
          "updatemenudefaults": {
           "bgcolor": "#506784",
           "borderwidth": 0
          },
          "sliderdefaults": {
           "bgcolor": "#C8D4E3",
           "borderwidth": 1,
           "bordercolor": "rgb(17,17,17)",
           "tickwidth": 0
          },
          "mapbox": {
           "style": "dark"
          }
         }
        },
        "xaxis": {
         "anchor": "y",
         "domain": [
          0.0,
          1.0
         ],
         "title": {
          "text": "td_tot"
         }
        },
        "yaxis": {
         "anchor": "x",
         "domain": [
          0.0,
          1.0
         ],
         "title": {
          "text": "rushing_att"
         }
        },
        "legend": {
         "title": {
          "text": "player"
         },
         "tracegroupgap": 0
        },
        "margin": {
         "t": 60
        }
       },
       "config": {
        "plotlyServerURL": "https://plot.ly"
       }
      },
      "text/html": "<div>                            <div id=\"93d896c2-cce3-454c-ba90-15ac808057cc\" class=\"plotly-graph-div\" style=\"height:525px; width:100%;\"></div>            <script type=\"text/javascript\">                require([\"plotly\"], function(Plotly) {                    window.PLOTLYENV=window.PLOTLYENV || {};                                    if (document.getElementById(\"93d896c2-cce3-454c-ba90-15ac808057cc\")) {                    Plotly.newPlot(                        \"93d896c2-cce3-454c-ba90-15ac808057cc\",                        [{\"hovertemplate\":\"player=Christian McCaffrey*+<br>td_tot=%{x}<br>rushing_att=%{y}<extra></extra>\",\"legendgroup\":\"Christian McCaffrey*+\",\"marker\":{\"color\":\"#636efa\",\"symbol\":\"circle\"},\"mode\":\"markers\",\"name\":\"Christian McCaffrey*+\",\"orientation\":\"v\",\"showlegend\":true,\"x\":[19],\"xaxis\":\"x\",\"y\":[287.0],\"yaxis\":\"y\",\"type\":\"scatter\"},{\"hovertemplate\":\"player=Derrick Henry *<br>td_tot=%{x}<br>rushing_att=%{y}<extra></extra>\",\"legendgroup\":\"Derrick Henry *\",\"marker\":{\"color\":\"#EF553B\",\"symbol\":\"circle\"},\"mode\":\"markers\",\"name\":\"Derrick Henry *\",\"orientation\":\"v\",\"showlegend\":true,\"x\":[18],\"xaxis\":\"x\",\"y\":[303.0],\"yaxis\":\"y\",\"type\":\"scatter\"},{\"hovertemplate\":\"player=Aaron Jones<br>td_tot=%{x}<br>rushing_att=%{y}<extra></extra>\",\"legendgroup\":\"Aaron Jones\",\"marker\":{\"color\":\"#00cc96\",\"symbol\":\"circle\"},\"mode\":\"markers\",\"name\":\"Aaron Jones\",\"orientation\":\"v\",\"showlegend\":true,\"x\":[19,10,6],\"xaxis\":\"x\",\"y\":[236.0,171.0,164.0],\"yaxis\":\"y\",\"type\":\"scatter\"},{\"hovertemplate\":\"player=Ezekiel Elliott*<br>td_tot=%{x}<br>rushing_att=%{y}<extra></extra>\",\"legendgroup\":\"Ezekiel Elliott*\",\"marker\":{\"color\":\"#ab63fa\",\"symbol\":\"circle\"},\"mode\":\"markers\",\"name\":\"Ezekiel Elliott*\",\"orientation\":\"v\",\"showlegend\":true,\"x\":[14],\"xaxis\":\"x\",\"y\":[301.0],\"yaxis\":\"y\",\"type\":\"scatter\"},{\"hovertemplate\":\"player=Dalvin Cook*<br>td_tot=%{x}<br>rushing_att=%{y}<extra></extra>\",\"legendgroup\":\"Dalvin Cook*\",\"marker\":{\"color\":\"#FFA15A\",\"symbol\":\"circle\"},\"mode\":\"markers\",\"name\":\"Dalvin Cook*\",\"orientation\":\"v\",\"showlegend\":true,\"x\":[13,17,6],\"xaxis\":\"x\",\"y\":[250.0,312.0,249.0],\"yaxis\":\"y\",\"type\":\"scatter\"},{\"hovertemplate\":\"player=Nick Chubb*<br>td_tot=%{x}<br>rushing_att=%{y}<extra></extra>\",\"legendgroup\":\"Nick Chubb*\",\"marker\":{\"color\":\"#19d3f3\",\"symbol\":\"circle\"},\"mode\":\"markers\",\"name\":\"Nick Chubb*\",\"orientation\":\"v\",\"showlegend\":true,\"x\":[8,12,9],\"xaxis\":\"x\",\"y\":[298.0,190.0,228.0],\"yaxis\":\"y\",\"type\":\"scatter\"},{\"hovertemplate\":\"player=Austin Ekeler<br>td_tot=%{x}<br>rushing_att=%{y}<extra></extra>\",\"legendgroup\":\"Austin Ekeler\",\"marker\":{\"color\":\"#FF6692\",\"symbol\":\"circle\"},\"mode\":\"markers\",\"name\":\"Austin Ekeler\",\"orientation\":\"v\",\"showlegend\":true,\"x\":[11,3,20,12],\"xaxis\":\"x\",\"y\":[132.0,116.0,206.0,138.0],\"yaxis\":\"y\",\"type\":\"scatter\"},{\"hovertemplate\":\"player=Mark Ingram*<br>td_tot=%{x}<br>rushing_att=%{y}<extra></extra>\",\"legendgroup\":\"Mark Ingram*\",\"marker\":{\"color\":\"#B6E880\",\"symbol\":\"circle\"},\"mode\":\"markers\",\"name\":\"Mark Ingram*\",\"orientation\":\"v\",\"showlegend\":true,\"x\":[15],\"xaxis\":\"x\",\"y\":[202.0],\"yaxis\":\"y\",\"type\":\"scatter\"},{\"hovertemplate\":\"player=Chris Carson<br>td_tot=%{x}<br>rushing_att=%{y}<extra></extra>\",\"legendgroup\":\"Chris Carson\",\"marker\":{\"color\":\"#FF97FF\",\"symbol\":\"circle\"},\"mode\":\"markers\",\"name\":\"Chris Carson\",\"orientation\":\"v\",\"showlegend\":true,\"x\":[9,9],\"xaxis\":\"x\",\"y\":[278.0,141.0],\"yaxis\":\"y\",\"type\":\"scatter\"},{\"hovertemplate\":\"player=Saquon Barkley<br>td_tot=%{x}<br>rushing_att=%{y}<extra></extra>\",\"legendgroup\":\"Saquon Barkley\",\"marker\":{\"color\":\"#FECB52\",\"symbol\":\"circle\"},\"mode\":\"markers\",\"name\":\"Saquon Barkley\",\"orientation\":\"v\",\"showlegend\":true,\"x\":[8,4,8],\"xaxis\":\"x\",\"y\":[217.0,162.0,242.0],\"yaxis\":\"y\",\"type\":\"scatter\"},{\"hovertemplate\":\"player=Joe Mixon<br>td_tot=%{x}<br>rushing_att=%{y}<extra></extra>\",\"legendgroup\":\"Joe Mixon\",\"marker\":{\"color\":\"#636efa\",\"symbol\":\"circle\"},\"mode\":\"markers\",\"name\":\"Joe Mixon\",\"orientation\":\"v\",\"showlegend\":true,\"x\":[8,4,8],\"xaxis\":\"x\",\"y\":[278.0,119.0,158.0],\"yaxis\":\"y\",\"type\":\"scatter\"},{\"hovertemplate\":\"player=Todd Gurley<br>td_tot=%{x}<br>rushing_att=%{y}<extra></extra>\",\"legendgroup\":\"Todd Gurley\",\"marker\":{\"color\":\"#EF553B\",\"symbol\":\"circle\"},\"mode\":\"markers\",\"name\":\"Todd Gurley\",\"orientation\":\"v\",\"showlegend\":true,\"x\":[14,9],\"xaxis\":\"x\",\"y\":[223.0,195.0],\"yaxis\":\"y\",\"type\":\"scatter\"},{\"hovertemplate\":\"player=Leonard Fournette<br>td_tot=%{x}<br>rushing_att=%{y}<extra></extra>\",\"legendgroup\":\"Leonard Fournette\",\"marker\":{\"color\":\"#00cc96\",\"symbol\":\"circle\"},\"mode\":\"markers\",\"name\":\"Leonard Fournette\",\"orientation\":\"v\",\"showlegend\":true,\"x\":[3,6,10,6],\"xaxis\":\"x\",\"y\":[265.0,97.0,180.0,135.0],\"yaxis\":\"y\",\"type\":\"scatter\"},{\"hovertemplate\":\"player=Josh Jacobs<br>td_tot=%{x}<br>rushing_att=%{y}<extra></extra>\",\"legendgroup\":\"Josh Jacobs\",\"marker\":{\"color\":\"#ab63fa\",\"symbol\":\"circle\"},\"mode\":\"markers\",\"name\":\"Josh Jacobs\",\"orientation\":\"v\",\"showlegend\":true,\"x\":[7,9,10],\"xaxis\":\"x\",\"y\":[242.0,217.0,242.0],\"yaxis\":\"y\",\"type\":\"scatter\"},{\"hovertemplate\":\"player=Miles Sanders<br>td_tot=%{x}<br>rushing_att=%{y}<extra></extra>\",\"legendgroup\":\"Miles Sanders\",\"marker\":{\"color\":\"#FFA15A\",\"symbol\":\"circle\"},\"mode\":\"markers\",\"name\":\"Miles Sanders\",\"orientation\":\"v\",\"showlegend\":true,\"x\":[6,6,0,9],\"xaxis\":\"x\",\"y\":[179.0,164.0,137.0,187.0],\"yaxis\":\"y\",\"type\":\"scatter\"},{\"hovertemplate\":\"player=Alvin Kamara*<br>td_tot=%{x}<br>rushing_att=%{y}<extra></extra>\",\"legendgroup\":\"Alvin Kamara*\",\"marker\":{\"color\":\"#19d3f3\",\"symbol\":\"circle\"},\"mode\":\"markers\",\"name\":\"Alvin Kamara*\",\"orientation\":\"v\",\"showlegend\":true,\"x\":[6,21,9],\"xaxis\":\"x\",\"y\":[171.0,187.0,240.0],\"yaxis\":\"y\",\"type\":\"scatter\"},{\"hovertemplate\":\"player=Marlon Mack<br>td_tot=%{x}<br>rushing_att=%{y}<extra></extra>\",\"legendgroup\":\"Marlon Mack\",\"marker\":{\"color\":\"#FF6692\",\"symbol\":\"circle\"},\"mode\":\"markers\",\"name\":\"Marlon Mack\",\"orientation\":\"v\",\"showlegend\":true,\"x\":[8],\"xaxis\":\"x\",\"y\":[247.0],\"yaxis\":\"y\",\"type\":\"scatter\"},{\"hovertemplate\":\"player=Kenyan Drake<br>td_tot=%{x}<br>rushing_att=%{y}<extra></extra>\",\"legendgroup\":\"Kenyan Drake\",\"marker\":{\"color\":\"#B6E880\",\"symbol\":\"circle\"},\"mode\":\"markers\",\"name\":\"Kenyan Drake\",\"orientation\":\"v\",\"showlegend\":true,\"x\":[8,10,3,4],\"xaxis\":\"x\",\"y\":[170.0,239.0,63.0,92.0],\"yaxis\":\"y\",\"type\":\"scatter\"},{\"hovertemplate\":\"player=Phillip Lindsay<br>td_tot=%{x}<br>rushing_att=%{y}<extra></extra>\",\"legendgroup\":\"Phillip Lindsay\",\"marker\":{\"color\":\"#FF97FF\",\"symbol\":\"circle\"},\"mode\":\"markers\",\"name\":\"Phillip Lindsay\",\"orientation\":\"v\",\"showlegend\":true,\"x\":[7,1],\"xaxis\":\"x\",\"y\":[224.0,118.0],\"yaxis\":\"y\",\"type\":\"scatter\"},{\"hovertemplate\":\"player=Raheem Mostert<br>td_tot=%{x}<br>rushing_att=%{y}<extra></extra>\",\"legendgroup\":\"Raheem Mostert\",\"marker\":{\"color\":\"#FECB52\",\"symbol\":\"circle\"},\"mode\":\"markers\",\"name\":\"Raheem Mostert\",\"orientation\":\"v\",\"showlegend\":true,\"x\":[10,3,4],\"xaxis\":\"x\",\"y\":[137.0,104.0,125.0],\"yaxis\":\"y\",\"type\":\"scatter\"},{\"hovertemplate\":\"player=Le'Veon Bell<br>td_tot=%{x}<br>rushing_att=%{y}<extra></extra>\",\"legendgroup\":\"Le'Veon Bell\",\"marker\":{\"color\":\"#636efa\",\"symbol\":\"circle\"},\"mode\":\"markers\",\"name\":\"Le'Veon Bell\",\"orientation\":\"v\",\"showlegend\":true,\"x\":[4,2],\"xaxis\":\"x\",\"y\":[245.0,82.0],\"yaxis\":\"y\",\"type\":\"scatter\"},{\"hovertemplate\":\"player=David Montgomery<br>td_tot=%{x}<br>rushing_att=%{y}<extra></extra>\",\"legendgroup\":\"David Montgomery\",\"marker\":{\"color\":\"#EF553B\",\"symbol\":\"circle\"},\"mode\":\"markers\",\"name\":\"David Montgomery\",\"orientation\":\"v\",\"showlegend\":true,\"x\":[7,10,7,4],\"xaxis\":\"x\",\"y\":[242.0,247.0,225.0,160.0],\"yaxis\":\"y\",\"type\":\"scatter\"},{\"hovertemplate\":\"player=Carlos Hyde<br>td_tot=%{x}<br>rushing_att=%{y}<extra></extra>\",\"legendgroup\":\"Carlos Hyde\",\"marker\":{\"color\":\"#00cc96\",\"symbol\":\"circle\"},\"mode\":\"markers\",\"name\":\"Carlos Hyde\",\"orientation\":\"v\",\"showlegend\":true,\"x\":[6,4],\"xaxis\":\"x\",\"y\":[245.0,81.0],\"yaxis\":\"y\",\"type\":\"scatter\"},{\"hovertemplate\":\"player=Sony Michel<br>td_tot=%{x}<br>rushing_att=%{y}<extra></extra>\",\"legendgroup\":\"Sony Michel\",\"marker\":{\"color\":\"#ab63fa\",\"symbol\":\"circle\"},\"mode\":\"markers\",\"name\":\"Sony Michel\",\"orientation\":\"v\",\"showlegend\":true,\"x\":[7,2,5],\"xaxis\":\"x\",\"y\":[247.0,79.0,208.0],\"yaxis\":\"y\",\"type\":\"scatter\"},{\"hovertemplate\":\"player=Devonta Freeman<br>td_tot=%{x}<br>rushing_att=%{y}<extra></extra>\",\"legendgroup\":\"Devonta Freeman\",\"marker\":{\"color\":\"#FFA15A\",\"symbol\":\"circle\"},\"mode\":\"markers\",\"name\":\"Devonta Freeman\",\"orientation\":\"v\",\"showlegend\":true,\"x\":[6,6],\"xaxis\":\"x\",\"y\":[184.0,133.0],\"yaxis\":\"y\",\"type\":\"scatter\"},{\"hovertemplate\":\"player=Melvin Gordon<br>td_tot=%{x}<br>rushing_att=%{y}<extra></extra>\",\"legendgroup\":\"Melvin Gordon\",\"marker\":{\"color\":\"#19d3f3\",\"symbol\":\"circle\"},\"mode\":\"markers\",\"name\":\"Melvin Gordon\",\"orientation\":\"v\",\"showlegend\":true,\"x\":[9,10,10,2],\"xaxis\":\"x\",\"y\":[162.0,215.0,203.0,90.0],\"yaxis\":\"y\",\"type\":\"scatter\"},{\"hovertemplate\":\"player=Ronald Jones II<br>td_tot=%{x}<br>rushing_att=%{y}<extra></extra>\",\"legendgroup\":\"Ronald Jones II\",\"marker\":{\"color\":\"#FF6692\",\"symbol\":\"circle\"},\"mode\":\"markers\",\"name\":\"Ronald Jones II\",\"orientation\":\"v\",\"showlegend\":true,\"x\":[6,8,4],\"xaxis\":\"x\",\"y\":[172.0,192.0,101.0],\"yaxis\":\"y\",\"type\":\"scatter\"},{\"hovertemplate\":\"player=Adrian Peterson<br>td_tot=%{x}<br>rushing_att=%{y}<extra></extra>\",\"legendgroup\":\"Adrian Peterson\",\"marker\":{\"color\":\"#B6E880\",\"symbol\":\"circle\"},\"mode\":\"markers\",\"name\":\"Adrian Peterson\",\"orientation\":\"v\",\"showlegend\":true,\"x\":[5,7],\"xaxis\":\"x\",\"y\":[211.0,156.0],\"yaxis\":\"y\",\"type\":\"scatter\"},{\"hovertemplate\":\"player=James White<br>td_tot=%{x}<br>rushing_att=%{y}<extra></extra>\",\"legendgroup\":\"James White\",\"marker\":{\"color\":\"#FF97FF\",\"symbol\":\"circle\"},\"mode\":\"markers\",\"name\":\"James White\",\"orientation\":\"v\",\"showlegend\":true,\"x\":[6,3],\"xaxis\":\"x\",\"y\":[67.0,35.0],\"yaxis\":\"y\",\"type\":\"scatter\"},{\"hovertemplate\":\"player=Latavius Murray<br>td_tot=%{x}<br>rushing_att=%{y}<extra></extra>\",\"legendgroup\":\"Latavius Murray\",\"marker\":{\"color\":\"#FECB52\",\"symbol\":\"circle\"},\"mode\":\"markers\",\"name\":\"Latavius Murray\",\"orientation\":\"v\",\"showlegend\":true,\"x\":[6,5,6,4],\"xaxis\":\"x\",\"y\":[146.0,146.0,119.0,104.0],\"yaxis\":\"y\",\"type\":\"scatter\"},{\"hovertemplate\":\"player=Devin Singletary<br>td_tot=%{x}<br>rushing_att=%{y}<extra></extra>\",\"legendgroup\":\"Devin Singletary\",\"marker\":{\"color\":\"#636efa\",\"symbol\":\"circle\"},\"mode\":\"markers\",\"name\":\"Devin Singletary\",\"orientation\":\"v\",\"showlegend\":true,\"x\":[4,2,8,5],\"xaxis\":\"x\",\"y\":[151.0,156.0,188.0,137.0],\"yaxis\":\"y\",\"type\":\"scatter\"},{\"hovertemplate\":\"player=Tevin Coleman<br>td_tot=%{x}<br>rushing_att=%{y}<extra></extra>\",\"legendgroup\":\"Tevin Coleman\",\"marker\":{\"color\":\"#EF553B\",\"symbol\":\"circle\"},\"mode\":\"markers\",\"name\":\"Tevin Coleman\",\"orientation\":\"v\",\"showlegend\":true,\"x\":[7],\"xaxis\":\"x\",\"y\":[137.0],\"yaxis\":\"y\",\"type\":\"scatter\"},{\"hovertemplate\":\"player=James Conner<br>td_tot=%{x}<br>rushing_att=%{y}<extra></extra>\",\"legendgroup\":\"James Conner\",\"marker\":{\"color\":\"#00cc96\",\"symbol\":\"circle\"},\"mode\":\"markers\",\"name\":\"James Conner\",\"orientation\":\"v\",\"showlegend\":true,\"x\":[7,6,5],\"xaxis\":\"x\",\"y\":[116.0,169.0,121.0],\"yaxis\":\"y\",\"type\":\"scatter\"},{\"hovertemplate\":\"player=Damien Williams<br>td_tot=%{x}<br>rushing_att=%{y}<extra></extra>\",\"legendgroup\":\"Damien Williams\",\"marker\":{\"color\":\"#ab63fa\",\"symbol\":\"circle\"},\"mode\":\"markers\",\"name\":\"Damien Williams\",\"orientation\":\"v\",\"showlegend\":true,\"x\":[7,3],\"xaxis\":\"x\",\"y\":[111.0,40.0],\"yaxis\":\"y\",\"type\":\"scatter\"},{\"hovertemplate\":\"player=Duke Johnson<br>td_tot=%{x}<br>rushing_att=%{y}<extra></extra>\",\"legendgroup\":\"Duke Johnson\",\"marker\":{\"color\":\"#FFA15A\",\"symbol\":\"circle\"},\"mode\":\"markers\",\"name\":\"Duke Johnson\",\"orientation\":\"v\",\"showlegend\":true,\"x\":[5,2],\"xaxis\":\"x\",\"y\":[83.0,77.0],\"yaxis\":\"y\",\"type\":\"scatter\"},{\"hovertemplate\":\"player=Jamaal Williams<br>td_tot=%{x}<br>rushing_att=%{y}<extra></extra>\",\"legendgroup\":\"Jamaal Williams\",\"marker\":{\"color\":\"#19d3f3\",\"symbol\":\"circle\"},\"mode\":\"markers\",\"name\":\"Jamaal Williams\",\"orientation\":\"v\",\"showlegend\":true,\"x\":[6,3,3,14],\"xaxis\":\"x\",\"y\":[107.0,119.0,153.0,188.0],\"yaxis\":\"y\",\"type\":\"scatter\"},{\"hovertemplate\":\"player=David Johnson<br>td_tot=%{x}<br>rushing_att=%{y}<extra></extra>\",\"legendgroup\":\"David Johnson\",\"marker\":{\"color\":\"#FF6692\",\"symbol\":\"circle\"},\"mode\":\"markers\",\"name\":\"David Johnson\",\"orientation\":\"v\",\"showlegend\":true,\"x\":[6,8,1],\"xaxis\":\"x\",\"y\":[94.0,147.0,67.0],\"yaxis\":\"y\",\"type\":\"scatter\"},{\"hovertemplate\":\"player=Peyton Barber<br>td_tot=%{x}<br>rushing_att=%{y}<extra></extra>\",\"legendgroup\":\"Peyton Barber\",\"marker\":{\"color\":\"#B6E880\",\"symbol\":\"circle\"},\"mode\":\"markers\",\"name\":\"Peyton Barber\",\"orientation\":\"v\",\"showlegend\":true,\"x\":[7],\"xaxis\":\"x\",\"y\":[154.0],\"yaxis\":\"y\",\"type\":\"scatter\"},{\"hovertemplate\":\"player=Jordan Howard<br>td_tot=%{x}<br>rushing_att=%{y}<extra></extra>\",\"legendgroup\":\"Jordan Howard\",\"marker\":{\"color\":\"#FF97FF\",\"symbol\":\"circle\"},\"mode\":\"markers\",\"name\":\"Jordan Howard\",\"orientation\":\"v\",\"showlegend\":true,\"x\":[7,3],\"xaxis\":\"x\",\"y\":[119.0,86.0],\"yaxis\":\"y\",\"type\":\"scatter\"},{\"hovertemplate\":\"player=Royce Freeman<br>td_tot=%{x}<br>rushing_att=%{y}<extra></extra>\",\"legendgroup\":\"Royce Freeman\",\"marker\":{\"color\":\"#FECB52\",\"symbol\":\"circle\"},\"mode\":\"markers\",\"name\":\"Royce Freeman\",\"orientation\":\"v\",\"showlegend\":true,\"x\":[4],\"xaxis\":\"x\",\"y\":[132.0],\"yaxis\":\"y\",\"type\":\"scatter\"},{\"hovertemplate\":\"player=LeSean McCoy<br>td_tot=%{x}<br>rushing_att=%{y}<extra></extra>\",\"legendgroup\":\"LeSean McCoy\",\"marker\":{\"color\":\"#636efa\",\"symbol\":\"circle\"},\"mode\":\"markers\",\"name\":\"LeSean McCoy\",\"orientation\":\"v\",\"showlegend\":true,\"x\":[5],\"xaxis\":\"x\",\"y\":[101.0],\"yaxis\":\"y\",\"type\":\"scatter\"},{\"hovertemplate\":\"player=Gus Edwards<br>td_tot=%{x}<br>rushing_att=%{y}<extra></extra>\",\"legendgroup\":\"Gus Edwards\",\"marker\":{\"color\":\"#EF553B\",\"symbol\":\"circle\"},\"mode\":\"markers\",\"name\":\"Gus Edwards\",\"orientation\":\"v\",\"showlegend\":true,\"x\":[2,6],\"xaxis\":\"x\",\"y\":[133.0,144.0],\"yaxis\":\"y\",\"type\":\"scatter\"},{\"hovertemplate\":\"player=DeAndre Washington<br>td_tot=%{x}<br>rushing_att=%{y}<extra></extra>\",\"legendgroup\":\"DeAndre Washington\",\"marker\":{\"color\":\"#00cc96\",\"symbol\":\"circle\"},\"mode\":\"markers\",\"name\":\"DeAndre Washington\",\"orientation\":\"v\",\"showlegend\":true,\"x\":[3],\"xaxis\":\"x\",\"y\":[108.0],\"yaxis\":\"y\",\"type\":\"scatter\"},{\"hovertemplate\":\"player=Tarik Cohen<br>td_tot=%{x}<br>rushing_att=%{y}<extra></extra>\",\"legendgroup\":\"Tarik Cohen\",\"marker\":{\"color\":\"#ab63fa\",\"symbol\":\"circle\"},\"mode\":\"markers\",\"name\":\"Tarik Cohen\",\"orientation\":\"v\",\"showlegend\":true,\"x\":[3],\"xaxis\":\"x\",\"y\":[64.0],\"yaxis\":\"y\",\"type\":\"scatter\"},{\"hovertemplate\":\"player=Matt Breida<br>td_tot=%{x}<br>rushing_att=%{y}<extra></extra>\",\"legendgroup\":\"Matt Breida\",\"marker\":{\"color\":\"#FFA15A\",\"symbol\":\"circle\"},\"mode\":\"markers\",\"name\":\"Matt Breida\",\"orientation\":\"v\",\"showlegend\":true,\"x\":[2],\"xaxis\":\"x\",\"y\":[123.0],\"yaxis\":\"y\",\"type\":\"scatter\"},{\"hovertemplate\":\"player=Frank Gore<br>td_tot=%{x}<br>rushing_att=%{y}<extra></extra>\",\"legendgroup\":\"Frank Gore\",\"marker\":{\"color\":\"#19d3f3\",\"symbol\":\"circle\"},\"mode\":\"markers\",\"name\":\"Frank Gore\",\"orientation\":\"v\",\"showlegend\":true,\"x\":[2,2],\"xaxis\":\"x\",\"y\":[166.0,187.0],\"yaxis\":\"y\",\"type\":\"scatter\"},{\"hovertemplate\":\"player=Kerryon Johnson<br>td_tot=%{x}<br>rushing_att=%{y}<extra></extra>\",\"legendgroup\":\"Kerryon Johnson\",\"marker\":{\"color\":\"#FF6692\",\"symbol\":\"circle\"},\"mode\":\"markers\",\"name\":\"Kerryon Johnson\",\"orientation\":\"v\",\"showlegend\":true,\"x\":[4,3],\"xaxis\":\"x\",\"y\":[113.0,52.0],\"yaxis\":\"y\",\"type\":\"scatter\"},{\"hovertemplate\":\"player=Rex Burkhead<br>td_tot=%{x}<br>rushing_att=%{y}<extra></extra>\",\"legendgroup\":\"Rex Burkhead\",\"marker\":{\"color\":\"#B6E880\",\"symbol\":\"circle\"},\"mode\":\"markers\",\"name\":\"Rex Burkhead\",\"orientation\":\"v\",\"showlegend\":true,\"x\":[3,6,3],\"xaxis\":\"x\",\"y\":[65.0,67.0,122.0],\"yaxis\":\"y\",\"type\":\"scatter\"},{\"hovertemplate\":\"player=Nyheim Hines<br>td_tot=%{x}<br>rushing_att=%{y}<extra></extra>\",\"legendgroup\":\"Nyheim Hines\",\"marker\":{\"color\":\"#FF97FF\",\"symbol\":\"circle\"},\"mode\":\"markers\",\"name\":\"Nyheim Hines\",\"orientation\":\"v\",\"showlegend\":true,\"x\":[4,7,3],\"xaxis\":\"x\",\"y\":[52.0,89.0,56.0],\"yaxis\":\"y\",\"type\":\"scatter\"},{\"hovertemplate\":\"player=Tony Pollard<br>td_tot=%{x}<br>rushing_att=%{y}<extra></extra>\",\"legendgroup\":\"Tony Pollard\",\"marker\":{\"color\":\"#FECB52\",\"symbol\":\"circle\"},\"mode\":\"markers\",\"name\":\"Tony Pollard\",\"orientation\":\"v\",\"showlegend\":true,\"x\":[3,5,3,10],\"xaxis\":\"x\",\"y\":[86.0,101.0,130.0,148.0],\"yaxis\":\"y\",\"type\":\"scatter\"},{\"hovertemplate\":\"player=Boston Scott<br>td_tot=%{x}<br>rushing_att=%{y}<extra></extra>\",\"legendgroup\":\"Boston Scott\",\"marker\":{\"color\":\"#636efa\",\"symbol\":\"circle\"},\"mode\":\"markers\",\"name\":\"Boston Scott\",\"orientation\":\"v\",\"showlegend\":true,\"x\":[5,2,7],\"xaxis\":\"x\",\"y\":[61.0,80.0,87.0],\"yaxis\":\"y\",\"type\":\"scatter\"},{\"hovertemplate\":\"player=Chase Edmonds<br>td_tot=%{x}<br>rushing_att=%{y}<extra></extra>\",\"legendgroup\":\"Chase Edmonds\",\"marker\":{\"color\":\"#EF553B\",\"symbol\":\"circle\"},\"mode\":\"markers\",\"name\":\"Chase Edmonds\",\"orientation\":\"v\",\"showlegend\":true,\"x\":[5,5,2],\"xaxis\":\"x\",\"y\":[60.0,97.0,116.0],\"yaxis\":\"y\",\"type\":\"scatter\"},{\"hovertemplate\":\"player=Rashaad Penny<br>td_tot=%{x}<br>rushing_att=%{y}<extra></extra>\",\"legendgroup\":\"Rashaad Penny\",\"marker\":{\"color\":\"#00cc96\",\"symbol\":\"circle\"},\"mode\":\"markers\",\"name\":\"Rashaad Penny\",\"orientation\":\"v\",\"showlegend\":true,\"x\":[4,6],\"xaxis\":\"x\",\"y\":[65.0,119.0],\"yaxis\":\"y\",\"type\":\"scatter\"},{\"hovertemplate\":\"player=Kareem Hunt<br>td_tot=%{x}<br>rushing_att=%{y}<extra></extra>\",\"legendgroup\":\"Kareem Hunt\",\"marker\":{\"color\":\"#ab63fa\",\"symbol\":\"circle\"},\"mode\":\"markers\",\"name\":\"Kareem Hunt\",\"orientation\":\"v\",\"showlegend\":true,\"x\":[3,11,5,4],\"xaxis\":\"x\",\"y\":[43.0,198.0,78.0,102.0],\"yaxis\":\"y\",\"type\":\"scatter\"},{\"hovertemplate\":\"player=Alexander Mattison<br>td_tot=%{x}<br>rushing_att=%{y}<extra></extra>\",\"legendgroup\":\"Alexander Mattison\",\"marker\":{\"color\":\"#FFA15A\",\"symbol\":\"circle\"},\"mode\":\"markers\",\"name\":\"Alexander Mattison\",\"orientation\":\"v\",\"showlegend\":true,\"x\":[1,3,4,4],\"xaxis\":\"x\",\"y\":[100.0,96.0,134.0,48.0],\"yaxis\":\"y\",\"type\":\"scatter\"},{\"hovertemplate\":\"player=Brian Hill<br>td_tot=%{x}<br>rushing_att=%{y}<extra></extra>\",\"legendgroup\":\"Brian Hill\",\"marker\":{\"color\":\"#19d3f3\",\"symbol\":\"circle\"},\"mode\":\"markers\",\"name\":\"Brian Hill\",\"orientation\":\"v\",\"showlegend\":true,\"x\":[3,1],\"xaxis\":\"x\",\"y\":[78.0,100.0],\"yaxis\":\"y\",\"type\":\"scatter\"},{\"hovertemplate\":\"player=Jaylen Samuels<br>td_tot=%{x}<br>rushing_att=%{y}<extra></extra>\",\"legendgroup\":\"Jaylen Samuels\",\"marker\":{\"color\":\"#FF6692\",\"symbol\":\"circle\"},\"mode\":\"markers\",\"name\":\"Jaylen Samuels\",\"orientation\":\"v\",\"showlegend\":true,\"x\":[2],\"xaxis\":\"x\",\"y\":[66.0],\"yaxis\":\"y\",\"type\":\"scatter\"},{\"hovertemplate\":\"player=Darrel Williams<br>td_tot=%{x}<br>rushing_att=%{y}<extra></extra>\",\"legendgroup\":\"Darrel Williams\",\"marker\":{\"color\":\"#B6E880\",\"symbol\":\"circle\"},\"mode\":\"markers\",\"name\":\"Darrel Williams\",\"orientation\":\"v\",\"showlegend\":true,\"x\":[4,8],\"xaxis\":\"x\",\"y\":[41.0,144.0],\"yaxis\":\"y\",\"type\":\"scatter\"},{\"hovertemplate\":\"player=Chris Thompson<br>td_tot=%{x}<br>rushing_att=%{y}<extra></extra>\",\"legendgroup\":\"Chris Thompson\",\"marker\":{\"color\":\"#FF97FF\",\"symbol\":\"circle\"},\"mode\":\"markers\",\"name\":\"Chris Thompson\",\"orientation\":\"v\",\"showlegend\":true,\"x\":[0],\"xaxis\":\"x\",\"y\":[37.0],\"yaxis\":\"y\",\"type\":\"scatter\"},{\"hovertemplate\":\"player=J.D. McKissic<br>td_tot=%{x}<br>rushing_att=%{y}<extra></extra>\",\"legendgroup\":\"J.D. McKissic\",\"marker\":{\"color\":\"#FECB52\",\"symbol\":\"circle\"},\"mode\":\"markers\",\"name\":\"J.D. McKissic\",\"orientation\":\"v\",\"showlegend\":true,\"x\":[1,3,4],\"xaxis\":\"x\",\"y\":[38.0,85.0,48.0],\"yaxis\":\"y\",\"type\":\"scatter\"},{\"hovertemplate\":\"player=Jalen Richard<br>td_tot=%{x}<br>rushing_att=%{y}<extra></extra>\",\"legendgroup\":\"Jalen Richard\",\"marker\":{\"color\":\"#636efa\",\"symbol\":\"circle\"},\"mode\":\"markers\",\"name\":\"Jalen Richard\",\"orientation\":\"v\",\"showlegend\":true,\"x\":[0],\"xaxis\":\"x\",\"y\":[39.0],\"yaxis\":\"y\",\"type\":\"scatter\"},{\"hovertemplate\":\"player=Patrick Laird<br>td_tot=%{x}<br>rushing_att=%{y}<extra></extra>\",\"legendgroup\":\"Patrick Laird\",\"marker\":{\"color\":\"#EF553B\",\"symbol\":\"circle\"},\"mode\":\"markers\",\"name\":\"Patrick Laird\",\"orientation\":\"v\",\"showlegend\":true,\"x\":[1],\"xaxis\":\"x\",\"y\":[62.0],\"yaxis\":\"y\",\"type\":\"scatter\"},{\"hovertemplate\":\"player=Dion Lewis<br>td_tot=%{x}<br>rushing_att=%{y}<extra></extra>\",\"legendgroup\":\"Dion Lewis\",\"marker\":{\"color\":\"#00cc96\",\"symbol\":\"circle\"},\"mode\":\"markers\",\"name\":\"Dion Lewis\",\"orientation\":\"v\",\"showlegend\":true,\"x\":[1],\"xaxis\":\"x\",\"y\":[54.0],\"yaxis\":\"y\",\"type\":\"scatter\"},{\"hovertemplate\":\"player=Dare Ogunbowale<br>td_tot=%{x}<br>rushing_att=%{y}<extra></extra>\",\"legendgroup\":\"Dare Ogunbowale\",\"marker\":{\"color\":\"#ab63fa\",\"symbol\":\"circle\"},\"mode\":\"markers\",\"name\":\"Dare Ogunbowale\",\"orientation\":\"v\",\"showlegend\":true,\"x\":[2],\"xaxis\":\"x\",\"y\":[11.0],\"yaxis\":\"y\",\"type\":\"scatter\"},{\"hovertemplate\":\"player=Giovani Bernard<br>td_tot=%{x}<br>rushing_att=%{y}<extra></extra>\",\"legendgroup\":\"Giovani Bernard\",\"marker\":{\"color\":\"#FFA15A\",\"symbol\":\"circle\"},\"mode\":\"markers\",\"name\":\"Giovani Bernard\",\"orientation\":\"v\",\"showlegend\":true,\"x\":[0,6],\"xaxis\":\"x\",\"y\":[53.0,124.0],\"yaxis\":\"y\",\"type\":\"scatter\"},{\"hovertemplate\":\"player=Ty Johnson<br>td_tot=%{x}<br>rushing_att=%{y}<extra></extra>\",\"legendgroup\":\"Ty Johnson\",\"marker\":{\"color\":\"#19d3f3\",\"symbol\":\"circle\"},\"mode\":\"markers\",\"name\":\"Ty Johnson\",\"orientation\":\"v\",\"showlegend\":true,\"x\":[0,2,4],\"xaxis\":\"x\",\"y\":[63.0,54.0,61.0],\"yaxis\":\"y\",\"type\":\"scatter\"},{\"hovertemplate\":\"player=Derrick Henry *+<br>td_tot=%{x}<br>rushing_att=%{y}<extra></extra>\",\"legendgroup\":\"Derrick Henry *+\",\"marker\":{\"color\":\"#FF6692\",\"symbol\":\"circle\"},\"mode\":\"markers\",\"name\":\"Derrick Henry *+\",\"orientation\":\"v\",\"showlegend\":true,\"x\":[17],\"xaxis\":\"x\",\"y\":[378.0],\"yaxis\":\"y\",\"type\":\"scatter\"},{\"hovertemplate\":\"player=Jonathan Taylor<br>td_tot=%{x}<br>rushing_att=%{y}<extra></extra>\",\"legendgroup\":\"Jonathan Taylor\",\"marker\":{\"color\":\"#B6E880\",\"symbol\":\"circle\"},\"mode\":\"markers\",\"name\":\"Jonathan Taylor\",\"orientation\":\"v\",\"showlegend\":true,\"x\":[12,4],\"xaxis\":\"x\",\"y\":[232.0,192.0],\"yaxis\":\"y\",\"type\":\"scatter\"},{\"hovertemplate\":\"player=Aaron Jones*<br>td_tot=%{x}<br>rushing_att=%{y}<extra></extra>\",\"legendgroup\":\"Aaron Jones*\",\"marker\":{\"color\":\"#FF97FF\",\"symbol\":\"circle\"},\"mode\":\"markers\",\"name\":\"Aaron Jones*\",\"orientation\":\"v\",\"showlegend\":true,\"x\":[11],\"xaxis\":\"x\",\"y\":[201.0],\"yaxis\":\"y\",\"type\":\"scatter\"},{\"hovertemplate\":\"player=James Robinson<br>td_tot=%{x}<br>rushing_att=%{y}<extra></extra>\",\"legendgroup\":\"James Robinson\",\"marker\":{\"color\":\"#FECB52\",\"symbol\":\"circle\"},\"mode\":\"markers\",\"name\":\"James Robinson\",\"orientation\":\"v\",\"showlegend\":true,\"x\":[10,8,5],\"xaxis\":\"x\",\"y\":[240.0,164.0,110.0],\"yaxis\":\"y\",\"type\":\"scatter\"},{\"hovertemplate\":\"player=Josh Jacobs*<br>td_tot=%{x}<br>rushing_att=%{y}<extra></extra>\",\"legendgroup\":\"Josh Jacobs*\",\"marker\":{\"color\":\"#636efa\",\"symbol\":\"circle\"},\"mode\":\"markers\",\"name\":\"Josh Jacobs*\",\"orientation\":\"v\",\"showlegend\":true,\"x\":[12],\"xaxis\":\"x\",\"y\":[273.0],\"yaxis\":\"y\",\"type\":\"scatter\"},{\"hovertemplate\":\"player=Ezekiel Elliott<br>td_tot=%{x}<br>rushing_att=%{y}<extra></extra>\",\"legendgroup\":\"Ezekiel Elliott\",\"marker\":{\"color\":\"#EF553B\",\"symbol\":\"circle\"},\"mode\":\"markers\",\"name\":\"Ezekiel Elliott\",\"orientation\":\"v\",\"showlegend\":true,\"x\":[8,12,8],\"xaxis\":\"x\",\"y\":[244.0,237.0,157.0],\"yaxis\":\"y\",\"type\":\"scatter\"},{\"hovertemplate\":\"player=Antonio Gibson<br>td_tot=%{x}<br>rushing_att=%{y}<extra></extra>\",\"legendgroup\":\"Antonio Gibson\",\"marker\":{\"color\":\"#00cc96\",\"symbol\":\"circle\"},\"mode\":\"markers\",\"name\":\"Antonio Gibson\",\"orientation\":\"v\",\"showlegend\":true,\"x\":[11,10,5],\"xaxis\":\"x\",\"y\":[170.0,258.0,139.0],\"yaxis\":\"y\",\"type\":\"scatter\"},{\"hovertemplate\":\"player=J.K. Dobbins<br>td_tot=%{x}<br>rushing_att=%{y}<extra></extra>\",\"legendgroup\":\"J.K. Dobbins\",\"marker\":{\"color\":\"#ab63fa\",\"symbol\":\"circle\"},\"mode\":\"markers\",\"name\":\"J.K. Dobbins\",\"orientation\":\"v\",\"showlegend\":true,\"x\":[9],\"xaxis\":\"x\",\"y\":[134.0],\"yaxis\":\"y\",\"type\":\"scatter\"},{\"hovertemplate\":\"player=Mike Davis<br>td_tot=%{x}<br>rushing_att=%{y}<extra></extra>\",\"legendgroup\":\"Mike Davis\",\"marker\":{\"color\":\"#FFA15A\",\"symbol\":\"circle\"},\"mode\":\"markers\",\"name\":\"Mike Davis\",\"orientation\":\"v\",\"showlegend\":true,\"x\":[8,4],\"xaxis\":\"x\",\"y\":[165.0,138.0],\"yaxis\":\"y\",\"type\":\"scatter\"},{\"hovertemplate\":\"player=D'Andre Swift<br>td_tot=%{x}<br>rushing_att=%{y}<extra></extra>\",\"legendgroup\":\"D'Andre Swift\",\"marker\":{\"color\":\"#19d3f3\",\"symbol\":\"circle\"},\"mode\":\"markers\",\"name\":\"D'Andre Swift\",\"orientation\":\"v\",\"showlegend\":true,\"x\":[10,7,6],\"xaxis\":\"x\",\"y\":[114.0,151.0,64.0],\"yaxis\":\"y\",\"type\":\"scatter\"},{\"hovertemplate\":\"player=Clyde Edwards-Helaire<br>td_tot=%{x}<br>rushing_att=%{y}<extra></extra>\",\"legendgroup\":\"Clyde Edwards-Helaire\",\"marker\":{\"color\":\"#FF6692\",\"symbol\":\"circle\"},\"mode\":\"markers\",\"name\":\"Clyde Edwards-Helaire\",\"orientation\":\"v\",\"showlegend\":true,\"x\":[5,6,6],\"xaxis\":\"x\",\"y\":[181.0,119.0,71.0],\"yaxis\":\"y\",\"type\":\"scatter\"},{\"hovertemplate\":\"player=Jeff Wilson<br>td_tot=%{x}<br>rushing_att=%{y}<extra></extra>\",\"legendgroup\":\"Jeff Wilson\",\"marker\":{\"color\":\"#B6E880\",\"symbol\":\"circle\"},\"mode\":\"markers\",\"name\":\"Jeff Wilson\",\"orientation\":\"v\",\"showlegend\":true,\"x\":[10,5],\"xaxis\":\"x\",\"y\":[126.0,132.0],\"yaxis\":\"y\",\"type\":\"scatter\"},{\"hovertemplate\":\"player=Myles Gaskin<br>td_tot=%{x}<br>rushing_att=%{y}<extra></extra>\",\"legendgroup\":\"Myles Gaskin\",\"marker\":{\"color\":\"#FF97FF\",\"symbol\":\"circle\"},\"mode\":\"markers\",\"name\":\"Myles Gaskin\",\"orientation\":\"v\",\"showlegend\":true,\"x\":[5,7],\"xaxis\":\"x\",\"y\":[142.0,173.0],\"yaxis\":\"y\",\"type\":\"scatter\"},{\"hovertemplate\":\"player=Wayne Gallman<br>td_tot=%{x}<br>rushing_att=%{y}<extra></extra>\",\"legendgroup\":\"Wayne Gallman\",\"marker\":{\"color\":\"#FECB52\",\"symbol\":\"circle\"},\"mode\":\"markers\",\"name\":\"Wayne Gallman\",\"orientation\":\"v\",\"showlegend\":true,\"x\":[6],\"xaxis\":\"x\",\"y\":[147.0],\"yaxis\":\"y\",\"type\":\"scatter\"},{\"hovertemplate\":\"player=Darrell Henderson<br>td_tot=%{x}<br>rushing_att=%{y}<extra></extra>\",\"legendgroup\":\"Darrell Henderson\",\"marker\":{\"color\":\"#636efa\",\"symbol\":\"circle\"},\"mode\":\"markers\",\"name\":\"Darrell Henderson\",\"orientation\":\"v\",\"showlegend\":true,\"x\":[6,8,3],\"xaxis\":\"x\",\"y\":[138.0,149.0,70.0],\"yaxis\":\"y\",\"type\":\"scatter\"},{\"hovertemplate\":\"player=Jerick McKinnon<br>td_tot=%{x}<br>rushing_att=%{y}<extra></extra>\",\"legendgroup\":\"Jerick McKinnon\",\"marker\":{\"color\":\"#EF553B\",\"symbol\":\"circle\"},\"mode\":\"markers\",\"name\":\"Jerick McKinnon\",\"orientation\":\"v\",\"showlegend\":true,\"x\":[6,2],\"xaxis\":\"x\",\"y\":[81.0,47.0],\"yaxis\":\"y\",\"type\":\"scatter\"},{\"hovertemplate\":\"player=Cam Akers<br>td_tot=%{x}<br>rushing_att=%{y}<extra></extra>\",\"legendgroup\":\"Cam Akers\",\"marker\":{\"color\":\"#00cc96\",\"symbol\":\"circle\"},\"mode\":\"markers\",\"name\":\"Cam Akers\",\"orientation\":\"v\",\"showlegend\":true,\"x\":[3],\"xaxis\":\"x\",\"y\":[145.0],\"yaxis\":\"y\",\"type\":\"scatter\"},{\"hovertemplate\":\"player=Zack Moss<br>td_tot=%{x}<br>rushing_att=%{y}<extra></extra>\",\"legendgroup\":\"Zack Moss\",\"marker\":{\"color\":\"#ab63fa\",\"symbol\":\"circle\"},\"mode\":\"markers\",\"name\":\"Zack Moss\",\"orientation\":\"v\",\"showlegend\":true,\"x\":[5,5],\"xaxis\":\"x\",\"y\":[112.0,96.0],\"yaxis\":\"y\",\"type\":\"scatter\"},{\"hovertemplate\":\"player=Malcolm Brown<br>td_tot=%{x}<br>rushing_att=%{y}<extra></extra>\",\"legendgroup\":\"Malcolm Brown\",\"marker\":{\"color\":\"#FFA15A\",\"symbol\":\"circle\"},\"mode\":\"markers\",\"name\":\"Malcolm Brown\",\"orientation\":\"v\",\"showlegend\":true,\"x\":[5],\"xaxis\":\"x\",\"y\":[101.0],\"yaxis\":\"y\",\"type\":\"scatter\"},{\"hovertemplate\":\"player=Damien Harris<br>td_tot=%{x}<br>rushing_att=%{y}<extra></extra>\",\"legendgroup\":\"Damien Harris\",\"marker\":{\"color\":\"#19d3f3\",\"symbol\":\"circle\"},\"mode\":\"markers\",\"name\":\"Damien Harris\",\"orientation\":\"v\",\"showlegend\":true,\"x\":[2,15,3],\"xaxis\":\"x\",\"y\":[137.0,202.0,84.0],\"yaxis\":\"y\",\"type\":\"scatter\"},{\"hovertemplate\":\"player=Christian McCaffrey<br>td_tot=%{x}<br>rushing_att=%{y}<extra></extra>\",\"legendgroup\":\"Christian McCaffrey\",\"marker\":{\"color\":\"#FF6692\",\"symbol\":\"circle\"},\"mode\":\"markers\",\"name\":\"Christian McCaffrey\",\"orientation\":\"v\",\"showlegend\":true,\"x\":[6,2,7],\"xaxis\":\"x\",\"y\":[59.0,99.0,160.0],\"yaxis\":\"y\",\"type\":\"scatter\"},{\"hovertemplate\":\"player=Devontae Booker<br>td_tot=%{x}<br>rushing_att=%{y}<extra></extra>\",\"legendgroup\":\"Devontae Booker\",\"marker\":{\"color\":\"#B6E880\",\"symbol\":\"circle\"},\"mode\":\"markers\",\"name\":\"Devontae Booker\",\"orientation\":\"v\",\"showlegend\":true,\"x\":[3,3],\"xaxis\":\"x\",\"y\":[93.0,145.0],\"yaxis\":\"y\",\"type\":\"scatter\"},{\"hovertemplate\":\"player=Kalen Ballage<br>td_tot=%{x}<br>rushing_att=%{y}<extra></extra>\",\"legendgroup\":\"Kalen Ballage\",\"marker\":{\"color\":\"#FF97FF\",\"symbol\":\"circle\"},\"mode\":\"markers\",\"name\":\"Kalen Ballage\",\"orientation\":\"v\",\"showlegend\":true,\"x\":[3],\"xaxis\":\"x\",\"y\":[91.0],\"yaxis\":\"y\",\"type\":\"scatter\"},{\"hovertemplate\":\"player=Benny Snell Jr.<br>td_tot=%{x}<br>rushing_att=%{y}<extra></extra>\",\"legendgroup\":\"Benny Snell Jr.\",\"marker\":{\"color\":\"#FECB52\",\"symbol\":\"circle\"},\"mode\":\"markers\",\"name\":\"Benny Snell Jr.\",\"orientation\":\"v\",\"showlegend\":true,\"x\":[4],\"xaxis\":\"x\",\"y\":[111.0],\"yaxis\":\"y\",\"type\":\"scatter\"},{\"hovertemplate\":\"player=Kyle Juszczyk*<br>td_tot=%{x}<br>rushing_att=%{y}<extra></extra>\",\"legendgroup\":\"Kyle Juszczyk*\",\"marker\":{\"color\":\"#636efa\",\"symbol\":\"circle\"},\"mode\":\"markers\",\"name\":\"Kyle Juszczyk*\",\"orientation\":\"v\",\"showlegend\":true,\"x\":[6,2],\"xaxis\":\"x\",\"y\":[17.0,8.0],\"yaxis\":\"y\",\"type\":\"scatter\"},{\"hovertemplate\":\"player=Salvon Ahmed<br>td_tot=%{x}<br>rushing_att=%{y}<extra></extra>\",\"legendgroup\":\"Salvon Ahmed\",\"marker\":{\"color\":\"#EF553B\",\"symbol\":\"circle\"},\"mode\":\"markers\",\"name\":\"Salvon Ahmed\",\"orientation\":\"v\",\"showlegend\":true,\"x\":[3],\"xaxis\":\"x\",\"y\":[75.0],\"yaxis\":\"y\",\"type\":\"scatter\"},{\"hovertemplate\":\"player=Joshua Kelley<br>td_tot=%{x}<br>rushing_att=%{y}<extra></extra>\",\"legendgroup\":\"Joshua Kelley\",\"marker\":{\"color\":\"#00cc96\",\"symbol\":\"circle\"},\"mode\":\"markers\",\"name\":\"Joshua Kelley\",\"orientation\":\"v\",\"showlegend\":true,\"x\":[2],\"xaxis\":\"x\",\"y\":[111.0],\"yaxis\":\"y\",\"type\":\"scatter\"},{\"hovertemplate\":\"player=Samaje Perine<br>td_tot=%{x}<br>rushing_att=%{y}<extra></extra>\",\"legendgroup\":\"Samaje Perine\",\"marker\":{\"color\":\"#ab63fa\",\"symbol\":\"circle\"},\"mode\":\"markers\",\"name\":\"Samaje Perine\",\"orientation\":\"v\",\"showlegend\":true,\"x\":[3,2,5],\"xaxis\":\"x\",\"y\":[63.0,55.0,74.0],\"yaxis\":\"y\",\"type\":\"scatter\"},{\"hovertemplate\":\"player=Jordan Wilkins<br>td_tot=%{x}<br>rushing_att=%{y}<extra></extra>\",\"legendgroup\":\"Jordan Wilkins\",\"marker\":{\"color\":\"#FFA15A\",\"symbol\":\"circle\"},\"mode\":\"markers\",\"name\":\"Jordan Wilkins\",\"orientation\":\"v\",\"showlegend\":true,\"x\":[1],\"xaxis\":\"x\",\"y\":[84.0],\"yaxis\":\"y\",\"type\":\"scatter\"},{\"hovertemplate\":\"player=Justin Jackson<br>td_tot=%{x}<br>rushing_att=%{y}<extra></extra>\",\"legendgroup\":\"Justin Jackson\",\"marker\":{\"color\":\"#19d3f3\",\"symbol\":\"circle\"},\"mode\":\"markers\",\"name\":\"Justin Jackson\",\"orientation\":\"v\",\"showlegend\":true,\"x\":[0,2],\"xaxis\":\"x\",\"y\":[59.0,68.0],\"yaxis\":\"y\",\"type\":\"scatter\"},{\"hovertemplate\":\"player=Jonathan Taylor*+<br>td_tot=%{x}<br>rushing_att=%{y}<extra></extra>\",\"legendgroup\":\"Jonathan Taylor*+\",\"marker\":{\"color\":\"#FF6692\",\"symbol\":\"circle\"},\"mode\":\"markers\",\"name\":\"Jonathan Taylor*+\",\"orientation\":\"v\",\"showlegend\":true,\"x\":[20],\"xaxis\":\"x\",\"y\":[332.0],\"yaxis\":\"y\",\"type\":\"scatter\"},{\"hovertemplate\":\"player=Joe Mixon*<br>td_tot=%{x}<br>rushing_att=%{y}<extra></extra>\",\"legendgroup\":\"Joe Mixon*\",\"marker\":{\"color\":\"#B6E880\",\"symbol\":\"circle\"},\"mode\":\"markers\",\"name\":\"Joe Mixon*\",\"orientation\":\"v\",\"showlegend\":true,\"x\":[16],\"xaxis\":\"x\",\"y\":[292.0],\"yaxis\":\"y\",\"type\":\"scatter\"},{\"hovertemplate\":\"player=Najee Harris*<br>td_tot=%{x}<br>rushing_att=%{y}<extra></extra>\",\"legendgroup\":\"Najee Harris*\",\"marker\":{\"color\":\"#FF97FF\",\"symbol\":\"circle\"},\"mode\":\"markers\",\"name\":\"Najee Harris*\",\"orientation\":\"v\",\"showlegend\":true,\"x\":[10],\"xaxis\":\"x\",\"y\":[307.0],\"yaxis\":\"y\",\"type\":\"scatter\"},{\"hovertemplate\":\"player=James Conner*<br>td_tot=%{x}<br>rushing_att=%{y}<extra></extra>\",\"legendgroup\":\"James Conner*\",\"marker\":{\"color\":\"#FECB52\",\"symbol\":\"circle\"},\"mode\":\"markers\",\"name\":\"James Conner*\",\"orientation\":\"v\",\"showlegend\":true,\"x\":[18],\"xaxis\":\"x\",\"y\":[202.0],\"yaxis\":\"y\",\"type\":\"scatter\"},{\"hovertemplate\":\"player=Cordarrelle Patterson<br>td_tot=%{x}<br>rushing_att=%{y}<extra></extra>\",\"legendgroup\":\"Cordarrelle Patterson\",\"marker\":{\"color\":\"#636efa\",\"symbol\":\"circle\"},\"mode\":\"markers\",\"name\":\"Cordarrelle Patterson\",\"orientation\":\"v\",\"showlegend\":true,\"x\":[11,6],\"xaxis\":\"x\",\"y\":[153.0,108.0],\"yaxis\":\"y\",\"type\":\"scatter\"},{\"hovertemplate\":\"player=Derrick Henry<br>td_tot=%{x}<br>rushing_att=%{y}<extra></extra>\",\"legendgroup\":\"Derrick Henry\",\"marker\":{\"color\":\"#EF553B\",\"symbol\":\"circle\"},\"mode\":\"markers\",\"name\":\"Derrick Henry\",\"orientation\":\"v\",\"showlegend\":true,\"x\":[10,10],\"xaxis\":\"x\",\"y\":[219.0,258.0],\"yaxis\":\"y\",\"type\":\"scatter\"},{\"hovertemplate\":\"player=Javonte Williams<br>td_tot=%{x}<br>rushing_att=%{y}<extra></extra>\",\"legendgroup\":\"Javonte Williams\",\"marker\":{\"color\":\"#00cc96\",\"symbol\":\"circle\"},\"mode\":\"markers\",\"name\":\"Javonte Williams\",\"orientation\":\"v\",\"showlegend\":true,\"x\":[7],\"xaxis\":\"x\",\"y\":[203.0],\"yaxis\":\"y\",\"type\":\"scatter\"},{\"hovertemplate\":\"player=AJ Dillon<br>td_tot=%{x}<br>rushing_att=%{y}<extra></extra>\",\"legendgroup\":\"AJ Dillon\",\"marker\":{\"color\":\"#ab63fa\",\"symbol\":\"circle\"},\"mode\":\"markers\",\"name\":\"AJ Dillon\",\"orientation\":\"v\",\"showlegend\":true,\"x\":[7,3],\"xaxis\":\"x\",\"y\":[187.0,143.0],\"yaxis\":\"y\",\"type\":\"scatter\"},{\"hovertemplate\":\"player=Elijah Mitchell<br>td_tot=%{x}<br>rushing_att=%{y}<extra></extra>\",\"legendgroup\":\"Elijah Mitchell\",\"marker\":{\"color\":\"#FFA15A\",\"symbol\":\"circle\"},\"mode\":\"markers\",\"name\":\"Elijah Mitchell\",\"orientation\":\"v\",\"showlegend\":true,\"x\":[6],\"xaxis\":\"x\",\"y\":[207.0],\"yaxis\":\"y\",\"type\":\"scatter\"},{\"hovertemplate\":\"player=Michael Carter<br>td_tot=%{x}<br>rushing_att=%{y}<extra></extra>\",\"legendgroup\":\"Michael Carter\",\"marker\":{\"color\":\"#19d3f3\",\"symbol\":\"circle\"},\"mode\":\"markers\",\"name\":\"Michael Carter\",\"orientation\":\"v\",\"showlegend\":true,\"x\":[4,3],\"xaxis\":\"x\",\"y\":[147.0,99.0],\"yaxis\":\"y\",\"type\":\"scatter\"},{\"hovertemplate\":\"player=Chuba Hubbard<br>td_tot=%{x}<br>rushing_att=%{y}<extra></extra>\",\"legendgroup\":\"Chuba Hubbard\",\"marker\":{\"color\":\"#FF6692\",\"symbol\":\"circle\"},\"mode\":\"markers\",\"name\":\"Chuba Hubbard\",\"orientation\":\"v\",\"showlegend\":true,\"x\":[6],\"xaxis\":\"x\",\"y\":[172.0],\"yaxis\":\"y\",\"type\":\"scatter\"},{\"hovertemplate\":\"player=Rhamondre Stevenson<br>td_tot=%{x}<br>rushing_att=%{y}<extra></extra>\",\"legendgroup\":\"Rhamondre Stevenson\",\"marker\":{\"color\":\"#B6E880\",\"symbol\":\"circle\"},\"mode\":\"markers\",\"name\":\"Rhamondre Stevenson\",\"orientation\":\"v\",\"showlegend\":true,\"x\":[5,5],\"xaxis\":\"x\",\"y\":[133.0,161.0],\"yaxis\":\"y\",\"type\":\"scatter\"},{\"hovertemplate\":\"player=Kenneth Gainwell<br>td_tot=%{x}<br>rushing_att=%{y}<extra></extra>\",\"legendgroup\":\"Kenneth Gainwell\",\"marker\":{\"color\":\"#FF97FF\",\"symbol\":\"circle\"},\"mode\":\"markers\",\"name\":\"Kenneth Gainwell\",\"orientation\":\"v\",\"showlegend\":true,\"x\":[6,4],\"xaxis\":\"x\",\"y\":[68.0,41.0],\"yaxis\":\"y\",\"type\":\"scatter\"},{\"hovertemplate\":\"player=D'Onta Foreman<br>td_tot=%{x}<br>rushing_att=%{y}<extra></extra>\",\"legendgroup\":\"D'Onta Foreman\",\"marker\":{\"color\":\"#FECB52\",\"symbol\":\"circle\"},\"mode\":\"markers\",\"name\":\"D'Onta Foreman\",\"orientation\":\"v\",\"showlegend\":true,\"x\":[3,4],\"xaxis\":\"x\",\"y\":[133.0,126.0],\"yaxis\":\"y\",\"type\":\"scatter\"},{\"hovertemplate\":\"player=D'Ernest Johnson<br>td_tot=%{x}<br>rushing_att=%{y}<extra></extra>\",\"legendgroup\":\"D'Ernest Johnson\",\"marker\":{\"color\":\"#636efa\",\"symbol\":\"circle\"},\"mode\":\"markers\",\"name\":\"D'Ernest Johnson\",\"orientation\":\"v\",\"showlegend\":true,\"x\":[3],\"xaxis\":\"x\",\"y\":[100.0],\"yaxis\":\"y\",\"type\":\"scatter\"},{\"hovertemplate\":\"player=Brandon Bolden<br>td_tot=%{x}<br>rushing_att=%{y}<extra></extra>\",\"legendgroup\":\"Brandon Bolden\",\"marker\":{\"color\":\"#EF553B\",\"symbol\":\"circle\"},\"mode\":\"markers\",\"name\":\"Brandon Bolden\",\"orientation\":\"v\",\"showlegend\":true,\"x\":[3],\"xaxis\":\"x\",\"y\":[44.0],\"yaxis\":\"y\",\"type\":\"scatter\"},{\"hovertemplate\":\"player=Mark Ingram<br>td_tot=%{x}<br>rushing_att=%{y}<extra></extra>\",\"legendgroup\":\"Mark Ingram\",\"marker\":{\"color\":\"#00cc96\",\"symbol\":\"circle\"},\"mode\":\"markers\",\"name\":\"Mark Ingram\",\"orientation\":\"v\",\"showlegend\":true,\"x\":[2],\"xaxis\":\"x\",\"y\":[160.0],\"yaxis\":\"y\",\"type\":\"scatter\"},{\"hovertemplate\":\"player=Khalil Herbert<br>td_tot=%{x}<br>rushing_att=%{y}<extra></extra>\",\"legendgroup\":\"Khalil Herbert\",\"marker\":{\"color\":\"#ab63fa\",\"symbol\":\"circle\"},\"mode\":\"markers\",\"name\":\"Khalil Herbert\",\"orientation\":\"v\",\"showlegend\":true,\"x\":[2,5],\"xaxis\":\"x\",\"y\":[103.0,108.0],\"yaxis\":\"y\",\"type\":\"scatter\"},{\"hovertemplate\":\"player=Alex Collins<br>td_tot=%{x}<br>rushing_att=%{y}<extra></extra>\",\"legendgroup\":\"Alex Collins\",\"marker\":{\"color\":\"#FFA15A\",\"symbol\":\"circle\"},\"mode\":\"markers\",\"name\":\"Alex Collins\",\"orientation\":\"v\",\"showlegend\":true,\"x\":[2],\"xaxis\":\"x\",\"y\":[108.0],\"yaxis\":\"y\",\"type\":\"scatter\"},{\"hovertemplate\":\"player=Dontrell Hilliard<br>td_tot=%{x}<br>rushing_att=%{y}<extra></extra>\",\"legendgroup\":\"Dontrell Hilliard\",\"marker\":{\"color\":\"#19d3f3\",\"symbol\":\"circle\"},\"mode\":\"markers\",\"name\":\"Dontrell Hilliard\",\"orientation\":\"v\",\"showlegend\":true,\"x\":[2,4],\"xaxis\":\"x\",\"y\":[56.0,22.0],\"yaxis\":\"y\",\"type\":\"scatter\"},{\"hovertemplate\":\"player=Ameer Abdullah<br>td_tot=%{x}<br>rushing_att=%{y}<extra></extra>\",\"legendgroup\":\"Ameer Abdullah\",\"marker\":{\"color\":\"#FF6692\",\"symbol\":\"circle\"},\"mode\":\"markers\",\"name\":\"Ameer Abdullah\",\"orientation\":\"v\",\"showlegend\":true,\"x\":[1],\"xaxis\":\"x\",\"y\":[51.0],\"yaxis\":\"y\",\"type\":\"scatter\"},{\"hovertemplate\":\"player=Travis Homer<br>td_tot=%{x}<br>rushing_att=%{y}<extra></extra>\",\"legendgroup\":\"Travis Homer\",\"marker\":{\"color\":\"#B6E880\",\"symbol\":\"circle\"},\"mode\":\"markers\",\"name\":\"Travis Homer\",\"orientation\":\"v\",\"showlegend\":true,\"x\":[2],\"xaxis\":\"x\",\"y\":[21.0],\"yaxis\":\"y\",\"type\":\"scatter\"},{\"hovertemplate\":\"player=Jeremy McNichols<br>td_tot=%{x}<br>rushing_att=%{y}<extra></extra>\",\"legendgroup\":\"Jeremy McNichols\",\"marker\":{\"color\":\"#FF97FF\",\"symbol\":\"circle\"},\"mode\":\"markers\",\"name\":\"Jeremy McNichols\",\"orientation\":\"v\",\"showlegend\":true,\"x\":[1],\"xaxis\":\"x\",\"y\":[41.0],\"yaxis\":\"y\",\"type\":\"scatter\"},{\"hovertemplate\":\"player=DeeJay Dallas<br>td_tot=%{x}<br>rushing_att=%{y}<extra></extra>\",\"legendgroup\":\"DeeJay Dallas\",\"marker\":{\"color\":\"#FECB52\",\"symbol\":\"circle\"},\"mode\":\"markers\",\"name\":\"DeeJay Dallas\",\"orientation\":\"v\",\"showlegend\":true,\"x\":[2],\"xaxis\":\"x\",\"y\":[33.0],\"yaxis\":\"y\",\"type\":\"scatter\"},{\"hovertemplate\":\"player=Nick Chubb<br>td_tot=%{x}<br>rushing_att=%{y}<extra></extra>\",\"legendgroup\":\"Nick Chubb\",\"marker\":{\"color\":\"#636efa\",\"symbol\":\"circle\"},\"mode\":\"markers\",\"name\":\"Nick Chubb\",\"orientation\":\"v\",\"showlegend\":true,\"x\":[12],\"xaxis\":\"x\",\"y\":[217.0],\"yaxis\":\"y\",\"type\":\"scatter\"},{\"hovertemplate\":\"player=Dalvin Cook<br>td_tot=%{x}<br>rushing_att=%{y}<extra></extra>\",\"legendgroup\":\"Dalvin Cook\",\"marker\":{\"color\":\"#EF553B\",\"symbol\":\"circle\"},\"mode\":\"markers\",\"name\":\"Dalvin Cook\",\"orientation\":\"v\",\"showlegend\":true,\"x\":[8],\"xaxis\":\"x\",\"y\":[198.0],\"yaxis\":\"y\",\"type\":\"scatter\"},{\"hovertemplate\":\"player=Kenneth Walker III<br>td_tot=%{x}<br>rushing_att=%{y}<extra></extra>\",\"legendgroup\":\"Kenneth Walker III\",\"marker\":{\"color\":\"#00cc96\",\"symbol\":\"circle\"},\"mode\":\"markers\",\"name\":\"Kenneth Walker III\",\"orientation\":\"v\",\"showlegend\":true,\"x\":[9],\"xaxis\":\"x\",\"y\":[138.0],\"yaxis\":\"y\",\"type\":\"scatter\"},{\"hovertemplate\":\"player=Dameon Pierce<br>td_tot=%{x}<br>rushing_att=%{y}<extra></extra>\",\"legendgroup\":\"Dameon Pierce\",\"marker\":{\"color\":\"#ab63fa\",\"symbol\":\"circle\"},\"mode\":\"markers\",\"name\":\"Dameon Pierce\",\"orientation\":\"v\",\"showlegend\":true,\"x\":[4],\"xaxis\":\"x\",\"y\":[198.0],\"yaxis\":\"y\",\"type\":\"scatter\"},{\"hovertemplate\":\"player=Travis Etienne<br>td_tot=%{x}<br>rushing_att=%{y}<extra></extra>\",\"legendgroup\":\"Travis Etienne\",\"marker\":{\"color\":\"#FFA15A\",\"symbol\":\"circle\"},\"mode\":\"markers\",\"name\":\"Travis Etienne\",\"orientation\":\"v\",\"showlegend\":true,\"x\":[4],\"xaxis\":\"x\",\"y\":[146.0],\"yaxis\":\"y\",\"type\":\"scatter\"},{\"hovertemplate\":\"player=Najee Harris<br>td_tot=%{x}<br>rushing_att=%{y}<extra></extra>\",\"legendgroup\":\"Najee Harris\",\"marker\":{\"color\":\"#19d3f3\",\"symbol\":\"circle\"},\"mode\":\"markers\",\"name\":\"Najee Harris\",\"orientation\":\"v\",\"showlegend\":true,\"x\":[6],\"xaxis\":\"x\",\"y\":[175.0],\"yaxis\":\"y\",\"type\":\"scatter\"},{\"hovertemplate\":\"player=Alvin Kamara<br>td_tot=%{x}<br>rushing_att=%{y}<extra></extra>\",\"legendgroup\":\"Alvin Kamara\",\"marker\":{\"color\":\"#FF6692\",\"symbol\":\"circle\"},\"mode\":\"markers\",\"name\":\"Alvin Kamara\",\"orientation\":\"v\",\"showlegend\":true,\"x\":[3],\"xaxis\":\"x\",\"y\":[131.0],\"yaxis\":\"y\",\"type\":\"scatter\"},{\"hovertemplate\":\"player=Breece Hall<br>td_tot=%{x}<br>rushing_att=%{y}<extra></extra>\",\"legendgroup\":\"Breece Hall\",\"marker\":{\"color\":\"#B6E880\",\"symbol\":\"circle\"},\"mode\":\"markers\",\"name\":\"Breece Hall\",\"orientation\":\"v\",\"showlegend\":true,\"x\":[5],\"xaxis\":\"x\",\"y\":[80.0],\"yaxis\":\"y\",\"type\":\"scatter\"},{\"hovertemplate\":\"player=Tyler Allgeier<br>td_tot=%{x}<br>rushing_att=%{y}<extra></extra>\",\"legendgroup\":\"Tyler Allgeier\",\"marker\":{\"color\":\"#FF97FF\",\"symbol\":\"circle\"},\"mode\":\"markers\",\"name\":\"Tyler Allgeier\",\"orientation\":\"v\",\"showlegend\":true,\"x\":[2],\"xaxis\":\"x\",\"y\":[131.0],\"yaxis\":\"y\",\"type\":\"scatter\"},{\"hovertemplate\":\"player=Brian Robinson Jr.<br>td_tot=%{x}<br>rushing_att=%{y}<extra></extra>\",\"legendgroup\":\"Brian Robinson Jr.\",\"marker\":{\"color\":\"#FECB52\",\"symbol\":\"circle\"},\"mode\":\"markers\",\"name\":\"Brian Robinson Jr.\",\"orientation\":\"v\",\"showlegend\":true,\"x\":[3],\"xaxis\":\"x\",\"y\":[147.0],\"yaxis\":\"y\",\"type\":\"scatter\"},{\"hovertemplate\":\"player=Isiah Pacheco<br>td_tot=%{x}<br>rushing_att=%{y}<extra></extra>\",\"legendgroup\":\"Isiah Pacheco\",\"marker\":{\"color\":\"#636efa\",\"symbol\":\"circle\"},\"mode\":\"markers\",\"name\":\"Isiah Pacheco\",\"orientation\":\"v\",\"showlegend\":true,\"x\":[3],\"xaxis\":\"x\",\"y\":[111.0],\"yaxis\":\"y\",\"type\":\"scatter\"},{\"hovertemplate\":\"player=Eno Benjamin<br>td_tot=%{x}<br>rushing_att=%{y}<extra></extra>\",\"legendgroup\":\"Eno Benjamin\",\"marker\":{\"color\":\"#EF553B\",\"symbol\":\"circle\"},\"mode\":\"markers\",\"name\":\"Eno Benjamin\",\"orientation\":\"v\",\"showlegend\":true,\"x\":[2],\"xaxis\":\"x\",\"y\":[70.0],\"yaxis\":\"y\",\"type\":\"scatter\"},{\"hovertemplate\":\"player=James Cook<br>td_tot=%{x}<br>rushing_att=%{y}<extra></extra>\",\"legendgroup\":\"James Cook\",\"marker\":{\"color\":\"#00cc96\",\"symbol\":\"circle\"},\"mode\":\"markers\",\"name\":\"James Cook\",\"orientation\":\"v\",\"showlegend\":true,\"x\":[1],\"xaxis\":\"x\",\"y\":[60.0],\"yaxis\":\"y\",\"type\":\"scatter\"},{\"hovertemplate\":\"player=Rachaad White<br>td_tot=%{x}<br>rushing_att=%{y}<extra></extra>\",\"legendgroup\":\"Rachaad White\",\"marker\":{\"color\":\"#ab63fa\",\"symbol\":\"circle\"},\"mode\":\"markers\",\"name\":\"Rachaad White\",\"orientation\":\"v\",\"showlegend\":true,\"x\":[1],\"xaxis\":\"x\",\"y\":[74.0],\"yaxis\":\"y\",\"type\":\"scatter\"}],                        {\"template\":{\"data\":{\"histogram2dcontour\":[{\"type\":\"histogram2dcontour\",\"colorbar\":{\"outlinewidth\":0,\"ticks\":\"\"},\"colorscale\":[[0.0,\"#0d0887\"],[0.1111111111111111,\"#46039f\"],[0.2222222222222222,\"#7201a8\"],[0.3333333333333333,\"#9c179e\"],[0.4444444444444444,\"#bd3786\"],[0.5555555555555556,\"#d8576b\"],[0.6666666666666666,\"#ed7953\"],[0.7777777777777778,\"#fb9f3a\"],[0.8888888888888888,\"#fdca26\"],[1.0,\"#f0f921\"]]}],\"choropleth\":[{\"type\":\"choropleth\",\"colorbar\":{\"outlinewidth\":0,\"ticks\":\"\"}}],\"histogram2d\":[{\"type\":\"histogram2d\",\"colorbar\":{\"outlinewidth\":0,\"ticks\":\"\"},\"colorscale\":[[0.0,\"#0d0887\"],[0.1111111111111111,\"#46039f\"],[0.2222222222222222,\"#7201a8\"],[0.3333333333333333,\"#9c179e\"],[0.4444444444444444,\"#bd3786\"],[0.5555555555555556,\"#d8576b\"],[0.6666666666666666,\"#ed7953\"],[0.7777777777777778,\"#fb9f3a\"],[0.8888888888888888,\"#fdca26\"],[1.0,\"#f0f921\"]]}],\"heatmap\":[{\"type\":\"heatmap\",\"colorbar\":{\"outlinewidth\":0,\"ticks\":\"\"},\"colorscale\":[[0.0,\"#0d0887\"],[0.1111111111111111,\"#46039f\"],[0.2222222222222222,\"#7201a8\"],[0.3333333333333333,\"#9c179e\"],[0.4444444444444444,\"#bd3786\"],[0.5555555555555556,\"#d8576b\"],[0.6666666666666666,\"#ed7953\"],[0.7777777777777778,\"#fb9f3a\"],[0.8888888888888888,\"#fdca26\"],[1.0,\"#f0f921\"]]}],\"heatmapgl\":[{\"type\":\"heatmapgl\",\"colorbar\":{\"outlinewidth\":0,\"ticks\":\"\"},\"colorscale\":[[0.0,\"#0d0887\"],[0.1111111111111111,\"#46039f\"],[0.2222222222222222,\"#7201a8\"],[0.3333333333333333,\"#9c179e\"],[0.4444444444444444,\"#bd3786\"],[0.5555555555555556,\"#d8576b\"],[0.6666666666666666,\"#ed7953\"],[0.7777777777777778,\"#fb9f3a\"],[0.8888888888888888,\"#fdca26\"],[1.0,\"#f0f921\"]]}],\"contourcarpet\":[{\"type\":\"contourcarpet\",\"colorbar\":{\"outlinewidth\":0,\"ticks\":\"\"}}],\"contour\":[{\"type\":\"contour\",\"colorbar\":{\"outlinewidth\":0,\"ticks\":\"\"},\"colorscale\":[[0.0,\"#0d0887\"],[0.1111111111111111,\"#46039f\"],[0.2222222222222222,\"#7201a8\"],[0.3333333333333333,\"#9c179e\"],[0.4444444444444444,\"#bd3786\"],[0.5555555555555556,\"#d8576b\"],[0.6666666666666666,\"#ed7953\"],[0.7777777777777778,\"#fb9f3a\"],[0.8888888888888888,\"#fdca26\"],[1.0,\"#f0f921\"]]}],\"surface\":[{\"type\":\"surface\",\"colorbar\":{\"outlinewidth\":0,\"ticks\":\"\"},\"colorscale\":[[0.0,\"#0d0887\"],[0.1111111111111111,\"#46039f\"],[0.2222222222222222,\"#7201a8\"],[0.3333333333333333,\"#9c179e\"],[0.4444444444444444,\"#bd3786\"],[0.5555555555555556,\"#d8576b\"],[0.6666666666666666,\"#ed7953\"],[0.7777777777777778,\"#fb9f3a\"],[0.8888888888888888,\"#fdca26\"],[1.0,\"#f0f921\"]]}],\"mesh3d\":[{\"type\":\"mesh3d\",\"colorbar\":{\"outlinewidth\":0,\"ticks\":\"\"}}],\"scatter\":[{\"marker\":{\"line\":{\"color\":\"#283442\"}},\"type\":\"scatter\"}],\"parcoords\":[{\"type\":\"parcoords\",\"line\":{\"colorbar\":{\"outlinewidth\":0,\"ticks\":\"\"}}}],\"scatterpolargl\":[{\"type\":\"scatterpolargl\",\"marker\":{\"colorbar\":{\"outlinewidth\":0,\"ticks\":\"\"}}}],\"bar\":[{\"error_x\":{\"color\":\"#f2f5fa\"},\"error_y\":{\"color\":\"#f2f5fa\"},\"marker\":{\"line\":{\"color\":\"rgb(17,17,17)\",\"width\":0.5},\"pattern\":{\"fillmode\":\"overlay\",\"size\":10,\"solidity\":0.2}},\"type\":\"bar\"}],\"scattergeo\":[{\"type\":\"scattergeo\",\"marker\":{\"colorbar\":{\"outlinewidth\":0,\"ticks\":\"\"}}}],\"scatterpolar\":[{\"type\":\"scatterpolar\",\"marker\":{\"colorbar\":{\"outlinewidth\":0,\"ticks\":\"\"}}}],\"histogram\":[{\"marker\":{\"pattern\":{\"fillmode\":\"overlay\",\"size\":10,\"solidity\":0.2}},\"type\":\"histogram\"}],\"scattergl\":[{\"marker\":{\"line\":{\"color\":\"#283442\"}},\"type\":\"scattergl\"}],\"scatter3d\":[{\"type\":\"scatter3d\",\"line\":{\"colorbar\":{\"outlinewidth\":0,\"ticks\":\"\"}},\"marker\":{\"colorbar\":{\"outlinewidth\":0,\"ticks\":\"\"}}}],\"scattermapbox\":[{\"type\":\"scattermapbox\",\"marker\":{\"colorbar\":{\"outlinewidth\":0,\"ticks\":\"\"}}}],\"scatterternary\":[{\"type\":\"scatterternary\",\"marker\":{\"colorbar\":{\"outlinewidth\":0,\"ticks\":\"\"}}}],\"scattercarpet\":[{\"type\":\"scattercarpet\",\"marker\":{\"colorbar\":{\"outlinewidth\":0,\"ticks\":\"\"}}}],\"carpet\":[{\"aaxis\":{\"endlinecolor\":\"#A2B1C6\",\"gridcolor\":\"#506784\",\"linecolor\":\"#506784\",\"minorgridcolor\":\"#506784\",\"startlinecolor\":\"#A2B1C6\"},\"baxis\":{\"endlinecolor\":\"#A2B1C6\",\"gridcolor\":\"#506784\",\"linecolor\":\"#506784\",\"minorgridcolor\":\"#506784\",\"startlinecolor\":\"#A2B1C6\"},\"type\":\"carpet\"}],\"table\":[{\"cells\":{\"fill\":{\"color\":\"#506784\"},\"line\":{\"color\":\"rgb(17,17,17)\"}},\"header\":{\"fill\":{\"color\":\"#2a3f5f\"},\"line\":{\"color\":\"rgb(17,17,17)\"}},\"type\":\"table\"}],\"barpolar\":[{\"marker\":{\"line\":{\"color\":\"rgb(17,17,17)\",\"width\":0.5},\"pattern\":{\"fillmode\":\"overlay\",\"size\":10,\"solidity\":0.2}},\"type\":\"barpolar\"}],\"pie\":[{\"automargin\":true,\"type\":\"pie\"}]},\"layout\":{\"autotypenumbers\":\"strict\",\"colorway\":[\"#636efa\",\"#EF553B\",\"#00cc96\",\"#ab63fa\",\"#FFA15A\",\"#19d3f3\",\"#FF6692\",\"#B6E880\",\"#FF97FF\",\"#FECB52\"],\"font\":{\"color\":\"#f2f5fa\"},\"hovermode\":\"closest\",\"hoverlabel\":{\"align\":\"left\"},\"paper_bgcolor\":\"rgb(17,17,17)\",\"plot_bgcolor\":\"rgb(17,17,17)\",\"polar\":{\"bgcolor\":\"rgb(17,17,17)\",\"angularaxis\":{\"gridcolor\":\"#506784\",\"linecolor\":\"#506784\",\"ticks\":\"\"},\"radialaxis\":{\"gridcolor\":\"#506784\",\"linecolor\":\"#506784\",\"ticks\":\"\"}},\"ternary\":{\"bgcolor\":\"rgb(17,17,17)\",\"aaxis\":{\"gridcolor\":\"#506784\",\"linecolor\":\"#506784\",\"ticks\":\"\"},\"baxis\":{\"gridcolor\":\"#506784\",\"linecolor\":\"#506784\",\"ticks\":\"\"},\"caxis\":{\"gridcolor\":\"#506784\",\"linecolor\":\"#506784\",\"ticks\":\"\"}},\"coloraxis\":{\"colorbar\":{\"outlinewidth\":0,\"ticks\":\"\"}},\"colorscale\":{\"sequential\":[[0.0,\"#0d0887\"],[0.1111111111111111,\"#46039f\"],[0.2222222222222222,\"#7201a8\"],[0.3333333333333333,\"#9c179e\"],[0.4444444444444444,\"#bd3786\"],[0.5555555555555556,\"#d8576b\"],[0.6666666666666666,\"#ed7953\"],[0.7777777777777778,\"#fb9f3a\"],[0.8888888888888888,\"#fdca26\"],[1.0,\"#f0f921\"]],\"sequentialminus\":[[0.0,\"#0d0887\"],[0.1111111111111111,\"#46039f\"],[0.2222222222222222,\"#7201a8\"],[0.3333333333333333,\"#9c179e\"],[0.4444444444444444,\"#bd3786\"],[0.5555555555555556,\"#d8576b\"],[0.6666666666666666,\"#ed7953\"],[0.7777777777777778,\"#fb9f3a\"],[0.8888888888888888,\"#fdca26\"],[1.0,\"#f0f921\"]],\"diverging\":[[0,\"#8e0152\"],[0.1,\"#c51b7d\"],[0.2,\"#de77ae\"],[0.3,\"#f1b6da\"],[0.4,\"#fde0ef\"],[0.5,\"#f7f7f7\"],[0.6,\"#e6f5d0\"],[0.7,\"#b8e186\"],[0.8,\"#7fbc41\"],[0.9,\"#4d9221\"],[1,\"#276419\"]]},\"xaxis\":{\"gridcolor\":\"#283442\",\"linecolor\":\"#506784\",\"ticks\":\"\",\"title\":{\"standoff\":15},\"zerolinecolor\":\"#283442\",\"automargin\":true,\"zerolinewidth\":2},\"yaxis\":{\"gridcolor\":\"#283442\",\"linecolor\":\"#506784\",\"ticks\":\"\",\"title\":{\"standoff\":15},\"zerolinecolor\":\"#283442\",\"automargin\":true,\"zerolinewidth\":2},\"scene\":{\"xaxis\":{\"backgroundcolor\":\"rgb(17,17,17)\",\"gridcolor\":\"#506784\",\"linecolor\":\"#506784\",\"showbackground\":true,\"ticks\":\"\",\"zerolinecolor\":\"#C8D4E3\",\"gridwidth\":2},\"yaxis\":{\"backgroundcolor\":\"rgb(17,17,17)\",\"gridcolor\":\"#506784\",\"linecolor\":\"#506784\",\"showbackground\":true,\"ticks\":\"\",\"zerolinecolor\":\"#C8D4E3\",\"gridwidth\":2},\"zaxis\":{\"backgroundcolor\":\"rgb(17,17,17)\",\"gridcolor\":\"#506784\",\"linecolor\":\"#506784\",\"showbackground\":true,\"ticks\":\"\",\"zerolinecolor\":\"#C8D4E3\",\"gridwidth\":2}},\"shapedefaults\":{\"line\":{\"color\":\"#f2f5fa\"}},\"annotationdefaults\":{\"arrowcolor\":\"#f2f5fa\",\"arrowhead\":0,\"arrowwidth\":1},\"geo\":{\"bgcolor\":\"rgb(17,17,17)\",\"landcolor\":\"rgb(17,17,17)\",\"subunitcolor\":\"#506784\",\"showland\":true,\"showlakes\":true,\"lakecolor\":\"rgb(17,17,17)\"},\"title\":{\"x\":0.05},\"updatemenudefaults\":{\"bgcolor\":\"#506784\",\"borderwidth\":0},\"sliderdefaults\":{\"bgcolor\":\"#C8D4E3\",\"borderwidth\":1,\"bordercolor\":\"rgb(17,17,17)\",\"tickwidth\":0},\"mapbox\":{\"style\":\"dark\"}}},\"xaxis\":{\"anchor\":\"y\",\"domain\":[0.0,1.0],\"title\":{\"text\":\"td_tot\"}},\"yaxis\":{\"anchor\":\"x\",\"domain\":[0.0,1.0],\"title\":{\"text\":\"rushing_att\"}},\"legend\":{\"title\":{\"text\":\"player\"},\"tracegroupgap\":0},\"margin\":{\"t\":60}},                        {\"responsive\": true}                    ).then(function(){\n                            \nvar gd = document.getElementById('93d896c2-cce3-454c-ba90-15ac808057cc');\nvar x = new MutationObserver(function (mutations, observer) {{\n        var display = window.getComputedStyle(gd).display;\n        if (!display || display === 'none') {{\n            console.log([gd, 'removed!']);\n            Plotly.purge(gd);\n            observer.disconnect();\n        }}\n}});\n\n// Listen for the removal of the full notebook cells\nvar notebookContainer = gd.closest('#notebook-container');\nif (notebookContainer) {{\n    x.observe(notebookContainer, {childList: true});\n}}\n\n// Listen for the clearing of the current output cell\nvar outputEl = gd.closest('.output');\nif (outputEl) {{\n    x.observe(outputEl, {childList: true});\n}}\n\n                        })                };                });            </script>        </div>"
     },
     "metadata": {},
     "output_type": "display_data"
    }
   ],
   "source": [
    "import plotly.express as px\n",
    "fig = px.scatter(jugadores_rb, x=\"td_tot\", y=\"rushing_att\", color='player')\n",
    "fig.show();"
   ],
   "metadata": {
    "collapsed": false,
    "pycharm": {
     "name": "#%%\n"
    }
   }
  },
  {
   "cell_type": "markdown",
   "source": [
    "aca tenemos un ejemplo claro del heatmap, a medida que mas intentos de acarreos tienen los rbs mayor es la cantidad de anotaciones que tienen, esta correlacion es del 70%"
   ],
   "metadata": {
    "collapsed": false,
    "pycharm": {
     "name": "#%% md\n"
    }
   }
  },
  {
   "cell_type": "code",
   "execution_count": 344,
   "outputs": [
    {
     "data": {
      "application/vnd.plotly.v1+json": {
       "data": [
        {
         "hovertemplate": "player=Christian McCaffrey*+<br>rush_tds=%{x}<br>rec_tds=%{y}<extra></extra>",
         "legendgroup": "Christian McCaffrey*+",
         "marker": {
          "color": "#636efa",
          "symbol": "circle"
         },
         "mode": "markers",
         "name": "Christian McCaffrey*+",
         "orientation": "v",
         "showlegend": true,
         "x": [
          15.0
         ],
         "xaxis": "x",
         "y": [
          4.0
         ],
         "yaxis": "y",
         "type": "scatter"
        },
        {
         "hovertemplate": "player=Derrick Henry *<br>rush_tds=%{x}<br>rec_tds=%{y}<extra></extra>",
         "legendgroup": "Derrick Henry *",
         "marker": {
          "color": "#EF553B",
          "symbol": "circle"
         },
         "mode": "markers",
         "name": "Derrick Henry *",
         "orientation": "v",
         "showlegend": true,
         "x": [
          16.0
         ],
         "xaxis": "x",
         "y": [
          2.0
         ],
         "yaxis": "y",
         "type": "scatter"
        },
        {
         "hovertemplate": "player=Aaron Jones<br>rush_tds=%{x}<br>rec_tds=%{y}<extra></extra>",
         "legendgroup": "Aaron Jones",
         "marker": {
          "color": "#00cc96",
          "symbol": "circle"
         },
         "mode": "markers",
         "name": "Aaron Jones",
         "orientation": "v",
         "showlegend": true,
         "x": [
          16.0,
          4.0,
          2.0
         ],
         "xaxis": "x",
         "y": [
          3.0,
          6.0,
          4.0
         ],
         "yaxis": "y",
         "type": "scatter"
        },
        {
         "hovertemplate": "player=Ezekiel Elliott*<br>rush_tds=%{x}<br>rec_tds=%{y}<extra></extra>",
         "legendgroup": "Ezekiel Elliott*",
         "marker": {
          "color": "#ab63fa",
          "symbol": "circle"
         },
         "mode": "markers",
         "name": "Ezekiel Elliott*",
         "orientation": "v",
         "showlegend": true,
         "x": [
          12.0
         ],
         "xaxis": "x",
         "y": [
          2.0
         ],
         "yaxis": "y",
         "type": "scatter"
        },
        {
         "hovertemplate": "player=Dalvin Cook*<br>rush_tds=%{x}<br>rec_tds=%{y}<extra></extra>",
         "legendgroup": "Dalvin Cook*",
         "marker": {
          "color": "#FFA15A",
          "symbol": "circle"
         },
         "mode": "markers",
         "name": "Dalvin Cook*",
         "orientation": "v",
         "showlegend": true,
         "x": [
          13.0,
          16.0,
          6.0
         ],
         "xaxis": "x",
         "y": [
          0.0,
          1.0,
          0.0
         ],
         "yaxis": "y",
         "type": "scatter"
        },
        {
         "hovertemplate": "player=Nick Chubb*<br>rush_tds=%{x}<br>rec_tds=%{y}<extra></extra>",
         "legendgroup": "Nick Chubb*",
         "marker": {
          "color": "#19d3f3",
          "symbol": "circle"
         },
         "mode": "markers",
         "name": "Nick Chubb*",
         "orientation": "v",
         "showlegend": true,
         "x": [
          8.0,
          12.0,
          8.0
         ],
         "xaxis": "x",
         "y": [
          0.0,
          0.0,
          1.0
         ],
         "yaxis": "y",
         "type": "scatter"
        },
        {
         "hovertemplate": "player=Austin Ekeler<br>rush_tds=%{x}<br>rec_tds=%{y}<extra></extra>",
         "legendgroup": "Austin Ekeler",
         "marker": {
          "color": "#FF6692",
          "symbol": "circle"
         },
         "mode": "markers",
         "name": "Austin Ekeler",
         "orientation": "v",
         "showlegend": true,
         "x": [
          3.0,
          1.0,
          12.0,
          7.0
         ],
         "xaxis": "x",
         "y": [
          8.0,
          2.0,
          8.0,
          5.0
         ],
         "yaxis": "y",
         "type": "scatter"
        },
        {
         "hovertemplate": "player=Mark Ingram*<br>rush_tds=%{x}<br>rec_tds=%{y}<extra></extra>",
         "legendgroup": "Mark Ingram*",
         "marker": {
          "color": "#B6E880",
          "symbol": "circle"
         },
         "mode": "markers",
         "name": "Mark Ingram*",
         "orientation": "v",
         "showlegend": true,
         "x": [
          10.0
         ],
         "xaxis": "x",
         "y": [
          5.0
         ],
         "yaxis": "y",
         "type": "scatter"
        },
        {
         "hovertemplate": "player=Chris Carson<br>rush_tds=%{x}<br>rec_tds=%{y}<extra></extra>",
         "legendgroup": "Chris Carson",
         "marker": {
          "color": "#FF97FF",
          "symbol": "circle"
         },
         "mode": "markers",
         "name": "Chris Carson",
         "orientation": "v",
         "showlegend": true,
         "x": [
          7.0,
          5.0
         ],
         "xaxis": "x",
         "y": [
          2.0,
          4.0
         ],
         "yaxis": "y",
         "type": "scatter"
        },
        {
         "hovertemplate": "player=Saquon Barkley<br>rush_tds=%{x}<br>rec_tds=%{y}<extra></extra>",
         "legendgroup": "Saquon Barkley",
         "marker": {
          "color": "#FECB52",
          "symbol": "circle"
         },
         "mode": "markers",
         "name": "Saquon Barkley",
         "orientation": "v",
         "showlegend": true,
         "x": [
          6.0,
          2.0,
          8.0
         ],
         "xaxis": "x",
         "y": [
          2.0,
          2.0,
          0.0
         ],
         "yaxis": "y",
         "type": "scatter"
        },
        {
         "hovertemplate": "player=Joe Mixon<br>rush_tds=%{x}<br>rec_tds=%{y}<extra></extra>",
         "legendgroup": "Joe Mixon",
         "marker": {
          "color": "#636efa",
          "symbol": "circle"
         },
         "mode": "markers",
         "name": "Joe Mixon",
         "orientation": "v",
         "showlegend": true,
         "x": [
          5.0,
          3.0,
          6.0
         ],
         "xaxis": "x",
         "y": [
          3.0,
          1.0,
          2.0
         ],
         "yaxis": "y",
         "type": "scatter"
        },
        {
         "hovertemplate": "player=Todd Gurley<br>rush_tds=%{x}<br>rec_tds=%{y}<extra></extra>",
         "legendgroup": "Todd Gurley",
         "marker": {
          "color": "#EF553B",
          "symbol": "circle"
         },
         "mode": "markers",
         "name": "Todd Gurley",
         "orientation": "v",
         "showlegend": true,
         "x": [
          12.0,
          9.0
         ],
         "xaxis": "x",
         "y": [
          2.0,
          0.0
         ],
         "yaxis": "y",
         "type": "scatter"
        },
        {
         "hovertemplate": "player=Leonard Fournette<br>rush_tds=%{x}<br>rec_tds=%{y}<extra></extra>",
         "legendgroup": "Leonard Fournette",
         "marker": {
          "color": "#00cc96",
          "symbol": "circle"
         },
         "mode": "markers",
         "name": "Leonard Fournette",
         "orientation": "v",
         "showlegend": true,
         "x": [
          3.0,
          6.0,
          8.0,
          3.0
         ],
         "xaxis": "x",
         "y": [
          0.0,
          0.0,
          2.0,
          3.0
         ],
         "yaxis": "y",
         "type": "scatter"
        },
        {
         "hovertemplate": "player=Josh Jacobs<br>rush_tds=%{x}<br>rec_tds=%{y}<extra></extra>",
         "legendgroup": "Josh Jacobs",
         "marker": {
          "color": "#ab63fa",
          "symbol": "circle"
         },
         "mode": "markers",
         "name": "Josh Jacobs",
         "orientation": "v",
         "showlegend": true,
         "x": [
          7.0,
          9.0,
          10.0
         ],
         "xaxis": "x",
         "y": [
          0.0,
          0.0,
          0.0
         ],
         "yaxis": "y",
         "type": "scatter"
        },
        {
         "hovertemplate": "player=Miles Sanders<br>rush_tds=%{x}<br>rec_tds=%{y}<extra></extra>",
         "legendgroup": "Miles Sanders",
         "marker": {
          "color": "#FFA15A",
          "symbol": "circle"
         },
         "mode": "markers",
         "name": "Miles Sanders",
         "orientation": "v",
         "showlegend": true,
         "x": [
          3.0,
          6.0,
          0.0,
          9.0
         ],
         "xaxis": "x",
         "y": [
          3.0,
          0.0,
          0.0,
          0.0
         ],
         "yaxis": "y",
         "type": "scatter"
        },
        {
         "hovertemplate": "player=Alvin Kamara*<br>rush_tds=%{x}<br>rec_tds=%{y}<extra></extra>",
         "legendgroup": "Alvin Kamara*",
         "marker": {
          "color": "#19d3f3",
          "symbol": "circle"
         },
         "mode": "markers",
         "name": "Alvin Kamara*",
         "orientation": "v",
         "showlegend": true,
         "x": [
          5.0,
          16.0,
          4.0
         ],
         "xaxis": "x",
         "y": [
          1.0,
          5.0,
          5.0
         ],
         "yaxis": "y",
         "type": "scatter"
        },
        {
         "hovertemplate": "player=Marlon Mack<br>rush_tds=%{x}<br>rec_tds=%{y}<extra></extra>",
         "legendgroup": "Marlon Mack",
         "marker": {
          "color": "#FF6692",
          "symbol": "circle"
         },
         "mode": "markers",
         "name": "Marlon Mack",
         "orientation": "v",
         "showlegend": true,
         "x": [
          8.0
         ],
         "xaxis": "x",
         "y": [
          0.0
         ],
         "yaxis": "y",
         "type": "scatter"
        },
        {
         "hovertemplate": "player=Kenyan Drake<br>rush_tds=%{x}<br>rec_tds=%{y}<extra></extra>",
         "legendgroup": "Kenyan Drake",
         "marker": {
          "color": "#B6E880",
          "symbol": "circle"
         },
         "mode": "markers",
         "name": "Kenyan Drake",
         "orientation": "v",
         "showlegend": true,
         "x": [
          8.0,
          10.0,
          2.0,
          3.0
         ],
         "xaxis": "x",
         "y": [
          0.0,
          0.0,
          1.0,
          1.0
         ],
         "yaxis": "y",
         "type": "scatter"
        },
        {
         "hovertemplate": "player=Phillip Lindsay<br>rush_tds=%{x}<br>rec_tds=%{y}<extra></extra>",
         "legendgroup": "Phillip Lindsay",
         "marker": {
          "color": "#FF97FF",
          "symbol": "circle"
         },
         "mode": "markers",
         "name": "Phillip Lindsay",
         "orientation": "v",
         "showlegend": true,
         "x": [
          7.0,
          1.0
         ],
         "xaxis": "x",
         "y": [
          0.0,
          0.0
         ],
         "yaxis": "y",
         "type": "scatter"
        },
        {
         "hovertemplate": "player=Raheem Mostert<br>rush_tds=%{x}<br>rec_tds=%{y}<extra></extra>",
         "legendgroup": "Raheem Mostert",
         "marker": {
          "color": "#FECB52",
          "symbol": "circle"
         },
         "mode": "markers",
         "name": "Raheem Mostert",
         "orientation": "v",
         "showlegend": true,
         "x": [
          8.0,
          2.0,
          3.0
         ],
         "xaxis": "x",
         "y": [
          2.0,
          1.0,
          1.0
         ],
         "yaxis": "y",
         "type": "scatter"
        },
        {
         "hovertemplate": "player=Le'Veon Bell<br>rush_tds=%{x}<br>rec_tds=%{y}<extra></extra>",
         "legendgroup": "Le'Veon Bell",
         "marker": {
          "color": "#636efa",
          "symbol": "circle"
         },
         "mode": "markers",
         "name": "Le'Veon Bell",
         "orientation": "v",
         "showlegend": true,
         "x": [
          3.0,
          2.0
         ],
         "xaxis": "x",
         "y": [
          1.0,
          0.0
         ],
         "yaxis": "y",
         "type": "scatter"
        },
        {
         "hovertemplate": "player=David Montgomery<br>rush_tds=%{x}<br>rec_tds=%{y}<extra></extra>",
         "legendgroup": "David Montgomery",
         "marker": {
          "color": "#EF553B",
          "symbol": "circle"
         },
         "mode": "markers",
         "name": "David Montgomery",
         "orientation": "v",
         "showlegend": true,
         "x": [
          6.0,
          8.0,
          7.0,
          4.0
         ],
         "xaxis": "x",
         "y": [
          1.0,
          2.0,
          0.0,
          0.0
         ],
         "yaxis": "y",
         "type": "scatter"
        },
        {
         "hovertemplate": "player=Carlos Hyde<br>rush_tds=%{x}<br>rec_tds=%{y}<extra></extra>",
         "legendgroup": "Carlos Hyde",
         "marker": {
          "color": "#00cc96",
          "symbol": "circle"
         },
         "mode": "markers",
         "name": "Carlos Hyde",
         "orientation": "v",
         "showlegend": true,
         "x": [
          6.0,
          4.0
         ],
         "xaxis": "x",
         "y": [
          0.0,
          0.0
         ],
         "yaxis": "y",
         "type": "scatter"
        },
        {
         "hovertemplate": "player=Sony Michel<br>rush_tds=%{x}<br>rec_tds=%{y}<extra></extra>",
         "legendgroup": "Sony Michel",
         "marker": {
          "color": "#ab63fa",
          "symbol": "circle"
         },
         "mode": "markers",
         "name": "Sony Michel",
         "orientation": "v",
         "showlegend": true,
         "x": [
          7.0,
          1.0,
          4.0
         ],
         "xaxis": "x",
         "y": [
          0.0,
          1.0,
          1.0
         ],
         "yaxis": "y",
         "type": "scatter"
        },
        {
         "hovertemplate": "player=Devonta Freeman<br>rush_tds=%{x}<br>rec_tds=%{y}<extra></extra>",
         "legendgroup": "Devonta Freeman",
         "marker": {
          "color": "#FFA15A",
          "symbol": "circle"
         },
         "mode": "markers",
         "name": "Devonta Freeman",
         "orientation": "v",
         "showlegend": true,
         "x": [
          2.0,
          5.0
         ],
         "xaxis": "x",
         "y": [
          4.0,
          1.0
         ],
         "yaxis": "y",
         "type": "scatter"
        },
        {
         "hovertemplate": "player=Melvin Gordon<br>rush_tds=%{x}<br>rec_tds=%{y}<extra></extra>",
         "legendgroup": "Melvin Gordon",
         "marker": {
          "color": "#19d3f3",
          "symbol": "circle"
         },
         "mode": "markers",
         "name": "Melvin Gordon",
         "orientation": "v",
         "showlegend": true,
         "x": [
          8.0,
          9.0,
          8.0,
          2.0
         ],
         "xaxis": "x",
         "y": [
          1.0,
          1.0,
          2.0,
          0.0
         ],
         "yaxis": "y",
         "type": "scatter"
        },
        {
         "hovertemplate": "player=Ronald Jones II<br>rush_tds=%{x}<br>rec_tds=%{y}<extra></extra>",
         "legendgroup": "Ronald Jones II",
         "marker": {
          "color": "#FF6692",
          "symbol": "circle"
         },
         "mode": "markers",
         "name": "Ronald Jones II",
         "orientation": "v",
         "showlegend": true,
         "x": [
          6.0,
          7.0,
          4.0
         ],
         "xaxis": "x",
         "y": [
          0.0,
          1.0,
          0.0
         ],
         "yaxis": "y",
         "type": "scatter"
        },
        {
         "hovertemplate": "player=Adrian Peterson<br>rush_tds=%{x}<br>rec_tds=%{y}<extra></extra>",
         "legendgroup": "Adrian Peterson",
         "marker": {
          "color": "#B6E880",
          "symbol": "circle"
         },
         "mode": "markers",
         "name": "Adrian Peterson",
         "orientation": "v",
         "showlegend": true,
         "x": [
          5.0,
          7.0
         ],
         "xaxis": "x",
         "y": [
          0.0,
          0.0
         ],
         "yaxis": "y",
         "type": "scatter"
        },
        {
         "hovertemplate": "player=James White<br>rush_tds=%{x}<br>rec_tds=%{y}<extra></extra>",
         "legendgroup": "James White",
         "marker": {
          "color": "#FF97FF",
          "symbol": "circle"
         },
         "mode": "markers",
         "name": "James White",
         "orientation": "v",
         "showlegend": true,
         "x": [
          1.0,
          2.0
         ],
         "xaxis": "x",
         "y": [
          5.0,
          1.0
         ],
         "yaxis": "y",
         "type": "scatter"
        },
        {
         "hovertemplate": "player=Latavius Murray<br>rush_tds=%{x}<br>rec_tds=%{y}<extra></extra>",
         "legendgroup": "Latavius Murray",
         "marker": {
          "color": "#FECB52",
          "symbol": "circle"
         },
         "mode": "markers",
         "name": "Latavius Murray",
         "orientation": "v",
         "showlegend": true,
         "x": [
          5.0,
          4.0,
          6.0,
          4.0
         ],
         "xaxis": "x",
         "y": [
          1.0,
          1.0,
          0.0,
          0.0
         ],
         "yaxis": "y",
         "type": "scatter"
        },
        {
         "hovertemplate": "player=Devin Singletary<br>rush_tds=%{x}<br>rec_tds=%{y}<extra></extra>",
         "legendgroup": "Devin Singletary",
         "marker": {
          "color": "#636efa",
          "symbol": "circle"
         },
         "mode": "markers",
         "name": "Devin Singletary",
         "orientation": "v",
         "showlegend": true,
         "x": [
          2.0,
          2.0,
          7.0,
          4.0
         ],
         "xaxis": "x",
         "y": [
          2.0,
          0.0,
          1.0,
          1.0
         ],
         "yaxis": "y",
         "type": "scatter"
        },
        {
         "hovertemplate": "player=Tevin Coleman<br>rush_tds=%{x}<br>rec_tds=%{y}<extra></extra>",
         "legendgroup": "Tevin Coleman",
         "marker": {
          "color": "#EF553B",
          "symbol": "circle"
         },
         "mode": "markers",
         "name": "Tevin Coleman",
         "orientation": "v",
         "showlegend": true,
         "x": [
          6.0
         ],
         "xaxis": "x",
         "y": [
          1.0
         ],
         "yaxis": "y",
         "type": "scatter"
        },
        {
         "hovertemplate": "player=James Conner<br>rush_tds=%{x}<br>rec_tds=%{y}<extra></extra>",
         "legendgroup": "James Conner",
         "marker": {
          "color": "#00cc96",
          "symbol": "circle"
         },
         "mode": "markers",
         "name": "James Conner",
         "orientation": "v",
         "showlegend": true,
         "x": [
          4.0,
          6.0,
          4.0
         ],
         "xaxis": "x",
         "y": [
          3.0,
          0.0,
          1.0
         ],
         "yaxis": "y",
         "type": "scatter"
        },
        {
         "hovertemplate": "player=Damien Williams<br>rush_tds=%{x}<br>rec_tds=%{y}<extra></extra>",
         "legendgroup": "Damien Williams",
         "marker": {
          "color": "#ab63fa",
          "symbol": "circle"
         },
         "mode": "markers",
         "name": "Damien Williams",
         "orientation": "v",
         "showlegend": true,
         "x": [
          5.0,
          2.0
         ],
         "xaxis": "x",
         "y": [
          2.0,
          1.0
         ],
         "yaxis": "y",
         "type": "scatter"
        },
        {
         "hovertemplate": "player=Duke Johnson<br>rush_tds=%{x}<br>rec_tds=%{y}<extra></extra>",
         "legendgroup": "Duke Johnson",
         "marker": {
          "color": "#FFA15A",
          "symbol": "circle"
         },
         "mode": "markers",
         "name": "Duke Johnson",
         "orientation": "v",
         "showlegend": true,
         "x": [
          2.0,
          1.0
         ],
         "xaxis": "x",
         "y": [
          3.0,
          1.0
         ],
         "yaxis": "y",
         "type": "scatter"
        },
        {
         "hovertemplate": "player=Jamaal Williams<br>rush_tds=%{x}<br>rec_tds=%{y}<extra></extra>",
         "legendgroup": "Jamaal Williams",
         "marker": {
          "color": "#19d3f3",
          "symbol": "circle"
         },
         "mode": "markers",
         "name": "Jamaal Williams",
         "orientation": "v",
         "showlegend": true,
         "x": [
          1.0,
          2.0,
          3.0,
          14.0
         ],
         "xaxis": "x",
         "y": [
          5.0,
          1.0,
          0.0,
          0.0
         ],
         "yaxis": "y",
         "type": "scatter"
        },
        {
         "hovertemplate": "player=David Johnson<br>rush_tds=%{x}<br>rec_tds=%{y}<extra></extra>",
         "legendgroup": "David Johnson",
         "marker": {
          "color": "#FF6692",
          "symbol": "circle"
         },
         "mode": "markers",
         "name": "David Johnson",
         "orientation": "v",
         "showlegend": true,
         "x": [
          2.0,
          6.0,
          0.0
         ],
         "xaxis": "x",
         "y": [
          4.0,
          2.0,
          1.0
         ],
         "yaxis": "y",
         "type": "scatter"
        },
        {
         "hovertemplate": "player=Peyton Barber<br>rush_tds=%{x}<br>rec_tds=%{y}<extra></extra>",
         "legendgroup": "Peyton Barber",
         "marker": {
          "color": "#B6E880",
          "symbol": "circle"
         },
         "mode": "markers",
         "name": "Peyton Barber",
         "orientation": "v",
         "showlegend": true,
         "x": [
          6.0
         ],
         "xaxis": "x",
         "y": [
          1.0
         ],
         "yaxis": "y",
         "type": "scatter"
        },
        {
         "hovertemplate": "player=Jordan Howard<br>rush_tds=%{x}<br>rec_tds=%{y}<extra></extra>",
         "legendgroup": "Jordan Howard",
         "marker": {
          "color": "#FF97FF",
          "symbol": "circle"
         },
         "mode": "markers",
         "name": "Jordan Howard",
         "orientation": "v",
         "showlegend": true,
         "x": [
          6.0,
          3.0
         ],
         "xaxis": "x",
         "y": [
          1.0,
          0.0
         ],
         "yaxis": "y",
         "type": "scatter"
        },
        {
         "hovertemplate": "player=Royce Freeman<br>rush_tds=%{x}<br>rec_tds=%{y}<extra></extra>",
         "legendgroup": "Royce Freeman",
         "marker": {
          "color": "#FECB52",
          "symbol": "circle"
         },
         "mode": "markers",
         "name": "Royce Freeman",
         "orientation": "v",
         "showlegend": true,
         "x": [
          3.0
         ],
         "xaxis": "x",
         "y": [
          1.0
         ],
         "yaxis": "y",
         "type": "scatter"
        },
        {
         "hovertemplate": "player=LeSean McCoy<br>rush_tds=%{x}<br>rec_tds=%{y}<extra></extra>",
         "legendgroup": "LeSean McCoy",
         "marker": {
          "color": "#636efa",
          "symbol": "circle"
         },
         "mode": "markers",
         "name": "LeSean McCoy",
         "orientation": "v",
         "showlegend": true,
         "x": [
          4.0
         ],
         "xaxis": "x",
         "y": [
          1.0
         ],
         "yaxis": "y",
         "type": "scatter"
        },
        {
         "hovertemplate": "player=Gus Edwards<br>rush_tds=%{x}<br>rec_tds=%{y}<extra></extra>",
         "legendgroup": "Gus Edwards",
         "marker": {
          "color": "#EF553B",
          "symbol": "circle"
         },
         "mode": "markers",
         "name": "Gus Edwards",
         "orientation": "v",
         "showlegend": true,
         "x": [
          2.0,
          6.0
         ],
         "xaxis": "x",
         "y": [
          0.0,
          0.0
         ],
         "yaxis": "y",
         "type": "scatter"
        },
        {
         "hovertemplate": "player=DeAndre Washington<br>rush_tds=%{x}<br>rec_tds=%{y}<extra></extra>",
         "legendgroup": "DeAndre Washington",
         "marker": {
          "color": "#00cc96",
          "symbol": "circle"
         },
         "mode": "markers",
         "name": "DeAndre Washington",
         "orientation": "v",
         "showlegend": true,
         "x": [
          3.0
         ],
         "xaxis": "x",
         "y": [
          0.0
         ],
         "yaxis": "y",
         "type": "scatter"
        },
        {
         "hovertemplate": "player=Tarik Cohen<br>rush_tds=%{x}<br>rec_tds=%{y}<extra></extra>",
         "legendgroup": "Tarik Cohen",
         "marker": {
          "color": "#ab63fa",
          "symbol": "circle"
         },
         "mode": "markers",
         "name": "Tarik Cohen",
         "orientation": "v",
         "showlegend": true,
         "x": [
          0.0
         ],
         "xaxis": "x",
         "y": [
          3.0
         ],
         "yaxis": "y",
         "type": "scatter"
        },
        {
         "hovertemplate": "player=Matt Breida<br>rush_tds=%{x}<br>rec_tds=%{y}<extra></extra>",
         "legendgroup": "Matt Breida",
         "marker": {
          "color": "#FFA15A",
          "symbol": "circle"
         },
         "mode": "markers",
         "name": "Matt Breida",
         "orientation": "v",
         "showlegend": true,
         "x": [
          1.0
         ],
         "xaxis": "x",
         "y": [
          1.0
         ],
         "yaxis": "y",
         "type": "scatter"
        },
        {
         "hovertemplate": "player=Frank Gore<br>rush_tds=%{x}<br>rec_tds=%{y}<extra></extra>",
         "legendgroup": "Frank Gore",
         "marker": {
          "color": "#19d3f3",
          "symbol": "circle"
         },
         "mode": "markers",
         "name": "Frank Gore",
         "orientation": "v",
         "showlegend": true,
         "x": [
          2.0,
          2.0
         ],
         "xaxis": "x",
         "y": [
          0.0,
          0.0
         ],
         "yaxis": "y",
         "type": "scatter"
        },
        {
         "hovertemplate": "player=Kerryon Johnson<br>rush_tds=%{x}<br>rec_tds=%{y}<extra></extra>",
         "legendgroup": "Kerryon Johnson",
         "marker": {
          "color": "#FF6692",
          "symbol": "circle"
         },
         "mode": "markers",
         "name": "Kerryon Johnson",
         "orientation": "v",
         "showlegend": true,
         "x": [
          3.0,
          2.0
         ],
         "xaxis": "x",
         "y": [
          1.0,
          1.0
         ],
         "yaxis": "y",
         "type": "scatter"
        },
        {
         "hovertemplate": "player=Rex Burkhead<br>rush_tds=%{x}<br>rec_tds=%{y}<extra></extra>",
         "legendgroup": "Rex Burkhead",
         "marker": {
          "color": "#B6E880",
          "symbol": "circle"
         },
         "mode": "markers",
         "name": "Rex Burkhead",
         "orientation": "v",
         "showlegend": true,
         "x": [
          3.0,
          3.0,
          3.0
         ],
         "xaxis": "x",
         "y": [
          0.0,
          3.0,
          0.0
         ],
         "yaxis": "y",
         "type": "scatter"
        },
        {
         "hovertemplate": "player=Nyheim Hines<br>rush_tds=%{x}<br>rec_tds=%{y}<extra></extra>",
         "legendgroup": "Nyheim Hines",
         "marker": {
          "color": "#FF97FF",
          "symbol": "circle"
         },
         "mode": "markers",
         "name": "Nyheim Hines",
         "orientation": "v",
         "showlegend": true,
         "x": [
          2.0,
          3.0,
          2.0
         ],
         "xaxis": "x",
         "y": [
          0.0,
          4.0,
          1.0
         ],
         "yaxis": "y",
         "type": "scatter"
        },
        {
         "hovertemplate": "player=Tony Pollard<br>rush_tds=%{x}<br>rec_tds=%{y}<extra></extra>",
         "legendgroup": "Tony Pollard",
         "marker": {
          "color": "#FECB52",
          "symbol": "circle"
         },
         "mode": "markers",
         "name": "Tony Pollard",
         "orientation": "v",
         "showlegend": true,
         "x": [
          2.0,
          4.0,
          2.0,
          8.0
         ],
         "xaxis": "x",
         "y": [
          1.0,
          1.0,
          0.0,
          2.0
         ],
         "yaxis": "y",
         "type": "scatter"
        },
        {
         "hovertemplate": "player=Boston Scott<br>rush_tds=%{x}<br>rec_tds=%{y}<extra></extra>",
         "legendgroup": "Boston Scott",
         "marker": {
          "color": "#636efa",
          "symbol": "circle"
         },
         "mode": "markers",
         "name": "Boston Scott",
         "orientation": "v",
         "showlegend": true,
         "x": [
          5.0,
          1.0,
          7.0
         ],
         "xaxis": "x",
         "y": [
          0.0,
          1.0,
          0.0
         ],
         "yaxis": "y",
         "type": "scatter"
        },
        {
         "hovertemplate": "player=Chase Edmonds<br>rush_tds=%{x}<br>rec_tds=%{y}<extra></extra>",
         "legendgroup": "Chase Edmonds",
         "marker": {
          "color": "#EF553B",
          "symbol": "circle"
         },
         "mode": "markers",
         "name": "Chase Edmonds",
         "orientation": "v",
         "showlegend": true,
         "x": [
          4.0,
          1.0,
          2.0
         ],
         "xaxis": "x",
         "y": [
          1.0,
          4.0,
          0.0
         ],
         "yaxis": "y",
         "type": "scatter"
        },
        {
         "hovertemplate": "player=Rashaad Penny<br>rush_tds=%{x}<br>rec_tds=%{y}<extra></extra>",
         "legendgroup": "Rashaad Penny",
         "marker": {
          "color": "#00cc96",
          "symbol": "circle"
         },
         "mode": "markers",
         "name": "Rashaad Penny",
         "orientation": "v",
         "showlegend": true,
         "x": [
          3.0,
          6.0
         ],
         "xaxis": "x",
         "y": [
          1.0,
          0.0
         ],
         "yaxis": "y",
         "type": "scatter"
        },
        {
         "hovertemplate": "player=Kareem Hunt<br>rush_tds=%{x}<br>rec_tds=%{y}<extra></extra>",
         "legendgroup": "Kareem Hunt",
         "marker": {
          "color": "#ab63fa",
          "symbol": "circle"
         },
         "mode": "markers",
         "name": "Kareem Hunt",
         "orientation": "v",
         "showlegend": true,
         "x": [
          2.0,
          6.0,
          5.0,
          3.0
         ],
         "xaxis": "x",
         "y": [
          1.0,
          5.0,
          0.0,
          1.0
         ],
         "yaxis": "y",
         "type": "scatter"
        },
        {
         "hovertemplate": "player=Alexander Mattison<br>rush_tds=%{x}<br>rec_tds=%{y}<extra></extra>",
         "legendgroup": "Alexander Mattison",
         "marker": {
          "color": "#FFA15A",
          "symbol": "circle"
         },
         "mode": "markers",
         "name": "Alexander Mattison",
         "orientation": "v",
         "showlegend": true,
         "x": [
          1.0,
          2.0,
          3.0,
          3.0
         ],
         "xaxis": "x",
         "y": [
          0.0,
          1.0,
          1.0,
          1.0
         ],
         "yaxis": "y",
         "type": "scatter"
        },
        {
         "hovertemplate": "player=Brian Hill<br>rush_tds=%{x}<br>rec_tds=%{y}<extra></extra>",
         "legendgroup": "Brian Hill",
         "marker": {
          "color": "#19d3f3",
          "symbol": "circle"
         },
         "mode": "markers",
         "name": "Brian Hill",
         "orientation": "v",
         "showlegend": true,
         "x": [
          2.0,
          1.0
         ],
         "xaxis": "x",
         "y": [
          1.0,
          0.0
         ],
         "yaxis": "y",
         "type": "scatter"
        },
        {
         "hovertemplate": "player=Jaylen Samuels<br>rush_tds=%{x}<br>rec_tds=%{y}<extra></extra>",
         "legendgroup": "Jaylen Samuels",
         "marker": {
          "color": "#FF6692",
          "symbol": "circle"
         },
         "mode": "markers",
         "name": "Jaylen Samuels",
         "orientation": "v",
         "showlegend": true,
         "x": [
          1.0
         ],
         "xaxis": "x",
         "y": [
          1.0
         ],
         "yaxis": "y",
         "type": "scatter"
        },
        {
         "hovertemplate": "player=Darrel Williams<br>rush_tds=%{x}<br>rec_tds=%{y}<extra></extra>",
         "legendgroup": "Darrel Williams",
         "marker": {
          "color": "#B6E880",
          "symbol": "circle"
         },
         "mode": "markers",
         "name": "Darrel Williams",
         "orientation": "v",
         "showlegend": true,
         "x": [
          3.0,
          6.0
         ],
         "xaxis": "x",
         "y": [
          1.0,
          2.0
         ],
         "yaxis": "y",
         "type": "scatter"
        },
        {
         "hovertemplate": "player=Chris Thompson<br>rush_tds=%{x}<br>rec_tds=%{y}<extra></extra>",
         "legendgroup": "Chris Thompson",
         "marker": {
          "color": "#FF97FF",
          "symbol": "circle"
         },
         "mode": "markers",
         "name": "Chris Thompson",
         "orientation": "v",
         "showlegend": true,
         "x": [
          0.0
         ],
         "xaxis": "x",
         "y": [
          0.0
         ],
         "yaxis": "y",
         "type": "scatter"
        },
        {
         "hovertemplate": "player=J.D. McKissic<br>rush_tds=%{x}<br>rec_tds=%{y}<extra></extra>",
         "legendgroup": "J.D. McKissic",
         "marker": {
          "color": "#FECB52",
          "symbol": "circle"
         },
         "mode": "markers",
         "name": "J.D. McKissic",
         "orientation": "v",
         "showlegend": true,
         "x": [
          0.0,
          1.0,
          2.0
         ],
         "xaxis": "x",
         "y": [
          1.0,
          2.0,
          2.0
         ],
         "yaxis": "y",
         "type": "scatter"
        },
        {
         "hovertemplate": "player=Jalen Richard<br>rush_tds=%{x}<br>rec_tds=%{y}<extra></extra>",
         "legendgroup": "Jalen Richard",
         "marker": {
          "color": "#636efa",
          "symbol": "circle"
         },
         "mode": "markers",
         "name": "Jalen Richard",
         "orientation": "v",
         "showlegend": true,
         "x": [
          0.0
         ],
         "xaxis": "x",
         "y": [
          0.0
         ],
         "yaxis": "y",
         "type": "scatter"
        },
        {
         "hovertemplate": "player=Patrick Laird<br>rush_tds=%{x}<br>rec_tds=%{y}<extra></extra>",
         "legendgroup": "Patrick Laird",
         "marker": {
          "color": "#EF553B",
          "symbol": "circle"
         },
         "mode": "markers",
         "name": "Patrick Laird",
         "orientation": "v",
         "showlegend": true,
         "x": [
          1.0
         ],
         "xaxis": "x",
         "y": [
          0.0
         ],
         "yaxis": "y",
         "type": "scatter"
        },
        {
         "hovertemplate": "player=Dion Lewis<br>rush_tds=%{x}<br>rec_tds=%{y}<extra></extra>",
         "legendgroup": "Dion Lewis",
         "marker": {
          "color": "#00cc96",
          "symbol": "circle"
         },
         "mode": "markers",
         "name": "Dion Lewis",
         "orientation": "v",
         "showlegend": true,
         "x": [
          0.0
         ],
         "xaxis": "x",
         "y": [
          1.0
         ],
         "yaxis": "y",
         "type": "scatter"
        },
        {
         "hovertemplate": "player=Dare Ogunbowale<br>rush_tds=%{x}<br>rec_tds=%{y}<extra></extra>",
         "legendgroup": "Dare Ogunbowale",
         "marker": {
          "color": "#ab63fa",
          "symbol": "circle"
         },
         "mode": "markers",
         "name": "Dare Ogunbowale",
         "orientation": "v",
         "showlegend": true,
         "x": [
          2.0
         ],
         "xaxis": "x",
         "y": [
          0.0
         ],
         "yaxis": "y",
         "type": "scatter"
        },
        {
         "hovertemplate": "player=Giovani Bernard<br>rush_tds=%{x}<br>rec_tds=%{y}<extra></extra>",
         "legendgroup": "Giovani Bernard",
         "marker": {
          "color": "#FFA15A",
          "symbol": "circle"
         },
         "mode": "markers",
         "name": "Giovani Bernard",
         "orientation": "v",
         "showlegend": true,
         "x": [
          0.0,
          3.0
         ],
         "xaxis": "x",
         "y": [
          0.0,
          3.0
         ],
         "yaxis": "y",
         "type": "scatter"
        },
        {
         "hovertemplate": "player=Ty Johnson<br>rush_tds=%{x}<br>rec_tds=%{y}<extra></extra>",
         "legendgroup": "Ty Johnson",
         "marker": {
          "color": "#19d3f3",
          "symbol": "circle"
         },
         "mode": "markers",
         "name": "Ty Johnson",
         "orientation": "v",
         "showlegend": true,
         "x": [
          0.0,
          1.0,
          2.0
         ],
         "xaxis": "x",
         "y": [
          0.0,
          1.0,
          2.0
         ],
         "yaxis": "y",
         "type": "scatter"
        },
        {
         "hovertemplate": "player=Derrick Henry *+<br>rush_tds=%{x}<br>rec_tds=%{y}<extra></extra>",
         "legendgroup": "Derrick Henry *+",
         "marker": {
          "color": "#FF6692",
          "symbol": "circle"
         },
         "mode": "markers",
         "name": "Derrick Henry *+",
         "orientation": "v",
         "showlegend": true,
         "x": [
          17.0
         ],
         "xaxis": "x",
         "y": [
          0.0
         ],
         "yaxis": "y",
         "type": "scatter"
        },
        {
         "hovertemplate": "player=Jonathan Taylor<br>rush_tds=%{x}<br>rec_tds=%{y}<extra></extra>",
         "legendgroup": "Jonathan Taylor",
         "marker": {
          "color": "#B6E880",
          "symbol": "circle"
         },
         "mode": "markers",
         "name": "Jonathan Taylor",
         "orientation": "v",
         "showlegend": true,
         "x": [
          11.0,
          4.0
         ],
         "xaxis": "x",
         "y": [
          1.0,
          0.0
         ],
         "yaxis": "y",
         "type": "scatter"
        },
        {
         "hovertemplate": "player=Aaron Jones*<br>rush_tds=%{x}<br>rec_tds=%{y}<extra></extra>",
         "legendgroup": "Aaron Jones*",
         "marker": {
          "color": "#FF97FF",
          "symbol": "circle"
         },
         "mode": "markers",
         "name": "Aaron Jones*",
         "orientation": "v",
         "showlegend": true,
         "x": [
          9.0
         ],
         "xaxis": "x",
         "y": [
          2.0
         ],
         "yaxis": "y",
         "type": "scatter"
        },
        {
         "hovertemplate": "player=James Robinson<br>rush_tds=%{x}<br>rec_tds=%{y}<extra></extra>",
         "legendgroup": "James Robinson",
         "marker": {
          "color": "#FECB52",
          "symbol": "circle"
         },
         "mode": "markers",
         "name": "James Robinson",
         "orientation": "v",
         "showlegend": true,
         "x": [
          7.0,
          8.0,
          3.0
         ],
         "xaxis": "x",
         "y": [
          3.0,
          0.0,
          2.0
         ],
         "yaxis": "y",
         "type": "scatter"
        },
        {
         "hovertemplate": "player=Josh Jacobs*<br>rush_tds=%{x}<br>rec_tds=%{y}<extra></extra>",
         "legendgroup": "Josh Jacobs*",
         "marker": {
          "color": "#636efa",
          "symbol": "circle"
         },
         "mode": "markers",
         "name": "Josh Jacobs*",
         "orientation": "v",
         "showlegend": true,
         "x": [
          12.0
         ],
         "xaxis": "x",
         "y": [
          0.0
         ],
         "yaxis": "y",
         "type": "scatter"
        },
        {
         "hovertemplate": "player=Ezekiel Elliott<br>rush_tds=%{x}<br>rec_tds=%{y}<extra></extra>",
         "legendgroup": "Ezekiel Elliott",
         "marker": {
          "color": "#EF553B",
          "symbol": "circle"
         },
         "mode": "markers",
         "name": "Ezekiel Elliott",
         "orientation": "v",
         "showlegend": true,
         "x": [
          6.0,
          10.0,
          8.0
         ],
         "xaxis": "x",
         "y": [
          2.0,
          2.0,
          0.0
         ],
         "yaxis": "y",
         "type": "scatter"
        },
        {
         "hovertemplate": "player=Antonio Gibson<br>rush_tds=%{x}<br>rec_tds=%{y}<extra></extra>",
         "legendgroup": "Antonio Gibson",
         "marker": {
          "color": "#00cc96",
          "symbol": "circle"
         },
         "mode": "markers",
         "name": "Antonio Gibson",
         "orientation": "v",
         "showlegend": true,
         "x": [
          11.0,
          7.0,
          3.0
         ],
         "xaxis": "x",
         "y": [
          0.0,
          3.0,
          2.0
         ],
         "yaxis": "y",
         "type": "scatter"
        },
        {
         "hovertemplate": "player=J.K. Dobbins<br>rush_tds=%{x}<br>rec_tds=%{y}<extra></extra>",
         "legendgroup": "J.K. Dobbins",
         "marker": {
          "color": "#ab63fa",
          "symbol": "circle"
         },
         "mode": "markers",
         "name": "J.K. Dobbins",
         "orientation": "v",
         "showlegend": true,
         "x": [
          9.0
         ],
         "xaxis": "x",
         "y": [
          0.0
         ],
         "yaxis": "y",
         "type": "scatter"
        },
        {
         "hovertemplate": "player=Mike Davis<br>rush_tds=%{x}<br>rec_tds=%{y}<extra></extra>",
         "legendgroup": "Mike Davis",
         "marker": {
          "color": "#FFA15A",
          "symbol": "circle"
         },
         "mode": "markers",
         "name": "Mike Davis",
         "orientation": "v",
         "showlegend": true,
         "x": [
          6.0,
          3.0
         ],
         "xaxis": "x",
         "y": [
          2.0,
          1.0
         ],
         "yaxis": "y",
         "type": "scatter"
        },
        {
         "hovertemplate": "player=D'Andre Swift<br>rush_tds=%{x}<br>rec_tds=%{y}<extra></extra>",
         "legendgroup": "D'Andre Swift",
         "marker": {
          "color": "#19d3f3",
          "symbol": "circle"
         },
         "mode": "markers",
         "name": "D'Andre Swift",
         "orientation": "v",
         "showlegend": true,
         "x": [
          8.0,
          5.0,
          4.0
         ],
         "xaxis": "x",
         "y": [
          2.0,
          2.0,
          2.0
         ],
         "yaxis": "y",
         "type": "scatter"
        },
        {
         "hovertemplate": "player=Clyde Edwards-Helaire<br>rush_tds=%{x}<br>rec_tds=%{y}<extra></extra>",
         "legendgroup": "Clyde Edwards-Helaire",
         "marker": {
          "color": "#FF6692",
          "symbol": "circle"
         },
         "mode": "markers",
         "name": "Clyde Edwards-Helaire",
         "orientation": "v",
         "showlegend": true,
         "x": [
          4.0,
          4.0,
          3.0
         ],
         "xaxis": "x",
         "y": [
          1.0,
          2.0,
          3.0
         ],
         "yaxis": "y",
         "type": "scatter"
        },
        {
         "hovertemplate": "player=Jeff Wilson<br>rush_tds=%{x}<br>rec_tds=%{y}<extra></extra>",
         "legendgroup": "Jeff Wilson",
         "marker": {
          "color": "#B6E880",
          "symbol": "circle"
         },
         "mode": "markers",
         "name": "Jeff Wilson",
         "orientation": "v",
         "showlegend": true,
         "x": [
          7.0,
          4.0
         ],
         "xaxis": "x",
         "y": [
          3.0,
          1.0
         ],
         "yaxis": "y",
         "type": "scatter"
        },
        {
         "hovertemplate": "player=Myles Gaskin<br>rush_tds=%{x}<br>rec_tds=%{y}<extra></extra>",
         "legendgroup": "Myles Gaskin",
         "marker": {
          "color": "#FF97FF",
          "symbol": "circle"
         },
         "mode": "markers",
         "name": "Myles Gaskin",
         "orientation": "v",
         "showlegend": true,
         "x": [
          3.0,
          3.0
         ],
         "xaxis": "x",
         "y": [
          2.0,
          4.0
         ],
         "yaxis": "y",
         "type": "scatter"
        },
        {
         "hovertemplate": "player=Wayne Gallman<br>rush_tds=%{x}<br>rec_tds=%{y}<extra></extra>",
         "legendgroup": "Wayne Gallman",
         "marker": {
          "color": "#FECB52",
          "symbol": "circle"
         },
         "mode": "markers",
         "name": "Wayne Gallman",
         "orientation": "v",
         "showlegend": true,
         "x": [
          6.0
         ],
         "xaxis": "x",
         "y": [
          0.0
         ],
         "yaxis": "y",
         "type": "scatter"
        },
        {
         "hovertemplate": "player=Darrell Henderson<br>rush_tds=%{x}<br>rec_tds=%{y}<extra></extra>",
         "legendgroup": "Darrell Henderson",
         "marker": {
          "color": "#636efa",
          "symbol": "circle"
         },
         "mode": "markers",
         "name": "Darrell Henderson",
         "orientation": "v",
         "showlegend": true,
         "x": [
          5.0,
          5.0,
          3.0
         ],
         "xaxis": "x",
         "y": [
          1.0,
          3.0,
          0.0
         ],
         "yaxis": "y",
         "type": "scatter"
        },
        {
         "hovertemplate": "player=Jerick McKinnon<br>rush_tds=%{x}<br>rec_tds=%{y}<extra></extra>",
         "legendgroup": "Jerick McKinnon",
         "marker": {
          "color": "#EF553B",
          "symbol": "circle"
         },
         "mode": "markers",
         "name": "Jerick McKinnon",
         "orientation": "v",
         "showlegend": true,
         "x": [
          5.0,
          0.0
         ],
         "xaxis": "x",
         "y": [
          1.0,
          2.0
         ],
         "yaxis": "y",
         "type": "scatter"
        },
        {
         "hovertemplate": "player=Cam Akers<br>rush_tds=%{x}<br>rec_tds=%{y}<extra></extra>",
         "legendgroup": "Cam Akers",
         "marker": {
          "color": "#00cc96",
          "symbol": "circle"
         },
         "mode": "markers",
         "name": "Cam Akers",
         "orientation": "v",
         "showlegend": true,
         "x": [
          2.0
         ],
         "xaxis": "x",
         "y": [
          1.0
         ],
         "yaxis": "y",
         "type": "scatter"
        },
        {
         "hovertemplate": "player=Zack Moss<br>rush_tds=%{x}<br>rec_tds=%{y}<extra></extra>",
         "legendgroup": "Zack Moss",
         "marker": {
          "color": "#ab63fa",
          "symbol": "circle"
         },
         "mode": "markers",
         "name": "Zack Moss",
         "orientation": "v",
         "showlegend": true,
         "x": [
          4.0,
          4.0
         ],
         "xaxis": "x",
         "y": [
          1.0,
          1.0
         ],
         "yaxis": "y",
         "type": "scatter"
        },
        {
         "hovertemplate": "player=Malcolm Brown<br>rush_tds=%{x}<br>rec_tds=%{y}<extra></extra>",
         "legendgroup": "Malcolm Brown",
         "marker": {
          "color": "#FFA15A",
          "symbol": "circle"
         },
         "mode": "markers",
         "name": "Malcolm Brown",
         "orientation": "v",
         "showlegend": true,
         "x": [
          5.0
         ],
         "xaxis": "x",
         "y": [
          0.0
         ],
         "yaxis": "y",
         "type": "scatter"
        },
        {
         "hovertemplate": "player=Damien Harris<br>rush_tds=%{x}<br>rec_tds=%{y}<extra></extra>",
         "legendgroup": "Damien Harris",
         "marker": {
          "color": "#19d3f3",
          "symbol": "circle"
         },
         "mode": "markers",
         "name": "Damien Harris",
         "orientation": "v",
         "showlegend": true,
         "x": [
          2.0,
          15.0,
          3.0
         ],
         "xaxis": "x",
         "y": [
          0.0,
          0.0,
          0.0
         ],
         "yaxis": "y",
         "type": "scatter"
        },
        {
         "hovertemplate": "player=Christian McCaffrey<br>rush_tds=%{x}<br>rec_tds=%{y}<extra></extra>",
         "legendgroup": "Christian McCaffrey",
         "marker": {
          "color": "#FF6692",
          "symbol": "circle"
         },
         "mode": "markers",
         "name": "Christian McCaffrey",
         "orientation": "v",
         "showlegend": true,
         "x": [
          5.0,
          1.0,
          4.0
         ],
         "xaxis": "x",
         "y": [
          1.0,
          1.0,
          3.0
         ],
         "yaxis": "y",
         "type": "scatter"
        },
        {
         "hovertemplate": "player=Devontae Booker<br>rush_tds=%{x}<br>rec_tds=%{y}<extra></extra>",
         "legendgroup": "Devontae Booker",
         "marker": {
          "color": "#B6E880",
          "symbol": "circle"
         },
         "mode": "markers",
         "name": "Devontae Booker",
         "orientation": "v",
         "showlegend": true,
         "x": [
          3.0,
          2.0
         ],
         "xaxis": "x",
         "y": [
          0.0,
          1.0
         ],
         "yaxis": "y",
         "type": "scatter"
        },
        {
         "hovertemplate": "player=Kalen Ballage<br>rush_tds=%{x}<br>rec_tds=%{y}<extra></extra>",
         "legendgroup": "Kalen Ballage",
         "marker": {
          "color": "#FF97FF",
          "symbol": "circle"
         },
         "mode": "markers",
         "name": "Kalen Ballage",
         "orientation": "v",
         "showlegend": true,
         "x": [
          3.0
         ],
         "xaxis": "x",
         "y": [
          0.0
         ],
         "yaxis": "y",
         "type": "scatter"
        },
        {
         "hovertemplate": "player=Benny Snell Jr.<br>rush_tds=%{x}<br>rec_tds=%{y}<extra></extra>",
         "legendgroup": "Benny Snell Jr.",
         "marker": {
          "color": "#FECB52",
          "symbol": "circle"
         },
         "mode": "markers",
         "name": "Benny Snell Jr.",
         "orientation": "v",
         "showlegend": true,
         "x": [
          4.0
         ],
         "xaxis": "x",
         "y": [
          0.0
         ],
         "yaxis": "y",
         "type": "scatter"
        },
        {
         "hovertemplate": "player=Kyle Juszczyk*<br>rush_tds=%{x}<br>rec_tds=%{y}<extra></extra>",
         "legendgroup": "Kyle Juszczyk*",
         "marker": {
          "color": "#636efa",
          "symbol": "circle"
         },
         "mode": "markers",
         "name": "Kyle Juszczyk*",
         "orientation": "v",
         "showlegend": true,
         "x": [
          2.0,
          1.0
         ],
         "xaxis": "x",
         "y": [
          4.0,
          1.0
         ],
         "yaxis": "y",
         "type": "scatter"
        },
        {
         "hovertemplate": "player=Salvon Ahmed<br>rush_tds=%{x}<br>rec_tds=%{y}<extra></extra>",
         "legendgroup": "Salvon Ahmed",
         "marker": {
          "color": "#EF553B",
          "symbol": "circle"
         },
         "mode": "markers",
         "name": "Salvon Ahmed",
         "orientation": "v",
         "showlegend": true,
         "x": [
          3.0
         ],
         "xaxis": "x",
         "y": [
          0.0
         ],
         "yaxis": "y",
         "type": "scatter"
        },
        {
         "hovertemplate": "player=Joshua Kelley<br>rush_tds=%{x}<br>rec_tds=%{y}<extra></extra>",
         "legendgroup": "Joshua Kelley",
         "marker": {
          "color": "#00cc96",
          "symbol": "circle"
         },
         "mode": "markers",
         "name": "Joshua Kelley",
         "orientation": "v",
         "showlegend": true,
         "x": [
          2.0
         ],
         "xaxis": "x",
         "y": [
          0.0
         ],
         "yaxis": "y",
         "type": "scatter"
        },
        {
         "hovertemplate": "player=Samaje Perine<br>rush_tds=%{x}<br>rec_tds=%{y}<extra></extra>",
         "legendgroup": "Samaje Perine",
         "marker": {
          "color": "#ab63fa",
          "symbol": "circle"
         },
         "mode": "markers",
         "name": "Samaje Perine",
         "orientation": "v",
         "showlegend": true,
         "x": [
          3.0,
          1.0,
          1.0
         ],
         "xaxis": "x",
         "y": [
          0.0,
          1.0,
          4.0
         ],
         "yaxis": "y",
         "type": "scatter"
        },
        {
         "hovertemplate": "player=Jordan Wilkins<br>rush_tds=%{x}<br>rec_tds=%{y}<extra></extra>",
         "legendgroup": "Jordan Wilkins",
         "marker": {
          "color": "#FFA15A",
          "symbol": "circle"
         },
         "mode": "markers",
         "name": "Jordan Wilkins",
         "orientation": "v",
         "showlegend": true,
         "x": [
          1.0
         ],
         "xaxis": "x",
         "y": [
          0.0
         ],
         "yaxis": "y",
         "type": "scatter"
        },
        {
         "hovertemplate": "player=Justin Jackson<br>rush_tds=%{x}<br>rec_tds=%{y}<extra></extra>",
         "legendgroup": "Justin Jackson",
         "marker": {
          "color": "#19d3f3",
          "symbol": "circle"
         },
         "mode": "markers",
         "name": "Justin Jackson",
         "orientation": "v",
         "showlegend": true,
         "x": [
          0.0,
          2.0
         ],
         "xaxis": "x",
         "y": [
          0.0,
          0.0
         ],
         "yaxis": "y",
         "type": "scatter"
        },
        {
         "hovertemplate": "player=Jonathan Taylor*+<br>rush_tds=%{x}<br>rec_tds=%{y}<extra></extra>",
         "legendgroup": "Jonathan Taylor*+",
         "marker": {
          "color": "#FF6692",
          "symbol": "circle"
         },
         "mode": "markers",
         "name": "Jonathan Taylor*+",
         "orientation": "v",
         "showlegend": true,
         "x": [
          18.0
         ],
         "xaxis": "x",
         "y": [
          2.0
         ],
         "yaxis": "y",
         "type": "scatter"
        },
        {
         "hovertemplate": "player=Joe Mixon*<br>rush_tds=%{x}<br>rec_tds=%{y}<extra></extra>",
         "legendgroup": "Joe Mixon*",
         "marker": {
          "color": "#B6E880",
          "symbol": "circle"
         },
         "mode": "markers",
         "name": "Joe Mixon*",
         "orientation": "v",
         "showlegend": true,
         "x": [
          13.0
         ],
         "xaxis": "x",
         "y": [
          3.0
         ],
         "yaxis": "y",
         "type": "scatter"
        },
        {
         "hovertemplate": "player=Najee Harris*<br>rush_tds=%{x}<br>rec_tds=%{y}<extra></extra>",
         "legendgroup": "Najee Harris*",
         "marker": {
          "color": "#FF97FF",
          "symbol": "circle"
         },
         "mode": "markers",
         "name": "Najee Harris*",
         "orientation": "v",
         "showlegend": true,
         "x": [
          7.0
         ],
         "xaxis": "x",
         "y": [
          3.0
         ],
         "yaxis": "y",
         "type": "scatter"
        },
        {
         "hovertemplate": "player=James Conner*<br>rush_tds=%{x}<br>rec_tds=%{y}<extra></extra>",
         "legendgroup": "James Conner*",
         "marker": {
          "color": "#FECB52",
          "symbol": "circle"
         },
         "mode": "markers",
         "name": "James Conner*",
         "orientation": "v",
         "showlegend": true,
         "x": [
          15.0
         ],
         "xaxis": "x",
         "y": [
          3.0
         ],
         "yaxis": "y",
         "type": "scatter"
        },
        {
         "hovertemplate": "player=Cordarrelle Patterson<br>rush_tds=%{x}<br>rec_tds=%{y}<extra></extra>",
         "legendgroup": "Cordarrelle Patterson",
         "marker": {
          "color": "#636efa",
          "symbol": "circle"
         },
         "mode": "markers",
         "name": "Cordarrelle Patterson",
         "orientation": "v",
         "showlegend": true,
         "x": [
          6.0,
          5.0
         ],
         "xaxis": "x",
         "y": [
          5.0,
          0.0
         ],
         "yaxis": "y",
         "type": "scatter"
        },
        {
         "hovertemplate": "player=Derrick Henry<br>rush_tds=%{x}<br>rec_tds=%{y}<extra></extra>",
         "legendgroup": "Derrick Henry",
         "marker": {
          "color": "#EF553B",
          "symbol": "circle"
         },
         "mode": "markers",
         "name": "Derrick Henry",
         "orientation": "v",
         "showlegend": true,
         "x": [
          10.0,
          10.0
         ],
         "xaxis": "x",
         "y": [
          0.0,
          0.0
         ],
         "yaxis": "y",
         "type": "scatter"
        },
        {
         "hovertemplate": "player=Javonte Williams<br>rush_tds=%{x}<br>rec_tds=%{y}<extra></extra>",
         "legendgroup": "Javonte Williams",
         "marker": {
          "color": "#00cc96",
          "symbol": "circle"
         },
         "mode": "markers",
         "name": "Javonte Williams",
         "orientation": "v",
         "showlegend": true,
         "x": [
          4.0
         ],
         "xaxis": "x",
         "y": [
          3.0
         ],
         "yaxis": "y",
         "type": "scatter"
        },
        {
         "hovertemplate": "player=AJ Dillon<br>rush_tds=%{x}<br>rec_tds=%{y}<extra></extra>",
         "legendgroup": "AJ Dillon",
         "marker": {
          "color": "#ab63fa",
          "symbol": "circle"
         },
         "mode": "markers",
         "name": "AJ Dillon",
         "orientation": "v",
         "showlegend": true,
         "x": [
          5.0,
          3.0
         ],
         "xaxis": "x",
         "y": [
          2.0,
          0.0
         ],
         "yaxis": "y",
         "type": "scatter"
        },
        {
         "hovertemplate": "player=Elijah Mitchell<br>rush_tds=%{x}<br>rec_tds=%{y}<extra></extra>",
         "legendgroup": "Elijah Mitchell",
         "marker": {
          "color": "#FFA15A",
          "symbol": "circle"
         },
         "mode": "markers",
         "name": "Elijah Mitchell",
         "orientation": "v",
         "showlegend": true,
         "x": [
          5.0
         ],
         "xaxis": "x",
         "y": [
          1.0
         ],
         "yaxis": "y",
         "type": "scatter"
        },
        {
         "hovertemplate": "player=Michael Carter<br>rush_tds=%{x}<br>rec_tds=%{y}<extra></extra>",
         "legendgroup": "Michael Carter",
         "marker": {
          "color": "#19d3f3",
          "symbol": "circle"
         },
         "mode": "markers",
         "name": "Michael Carter",
         "orientation": "v",
         "showlegend": true,
         "x": [
          4.0,
          3.0
         ],
         "xaxis": "x",
         "y": [
          0.0,
          0.0
         ],
         "yaxis": "y",
         "type": "scatter"
        },
        {
         "hovertemplate": "player=Chuba Hubbard<br>rush_tds=%{x}<br>rec_tds=%{y}<extra></extra>",
         "legendgroup": "Chuba Hubbard",
         "marker": {
          "color": "#FF6692",
          "symbol": "circle"
         },
         "mode": "markers",
         "name": "Chuba Hubbard",
         "orientation": "v",
         "showlegend": true,
         "x": [
          5.0
         ],
         "xaxis": "x",
         "y": [
          1.0
         ],
         "yaxis": "y",
         "type": "scatter"
        },
        {
         "hovertemplate": "player=Rhamondre Stevenson<br>rush_tds=%{x}<br>rec_tds=%{y}<extra></extra>",
         "legendgroup": "Rhamondre Stevenson",
         "marker": {
          "color": "#B6E880",
          "symbol": "circle"
         },
         "mode": "markers",
         "name": "Rhamondre Stevenson",
         "orientation": "v",
         "showlegend": true,
         "x": [
          5.0,
          4.0
         ],
         "xaxis": "x",
         "y": [
          0.0,
          1.0
         ],
         "yaxis": "y",
         "type": "scatter"
        },
        {
         "hovertemplate": "player=Kenneth Gainwell<br>rush_tds=%{x}<br>rec_tds=%{y}<extra></extra>",
         "legendgroup": "Kenneth Gainwell",
         "marker": {
          "color": "#FF97FF",
          "symbol": "circle"
         },
         "mode": "markers",
         "name": "Kenneth Gainwell",
         "orientation": "v",
         "showlegend": true,
         "x": [
          5.0,
          4.0
         ],
         "xaxis": "x",
         "y": [
          1.0,
          0.0
         ],
         "yaxis": "y",
         "type": "scatter"
        },
        {
         "hovertemplate": "player=D'Onta Foreman<br>rush_tds=%{x}<br>rec_tds=%{y}<extra></extra>",
         "legendgroup": "D'Onta Foreman",
         "marker": {
          "color": "#FECB52",
          "symbol": "circle"
         },
         "mode": "markers",
         "name": "D'Onta Foreman",
         "orientation": "v",
         "showlegend": true,
         "x": [
          3.0,
          4.0
         ],
         "xaxis": "x",
         "y": [
          0.0,
          0.0
         ],
         "yaxis": "y",
         "type": "scatter"
        },
        {
         "hovertemplate": "player=D'Ernest Johnson<br>rush_tds=%{x}<br>rec_tds=%{y}<extra></extra>",
         "legendgroup": "D'Ernest Johnson",
         "marker": {
          "color": "#636efa",
          "symbol": "circle"
         },
         "mode": "markers",
         "name": "D'Ernest Johnson",
         "orientation": "v",
         "showlegend": true,
         "x": [
          3.0
         ],
         "xaxis": "x",
         "y": [
          0.0
         ],
         "yaxis": "y",
         "type": "scatter"
        },
        {
         "hovertemplate": "player=Brandon Bolden<br>rush_tds=%{x}<br>rec_tds=%{y}<extra></extra>",
         "legendgroup": "Brandon Bolden",
         "marker": {
          "color": "#EF553B",
          "symbol": "circle"
         },
         "mode": "markers",
         "name": "Brandon Bolden",
         "orientation": "v",
         "showlegend": true,
         "x": [
          1.0
         ],
         "xaxis": "x",
         "y": [
          2.0
         ],
         "yaxis": "y",
         "type": "scatter"
        },
        {
         "hovertemplate": "player=Mark Ingram<br>rush_tds=%{x}<br>rec_tds=%{y}<extra></extra>",
         "legendgroup": "Mark Ingram",
         "marker": {
          "color": "#00cc96",
          "symbol": "circle"
         },
         "mode": "markers",
         "name": "Mark Ingram",
         "orientation": "v",
         "showlegend": true,
         "x": [
          2.0
         ],
         "xaxis": "x",
         "y": [
          0.0
         ],
         "yaxis": "y",
         "type": "scatter"
        },
        {
         "hovertemplate": "player=Khalil Herbert<br>rush_tds=%{x}<br>rec_tds=%{y}<extra></extra>",
         "legendgroup": "Khalil Herbert",
         "marker": {
          "color": "#ab63fa",
          "symbol": "circle"
         },
         "mode": "markers",
         "name": "Khalil Herbert",
         "orientation": "v",
         "showlegend": true,
         "x": [
          2.0,
          4.0
         ],
         "xaxis": "x",
         "y": [
          0.0,
          1.0
         ],
         "yaxis": "y",
         "type": "scatter"
        },
        {
         "hovertemplate": "player=Alex Collins<br>rush_tds=%{x}<br>rec_tds=%{y}<extra></extra>",
         "legendgroup": "Alex Collins",
         "marker": {
          "color": "#FFA15A",
          "symbol": "circle"
         },
         "mode": "markers",
         "name": "Alex Collins",
         "orientation": "v",
         "showlegend": true,
         "x": [
          2.0
         ],
         "xaxis": "x",
         "y": [
          0.0
         ],
         "yaxis": "y",
         "type": "scatter"
        },
        {
         "hovertemplate": "player=Dontrell Hilliard<br>rush_tds=%{x}<br>rec_tds=%{y}<extra></extra>",
         "legendgroup": "Dontrell Hilliard",
         "marker": {
          "color": "#19d3f3",
          "symbol": "circle"
         },
         "mode": "markers",
         "name": "Dontrell Hilliard",
         "orientation": "v",
         "showlegend": true,
         "x": [
          2.0,
          0.0
         ],
         "xaxis": "x",
         "y": [
          0.0,
          4.0
         ],
         "yaxis": "y",
         "type": "scatter"
        },
        {
         "hovertemplate": "player=Ameer Abdullah<br>rush_tds=%{x}<br>rec_tds=%{y}<extra></extra>",
         "legendgroup": "Ameer Abdullah",
         "marker": {
          "color": "#FF6692",
          "symbol": "circle"
         },
         "mode": "markers",
         "name": "Ameer Abdullah",
         "orientation": "v",
         "showlegend": true,
         "x": [
          0.0
         ],
         "xaxis": "x",
         "y": [
          1.0
         ],
         "yaxis": "y",
         "type": "scatter"
        },
        {
         "hovertemplate": "player=Travis Homer<br>rush_tds=%{x}<br>rec_tds=%{y}<extra></extra>",
         "legendgroup": "Travis Homer",
         "marker": {
          "color": "#B6E880",
          "symbol": "circle"
         },
         "mode": "markers",
         "name": "Travis Homer",
         "orientation": "v",
         "showlegend": true,
         "x": [
          1.0
         ],
         "xaxis": "x",
         "y": [
          0.0
         ],
         "yaxis": "y",
         "type": "scatter"
        },
        {
         "hovertemplate": "player=Jeremy McNichols<br>rush_tds=%{x}<br>rec_tds=%{y}<extra></extra>",
         "legendgroup": "Jeremy McNichols",
         "marker": {
          "color": "#FF97FF",
          "symbol": "circle"
         },
         "mode": "markers",
         "name": "Jeremy McNichols",
         "orientation": "v",
         "showlegend": true,
         "x": [
          0.0
         ],
         "xaxis": "x",
         "y": [
          1.0
         ],
         "yaxis": "y",
         "type": "scatter"
        },
        {
         "hovertemplate": "player=DeeJay Dallas<br>rush_tds=%{x}<br>rec_tds=%{y}<extra></extra>",
         "legendgroup": "DeeJay Dallas",
         "marker": {
          "color": "#FECB52",
          "symbol": "circle"
         },
         "mode": "markers",
         "name": "DeeJay Dallas",
         "orientation": "v",
         "showlegend": true,
         "x": [
          2.0
         ],
         "xaxis": "x",
         "y": [
          0.0
         ],
         "yaxis": "y",
         "type": "scatter"
        },
        {
         "hovertemplate": "player=Nick Chubb<br>rush_tds=%{x}<br>rec_tds=%{y}<extra></extra>",
         "legendgroup": "Nick Chubb",
         "marker": {
          "color": "#636efa",
          "symbol": "circle"
         },
         "mode": "markers",
         "name": "Nick Chubb",
         "orientation": "v",
         "showlegend": true,
         "x": [
          12.0
         ],
         "xaxis": "x",
         "y": [
          0.0
         ],
         "yaxis": "y",
         "type": "scatter"
        },
        {
         "hovertemplate": "player=Dalvin Cook<br>rush_tds=%{x}<br>rec_tds=%{y}<extra></extra>",
         "legendgroup": "Dalvin Cook",
         "marker": {
          "color": "#EF553B",
          "symbol": "circle"
         },
         "mode": "markers",
         "name": "Dalvin Cook",
         "orientation": "v",
         "showlegend": true,
         "x": [
          7.0
         ],
         "xaxis": "x",
         "y": [
          1.0
         ],
         "yaxis": "y",
         "type": "scatter"
        },
        {
         "hovertemplate": "player=Kenneth Walker III<br>rush_tds=%{x}<br>rec_tds=%{y}<extra></extra>",
         "legendgroup": "Kenneth Walker III",
         "marker": {
          "color": "#00cc96",
          "symbol": "circle"
         },
         "mode": "markers",
         "name": "Kenneth Walker III",
         "orientation": "v",
         "showlegend": true,
         "x": [
          9.0
         ],
         "xaxis": "x",
         "y": [
          0.0
         ],
         "yaxis": "y",
         "type": "scatter"
        },
        {
         "hovertemplate": "player=Dameon Pierce<br>rush_tds=%{x}<br>rec_tds=%{y}<extra></extra>",
         "legendgroup": "Dameon Pierce",
         "marker": {
          "color": "#ab63fa",
          "symbol": "circle"
         },
         "mode": "markers",
         "name": "Dameon Pierce",
         "orientation": "v",
         "showlegend": true,
         "x": [
          3.0
         ],
         "xaxis": "x",
         "y": [
          1.0
         ],
         "yaxis": "y",
         "type": "scatter"
        },
        {
         "hovertemplate": "player=Travis Etienne<br>rush_tds=%{x}<br>rec_tds=%{y}<extra></extra>",
         "legendgroup": "Travis Etienne",
         "marker": {
          "color": "#FFA15A",
          "symbol": "circle"
         },
         "mode": "markers",
         "name": "Travis Etienne",
         "orientation": "v",
         "showlegend": true,
         "x": [
          4.0
         ],
         "xaxis": "x",
         "y": [
          0.0
         ],
         "yaxis": "y",
         "type": "scatter"
        },
        {
         "hovertemplate": "player=Najee Harris<br>rush_tds=%{x}<br>rec_tds=%{y}<extra></extra>",
         "legendgroup": "Najee Harris",
         "marker": {
          "color": "#19d3f3",
          "symbol": "circle"
         },
         "mode": "markers",
         "name": "Najee Harris",
         "orientation": "v",
         "showlegend": true,
         "x": [
          4.0
         ],
         "xaxis": "x",
         "y": [
          2.0
         ],
         "yaxis": "y",
         "type": "scatter"
        },
        {
         "hovertemplate": "player=Alvin Kamara<br>rush_tds=%{x}<br>rec_tds=%{y}<extra></extra>",
         "legendgroup": "Alvin Kamara",
         "marker": {
          "color": "#FF6692",
          "symbol": "circle"
         },
         "mode": "markers",
         "name": "Alvin Kamara",
         "orientation": "v",
         "showlegend": true,
         "x": [
          1.0
         ],
         "xaxis": "x",
         "y": [
          2.0
         ],
         "yaxis": "y",
         "type": "scatter"
        },
        {
         "hovertemplate": "player=Breece Hall<br>rush_tds=%{x}<br>rec_tds=%{y}<extra></extra>",
         "legendgroup": "Breece Hall",
         "marker": {
          "color": "#B6E880",
          "symbol": "circle"
         },
         "mode": "markers",
         "name": "Breece Hall",
         "orientation": "v",
         "showlegend": true,
         "x": [
          4.0
         ],
         "xaxis": "x",
         "y": [
          1.0
         ],
         "yaxis": "y",
         "type": "scatter"
        },
        {
         "hovertemplate": "player=Tyler Allgeier<br>rush_tds=%{x}<br>rec_tds=%{y}<extra></extra>",
         "legendgroup": "Tyler Allgeier",
         "marker": {
          "color": "#FF97FF",
          "symbol": "circle"
         },
         "mode": "markers",
         "name": "Tyler Allgeier",
         "orientation": "v",
         "showlegend": true,
         "x": [
          1.0
         ],
         "xaxis": "x",
         "y": [
          1.0
         ],
         "yaxis": "y",
         "type": "scatter"
        },
        {
         "hovertemplate": "player=Brian Robinson Jr.<br>rush_tds=%{x}<br>rec_tds=%{y}<extra></extra>",
         "legendgroup": "Brian Robinson Jr.",
         "marker": {
          "color": "#FECB52",
          "symbol": "circle"
         },
         "mode": "markers",
         "name": "Brian Robinson Jr.",
         "orientation": "v",
         "showlegend": true,
         "x": [
          2.0
         ],
         "xaxis": "x",
         "y": [
          1.0
         ],
         "yaxis": "y",
         "type": "scatter"
        },
        {
         "hovertemplate": "player=Isiah Pacheco<br>rush_tds=%{x}<br>rec_tds=%{y}<extra></extra>",
         "legendgroup": "Isiah Pacheco",
         "marker": {
          "color": "#636efa",
          "symbol": "circle"
         },
         "mode": "markers",
         "name": "Isiah Pacheco",
         "orientation": "v",
         "showlegend": true,
         "x": [
          3.0
         ],
         "xaxis": "x",
         "y": [
          0.0
         ],
         "yaxis": "y",
         "type": "scatter"
        },
        {
         "hovertemplate": "player=Eno Benjamin<br>rush_tds=%{x}<br>rec_tds=%{y}<extra></extra>",
         "legendgroup": "Eno Benjamin",
         "marker": {
          "color": "#EF553B",
          "symbol": "circle"
         },
         "mode": "markers",
         "name": "Eno Benjamin",
         "orientation": "v",
         "showlegend": true,
         "x": [
          2.0
         ],
         "xaxis": "x",
         "y": [
          0.0
         ],
         "yaxis": "y",
         "type": "scatter"
        },
        {
         "hovertemplate": "player=James Cook<br>rush_tds=%{x}<br>rec_tds=%{y}<extra></extra>",
         "legendgroup": "James Cook",
         "marker": {
          "color": "#00cc96",
          "symbol": "circle"
         },
         "mode": "markers",
         "name": "James Cook",
         "orientation": "v",
         "showlegend": true,
         "x": [
          1.0
         ],
         "xaxis": "x",
         "y": [
          0.0
         ],
         "yaxis": "y",
         "type": "scatter"
        },
        {
         "hovertemplate": "player=Rachaad White<br>rush_tds=%{x}<br>rec_tds=%{y}<extra></extra>",
         "legendgroup": "Rachaad White",
         "marker": {
          "color": "#ab63fa",
          "symbol": "circle"
         },
         "mode": "markers",
         "name": "Rachaad White",
         "orientation": "v",
         "showlegend": true,
         "x": [
          1.0
         ],
         "xaxis": "x",
         "y": [
          0.0
         ],
         "yaxis": "y",
         "type": "scatter"
        }
       ],
       "layout": {
        "template": {
         "data": {
          "histogram2dcontour": [
           {
            "type": "histogram2dcontour",
            "colorbar": {
             "outlinewidth": 0,
             "ticks": ""
            },
            "colorscale": [
             [
              0.0,
              "#0d0887"
             ],
             [
              0.1111111111111111,
              "#46039f"
             ],
             [
              0.2222222222222222,
              "#7201a8"
             ],
             [
              0.3333333333333333,
              "#9c179e"
             ],
             [
              0.4444444444444444,
              "#bd3786"
             ],
             [
              0.5555555555555556,
              "#d8576b"
             ],
             [
              0.6666666666666666,
              "#ed7953"
             ],
             [
              0.7777777777777778,
              "#fb9f3a"
             ],
             [
              0.8888888888888888,
              "#fdca26"
             ],
             [
              1.0,
              "#f0f921"
             ]
            ]
           }
          ],
          "choropleth": [
           {
            "type": "choropleth",
            "colorbar": {
             "outlinewidth": 0,
             "ticks": ""
            }
           }
          ],
          "histogram2d": [
           {
            "type": "histogram2d",
            "colorbar": {
             "outlinewidth": 0,
             "ticks": ""
            },
            "colorscale": [
             [
              0.0,
              "#0d0887"
             ],
             [
              0.1111111111111111,
              "#46039f"
             ],
             [
              0.2222222222222222,
              "#7201a8"
             ],
             [
              0.3333333333333333,
              "#9c179e"
             ],
             [
              0.4444444444444444,
              "#bd3786"
             ],
             [
              0.5555555555555556,
              "#d8576b"
             ],
             [
              0.6666666666666666,
              "#ed7953"
             ],
             [
              0.7777777777777778,
              "#fb9f3a"
             ],
             [
              0.8888888888888888,
              "#fdca26"
             ],
             [
              1.0,
              "#f0f921"
             ]
            ]
           }
          ],
          "heatmap": [
           {
            "type": "heatmap",
            "colorbar": {
             "outlinewidth": 0,
             "ticks": ""
            },
            "colorscale": [
             [
              0.0,
              "#0d0887"
             ],
             [
              0.1111111111111111,
              "#46039f"
             ],
             [
              0.2222222222222222,
              "#7201a8"
             ],
             [
              0.3333333333333333,
              "#9c179e"
             ],
             [
              0.4444444444444444,
              "#bd3786"
             ],
             [
              0.5555555555555556,
              "#d8576b"
             ],
             [
              0.6666666666666666,
              "#ed7953"
             ],
             [
              0.7777777777777778,
              "#fb9f3a"
             ],
             [
              0.8888888888888888,
              "#fdca26"
             ],
             [
              1.0,
              "#f0f921"
             ]
            ]
           }
          ],
          "heatmapgl": [
           {
            "type": "heatmapgl",
            "colorbar": {
             "outlinewidth": 0,
             "ticks": ""
            },
            "colorscale": [
             [
              0.0,
              "#0d0887"
             ],
             [
              0.1111111111111111,
              "#46039f"
             ],
             [
              0.2222222222222222,
              "#7201a8"
             ],
             [
              0.3333333333333333,
              "#9c179e"
             ],
             [
              0.4444444444444444,
              "#bd3786"
             ],
             [
              0.5555555555555556,
              "#d8576b"
             ],
             [
              0.6666666666666666,
              "#ed7953"
             ],
             [
              0.7777777777777778,
              "#fb9f3a"
             ],
             [
              0.8888888888888888,
              "#fdca26"
             ],
             [
              1.0,
              "#f0f921"
             ]
            ]
           }
          ],
          "contourcarpet": [
           {
            "type": "contourcarpet",
            "colorbar": {
             "outlinewidth": 0,
             "ticks": ""
            }
           }
          ],
          "contour": [
           {
            "type": "contour",
            "colorbar": {
             "outlinewidth": 0,
             "ticks": ""
            },
            "colorscale": [
             [
              0.0,
              "#0d0887"
             ],
             [
              0.1111111111111111,
              "#46039f"
             ],
             [
              0.2222222222222222,
              "#7201a8"
             ],
             [
              0.3333333333333333,
              "#9c179e"
             ],
             [
              0.4444444444444444,
              "#bd3786"
             ],
             [
              0.5555555555555556,
              "#d8576b"
             ],
             [
              0.6666666666666666,
              "#ed7953"
             ],
             [
              0.7777777777777778,
              "#fb9f3a"
             ],
             [
              0.8888888888888888,
              "#fdca26"
             ],
             [
              1.0,
              "#f0f921"
             ]
            ]
           }
          ],
          "surface": [
           {
            "type": "surface",
            "colorbar": {
             "outlinewidth": 0,
             "ticks": ""
            },
            "colorscale": [
             [
              0.0,
              "#0d0887"
             ],
             [
              0.1111111111111111,
              "#46039f"
             ],
             [
              0.2222222222222222,
              "#7201a8"
             ],
             [
              0.3333333333333333,
              "#9c179e"
             ],
             [
              0.4444444444444444,
              "#bd3786"
             ],
             [
              0.5555555555555556,
              "#d8576b"
             ],
             [
              0.6666666666666666,
              "#ed7953"
             ],
             [
              0.7777777777777778,
              "#fb9f3a"
             ],
             [
              0.8888888888888888,
              "#fdca26"
             ],
             [
              1.0,
              "#f0f921"
             ]
            ]
           }
          ],
          "mesh3d": [
           {
            "type": "mesh3d",
            "colorbar": {
             "outlinewidth": 0,
             "ticks": ""
            }
           }
          ],
          "scatter": [
           {
            "marker": {
             "line": {
              "color": "#283442"
             }
            },
            "type": "scatter"
           }
          ],
          "parcoords": [
           {
            "type": "parcoords",
            "line": {
             "colorbar": {
              "outlinewidth": 0,
              "ticks": ""
             }
            }
           }
          ],
          "scatterpolargl": [
           {
            "type": "scatterpolargl",
            "marker": {
             "colorbar": {
              "outlinewidth": 0,
              "ticks": ""
             }
            }
           }
          ],
          "bar": [
           {
            "error_x": {
             "color": "#f2f5fa"
            },
            "error_y": {
             "color": "#f2f5fa"
            },
            "marker": {
             "line": {
              "color": "rgb(17,17,17)",
              "width": 0.5
             },
             "pattern": {
              "fillmode": "overlay",
              "size": 10,
              "solidity": 0.2
             }
            },
            "type": "bar"
           }
          ],
          "scattergeo": [
           {
            "type": "scattergeo",
            "marker": {
             "colorbar": {
              "outlinewidth": 0,
              "ticks": ""
             }
            }
           }
          ],
          "scatterpolar": [
           {
            "type": "scatterpolar",
            "marker": {
             "colorbar": {
              "outlinewidth": 0,
              "ticks": ""
             }
            }
           }
          ],
          "histogram": [
           {
            "marker": {
             "pattern": {
              "fillmode": "overlay",
              "size": 10,
              "solidity": 0.2
             }
            },
            "type": "histogram"
           }
          ],
          "scattergl": [
           {
            "marker": {
             "line": {
              "color": "#283442"
             }
            },
            "type": "scattergl"
           }
          ],
          "scatter3d": [
           {
            "type": "scatter3d",
            "line": {
             "colorbar": {
              "outlinewidth": 0,
              "ticks": ""
             }
            },
            "marker": {
             "colorbar": {
              "outlinewidth": 0,
              "ticks": ""
             }
            }
           }
          ],
          "scattermapbox": [
           {
            "type": "scattermapbox",
            "marker": {
             "colorbar": {
              "outlinewidth": 0,
              "ticks": ""
             }
            }
           }
          ],
          "scatterternary": [
           {
            "type": "scatterternary",
            "marker": {
             "colorbar": {
              "outlinewidth": 0,
              "ticks": ""
             }
            }
           }
          ],
          "scattercarpet": [
           {
            "type": "scattercarpet",
            "marker": {
             "colorbar": {
              "outlinewidth": 0,
              "ticks": ""
             }
            }
           }
          ],
          "carpet": [
           {
            "aaxis": {
             "endlinecolor": "#A2B1C6",
             "gridcolor": "#506784",
             "linecolor": "#506784",
             "minorgridcolor": "#506784",
             "startlinecolor": "#A2B1C6"
            },
            "baxis": {
             "endlinecolor": "#A2B1C6",
             "gridcolor": "#506784",
             "linecolor": "#506784",
             "minorgridcolor": "#506784",
             "startlinecolor": "#A2B1C6"
            },
            "type": "carpet"
           }
          ],
          "table": [
           {
            "cells": {
             "fill": {
              "color": "#506784"
             },
             "line": {
              "color": "rgb(17,17,17)"
             }
            },
            "header": {
             "fill": {
              "color": "#2a3f5f"
             },
             "line": {
              "color": "rgb(17,17,17)"
             }
            },
            "type": "table"
           }
          ],
          "barpolar": [
           {
            "marker": {
             "line": {
              "color": "rgb(17,17,17)",
              "width": 0.5
             },
             "pattern": {
              "fillmode": "overlay",
              "size": 10,
              "solidity": 0.2
             }
            },
            "type": "barpolar"
           }
          ],
          "pie": [
           {
            "automargin": true,
            "type": "pie"
           }
          ]
         },
         "layout": {
          "autotypenumbers": "strict",
          "colorway": [
           "#636efa",
           "#EF553B",
           "#00cc96",
           "#ab63fa",
           "#FFA15A",
           "#19d3f3",
           "#FF6692",
           "#B6E880",
           "#FF97FF",
           "#FECB52"
          ],
          "font": {
           "color": "#f2f5fa"
          },
          "hovermode": "closest",
          "hoverlabel": {
           "align": "left"
          },
          "paper_bgcolor": "rgb(17,17,17)",
          "plot_bgcolor": "rgb(17,17,17)",
          "polar": {
           "bgcolor": "rgb(17,17,17)",
           "angularaxis": {
            "gridcolor": "#506784",
            "linecolor": "#506784",
            "ticks": ""
           },
           "radialaxis": {
            "gridcolor": "#506784",
            "linecolor": "#506784",
            "ticks": ""
           }
          },
          "ternary": {
           "bgcolor": "rgb(17,17,17)",
           "aaxis": {
            "gridcolor": "#506784",
            "linecolor": "#506784",
            "ticks": ""
           },
           "baxis": {
            "gridcolor": "#506784",
            "linecolor": "#506784",
            "ticks": ""
           },
           "caxis": {
            "gridcolor": "#506784",
            "linecolor": "#506784",
            "ticks": ""
           }
          },
          "coloraxis": {
           "colorbar": {
            "outlinewidth": 0,
            "ticks": ""
           }
          },
          "colorscale": {
           "sequential": [
            [
             0.0,
             "#0d0887"
            ],
            [
             0.1111111111111111,
             "#46039f"
            ],
            [
             0.2222222222222222,
             "#7201a8"
            ],
            [
             0.3333333333333333,
             "#9c179e"
            ],
            [
             0.4444444444444444,
             "#bd3786"
            ],
            [
             0.5555555555555556,
             "#d8576b"
            ],
            [
             0.6666666666666666,
             "#ed7953"
            ],
            [
             0.7777777777777778,
             "#fb9f3a"
            ],
            [
             0.8888888888888888,
             "#fdca26"
            ],
            [
             1.0,
             "#f0f921"
            ]
           ],
           "sequentialminus": [
            [
             0.0,
             "#0d0887"
            ],
            [
             0.1111111111111111,
             "#46039f"
            ],
            [
             0.2222222222222222,
             "#7201a8"
            ],
            [
             0.3333333333333333,
             "#9c179e"
            ],
            [
             0.4444444444444444,
             "#bd3786"
            ],
            [
             0.5555555555555556,
             "#d8576b"
            ],
            [
             0.6666666666666666,
             "#ed7953"
            ],
            [
             0.7777777777777778,
             "#fb9f3a"
            ],
            [
             0.8888888888888888,
             "#fdca26"
            ],
            [
             1.0,
             "#f0f921"
            ]
           ],
           "diverging": [
            [
             0,
             "#8e0152"
            ],
            [
             0.1,
             "#c51b7d"
            ],
            [
             0.2,
             "#de77ae"
            ],
            [
             0.3,
             "#f1b6da"
            ],
            [
             0.4,
             "#fde0ef"
            ],
            [
             0.5,
             "#f7f7f7"
            ],
            [
             0.6,
             "#e6f5d0"
            ],
            [
             0.7,
             "#b8e186"
            ],
            [
             0.8,
             "#7fbc41"
            ],
            [
             0.9,
             "#4d9221"
            ],
            [
             1,
             "#276419"
            ]
           ]
          },
          "xaxis": {
           "gridcolor": "#283442",
           "linecolor": "#506784",
           "ticks": "",
           "title": {
            "standoff": 15
           },
           "zerolinecolor": "#283442",
           "automargin": true,
           "zerolinewidth": 2
          },
          "yaxis": {
           "gridcolor": "#283442",
           "linecolor": "#506784",
           "ticks": "",
           "title": {
            "standoff": 15
           },
           "zerolinecolor": "#283442",
           "automargin": true,
           "zerolinewidth": 2
          },
          "scene": {
           "xaxis": {
            "backgroundcolor": "rgb(17,17,17)",
            "gridcolor": "#506784",
            "linecolor": "#506784",
            "showbackground": true,
            "ticks": "",
            "zerolinecolor": "#C8D4E3",
            "gridwidth": 2
           },
           "yaxis": {
            "backgroundcolor": "rgb(17,17,17)",
            "gridcolor": "#506784",
            "linecolor": "#506784",
            "showbackground": true,
            "ticks": "",
            "zerolinecolor": "#C8D4E3",
            "gridwidth": 2
           },
           "zaxis": {
            "backgroundcolor": "rgb(17,17,17)",
            "gridcolor": "#506784",
            "linecolor": "#506784",
            "showbackground": true,
            "ticks": "",
            "zerolinecolor": "#C8D4E3",
            "gridwidth": 2
           }
          },
          "shapedefaults": {
           "line": {
            "color": "#f2f5fa"
           }
          },
          "annotationdefaults": {
           "arrowcolor": "#f2f5fa",
           "arrowhead": 0,
           "arrowwidth": 1
          },
          "geo": {
           "bgcolor": "rgb(17,17,17)",
           "landcolor": "rgb(17,17,17)",
           "subunitcolor": "#506784",
           "showland": true,
           "showlakes": true,
           "lakecolor": "rgb(17,17,17)"
          },
          "title": {
           "x": 0.05
          },
          "updatemenudefaults": {
           "bgcolor": "#506784",
           "borderwidth": 0
          },
          "sliderdefaults": {
           "bgcolor": "#C8D4E3",
           "borderwidth": 1,
           "bordercolor": "rgb(17,17,17)",
           "tickwidth": 0
          },
          "mapbox": {
           "style": "dark"
          }
         }
        },
        "xaxis": {
         "anchor": "y",
         "domain": [
          0.0,
          1.0
         ],
         "title": {
          "text": "rush_tds"
         }
        },
        "yaxis": {
         "anchor": "x",
         "domain": [
          0.0,
          1.0
         ],
         "title": {
          "text": "rec_tds"
         }
        },
        "legend": {
         "title": {
          "text": "player"
         },
         "tracegroupgap": 0
        },
        "margin": {
         "t": 60
        }
       },
       "config": {
        "plotlyServerURL": "https://plot.ly"
       }
      },
      "text/html": "<div>                            <div id=\"133b4973-77f4-443c-a853-8b6a14730d43\" class=\"plotly-graph-div\" style=\"height:525px; width:100%;\"></div>            <script type=\"text/javascript\">                require([\"plotly\"], function(Plotly) {                    window.PLOTLYENV=window.PLOTLYENV || {};                                    if (document.getElementById(\"133b4973-77f4-443c-a853-8b6a14730d43\")) {                    Plotly.newPlot(                        \"133b4973-77f4-443c-a853-8b6a14730d43\",                        [{\"hovertemplate\":\"player=Christian McCaffrey*+<br>rush_tds=%{x}<br>rec_tds=%{y}<extra></extra>\",\"legendgroup\":\"Christian McCaffrey*+\",\"marker\":{\"color\":\"#636efa\",\"symbol\":\"circle\"},\"mode\":\"markers\",\"name\":\"Christian McCaffrey*+\",\"orientation\":\"v\",\"showlegend\":true,\"x\":[15.0],\"xaxis\":\"x\",\"y\":[4.0],\"yaxis\":\"y\",\"type\":\"scatter\"},{\"hovertemplate\":\"player=Derrick Henry *<br>rush_tds=%{x}<br>rec_tds=%{y}<extra></extra>\",\"legendgroup\":\"Derrick Henry *\",\"marker\":{\"color\":\"#EF553B\",\"symbol\":\"circle\"},\"mode\":\"markers\",\"name\":\"Derrick Henry *\",\"orientation\":\"v\",\"showlegend\":true,\"x\":[16.0],\"xaxis\":\"x\",\"y\":[2.0],\"yaxis\":\"y\",\"type\":\"scatter\"},{\"hovertemplate\":\"player=Aaron Jones<br>rush_tds=%{x}<br>rec_tds=%{y}<extra></extra>\",\"legendgroup\":\"Aaron Jones\",\"marker\":{\"color\":\"#00cc96\",\"symbol\":\"circle\"},\"mode\":\"markers\",\"name\":\"Aaron Jones\",\"orientation\":\"v\",\"showlegend\":true,\"x\":[16.0,4.0,2.0],\"xaxis\":\"x\",\"y\":[3.0,6.0,4.0],\"yaxis\":\"y\",\"type\":\"scatter\"},{\"hovertemplate\":\"player=Ezekiel Elliott*<br>rush_tds=%{x}<br>rec_tds=%{y}<extra></extra>\",\"legendgroup\":\"Ezekiel Elliott*\",\"marker\":{\"color\":\"#ab63fa\",\"symbol\":\"circle\"},\"mode\":\"markers\",\"name\":\"Ezekiel Elliott*\",\"orientation\":\"v\",\"showlegend\":true,\"x\":[12.0],\"xaxis\":\"x\",\"y\":[2.0],\"yaxis\":\"y\",\"type\":\"scatter\"},{\"hovertemplate\":\"player=Dalvin Cook*<br>rush_tds=%{x}<br>rec_tds=%{y}<extra></extra>\",\"legendgroup\":\"Dalvin Cook*\",\"marker\":{\"color\":\"#FFA15A\",\"symbol\":\"circle\"},\"mode\":\"markers\",\"name\":\"Dalvin Cook*\",\"orientation\":\"v\",\"showlegend\":true,\"x\":[13.0,16.0,6.0],\"xaxis\":\"x\",\"y\":[0.0,1.0,0.0],\"yaxis\":\"y\",\"type\":\"scatter\"},{\"hovertemplate\":\"player=Nick Chubb*<br>rush_tds=%{x}<br>rec_tds=%{y}<extra></extra>\",\"legendgroup\":\"Nick Chubb*\",\"marker\":{\"color\":\"#19d3f3\",\"symbol\":\"circle\"},\"mode\":\"markers\",\"name\":\"Nick Chubb*\",\"orientation\":\"v\",\"showlegend\":true,\"x\":[8.0,12.0,8.0],\"xaxis\":\"x\",\"y\":[0.0,0.0,1.0],\"yaxis\":\"y\",\"type\":\"scatter\"},{\"hovertemplate\":\"player=Austin Ekeler<br>rush_tds=%{x}<br>rec_tds=%{y}<extra></extra>\",\"legendgroup\":\"Austin Ekeler\",\"marker\":{\"color\":\"#FF6692\",\"symbol\":\"circle\"},\"mode\":\"markers\",\"name\":\"Austin Ekeler\",\"orientation\":\"v\",\"showlegend\":true,\"x\":[3.0,1.0,12.0,7.0],\"xaxis\":\"x\",\"y\":[8.0,2.0,8.0,5.0],\"yaxis\":\"y\",\"type\":\"scatter\"},{\"hovertemplate\":\"player=Mark Ingram*<br>rush_tds=%{x}<br>rec_tds=%{y}<extra></extra>\",\"legendgroup\":\"Mark Ingram*\",\"marker\":{\"color\":\"#B6E880\",\"symbol\":\"circle\"},\"mode\":\"markers\",\"name\":\"Mark Ingram*\",\"orientation\":\"v\",\"showlegend\":true,\"x\":[10.0],\"xaxis\":\"x\",\"y\":[5.0],\"yaxis\":\"y\",\"type\":\"scatter\"},{\"hovertemplate\":\"player=Chris Carson<br>rush_tds=%{x}<br>rec_tds=%{y}<extra></extra>\",\"legendgroup\":\"Chris Carson\",\"marker\":{\"color\":\"#FF97FF\",\"symbol\":\"circle\"},\"mode\":\"markers\",\"name\":\"Chris Carson\",\"orientation\":\"v\",\"showlegend\":true,\"x\":[7.0,5.0],\"xaxis\":\"x\",\"y\":[2.0,4.0],\"yaxis\":\"y\",\"type\":\"scatter\"},{\"hovertemplate\":\"player=Saquon Barkley<br>rush_tds=%{x}<br>rec_tds=%{y}<extra></extra>\",\"legendgroup\":\"Saquon Barkley\",\"marker\":{\"color\":\"#FECB52\",\"symbol\":\"circle\"},\"mode\":\"markers\",\"name\":\"Saquon Barkley\",\"orientation\":\"v\",\"showlegend\":true,\"x\":[6.0,2.0,8.0],\"xaxis\":\"x\",\"y\":[2.0,2.0,0.0],\"yaxis\":\"y\",\"type\":\"scatter\"},{\"hovertemplate\":\"player=Joe Mixon<br>rush_tds=%{x}<br>rec_tds=%{y}<extra></extra>\",\"legendgroup\":\"Joe Mixon\",\"marker\":{\"color\":\"#636efa\",\"symbol\":\"circle\"},\"mode\":\"markers\",\"name\":\"Joe Mixon\",\"orientation\":\"v\",\"showlegend\":true,\"x\":[5.0,3.0,6.0],\"xaxis\":\"x\",\"y\":[3.0,1.0,2.0],\"yaxis\":\"y\",\"type\":\"scatter\"},{\"hovertemplate\":\"player=Todd Gurley<br>rush_tds=%{x}<br>rec_tds=%{y}<extra></extra>\",\"legendgroup\":\"Todd Gurley\",\"marker\":{\"color\":\"#EF553B\",\"symbol\":\"circle\"},\"mode\":\"markers\",\"name\":\"Todd Gurley\",\"orientation\":\"v\",\"showlegend\":true,\"x\":[12.0,9.0],\"xaxis\":\"x\",\"y\":[2.0,0.0],\"yaxis\":\"y\",\"type\":\"scatter\"},{\"hovertemplate\":\"player=Leonard Fournette<br>rush_tds=%{x}<br>rec_tds=%{y}<extra></extra>\",\"legendgroup\":\"Leonard Fournette\",\"marker\":{\"color\":\"#00cc96\",\"symbol\":\"circle\"},\"mode\":\"markers\",\"name\":\"Leonard Fournette\",\"orientation\":\"v\",\"showlegend\":true,\"x\":[3.0,6.0,8.0,3.0],\"xaxis\":\"x\",\"y\":[0.0,0.0,2.0,3.0],\"yaxis\":\"y\",\"type\":\"scatter\"},{\"hovertemplate\":\"player=Josh Jacobs<br>rush_tds=%{x}<br>rec_tds=%{y}<extra></extra>\",\"legendgroup\":\"Josh Jacobs\",\"marker\":{\"color\":\"#ab63fa\",\"symbol\":\"circle\"},\"mode\":\"markers\",\"name\":\"Josh Jacobs\",\"orientation\":\"v\",\"showlegend\":true,\"x\":[7.0,9.0,10.0],\"xaxis\":\"x\",\"y\":[0.0,0.0,0.0],\"yaxis\":\"y\",\"type\":\"scatter\"},{\"hovertemplate\":\"player=Miles Sanders<br>rush_tds=%{x}<br>rec_tds=%{y}<extra></extra>\",\"legendgroup\":\"Miles Sanders\",\"marker\":{\"color\":\"#FFA15A\",\"symbol\":\"circle\"},\"mode\":\"markers\",\"name\":\"Miles Sanders\",\"orientation\":\"v\",\"showlegend\":true,\"x\":[3.0,6.0,0.0,9.0],\"xaxis\":\"x\",\"y\":[3.0,0.0,0.0,0.0],\"yaxis\":\"y\",\"type\":\"scatter\"},{\"hovertemplate\":\"player=Alvin Kamara*<br>rush_tds=%{x}<br>rec_tds=%{y}<extra></extra>\",\"legendgroup\":\"Alvin Kamara*\",\"marker\":{\"color\":\"#19d3f3\",\"symbol\":\"circle\"},\"mode\":\"markers\",\"name\":\"Alvin Kamara*\",\"orientation\":\"v\",\"showlegend\":true,\"x\":[5.0,16.0,4.0],\"xaxis\":\"x\",\"y\":[1.0,5.0,5.0],\"yaxis\":\"y\",\"type\":\"scatter\"},{\"hovertemplate\":\"player=Marlon Mack<br>rush_tds=%{x}<br>rec_tds=%{y}<extra></extra>\",\"legendgroup\":\"Marlon Mack\",\"marker\":{\"color\":\"#FF6692\",\"symbol\":\"circle\"},\"mode\":\"markers\",\"name\":\"Marlon Mack\",\"orientation\":\"v\",\"showlegend\":true,\"x\":[8.0],\"xaxis\":\"x\",\"y\":[0.0],\"yaxis\":\"y\",\"type\":\"scatter\"},{\"hovertemplate\":\"player=Kenyan Drake<br>rush_tds=%{x}<br>rec_tds=%{y}<extra></extra>\",\"legendgroup\":\"Kenyan Drake\",\"marker\":{\"color\":\"#B6E880\",\"symbol\":\"circle\"},\"mode\":\"markers\",\"name\":\"Kenyan Drake\",\"orientation\":\"v\",\"showlegend\":true,\"x\":[8.0,10.0,2.0,3.0],\"xaxis\":\"x\",\"y\":[0.0,0.0,1.0,1.0],\"yaxis\":\"y\",\"type\":\"scatter\"},{\"hovertemplate\":\"player=Phillip Lindsay<br>rush_tds=%{x}<br>rec_tds=%{y}<extra></extra>\",\"legendgroup\":\"Phillip Lindsay\",\"marker\":{\"color\":\"#FF97FF\",\"symbol\":\"circle\"},\"mode\":\"markers\",\"name\":\"Phillip Lindsay\",\"orientation\":\"v\",\"showlegend\":true,\"x\":[7.0,1.0],\"xaxis\":\"x\",\"y\":[0.0,0.0],\"yaxis\":\"y\",\"type\":\"scatter\"},{\"hovertemplate\":\"player=Raheem Mostert<br>rush_tds=%{x}<br>rec_tds=%{y}<extra></extra>\",\"legendgroup\":\"Raheem Mostert\",\"marker\":{\"color\":\"#FECB52\",\"symbol\":\"circle\"},\"mode\":\"markers\",\"name\":\"Raheem Mostert\",\"orientation\":\"v\",\"showlegend\":true,\"x\":[8.0,2.0,3.0],\"xaxis\":\"x\",\"y\":[2.0,1.0,1.0],\"yaxis\":\"y\",\"type\":\"scatter\"},{\"hovertemplate\":\"player=Le'Veon Bell<br>rush_tds=%{x}<br>rec_tds=%{y}<extra></extra>\",\"legendgroup\":\"Le'Veon Bell\",\"marker\":{\"color\":\"#636efa\",\"symbol\":\"circle\"},\"mode\":\"markers\",\"name\":\"Le'Veon Bell\",\"orientation\":\"v\",\"showlegend\":true,\"x\":[3.0,2.0],\"xaxis\":\"x\",\"y\":[1.0,0.0],\"yaxis\":\"y\",\"type\":\"scatter\"},{\"hovertemplate\":\"player=David Montgomery<br>rush_tds=%{x}<br>rec_tds=%{y}<extra></extra>\",\"legendgroup\":\"David Montgomery\",\"marker\":{\"color\":\"#EF553B\",\"symbol\":\"circle\"},\"mode\":\"markers\",\"name\":\"David Montgomery\",\"orientation\":\"v\",\"showlegend\":true,\"x\":[6.0,8.0,7.0,4.0],\"xaxis\":\"x\",\"y\":[1.0,2.0,0.0,0.0],\"yaxis\":\"y\",\"type\":\"scatter\"},{\"hovertemplate\":\"player=Carlos Hyde<br>rush_tds=%{x}<br>rec_tds=%{y}<extra></extra>\",\"legendgroup\":\"Carlos Hyde\",\"marker\":{\"color\":\"#00cc96\",\"symbol\":\"circle\"},\"mode\":\"markers\",\"name\":\"Carlos Hyde\",\"orientation\":\"v\",\"showlegend\":true,\"x\":[6.0,4.0],\"xaxis\":\"x\",\"y\":[0.0,0.0],\"yaxis\":\"y\",\"type\":\"scatter\"},{\"hovertemplate\":\"player=Sony Michel<br>rush_tds=%{x}<br>rec_tds=%{y}<extra></extra>\",\"legendgroup\":\"Sony Michel\",\"marker\":{\"color\":\"#ab63fa\",\"symbol\":\"circle\"},\"mode\":\"markers\",\"name\":\"Sony Michel\",\"orientation\":\"v\",\"showlegend\":true,\"x\":[7.0,1.0,4.0],\"xaxis\":\"x\",\"y\":[0.0,1.0,1.0],\"yaxis\":\"y\",\"type\":\"scatter\"},{\"hovertemplate\":\"player=Devonta Freeman<br>rush_tds=%{x}<br>rec_tds=%{y}<extra></extra>\",\"legendgroup\":\"Devonta Freeman\",\"marker\":{\"color\":\"#FFA15A\",\"symbol\":\"circle\"},\"mode\":\"markers\",\"name\":\"Devonta Freeman\",\"orientation\":\"v\",\"showlegend\":true,\"x\":[2.0,5.0],\"xaxis\":\"x\",\"y\":[4.0,1.0],\"yaxis\":\"y\",\"type\":\"scatter\"},{\"hovertemplate\":\"player=Melvin Gordon<br>rush_tds=%{x}<br>rec_tds=%{y}<extra></extra>\",\"legendgroup\":\"Melvin Gordon\",\"marker\":{\"color\":\"#19d3f3\",\"symbol\":\"circle\"},\"mode\":\"markers\",\"name\":\"Melvin Gordon\",\"orientation\":\"v\",\"showlegend\":true,\"x\":[8.0,9.0,8.0,2.0],\"xaxis\":\"x\",\"y\":[1.0,1.0,2.0,0.0],\"yaxis\":\"y\",\"type\":\"scatter\"},{\"hovertemplate\":\"player=Ronald Jones II<br>rush_tds=%{x}<br>rec_tds=%{y}<extra></extra>\",\"legendgroup\":\"Ronald Jones II\",\"marker\":{\"color\":\"#FF6692\",\"symbol\":\"circle\"},\"mode\":\"markers\",\"name\":\"Ronald Jones II\",\"orientation\":\"v\",\"showlegend\":true,\"x\":[6.0,7.0,4.0],\"xaxis\":\"x\",\"y\":[0.0,1.0,0.0],\"yaxis\":\"y\",\"type\":\"scatter\"},{\"hovertemplate\":\"player=Adrian Peterson<br>rush_tds=%{x}<br>rec_tds=%{y}<extra></extra>\",\"legendgroup\":\"Adrian Peterson\",\"marker\":{\"color\":\"#B6E880\",\"symbol\":\"circle\"},\"mode\":\"markers\",\"name\":\"Adrian Peterson\",\"orientation\":\"v\",\"showlegend\":true,\"x\":[5.0,7.0],\"xaxis\":\"x\",\"y\":[0.0,0.0],\"yaxis\":\"y\",\"type\":\"scatter\"},{\"hovertemplate\":\"player=James White<br>rush_tds=%{x}<br>rec_tds=%{y}<extra></extra>\",\"legendgroup\":\"James White\",\"marker\":{\"color\":\"#FF97FF\",\"symbol\":\"circle\"},\"mode\":\"markers\",\"name\":\"James White\",\"orientation\":\"v\",\"showlegend\":true,\"x\":[1.0,2.0],\"xaxis\":\"x\",\"y\":[5.0,1.0],\"yaxis\":\"y\",\"type\":\"scatter\"},{\"hovertemplate\":\"player=Latavius Murray<br>rush_tds=%{x}<br>rec_tds=%{y}<extra></extra>\",\"legendgroup\":\"Latavius Murray\",\"marker\":{\"color\":\"#FECB52\",\"symbol\":\"circle\"},\"mode\":\"markers\",\"name\":\"Latavius Murray\",\"orientation\":\"v\",\"showlegend\":true,\"x\":[5.0,4.0,6.0,4.0],\"xaxis\":\"x\",\"y\":[1.0,1.0,0.0,0.0],\"yaxis\":\"y\",\"type\":\"scatter\"},{\"hovertemplate\":\"player=Devin Singletary<br>rush_tds=%{x}<br>rec_tds=%{y}<extra></extra>\",\"legendgroup\":\"Devin Singletary\",\"marker\":{\"color\":\"#636efa\",\"symbol\":\"circle\"},\"mode\":\"markers\",\"name\":\"Devin Singletary\",\"orientation\":\"v\",\"showlegend\":true,\"x\":[2.0,2.0,7.0,4.0],\"xaxis\":\"x\",\"y\":[2.0,0.0,1.0,1.0],\"yaxis\":\"y\",\"type\":\"scatter\"},{\"hovertemplate\":\"player=Tevin Coleman<br>rush_tds=%{x}<br>rec_tds=%{y}<extra></extra>\",\"legendgroup\":\"Tevin Coleman\",\"marker\":{\"color\":\"#EF553B\",\"symbol\":\"circle\"},\"mode\":\"markers\",\"name\":\"Tevin Coleman\",\"orientation\":\"v\",\"showlegend\":true,\"x\":[6.0],\"xaxis\":\"x\",\"y\":[1.0],\"yaxis\":\"y\",\"type\":\"scatter\"},{\"hovertemplate\":\"player=James Conner<br>rush_tds=%{x}<br>rec_tds=%{y}<extra></extra>\",\"legendgroup\":\"James Conner\",\"marker\":{\"color\":\"#00cc96\",\"symbol\":\"circle\"},\"mode\":\"markers\",\"name\":\"James Conner\",\"orientation\":\"v\",\"showlegend\":true,\"x\":[4.0,6.0,4.0],\"xaxis\":\"x\",\"y\":[3.0,0.0,1.0],\"yaxis\":\"y\",\"type\":\"scatter\"},{\"hovertemplate\":\"player=Damien Williams<br>rush_tds=%{x}<br>rec_tds=%{y}<extra></extra>\",\"legendgroup\":\"Damien Williams\",\"marker\":{\"color\":\"#ab63fa\",\"symbol\":\"circle\"},\"mode\":\"markers\",\"name\":\"Damien Williams\",\"orientation\":\"v\",\"showlegend\":true,\"x\":[5.0,2.0],\"xaxis\":\"x\",\"y\":[2.0,1.0],\"yaxis\":\"y\",\"type\":\"scatter\"},{\"hovertemplate\":\"player=Duke Johnson<br>rush_tds=%{x}<br>rec_tds=%{y}<extra></extra>\",\"legendgroup\":\"Duke Johnson\",\"marker\":{\"color\":\"#FFA15A\",\"symbol\":\"circle\"},\"mode\":\"markers\",\"name\":\"Duke Johnson\",\"orientation\":\"v\",\"showlegend\":true,\"x\":[2.0,1.0],\"xaxis\":\"x\",\"y\":[3.0,1.0],\"yaxis\":\"y\",\"type\":\"scatter\"},{\"hovertemplate\":\"player=Jamaal Williams<br>rush_tds=%{x}<br>rec_tds=%{y}<extra></extra>\",\"legendgroup\":\"Jamaal Williams\",\"marker\":{\"color\":\"#19d3f3\",\"symbol\":\"circle\"},\"mode\":\"markers\",\"name\":\"Jamaal Williams\",\"orientation\":\"v\",\"showlegend\":true,\"x\":[1.0,2.0,3.0,14.0],\"xaxis\":\"x\",\"y\":[5.0,1.0,0.0,0.0],\"yaxis\":\"y\",\"type\":\"scatter\"},{\"hovertemplate\":\"player=David Johnson<br>rush_tds=%{x}<br>rec_tds=%{y}<extra></extra>\",\"legendgroup\":\"David Johnson\",\"marker\":{\"color\":\"#FF6692\",\"symbol\":\"circle\"},\"mode\":\"markers\",\"name\":\"David Johnson\",\"orientation\":\"v\",\"showlegend\":true,\"x\":[2.0,6.0,0.0],\"xaxis\":\"x\",\"y\":[4.0,2.0,1.0],\"yaxis\":\"y\",\"type\":\"scatter\"},{\"hovertemplate\":\"player=Peyton Barber<br>rush_tds=%{x}<br>rec_tds=%{y}<extra></extra>\",\"legendgroup\":\"Peyton Barber\",\"marker\":{\"color\":\"#B6E880\",\"symbol\":\"circle\"},\"mode\":\"markers\",\"name\":\"Peyton Barber\",\"orientation\":\"v\",\"showlegend\":true,\"x\":[6.0],\"xaxis\":\"x\",\"y\":[1.0],\"yaxis\":\"y\",\"type\":\"scatter\"},{\"hovertemplate\":\"player=Jordan Howard<br>rush_tds=%{x}<br>rec_tds=%{y}<extra></extra>\",\"legendgroup\":\"Jordan Howard\",\"marker\":{\"color\":\"#FF97FF\",\"symbol\":\"circle\"},\"mode\":\"markers\",\"name\":\"Jordan Howard\",\"orientation\":\"v\",\"showlegend\":true,\"x\":[6.0,3.0],\"xaxis\":\"x\",\"y\":[1.0,0.0],\"yaxis\":\"y\",\"type\":\"scatter\"},{\"hovertemplate\":\"player=Royce Freeman<br>rush_tds=%{x}<br>rec_tds=%{y}<extra></extra>\",\"legendgroup\":\"Royce Freeman\",\"marker\":{\"color\":\"#FECB52\",\"symbol\":\"circle\"},\"mode\":\"markers\",\"name\":\"Royce Freeman\",\"orientation\":\"v\",\"showlegend\":true,\"x\":[3.0],\"xaxis\":\"x\",\"y\":[1.0],\"yaxis\":\"y\",\"type\":\"scatter\"},{\"hovertemplate\":\"player=LeSean McCoy<br>rush_tds=%{x}<br>rec_tds=%{y}<extra></extra>\",\"legendgroup\":\"LeSean McCoy\",\"marker\":{\"color\":\"#636efa\",\"symbol\":\"circle\"},\"mode\":\"markers\",\"name\":\"LeSean McCoy\",\"orientation\":\"v\",\"showlegend\":true,\"x\":[4.0],\"xaxis\":\"x\",\"y\":[1.0],\"yaxis\":\"y\",\"type\":\"scatter\"},{\"hovertemplate\":\"player=Gus Edwards<br>rush_tds=%{x}<br>rec_tds=%{y}<extra></extra>\",\"legendgroup\":\"Gus Edwards\",\"marker\":{\"color\":\"#EF553B\",\"symbol\":\"circle\"},\"mode\":\"markers\",\"name\":\"Gus Edwards\",\"orientation\":\"v\",\"showlegend\":true,\"x\":[2.0,6.0],\"xaxis\":\"x\",\"y\":[0.0,0.0],\"yaxis\":\"y\",\"type\":\"scatter\"},{\"hovertemplate\":\"player=DeAndre Washington<br>rush_tds=%{x}<br>rec_tds=%{y}<extra></extra>\",\"legendgroup\":\"DeAndre Washington\",\"marker\":{\"color\":\"#00cc96\",\"symbol\":\"circle\"},\"mode\":\"markers\",\"name\":\"DeAndre Washington\",\"orientation\":\"v\",\"showlegend\":true,\"x\":[3.0],\"xaxis\":\"x\",\"y\":[0.0],\"yaxis\":\"y\",\"type\":\"scatter\"},{\"hovertemplate\":\"player=Tarik Cohen<br>rush_tds=%{x}<br>rec_tds=%{y}<extra></extra>\",\"legendgroup\":\"Tarik Cohen\",\"marker\":{\"color\":\"#ab63fa\",\"symbol\":\"circle\"},\"mode\":\"markers\",\"name\":\"Tarik Cohen\",\"orientation\":\"v\",\"showlegend\":true,\"x\":[0.0],\"xaxis\":\"x\",\"y\":[3.0],\"yaxis\":\"y\",\"type\":\"scatter\"},{\"hovertemplate\":\"player=Matt Breida<br>rush_tds=%{x}<br>rec_tds=%{y}<extra></extra>\",\"legendgroup\":\"Matt Breida\",\"marker\":{\"color\":\"#FFA15A\",\"symbol\":\"circle\"},\"mode\":\"markers\",\"name\":\"Matt Breida\",\"orientation\":\"v\",\"showlegend\":true,\"x\":[1.0],\"xaxis\":\"x\",\"y\":[1.0],\"yaxis\":\"y\",\"type\":\"scatter\"},{\"hovertemplate\":\"player=Frank Gore<br>rush_tds=%{x}<br>rec_tds=%{y}<extra></extra>\",\"legendgroup\":\"Frank Gore\",\"marker\":{\"color\":\"#19d3f3\",\"symbol\":\"circle\"},\"mode\":\"markers\",\"name\":\"Frank Gore\",\"orientation\":\"v\",\"showlegend\":true,\"x\":[2.0,2.0],\"xaxis\":\"x\",\"y\":[0.0,0.0],\"yaxis\":\"y\",\"type\":\"scatter\"},{\"hovertemplate\":\"player=Kerryon Johnson<br>rush_tds=%{x}<br>rec_tds=%{y}<extra></extra>\",\"legendgroup\":\"Kerryon Johnson\",\"marker\":{\"color\":\"#FF6692\",\"symbol\":\"circle\"},\"mode\":\"markers\",\"name\":\"Kerryon Johnson\",\"orientation\":\"v\",\"showlegend\":true,\"x\":[3.0,2.0],\"xaxis\":\"x\",\"y\":[1.0,1.0],\"yaxis\":\"y\",\"type\":\"scatter\"},{\"hovertemplate\":\"player=Rex Burkhead<br>rush_tds=%{x}<br>rec_tds=%{y}<extra></extra>\",\"legendgroup\":\"Rex Burkhead\",\"marker\":{\"color\":\"#B6E880\",\"symbol\":\"circle\"},\"mode\":\"markers\",\"name\":\"Rex Burkhead\",\"orientation\":\"v\",\"showlegend\":true,\"x\":[3.0,3.0,3.0],\"xaxis\":\"x\",\"y\":[0.0,3.0,0.0],\"yaxis\":\"y\",\"type\":\"scatter\"},{\"hovertemplate\":\"player=Nyheim Hines<br>rush_tds=%{x}<br>rec_tds=%{y}<extra></extra>\",\"legendgroup\":\"Nyheim Hines\",\"marker\":{\"color\":\"#FF97FF\",\"symbol\":\"circle\"},\"mode\":\"markers\",\"name\":\"Nyheim Hines\",\"orientation\":\"v\",\"showlegend\":true,\"x\":[2.0,3.0,2.0],\"xaxis\":\"x\",\"y\":[0.0,4.0,1.0],\"yaxis\":\"y\",\"type\":\"scatter\"},{\"hovertemplate\":\"player=Tony Pollard<br>rush_tds=%{x}<br>rec_tds=%{y}<extra></extra>\",\"legendgroup\":\"Tony Pollard\",\"marker\":{\"color\":\"#FECB52\",\"symbol\":\"circle\"},\"mode\":\"markers\",\"name\":\"Tony Pollard\",\"orientation\":\"v\",\"showlegend\":true,\"x\":[2.0,4.0,2.0,8.0],\"xaxis\":\"x\",\"y\":[1.0,1.0,0.0,2.0],\"yaxis\":\"y\",\"type\":\"scatter\"},{\"hovertemplate\":\"player=Boston Scott<br>rush_tds=%{x}<br>rec_tds=%{y}<extra></extra>\",\"legendgroup\":\"Boston Scott\",\"marker\":{\"color\":\"#636efa\",\"symbol\":\"circle\"},\"mode\":\"markers\",\"name\":\"Boston Scott\",\"orientation\":\"v\",\"showlegend\":true,\"x\":[5.0,1.0,7.0],\"xaxis\":\"x\",\"y\":[0.0,1.0,0.0],\"yaxis\":\"y\",\"type\":\"scatter\"},{\"hovertemplate\":\"player=Chase Edmonds<br>rush_tds=%{x}<br>rec_tds=%{y}<extra></extra>\",\"legendgroup\":\"Chase Edmonds\",\"marker\":{\"color\":\"#EF553B\",\"symbol\":\"circle\"},\"mode\":\"markers\",\"name\":\"Chase Edmonds\",\"orientation\":\"v\",\"showlegend\":true,\"x\":[4.0,1.0,2.0],\"xaxis\":\"x\",\"y\":[1.0,4.0,0.0],\"yaxis\":\"y\",\"type\":\"scatter\"},{\"hovertemplate\":\"player=Rashaad Penny<br>rush_tds=%{x}<br>rec_tds=%{y}<extra></extra>\",\"legendgroup\":\"Rashaad Penny\",\"marker\":{\"color\":\"#00cc96\",\"symbol\":\"circle\"},\"mode\":\"markers\",\"name\":\"Rashaad Penny\",\"orientation\":\"v\",\"showlegend\":true,\"x\":[3.0,6.0],\"xaxis\":\"x\",\"y\":[1.0,0.0],\"yaxis\":\"y\",\"type\":\"scatter\"},{\"hovertemplate\":\"player=Kareem Hunt<br>rush_tds=%{x}<br>rec_tds=%{y}<extra></extra>\",\"legendgroup\":\"Kareem Hunt\",\"marker\":{\"color\":\"#ab63fa\",\"symbol\":\"circle\"},\"mode\":\"markers\",\"name\":\"Kareem Hunt\",\"orientation\":\"v\",\"showlegend\":true,\"x\":[2.0,6.0,5.0,3.0],\"xaxis\":\"x\",\"y\":[1.0,5.0,0.0,1.0],\"yaxis\":\"y\",\"type\":\"scatter\"},{\"hovertemplate\":\"player=Alexander Mattison<br>rush_tds=%{x}<br>rec_tds=%{y}<extra></extra>\",\"legendgroup\":\"Alexander Mattison\",\"marker\":{\"color\":\"#FFA15A\",\"symbol\":\"circle\"},\"mode\":\"markers\",\"name\":\"Alexander Mattison\",\"orientation\":\"v\",\"showlegend\":true,\"x\":[1.0,2.0,3.0,3.0],\"xaxis\":\"x\",\"y\":[0.0,1.0,1.0,1.0],\"yaxis\":\"y\",\"type\":\"scatter\"},{\"hovertemplate\":\"player=Brian Hill<br>rush_tds=%{x}<br>rec_tds=%{y}<extra></extra>\",\"legendgroup\":\"Brian Hill\",\"marker\":{\"color\":\"#19d3f3\",\"symbol\":\"circle\"},\"mode\":\"markers\",\"name\":\"Brian Hill\",\"orientation\":\"v\",\"showlegend\":true,\"x\":[2.0,1.0],\"xaxis\":\"x\",\"y\":[1.0,0.0],\"yaxis\":\"y\",\"type\":\"scatter\"},{\"hovertemplate\":\"player=Jaylen Samuels<br>rush_tds=%{x}<br>rec_tds=%{y}<extra></extra>\",\"legendgroup\":\"Jaylen Samuels\",\"marker\":{\"color\":\"#FF6692\",\"symbol\":\"circle\"},\"mode\":\"markers\",\"name\":\"Jaylen Samuels\",\"orientation\":\"v\",\"showlegend\":true,\"x\":[1.0],\"xaxis\":\"x\",\"y\":[1.0],\"yaxis\":\"y\",\"type\":\"scatter\"},{\"hovertemplate\":\"player=Darrel Williams<br>rush_tds=%{x}<br>rec_tds=%{y}<extra></extra>\",\"legendgroup\":\"Darrel Williams\",\"marker\":{\"color\":\"#B6E880\",\"symbol\":\"circle\"},\"mode\":\"markers\",\"name\":\"Darrel Williams\",\"orientation\":\"v\",\"showlegend\":true,\"x\":[3.0,6.0],\"xaxis\":\"x\",\"y\":[1.0,2.0],\"yaxis\":\"y\",\"type\":\"scatter\"},{\"hovertemplate\":\"player=Chris Thompson<br>rush_tds=%{x}<br>rec_tds=%{y}<extra></extra>\",\"legendgroup\":\"Chris Thompson\",\"marker\":{\"color\":\"#FF97FF\",\"symbol\":\"circle\"},\"mode\":\"markers\",\"name\":\"Chris Thompson\",\"orientation\":\"v\",\"showlegend\":true,\"x\":[0.0],\"xaxis\":\"x\",\"y\":[0.0],\"yaxis\":\"y\",\"type\":\"scatter\"},{\"hovertemplate\":\"player=J.D. McKissic<br>rush_tds=%{x}<br>rec_tds=%{y}<extra></extra>\",\"legendgroup\":\"J.D. McKissic\",\"marker\":{\"color\":\"#FECB52\",\"symbol\":\"circle\"},\"mode\":\"markers\",\"name\":\"J.D. McKissic\",\"orientation\":\"v\",\"showlegend\":true,\"x\":[0.0,1.0,2.0],\"xaxis\":\"x\",\"y\":[1.0,2.0,2.0],\"yaxis\":\"y\",\"type\":\"scatter\"},{\"hovertemplate\":\"player=Jalen Richard<br>rush_tds=%{x}<br>rec_tds=%{y}<extra></extra>\",\"legendgroup\":\"Jalen Richard\",\"marker\":{\"color\":\"#636efa\",\"symbol\":\"circle\"},\"mode\":\"markers\",\"name\":\"Jalen Richard\",\"orientation\":\"v\",\"showlegend\":true,\"x\":[0.0],\"xaxis\":\"x\",\"y\":[0.0],\"yaxis\":\"y\",\"type\":\"scatter\"},{\"hovertemplate\":\"player=Patrick Laird<br>rush_tds=%{x}<br>rec_tds=%{y}<extra></extra>\",\"legendgroup\":\"Patrick Laird\",\"marker\":{\"color\":\"#EF553B\",\"symbol\":\"circle\"},\"mode\":\"markers\",\"name\":\"Patrick Laird\",\"orientation\":\"v\",\"showlegend\":true,\"x\":[1.0],\"xaxis\":\"x\",\"y\":[0.0],\"yaxis\":\"y\",\"type\":\"scatter\"},{\"hovertemplate\":\"player=Dion Lewis<br>rush_tds=%{x}<br>rec_tds=%{y}<extra></extra>\",\"legendgroup\":\"Dion Lewis\",\"marker\":{\"color\":\"#00cc96\",\"symbol\":\"circle\"},\"mode\":\"markers\",\"name\":\"Dion Lewis\",\"orientation\":\"v\",\"showlegend\":true,\"x\":[0.0],\"xaxis\":\"x\",\"y\":[1.0],\"yaxis\":\"y\",\"type\":\"scatter\"},{\"hovertemplate\":\"player=Dare Ogunbowale<br>rush_tds=%{x}<br>rec_tds=%{y}<extra></extra>\",\"legendgroup\":\"Dare Ogunbowale\",\"marker\":{\"color\":\"#ab63fa\",\"symbol\":\"circle\"},\"mode\":\"markers\",\"name\":\"Dare Ogunbowale\",\"orientation\":\"v\",\"showlegend\":true,\"x\":[2.0],\"xaxis\":\"x\",\"y\":[0.0],\"yaxis\":\"y\",\"type\":\"scatter\"},{\"hovertemplate\":\"player=Giovani Bernard<br>rush_tds=%{x}<br>rec_tds=%{y}<extra></extra>\",\"legendgroup\":\"Giovani Bernard\",\"marker\":{\"color\":\"#FFA15A\",\"symbol\":\"circle\"},\"mode\":\"markers\",\"name\":\"Giovani Bernard\",\"orientation\":\"v\",\"showlegend\":true,\"x\":[0.0,3.0],\"xaxis\":\"x\",\"y\":[0.0,3.0],\"yaxis\":\"y\",\"type\":\"scatter\"},{\"hovertemplate\":\"player=Ty Johnson<br>rush_tds=%{x}<br>rec_tds=%{y}<extra></extra>\",\"legendgroup\":\"Ty Johnson\",\"marker\":{\"color\":\"#19d3f3\",\"symbol\":\"circle\"},\"mode\":\"markers\",\"name\":\"Ty Johnson\",\"orientation\":\"v\",\"showlegend\":true,\"x\":[0.0,1.0,2.0],\"xaxis\":\"x\",\"y\":[0.0,1.0,2.0],\"yaxis\":\"y\",\"type\":\"scatter\"},{\"hovertemplate\":\"player=Derrick Henry *+<br>rush_tds=%{x}<br>rec_tds=%{y}<extra></extra>\",\"legendgroup\":\"Derrick Henry *+\",\"marker\":{\"color\":\"#FF6692\",\"symbol\":\"circle\"},\"mode\":\"markers\",\"name\":\"Derrick Henry *+\",\"orientation\":\"v\",\"showlegend\":true,\"x\":[17.0],\"xaxis\":\"x\",\"y\":[0.0],\"yaxis\":\"y\",\"type\":\"scatter\"},{\"hovertemplate\":\"player=Jonathan Taylor<br>rush_tds=%{x}<br>rec_tds=%{y}<extra></extra>\",\"legendgroup\":\"Jonathan Taylor\",\"marker\":{\"color\":\"#B6E880\",\"symbol\":\"circle\"},\"mode\":\"markers\",\"name\":\"Jonathan Taylor\",\"orientation\":\"v\",\"showlegend\":true,\"x\":[11.0,4.0],\"xaxis\":\"x\",\"y\":[1.0,0.0],\"yaxis\":\"y\",\"type\":\"scatter\"},{\"hovertemplate\":\"player=Aaron Jones*<br>rush_tds=%{x}<br>rec_tds=%{y}<extra></extra>\",\"legendgroup\":\"Aaron Jones*\",\"marker\":{\"color\":\"#FF97FF\",\"symbol\":\"circle\"},\"mode\":\"markers\",\"name\":\"Aaron Jones*\",\"orientation\":\"v\",\"showlegend\":true,\"x\":[9.0],\"xaxis\":\"x\",\"y\":[2.0],\"yaxis\":\"y\",\"type\":\"scatter\"},{\"hovertemplate\":\"player=James Robinson<br>rush_tds=%{x}<br>rec_tds=%{y}<extra></extra>\",\"legendgroup\":\"James Robinson\",\"marker\":{\"color\":\"#FECB52\",\"symbol\":\"circle\"},\"mode\":\"markers\",\"name\":\"James Robinson\",\"orientation\":\"v\",\"showlegend\":true,\"x\":[7.0,8.0,3.0],\"xaxis\":\"x\",\"y\":[3.0,0.0,2.0],\"yaxis\":\"y\",\"type\":\"scatter\"},{\"hovertemplate\":\"player=Josh Jacobs*<br>rush_tds=%{x}<br>rec_tds=%{y}<extra></extra>\",\"legendgroup\":\"Josh Jacobs*\",\"marker\":{\"color\":\"#636efa\",\"symbol\":\"circle\"},\"mode\":\"markers\",\"name\":\"Josh Jacobs*\",\"orientation\":\"v\",\"showlegend\":true,\"x\":[12.0],\"xaxis\":\"x\",\"y\":[0.0],\"yaxis\":\"y\",\"type\":\"scatter\"},{\"hovertemplate\":\"player=Ezekiel Elliott<br>rush_tds=%{x}<br>rec_tds=%{y}<extra></extra>\",\"legendgroup\":\"Ezekiel Elliott\",\"marker\":{\"color\":\"#EF553B\",\"symbol\":\"circle\"},\"mode\":\"markers\",\"name\":\"Ezekiel Elliott\",\"orientation\":\"v\",\"showlegend\":true,\"x\":[6.0,10.0,8.0],\"xaxis\":\"x\",\"y\":[2.0,2.0,0.0],\"yaxis\":\"y\",\"type\":\"scatter\"},{\"hovertemplate\":\"player=Antonio Gibson<br>rush_tds=%{x}<br>rec_tds=%{y}<extra></extra>\",\"legendgroup\":\"Antonio Gibson\",\"marker\":{\"color\":\"#00cc96\",\"symbol\":\"circle\"},\"mode\":\"markers\",\"name\":\"Antonio Gibson\",\"orientation\":\"v\",\"showlegend\":true,\"x\":[11.0,7.0,3.0],\"xaxis\":\"x\",\"y\":[0.0,3.0,2.0],\"yaxis\":\"y\",\"type\":\"scatter\"},{\"hovertemplate\":\"player=J.K. Dobbins<br>rush_tds=%{x}<br>rec_tds=%{y}<extra></extra>\",\"legendgroup\":\"J.K. Dobbins\",\"marker\":{\"color\":\"#ab63fa\",\"symbol\":\"circle\"},\"mode\":\"markers\",\"name\":\"J.K. Dobbins\",\"orientation\":\"v\",\"showlegend\":true,\"x\":[9.0],\"xaxis\":\"x\",\"y\":[0.0],\"yaxis\":\"y\",\"type\":\"scatter\"},{\"hovertemplate\":\"player=Mike Davis<br>rush_tds=%{x}<br>rec_tds=%{y}<extra></extra>\",\"legendgroup\":\"Mike Davis\",\"marker\":{\"color\":\"#FFA15A\",\"symbol\":\"circle\"},\"mode\":\"markers\",\"name\":\"Mike Davis\",\"orientation\":\"v\",\"showlegend\":true,\"x\":[6.0,3.0],\"xaxis\":\"x\",\"y\":[2.0,1.0],\"yaxis\":\"y\",\"type\":\"scatter\"},{\"hovertemplate\":\"player=D'Andre Swift<br>rush_tds=%{x}<br>rec_tds=%{y}<extra></extra>\",\"legendgroup\":\"D'Andre Swift\",\"marker\":{\"color\":\"#19d3f3\",\"symbol\":\"circle\"},\"mode\":\"markers\",\"name\":\"D'Andre Swift\",\"orientation\":\"v\",\"showlegend\":true,\"x\":[8.0,5.0,4.0],\"xaxis\":\"x\",\"y\":[2.0,2.0,2.0],\"yaxis\":\"y\",\"type\":\"scatter\"},{\"hovertemplate\":\"player=Clyde Edwards-Helaire<br>rush_tds=%{x}<br>rec_tds=%{y}<extra></extra>\",\"legendgroup\":\"Clyde Edwards-Helaire\",\"marker\":{\"color\":\"#FF6692\",\"symbol\":\"circle\"},\"mode\":\"markers\",\"name\":\"Clyde Edwards-Helaire\",\"orientation\":\"v\",\"showlegend\":true,\"x\":[4.0,4.0,3.0],\"xaxis\":\"x\",\"y\":[1.0,2.0,3.0],\"yaxis\":\"y\",\"type\":\"scatter\"},{\"hovertemplate\":\"player=Jeff Wilson<br>rush_tds=%{x}<br>rec_tds=%{y}<extra></extra>\",\"legendgroup\":\"Jeff Wilson\",\"marker\":{\"color\":\"#B6E880\",\"symbol\":\"circle\"},\"mode\":\"markers\",\"name\":\"Jeff Wilson\",\"orientation\":\"v\",\"showlegend\":true,\"x\":[7.0,4.0],\"xaxis\":\"x\",\"y\":[3.0,1.0],\"yaxis\":\"y\",\"type\":\"scatter\"},{\"hovertemplate\":\"player=Myles Gaskin<br>rush_tds=%{x}<br>rec_tds=%{y}<extra></extra>\",\"legendgroup\":\"Myles Gaskin\",\"marker\":{\"color\":\"#FF97FF\",\"symbol\":\"circle\"},\"mode\":\"markers\",\"name\":\"Myles Gaskin\",\"orientation\":\"v\",\"showlegend\":true,\"x\":[3.0,3.0],\"xaxis\":\"x\",\"y\":[2.0,4.0],\"yaxis\":\"y\",\"type\":\"scatter\"},{\"hovertemplate\":\"player=Wayne Gallman<br>rush_tds=%{x}<br>rec_tds=%{y}<extra></extra>\",\"legendgroup\":\"Wayne Gallman\",\"marker\":{\"color\":\"#FECB52\",\"symbol\":\"circle\"},\"mode\":\"markers\",\"name\":\"Wayne Gallman\",\"orientation\":\"v\",\"showlegend\":true,\"x\":[6.0],\"xaxis\":\"x\",\"y\":[0.0],\"yaxis\":\"y\",\"type\":\"scatter\"},{\"hovertemplate\":\"player=Darrell Henderson<br>rush_tds=%{x}<br>rec_tds=%{y}<extra></extra>\",\"legendgroup\":\"Darrell Henderson\",\"marker\":{\"color\":\"#636efa\",\"symbol\":\"circle\"},\"mode\":\"markers\",\"name\":\"Darrell Henderson\",\"orientation\":\"v\",\"showlegend\":true,\"x\":[5.0,5.0,3.0],\"xaxis\":\"x\",\"y\":[1.0,3.0,0.0],\"yaxis\":\"y\",\"type\":\"scatter\"},{\"hovertemplate\":\"player=Jerick McKinnon<br>rush_tds=%{x}<br>rec_tds=%{y}<extra></extra>\",\"legendgroup\":\"Jerick McKinnon\",\"marker\":{\"color\":\"#EF553B\",\"symbol\":\"circle\"},\"mode\":\"markers\",\"name\":\"Jerick McKinnon\",\"orientation\":\"v\",\"showlegend\":true,\"x\":[5.0,0.0],\"xaxis\":\"x\",\"y\":[1.0,2.0],\"yaxis\":\"y\",\"type\":\"scatter\"},{\"hovertemplate\":\"player=Cam Akers<br>rush_tds=%{x}<br>rec_tds=%{y}<extra></extra>\",\"legendgroup\":\"Cam Akers\",\"marker\":{\"color\":\"#00cc96\",\"symbol\":\"circle\"},\"mode\":\"markers\",\"name\":\"Cam Akers\",\"orientation\":\"v\",\"showlegend\":true,\"x\":[2.0],\"xaxis\":\"x\",\"y\":[1.0],\"yaxis\":\"y\",\"type\":\"scatter\"},{\"hovertemplate\":\"player=Zack Moss<br>rush_tds=%{x}<br>rec_tds=%{y}<extra></extra>\",\"legendgroup\":\"Zack Moss\",\"marker\":{\"color\":\"#ab63fa\",\"symbol\":\"circle\"},\"mode\":\"markers\",\"name\":\"Zack Moss\",\"orientation\":\"v\",\"showlegend\":true,\"x\":[4.0,4.0],\"xaxis\":\"x\",\"y\":[1.0,1.0],\"yaxis\":\"y\",\"type\":\"scatter\"},{\"hovertemplate\":\"player=Malcolm Brown<br>rush_tds=%{x}<br>rec_tds=%{y}<extra></extra>\",\"legendgroup\":\"Malcolm Brown\",\"marker\":{\"color\":\"#FFA15A\",\"symbol\":\"circle\"},\"mode\":\"markers\",\"name\":\"Malcolm Brown\",\"orientation\":\"v\",\"showlegend\":true,\"x\":[5.0],\"xaxis\":\"x\",\"y\":[0.0],\"yaxis\":\"y\",\"type\":\"scatter\"},{\"hovertemplate\":\"player=Damien Harris<br>rush_tds=%{x}<br>rec_tds=%{y}<extra></extra>\",\"legendgroup\":\"Damien Harris\",\"marker\":{\"color\":\"#19d3f3\",\"symbol\":\"circle\"},\"mode\":\"markers\",\"name\":\"Damien Harris\",\"orientation\":\"v\",\"showlegend\":true,\"x\":[2.0,15.0,3.0],\"xaxis\":\"x\",\"y\":[0.0,0.0,0.0],\"yaxis\":\"y\",\"type\":\"scatter\"},{\"hovertemplate\":\"player=Christian McCaffrey<br>rush_tds=%{x}<br>rec_tds=%{y}<extra></extra>\",\"legendgroup\":\"Christian McCaffrey\",\"marker\":{\"color\":\"#FF6692\",\"symbol\":\"circle\"},\"mode\":\"markers\",\"name\":\"Christian McCaffrey\",\"orientation\":\"v\",\"showlegend\":true,\"x\":[5.0,1.0,4.0],\"xaxis\":\"x\",\"y\":[1.0,1.0,3.0],\"yaxis\":\"y\",\"type\":\"scatter\"},{\"hovertemplate\":\"player=Devontae Booker<br>rush_tds=%{x}<br>rec_tds=%{y}<extra></extra>\",\"legendgroup\":\"Devontae Booker\",\"marker\":{\"color\":\"#B6E880\",\"symbol\":\"circle\"},\"mode\":\"markers\",\"name\":\"Devontae Booker\",\"orientation\":\"v\",\"showlegend\":true,\"x\":[3.0,2.0],\"xaxis\":\"x\",\"y\":[0.0,1.0],\"yaxis\":\"y\",\"type\":\"scatter\"},{\"hovertemplate\":\"player=Kalen Ballage<br>rush_tds=%{x}<br>rec_tds=%{y}<extra></extra>\",\"legendgroup\":\"Kalen Ballage\",\"marker\":{\"color\":\"#FF97FF\",\"symbol\":\"circle\"},\"mode\":\"markers\",\"name\":\"Kalen Ballage\",\"orientation\":\"v\",\"showlegend\":true,\"x\":[3.0],\"xaxis\":\"x\",\"y\":[0.0],\"yaxis\":\"y\",\"type\":\"scatter\"},{\"hovertemplate\":\"player=Benny Snell Jr.<br>rush_tds=%{x}<br>rec_tds=%{y}<extra></extra>\",\"legendgroup\":\"Benny Snell Jr.\",\"marker\":{\"color\":\"#FECB52\",\"symbol\":\"circle\"},\"mode\":\"markers\",\"name\":\"Benny Snell Jr.\",\"orientation\":\"v\",\"showlegend\":true,\"x\":[4.0],\"xaxis\":\"x\",\"y\":[0.0],\"yaxis\":\"y\",\"type\":\"scatter\"},{\"hovertemplate\":\"player=Kyle Juszczyk*<br>rush_tds=%{x}<br>rec_tds=%{y}<extra></extra>\",\"legendgroup\":\"Kyle Juszczyk*\",\"marker\":{\"color\":\"#636efa\",\"symbol\":\"circle\"},\"mode\":\"markers\",\"name\":\"Kyle Juszczyk*\",\"orientation\":\"v\",\"showlegend\":true,\"x\":[2.0,1.0],\"xaxis\":\"x\",\"y\":[4.0,1.0],\"yaxis\":\"y\",\"type\":\"scatter\"},{\"hovertemplate\":\"player=Salvon Ahmed<br>rush_tds=%{x}<br>rec_tds=%{y}<extra></extra>\",\"legendgroup\":\"Salvon Ahmed\",\"marker\":{\"color\":\"#EF553B\",\"symbol\":\"circle\"},\"mode\":\"markers\",\"name\":\"Salvon Ahmed\",\"orientation\":\"v\",\"showlegend\":true,\"x\":[3.0],\"xaxis\":\"x\",\"y\":[0.0],\"yaxis\":\"y\",\"type\":\"scatter\"},{\"hovertemplate\":\"player=Joshua Kelley<br>rush_tds=%{x}<br>rec_tds=%{y}<extra></extra>\",\"legendgroup\":\"Joshua Kelley\",\"marker\":{\"color\":\"#00cc96\",\"symbol\":\"circle\"},\"mode\":\"markers\",\"name\":\"Joshua Kelley\",\"orientation\":\"v\",\"showlegend\":true,\"x\":[2.0],\"xaxis\":\"x\",\"y\":[0.0],\"yaxis\":\"y\",\"type\":\"scatter\"},{\"hovertemplate\":\"player=Samaje Perine<br>rush_tds=%{x}<br>rec_tds=%{y}<extra></extra>\",\"legendgroup\":\"Samaje Perine\",\"marker\":{\"color\":\"#ab63fa\",\"symbol\":\"circle\"},\"mode\":\"markers\",\"name\":\"Samaje Perine\",\"orientation\":\"v\",\"showlegend\":true,\"x\":[3.0,1.0,1.0],\"xaxis\":\"x\",\"y\":[0.0,1.0,4.0],\"yaxis\":\"y\",\"type\":\"scatter\"},{\"hovertemplate\":\"player=Jordan Wilkins<br>rush_tds=%{x}<br>rec_tds=%{y}<extra></extra>\",\"legendgroup\":\"Jordan Wilkins\",\"marker\":{\"color\":\"#FFA15A\",\"symbol\":\"circle\"},\"mode\":\"markers\",\"name\":\"Jordan Wilkins\",\"orientation\":\"v\",\"showlegend\":true,\"x\":[1.0],\"xaxis\":\"x\",\"y\":[0.0],\"yaxis\":\"y\",\"type\":\"scatter\"},{\"hovertemplate\":\"player=Justin Jackson<br>rush_tds=%{x}<br>rec_tds=%{y}<extra></extra>\",\"legendgroup\":\"Justin Jackson\",\"marker\":{\"color\":\"#19d3f3\",\"symbol\":\"circle\"},\"mode\":\"markers\",\"name\":\"Justin Jackson\",\"orientation\":\"v\",\"showlegend\":true,\"x\":[0.0,2.0],\"xaxis\":\"x\",\"y\":[0.0,0.0],\"yaxis\":\"y\",\"type\":\"scatter\"},{\"hovertemplate\":\"player=Jonathan Taylor*+<br>rush_tds=%{x}<br>rec_tds=%{y}<extra></extra>\",\"legendgroup\":\"Jonathan Taylor*+\",\"marker\":{\"color\":\"#FF6692\",\"symbol\":\"circle\"},\"mode\":\"markers\",\"name\":\"Jonathan Taylor*+\",\"orientation\":\"v\",\"showlegend\":true,\"x\":[18.0],\"xaxis\":\"x\",\"y\":[2.0],\"yaxis\":\"y\",\"type\":\"scatter\"},{\"hovertemplate\":\"player=Joe Mixon*<br>rush_tds=%{x}<br>rec_tds=%{y}<extra></extra>\",\"legendgroup\":\"Joe Mixon*\",\"marker\":{\"color\":\"#B6E880\",\"symbol\":\"circle\"},\"mode\":\"markers\",\"name\":\"Joe Mixon*\",\"orientation\":\"v\",\"showlegend\":true,\"x\":[13.0],\"xaxis\":\"x\",\"y\":[3.0],\"yaxis\":\"y\",\"type\":\"scatter\"},{\"hovertemplate\":\"player=Najee Harris*<br>rush_tds=%{x}<br>rec_tds=%{y}<extra></extra>\",\"legendgroup\":\"Najee Harris*\",\"marker\":{\"color\":\"#FF97FF\",\"symbol\":\"circle\"},\"mode\":\"markers\",\"name\":\"Najee Harris*\",\"orientation\":\"v\",\"showlegend\":true,\"x\":[7.0],\"xaxis\":\"x\",\"y\":[3.0],\"yaxis\":\"y\",\"type\":\"scatter\"},{\"hovertemplate\":\"player=James Conner*<br>rush_tds=%{x}<br>rec_tds=%{y}<extra></extra>\",\"legendgroup\":\"James Conner*\",\"marker\":{\"color\":\"#FECB52\",\"symbol\":\"circle\"},\"mode\":\"markers\",\"name\":\"James Conner*\",\"orientation\":\"v\",\"showlegend\":true,\"x\":[15.0],\"xaxis\":\"x\",\"y\":[3.0],\"yaxis\":\"y\",\"type\":\"scatter\"},{\"hovertemplate\":\"player=Cordarrelle Patterson<br>rush_tds=%{x}<br>rec_tds=%{y}<extra></extra>\",\"legendgroup\":\"Cordarrelle Patterson\",\"marker\":{\"color\":\"#636efa\",\"symbol\":\"circle\"},\"mode\":\"markers\",\"name\":\"Cordarrelle Patterson\",\"orientation\":\"v\",\"showlegend\":true,\"x\":[6.0,5.0],\"xaxis\":\"x\",\"y\":[5.0,0.0],\"yaxis\":\"y\",\"type\":\"scatter\"},{\"hovertemplate\":\"player=Derrick Henry<br>rush_tds=%{x}<br>rec_tds=%{y}<extra></extra>\",\"legendgroup\":\"Derrick Henry\",\"marker\":{\"color\":\"#EF553B\",\"symbol\":\"circle\"},\"mode\":\"markers\",\"name\":\"Derrick Henry\",\"orientation\":\"v\",\"showlegend\":true,\"x\":[10.0,10.0],\"xaxis\":\"x\",\"y\":[0.0,0.0],\"yaxis\":\"y\",\"type\":\"scatter\"},{\"hovertemplate\":\"player=Javonte Williams<br>rush_tds=%{x}<br>rec_tds=%{y}<extra></extra>\",\"legendgroup\":\"Javonte Williams\",\"marker\":{\"color\":\"#00cc96\",\"symbol\":\"circle\"},\"mode\":\"markers\",\"name\":\"Javonte Williams\",\"orientation\":\"v\",\"showlegend\":true,\"x\":[4.0],\"xaxis\":\"x\",\"y\":[3.0],\"yaxis\":\"y\",\"type\":\"scatter\"},{\"hovertemplate\":\"player=AJ Dillon<br>rush_tds=%{x}<br>rec_tds=%{y}<extra></extra>\",\"legendgroup\":\"AJ Dillon\",\"marker\":{\"color\":\"#ab63fa\",\"symbol\":\"circle\"},\"mode\":\"markers\",\"name\":\"AJ Dillon\",\"orientation\":\"v\",\"showlegend\":true,\"x\":[5.0,3.0],\"xaxis\":\"x\",\"y\":[2.0,0.0],\"yaxis\":\"y\",\"type\":\"scatter\"},{\"hovertemplate\":\"player=Elijah Mitchell<br>rush_tds=%{x}<br>rec_tds=%{y}<extra></extra>\",\"legendgroup\":\"Elijah Mitchell\",\"marker\":{\"color\":\"#FFA15A\",\"symbol\":\"circle\"},\"mode\":\"markers\",\"name\":\"Elijah Mitchell\",\"orientation\":\"v\",\"showlegend\":true,\"x\":[5.0],\"xaxis\":\"x\",\"y\":[1.0],\"yaxis\":\"y\",\"type\":\"scatter\"},{\"hovertemplate\":\"player=Michael Carter<br>rush_tds=%{x}<br>rec_tds=%{y}<extra></extra>\",\"legendgroup\":\"Michael Carter\",\"marker\":{\"color\":\"#19d3f3\",\"symbol\":\"circle\"},\"mode\":\"markers\",\"name\":\"Michael Carter\",\"orientation\":\"v\",\"showlegend\":true,\"x\":[4.0,3.0],\"xaxis\":\"x\",\"y\":[0.0,0.0],\"yaxis\":\"y\",\"type\":\"scatter\"},{\"hovertemplate\":\"player=Chuba Hubbard<br>rush_tds=%{x}<br>rec_tds=%{y}<extra></extra>\",\"legendgroup\":\"Chuba Hubbard\",\"marker\":{\"color\":\"#FF6692\",\"symbol\":\"circle\"},\"mode\":\"markers\",\"name\":\"Chuba Hubbard\",\"orientation\":\"v\",\"showlegend\":true,\"x\":[5.0],\"xaxis\":\"x\",\"y\":[1.0],\"yaxis\":\"y\",\"type\":\"scatter\"},{\"hovertemplate\":\"player=Rhamondre Stevenson<br>rush_tds=%{x}<br>rec_tds=%{y}<extra></extra>\",\"legendgroup\":\"Rhamondre Stevenson\",\"marker\":{\"color\":\"#B6E880\",\"symbol\":\"circle\"},\"mode\":\"markers\",\"name\":\"Rhamondre Stevenson\",\"orientation\":\"v\",\"showlegend\":true,\"x\":[5.0,4.0],\"xaxis\":\"x\",\"y\":[0.0,1.0],\"yaxis\":\"y\",\"type\":\"scatter\"},{\"hovertemplate\":\"player=Kenneth Gainwell<br>rush_tds=%{x}<br>rec_tds=%{y}<extra></extra>\",\"legendgroup\":\"Kenneth Gainwell\",\"marker\":{\"color\":\"#FF97FF\",\"symbol\":\"circle\"},\"mode\":\"markers\",\"name\":\"Kenneth Gainwell\",\"orientation\":\"v\",\"showlegend\":true,\"x\":[5.0,4.0],\"xaxis\":\"x\",\"y\":[1.0,0.0],\"yaxis\":\"y\",\"type\":\"scatter\"},{\"hovertemplate\":\"player=D'Onta Foreman<br>rush_tds=%{x}<br>rec_tds=%{y}<extra></extra>\",\"legendgroup\":\"D'Onta Foreman\",\"marker\":{\"color\":\"#FECB52\",\"symbol\":\"circle\"},\"mode\":\"markers\",\"name\":\"D'Onta Foreman\",\"orientation\":\"v\",\"showlegend\":true,\"x\":[3.0,4.0],\"xaxis\":\"x\",\"y\":[0.0,0.0],\"yaxis\":\"y\",\"type\":\"scatter\"},{\"hovertemplate\":\"player=D'Ernest Johnson<br>rush_tds=%{x}<br>rec_tds=%{y}<extra></extra>\",\"legendgroup\":\"D'Ernest Johnson\",\"marker\":{\"color\":\"#636efa\",\"symbol\":\"circle\"},\"mode\":\"markers\",\"name\":\"D'Ernest Johnson\",\"orientation\":\"v\",\"showlegend\":true,\"x\":[3.0],\"xaxis\":\"x\",\"y\":[0.0],\"yaxis\":\"y\",\"type\":\"scatter\"},{\"hovertemplate\":\"player=Brandon Bolden<br>rush_tds=%{x}<br>rec_tds=%{y}<extra></extra>\",\"legendgroup\":\"Brandon Bolden\",\"marker\":{\"color\":\"#EF553B\",\"symbol\":\"circle\"},\"mode\":\"markers\",\"name\":\"Brandon Bolden\",\"orientation\":\"v\",\"showlegend\":true,\"x\":[1.0],\"xaxis\":\"x\",\"y\":[2.0],\"yaxis\":\"y\",\"type\":\"scatter\"},{\"hovertemplate\":\"player=Mark Ingram<br>rush_tds=%{x}<br>rec_tds=%{y}<extra></extra>\",\"legendgroup\":\"Mark Ingram\",\"marker\":{\"color\":\"#00cc96\",\"symbol\":\"circle\"},\"mode\":\"markers\",\"name\":\"Mark Ingram\",\"orientation\":\"v\",\"showlegend\":true,\"x\":[2.0],\"xaxis\":\"x\",\"y\":[0.0],\"yaxis\":\"y\",\"type\":\"scatter\"},{\"hovertemplate\":\"player=Khalil Herbert<br>rush_tds=%{x}<br>rec_tds=%{y}<extra></extra>\",\"legendgroup\":\"Khalil Herbert\",\"marker\":{\"color\":\"#ab63fa\",\"symbol\":\"circle\"},\"mode\":\"markers\",\"name\":\"Khalil Herbert\",\"orientation\":\"v\",\"showlegend\":true,\"x\":[2.0,4.0],\"xaxis\":\"x\",\"y\":[0.0,1.0],\"yaxis\":\"y\",\"type\":\"scatter\"},{\"hovertemplate\":\"player=Alex Collins<br>rush_tds=%{x}<br>rec_tds=%{y}<extra></extra>\",\"legendgroup\":\"Alex Collins\",\"marker\":{\"color\":\"#FFA15A\",\"symbol\":\"circle\"},\"mode\":\"markers\",\"name\":\"Alex Collins\",\"orientation\":\"v\",\"showlegend\":true,\"x\":[2.0],\"xaxis\":\"x\",\"y\":[0.0],\"yaxis\":\"y\",\"type\":\"scatter\"},{\"hovertemplate\":\"player=Dontrell Hilliard<br>rush_tds=%{x}<br>rec_tds=%{y}<extra></extra>\",\"legendgroup\":\"Dontrell Hilliard\",\"marker\":{\"color\":\"#19d3f3\",\"symbol\":\"circle\"},\"mode\":\"markers\",\"name\":\"Dontrell Hilliard\",\"orientation\":\"v\",\"showlegend\":true,\"x\":[2.0,0.0],\"xaxis\":\"x\",\"y\":[0.0,4.0],\"yaxis\":\"y\",\"type\":\"scatter\"},{\"hovertemplate\":\"player=Ameer Abdullah<br>rush_tds=%{x}<br>rec_tds=%{y}<extra></extra>\",\"legendgroup\":\"Ameer Abdullah\",\"marker\":{\"color\":\"#FF6692\",\"symbol\":\"circle\"},\"mode\":\"markers\",\"name\":\"Ameer Abdullah\",\"orientation\":\"v\",\"showlegend\":true,\"x\":[0.0],\"xaxis\":\"x\",\"y\":[1.0],\"yaxis\":\"y\",\"type\":\"scatter\"},{\"hovertemplate\":\"player=Travis Homer<br>rush_tds=%{x}<br>rec_tds=%{y}<extra></extra>\",\"legendgroup\":\"Travis Homer\",\"marker\":{\"color\":\"#B6E880\",\"symbol\":\"circle\"},\"mode\":\"markers\",\"name\":\"Travis Homer\",\"orientation\":\"v\",\"showlegend\":true,\"x\":[1.0],\"xaxis\":\"x\",\"y\":[0.0],\"yaxis\":\"y\",\"type\":\"scatter\"},{\"hovertemplate\":\"player=Jeremy McNichols<br>rush_tds=%{x}<br>rec_tds=%{y}<extra></extra>\",\"legendgroup\":\"Jeremy McNichols\",\"marker\":{\"color\":\"#FF97FF\",\"symbol\":\"circle\"},\"mode\":\"markers\",\"name\":\"Jeremy McNichols\",\"orientation\":\"v\",\"showlegend\":true,\"x\":[0.0],\"xaxis\":\"x\",\"y\":[1.0],\"yaxis\":\"y\",\"type\":\"scatter\"},{\"hovertemplate\":\"player=DeeJay Dallas<br>rush_tds=%{x}<br>rec_tds=%{y}<extra></extra>\",\"legendgroup\":\"DeeJay Dallas\",\"marker\":{\"color\":\"#FECB52\",\"symbol\":\"circle\"},\"mode\":\"markers\",\"name\":\"DeeJay Dallas\",\"orientation\":\"v\",\"showlegend\":true,\"x\":[2.0],\"xaxis\":\"x\",\"y\":[0.0],\"yaxis\":\"y\",\"type\":\"scatter\"},{\"hovertemplate\":\"player=Nick Chubb<br>rush_tds=%{x}<br>rec_tds=%{y}<extra></extra>\",\"legendgroup\":\"Nick Chubb\",\"marker\":{\"color\":\"#636efa\",\"symbol\":\"circle\"},\"mode\":\"markers\",\"name\":\"Nick Chubb\",\"orientation\":\"v\",\"showlegend\":true,\"x\":[12.0],\"xaxis\":\"x\",\"y\":[0.0],\"yaxis\":\"y\",\"type\":\"scatter\"},{\"hovertemplate\":\"player=Dalvin Cook<br>rush_tds=%{x}<br>rec_tds=%{y}<extra></extra>\",\"legendgroup\":\"Dalvin Cook\",\"marker\":{\"color\":\"#EF553B\",\"symbol\":\"circle\"},\"mode\":\"markers\",\"name\":\"Dalvin Cook\",\"orientation\":\"v\",\"showlegend\":true,\"x\":[7.0],\"xaxis\":\"x\",\"y\":[1.0],\"yaxis\":\"y\",\"type\":\"scatter\"},{\"hovertemplate\":\"player=Kenneth Walker III<br>rush_tds=%{x}<br>rec_tds=%{y}<extra></extra>\",\"legendgroup\":\"Kenneth Walker III\",\"marker\":{\"color\":\"#00cc96\",\"symbol\":\"circle\"},\"mode\":\"markers\",\"name\":\"Kenneth Walker III\",\"orientation\":\"v\",\"showlegend\":true,\"x\":[9.0],\"xaxis\":\"x\",\"y\":[0.0],\"yaxis\":\"y\",\"type\":\"scatter\"},{\"hovertemplate\":\"player=Dameon Pierce<br>rush_tds=%{x}<br>rec_tds=%{y}<extra></extra>\",\"legendgroup\":\"Dameon Pierce\",\"marker\":{\"color\":\"#ab63fa\",\"symbol\":\"circle\"},\"mode\":\"markers\",\"name\":\"Dameon Pierce\",\"orientation\":\"v\",\"showlegend\":true,\"x\":[3.0],\"xaxis\":\"x\",\"y\":[1.0],\"yaxis\":\"y\",\"type\":\"scatter\"},{\"hovertemplate\":\"player=Travis Etienne<br>rush_tds=%{x}<br>rec_tds=%{y}<extra></extra>\",\"legendgroup\":\"Travis Etienne\",\"marker\":{\"color\":\"#FFA15A\",\"symbol\":\"circle\"},\"mode\":\"markers\",\"name\":\"Travis Etienne\",\"orientation\":\"v\",\"showlegend\":true,\"x\":[4.0],\"xaxis\":\"x\",\"y\":[0.0],\"yaxis\":\"y\",\"type\":\"scatter\"},{\"hovertemplate\":\"player=Najee Harris<br>rush_tds=%{x}<br>rec_tds=%{y}<extra></extra>\",\"legendgroup\":\"Najee Harris\",\"marker\":{\"color\":\"#19d3f3\",\"symbol\":\"circle\"},\"mode\":\"markers\",\"name\":\"Najee Harris\",\"orientation\":\"v\",\"showlegend\":true,\"x\":[4.0],\"xaxis\":\"x\",\"y\":[2.0],\"yaxis\":\"y\",\"type\":\"scatter\"},{\"hovertemplate\":\"player=Alvin Kamara<br>rush_tds=%{x}<br>rec_tds=%{y}<extra></extra>\",\"legendgroup\":\"Alvin Kamara\",\"marker\":{\"color\":\"#FF6692\",\"symbol\":\"circle\"},\"mode\":\"markers\",\"name\":\"Alvin Kamara\",\"orientation\":\"v\",\"showlegend\":true,\"x\":[1.0],\"xaxis\":\"x\",\"y\":[2.0],\"yaxis\":\"y\",\"type\":\"scatter\"},{\"hovertemplate\":\"player=Breece Hall<br>rush_tds=%{x}<br>rec_tds=%{y}<extra></extra>\",\"legendgroup\":\"Breece Hall\",\"marker\":{\"color\":\"#B6E880\",\"symbol\":\"circle\"},\"mode\":\"markers\",\"name\":\"Breece Hall\",\"orientation\":\"v\",\"showlegend\":true,\"x\":[4.0],\"xaxis\":\"x\",\"y\":[1.0],\"yaxis\":\"y\",\"type\":\"scatter\"},{\"hovertemplate\":\"player=Tyler Allgeier<br>rush_tds=%{x}<br>rec_tds=%{y}<extra></extra>\",\"legendgroup\":\"Tyler Allgeier\",\"marker\":{\"color\":\"#FF97FF\",\"symbol\":\"circle\"},\"mode\":\"markers\",\"name\":\"Tyler Allgeier\",\"orientation\":\"v\",\"showlegend\":true,\"x\":[1.0],\"xaxis\":\"x\",\"y\":[1.0],\"yaxis\":\"y\",\"type\":\"scatter\"},{\"hovertemplate\":\"player=Brian Robinson Jr.<br>rush_tds=%{x}<br>rec_tds=%{y}<extra></extra>\",\"legendgroup\":\"Brian Robinson Jr.\",\"marker\":{\"color\":\"#FECB52\",\"symbol\":\"circle\"},\"mode\":\"markers\",\"name\":\"Brian Robinson Jr.\",\"orientation\":\"v\",\"showlegend\":true,\"x\":[2.0],\"xaxis\":\"x\",\"y\":[1.0],\"yaxis\":\"y\",\"type\":\"scatter\"},{\"hovertemplate\":\"player=Isiah Pacheco<br>rush_tds=%{x}<br>rec_tds=%{y}<extra></extra>\",\"legendgroup\":\"Isiah Pacheco\",\"marker\":{\"color\":\"#636efa\",\"symbol\":\"circle\"},\"mode\":\"markers\",\"name\":\"Isiah Pacheco\",\"orientation\":\"v\",\"showlegend\":true,\"x\":[3.0],\"xaxis\":\"x\",\"y\":[0.0],\"yaxis\":\"y\",\"type\":\"scatter\"},{\"hovertemplate\":\"player=Eno Benjamin<br>rush_tds=%{x}<br>rec_tds=%{y}<extra></extra>\",\"legendgroup\":\"Eno Benjamin\",\"marker\":{\"color\":\"#EF553B\",\"symbol\":\"circle\"},\"mode\":\"markers\",\"name\":\"Eno Benjamin\",\"orientation\":\"v\",\"showlegend\":true,\"x\":[2.0],\"xaxis\":\"x\",\"y\":[0.0],\"yaxis\":\"y\",\"type\":\"scatter\"},{\"hovertemplate\":\"player=James Cook<br>rush_tds=%{x}<br>rec_tds=%{y}<extra></extra>\",\"legendgroup\":\"James Cook\",\"marker\":{\"color\":\"#00cc96\",\"symbol\":\"circle\"},\"mode\":\"markers\",\"name\":\"James Cook\",\"orientation\":\"v\",\"showlegend\":true,\"x\":[1.0],\"xaxis\":\"x\",\"y\":[0.0],\"yaxis\":\"y\",\"type\":\"scatter\"},{\"hovertemplate\":\"player=Rachaad White<br>rush_tds=%{x}<br>rec_tds=%{y}<extra></extra>\",\"legendgroup\":\"Rachaad White\",\"marker\":{\"color\":\"#ab63fa\",\"symbol\":\"circle\"},\"mode\":\"markers\",\"name\":\"Rachaad White\",\"orientation\":\"v\",\"showlegend\":true,\"x\":[1.0],\"xaxis\":\"x\",\"y\":[0.0],\"yaxis\":\"y\",\"type\":\"scatter\"}],                        {\"template\":{\"data\":{\"histogram2dcontour\":[{\"type\":\"histogram2dcontour\",\"colorbar\":{\"outlinewidth\":0,\"ticks\":\"\"},\"colorscale\":[[0.0,\"#0d0887\"],[0.1111111111111111,\"#46039f\"],[0.2222222222222222,\"#7201a8\"],[0.3333333333333333,\"#9c179e\"],[0.4444444444444444,\"#bd3786\"],[0.5555555555555556,\"#d8576b\"],[0.6666666666666666,\"#ed7953\"],[0.7777777777777778,\"#fb9f3a\"],[0.8888888888888888,\"#fdca26\"],[1.0,\"#f0f921\"]]}],\"choropleth\":[{\"type\":\"choropleth\",\"colorbar\":{\"outlinewidth\":0,\"ticks\":\"\"}}],\"histogram2d\":[{\"type\":\"histogram2d\",\"colorbar\":{\"outlinewidth\":0,\"ticks\":\"\"},\"colorscale\":[[0.0,\"#0d0887\"],[0.1111111111111111,\"#46039f\"],[0.2222222222222222,\"#7201a8\"],[0.3333333333333333,\"#9c179e\"],[0.4444444444444444,\"#bd3786\"],[0.5555555555555556,\"#d8576b\"],[0.6666666666666666,\"#ed7953\"],[0.7777777777777778,\"#fb9f3a\"],[0.8888888888888888,\"#fdca26\"],[1.0,\"#f0f921\"]]}],\"heatmap\":[{\"type\":\"heatmap\",\"colorbar\":{\"outlinewidth\":0,\"ticks\":\"\"},\"colorscale\":[[0.0,\"#0d0887\"],[0.1111111111111111,\"#46039f\"],[0.2222222222222222,\"#7201a8\"],[0.3333333333333333,\"#9c179e\"],[0.4444444444444444,\"#bd3786\"],[0.5555555555555556,\"#d8576b\"],[0.6666666666666666,\"#ed7953\"],[0.7777777777777778,\"#fb9f3a\"],[0.8888888888888888,\"#fdca26\"],[1.0,\"#f0f921\"]]}],\"heatmapgl\":[{\"type\":\"heatmapgl\",\"colorbar\":{\"outlinewidth\":0,\"ticks\":\"\"},\"colorscale\":[[0.0,\"#0d0887\"],[0.1111111111111111,\"#46039f\"],[0.2222222222222222,\"#7201a8\"],[0.3333333333333333,\"#9c179e\"],[0.4444444444444444,\"#bd3786\"],[0.5555555555555556,\"#d8576b\"],[0.6666666666666666,\"#ed7953\"],[0.7777777777777778,\"#fb9f3a\"],[0.8888888888888888,\"#fdca26\"],[1.0,\"#f0f921\"]]}],\"contourcarpet\":[{\"type\":\"contourcarpet\",\"colorbar\":{\"outlinewidth\":0,\"ticks\":\"\"}}],\"contour\":[{\"type\":\"contour\",\"colorbar\":{\"outlinewidth\":0,\"ticks\":\"\"},\"colorscale\":[[0.0,\"#0d0887\"],[0.1111111111111111,\"#46039f\"],[0.2222222222222222,\"#7201a8\"],[0.3333333333333333,\"#9c179e\"],[0.4444444444444444,\"#bd3786\"],[0.5555555555555556,\"#d8576b\"],[0.6666666666666666,\"#ed7953\"],[0.7777777777777778,\"#fb9f3a\"],[0.8888888888888888,\"#fdca26\"],[1.0,\"#f0f921\"]]}],\"surface\":[{\"type\":\"surface\",\"colorbar\":{\"outlinewidth\":0,\"ticks\":\"\"},\"colorscale\":[[0.0,\"#0d0887\"],[0.1111111111111111,\"#46039f\"],[0.2222222222222222,\"#7201a8\"],[0.3333333333333333,\"#9c179e\"],[0.4444444444444444,\"#bd3786\"],[0.5555555555555556,\"#d8576b\"],[0.6666666666666666,\"#ed7953\"],[0.7777777777777778,\"#fb9f3a\"],[0.8888888888888888,\"#fdca26\"],[1.0,\"#f0f921\"]]}],\"mesh3d\":[{\"type\":\"mesh3d\",\"colorbar\":{\"outlinewidth\":0,\"ticks\":\"\"}}],\"scatter\":[{\"marker\":{\"line\":{\"color\":\"#283442\"}},\"type\":\"scatter\"}],\"parcoords\":[{\"type\":\"parcoords\",\"line\":{\"colorbar\":{\"outlinewidth\":0,\"ticks\":\"\"}}}],\"scatterpolargl\":[{\"type\":\"scatterpolargl\",\"marker\":{\"colorbar\":{\"outlinewidth\":0,\"ticks\":\"\"}}}],\"bar\":[{\"error_x\":{\"color\":\"#f2f5fa\"},\"error_y\":{\"color\":\"#f2f5fa\"},\"marker\":{\"line\":{\"color\":\"rgb(17,17,17)\",\"width\":0.5},\"pattern\":{\"fillmode\":\"overlay\",\"size\":10,\"solidity\":0.2}},\"type\":\"bar\"}],\"scattergeo\":[{\"type\":\"scattergeo\",\"marker\":{\"colorbar\":{\"outlinewidth\":0,\"ticks\":\"\"}}}],\"scatterpolar\":[{\"type\":\"scatterpolar\",\"marker\":{\"colorbar\":{\"outlinewidth\":0,\"ticks\":\"\"}}}],\"histogram\":[{\"marker\":{\"pattern\":{\"fillmode\":\"overlay\",\"size\":10,\"solidity\":0.2}},\"type\":\"histogram\"}],\"scattergl\":[{\"marker\":{\"line\":{\"color\":\"#283442\"}},\"type\":\"scattergl\"}],\"scatter3d\":[{\"type\":\"scatter3d\",\"line\":{\"colorbar\":{\"outlinewidth\":0,\"ticks\":\"\"}},\"marker\":{\"colorbar\":{\"outlinewidth\":0,\"ticks\":\"\"}}}],\"scattermapbox\":[{\"type\":\"scattermapbox\",\"marker\":{\"colorbar\":{\"outlinewidth\":0,\"ticks\":\"\"}}}],\"scatterternary\":[{\"type\":\"scatterternary\",\"marker\":{\"colorbar\":{\"outlinewidth\":0,\"ticks\":\"\"}}}],\"scattercarpet\":[{\"type\":\"scattercarpet\",\"marker\":{\"colorbar\":{\"outlinewidth\":0,\"ticks\":\"\"}}}],\"carpet\":[{\"aaxis\":{\"endlinecolor\":\"#A2B1C6\",\"gridcolor\":\"#506784\",\"linecolor\":\"#506784\",\"minorgridcolor\":\"#506784\",\"startlinecolor\":\"#A2B1C6\"},\"baxis\":{\"endlinecolor\":\"#A2B1C6\",\"gridcolor\":\"#506784\",\"linecolor\":\"#506784\",\"minorgridcolor\":\"#506784\",\"startlinecolor\":\"#A2B1C6\"},\"type\":\"carpet\"}],\"table\":[{\"cells\":{\"fill\":{\"color\":\"#506784\"},\"line\":{\"color\":\"rgb(17,17,17)\"}},\"header\":{\"fill\":{\"color\":\"#2a3f5f\"},\"line\":{\"color\":\"rgb(17,17,17)\"}},\"type\":\"table\"}],\"barpolar\":[{\"marker\":{\"line\":{\"color\":\"rgb(17,17,17)\",\"width\":0.5},\"pattern\":{\"fillmode\":\"overlay\",\"size\":10,\"solidity\":0.2}},\"type\":\"barpolar\"}],\"pie\":[{\"automargin\":true,\"type\":\"pie\"}]},\"layout\":{\"autotypenumbers\":\"strict\",\"colorway\":[\"#636efa\",\"#EF553B\",\"#00cc96\",\"#ab63fa\",\"#FFA15A\",\"#19d3f3\",\"#FF6692\",\"#B6E880\",\"#FF97FF\",\"#FECB52\"],\"font\":{\"color\":\"#f2f5fa\"},\"hovermode\":\"closest\",\"hoverlabel\":{\"align\":\"left\"},\"paper_bgcolor\":\"rgb(17,17,17)\",\"plot_bgcolor\":\"rgb(17,17,17)\",\"polar\":{\"bgcolor\":\"rgb(17,17,17)\",\"angularaxis\":{\"gridcolor\":\"#506784\",\"linecolor\":\"#506784\",\"ticks\":\"\"},\"radialaxis\":{\"gridcolor\":\"#506784\",\"linecolor\":\"#506784\",\"ticks\":\"\"}},\"ternary\":{\"bgcolor\":\"rgb(17,17,17)\",\"aaxis\":{\"gridcolor\":\"#506784\",\"linecolor\":\"#506784\",\"ticks\":\"\"},\"baxis\":{\"gridcolor\":\"#506784\",\"linecolor\":\"#506784\",\"ticks\":\"\"},\"caxis\":{\"gridcolor\":\"#506784\",\"linecolor\":\"#506784\",\"ticks\":\"\"}},\"coloraxis\":{\"colorbar\":{\"outlinewidth\":0,\"ticks\":\"\"}},\"colorscale\":{\"sequential\":[[0.0,\"#0d0887\"],[0.1111111111111111,\"#46039f\"],[0.2222222222222222,\"#7201a8\"],[0.3333333333333333,\"#9c179e\"],[0.4444444444444444,\"#bd3786\"],[0.5555555555555556,\"#d8576b\"],[0.6666666666666666,\"#ed7953\"],[0.7777777777777778,\"#fb9f3a\"],[0.8888888888888888,\"#fdca26\"],[1.0,\"#f0f921\"]],\"sequentialminus\":[[0.0,\"#0d0887\"],[0.1111111111111111,\"#46039f\"],[0.2222222222222222,\"#7201a8\"],[0.3333333333333333,\"#9c179e\"],[0.4444444444444444,\"#bd3786\"],[0.5555555555555556,\"#d8576b\"],[0.6666666666666666,\"#ed7953\"],[0.7777777777777778,\"#fb9f3a\"],[0.8888888888888888,\"#fdca26\"],[1.0,\"#f0f921\"]],\"diverging\":[[0,\"#8e0152\"],[0.1,\"#c51b7d\"],[0.2,\"#de77ae\"],[0.3,\"#f1b6da\"],[0.4,\"#fde0ef\"],[0.5,\"#f7f7f7\"],[0.6,\"#e6f5d0\"],[0.7,\"#b8e186\"],[0.8,\"#7fbc41\"],[0.9,\"#4d9221\"],[1,\"#276419\"]]},\"xaxis\":{\"gridcolor\":\"#283442\",\"linecolor\":\"#506784\",\"ticks\":\"\",\"title\":{\"standoff\":15},\"zerolinecolor\":\"#283442\",\"automargin\":true,\"zerolinewidth\":2},\"yaxis\":{\"gridcolor\":\"#283442\",\"linecolor\":\"#506784\",\"ticks\":\"\",\"title\":{\"standoff\":15},\"zerolinecolor\":\"#283442\",\"automargin\":true,\"zerolinewidth\":2},\"scene\":{\"xaxis\":{\"backgroundcolor\":\"rgb(17,17,17)\",\"gridcolor\":\"#506784\",\"linecolor\":\"#506784\",\"showbackground\":true,\"ticks\":\"\",\"zerolinecolor\":\"#C8D4E3\",\"gridwidth\":2},\"yaxis\":{\"backgroundcolor\":\"rgb(17,17,17)\",\"gridcolor\":\"#506784\",\"linecolor\":\"#506784\",\"showbackground\":true,\"ticks\":\"\",\"zerolinecolor\":\"#C8D4E3\",\"gridwidth\":2},\"zaxis\":{\"backgroundcolor\":\"rgb(17,17,17)\",\"gridcolor\":\"#506784\",\"linecolor\":\"#506784\",\"showbackground\":true,\"ticks\":\"\",\"zerolinecolor\":\"#C8D4E3\",\"gridwidth\":2}},\"shapedefaults\":{\"line\":{\"color\":\"#f2f5fa\"}},\"annotationdefaults\":{\"arrowcolor\":\"#f2f5fa\",\"arrowhead\":0,\"arrowwidth\":1},\"geo\":{\"bgcolor\":\"rgb(17,17,17)\",\"landcolor\":\"rgb(17,17,17)\",\"subunitcolor\":\"#506784\",\"showland\":true,\"showlakes\":true,\"lakecolor\":\"rgb(17,17,17)\"},\"title\":{\"x\":0.05},\"updatemenudefaults\":{\"bgcolor\":\"#506784\",\"borderwidth\":0},\"sliderdefaults\":{\"bgcolor\":\"#C8D4E3\",\"borderwidth\":1,\"bordercolor\":\"rgb(17,17,17)\",\"tickwidth\":0},\"mapbox\":{\"style\":\"dark\"}}},\"xaxis\":{\"anchor\":\"y\",\"domain\":[0.0,1.0],\"title\":{\"text\":\"rush_tds\"}},\"yaxis\":{\"anchor\":\"x\",\"domain\":[0.0,1.0],\"title\":{\"text\":\"rec_tds\"}},\"legend\":{\"title\":{\"text\":\"player\"},\"tracegroupgap\":0},\"margin\":{\"t\":60}},                        {\"responsive\": true}                    ).then(function(){\n                            \nvar gd = document.getElementById('133b4973-77f4-443c-a853-8b6a14730d43');\nvar x = new MutationObserver(function (mutations, observer) {{\n        var display = window.getComputedStyle(gd).display;\n        if (!display || display === 'none') {{\n            console.log([gd, 'removed!']);\n            Plotly.purge(gd);\n            observer.disconnect();\n        }}\n}});\n\n// Listen for the removal of the full notebook cells\nvar notebookContainer = gd.closest('#notebook-container');\nif (notebookContainer) {{\n    x.observe(notebookContainer, {childList: true});\n}}\n\n// Listen for the clearing of the current output cell\nvar outputEl = gd.closest('.output');\nif (outputEl) {{\n    x.observe(outputEl, {childList: true});\n}}\n\n                        })                };                });            </script>        </div>"
     },
     "metadata": {},
     "output_type": "display_data"
    }
   ],
   "source": [
    "import plotly.express as px\n",
    "fig = px.scatter(jugadores_rb, x=\"rush_tds\", y=\"rec_tds\", color='player')\n",
    "fig.show();"
   ],
   "metadata": {
    "collapsed": false,
    "pycharm": {
     "name": "#%%\n"
    }
   }
  },
  {
   "cell_type": "markdown",
   "source": [
    "aca podemos ver que la cantidad de anotaciones recibidas no tiene correlacion con la de anotaciones por tierra. esto significa que los rbs son utilizados de distinta manera dependiendo del equipo en el que estan o sus destrezas, podemos ver que ekeler es el que mejor ratio de aotaciones tiene, tambien es facil detectar que hay muchos rbs que solo se usan para marcar por tierra."
   ],
   "metadata": {
    "collapsed": false,
    "pycharm": {
     "name": "#%% md\n"
    }
   }
  },
  {
   "cell_type": "code",
   "execution_count": 669,
   "outputs": [],
   "source": [
    "jugadores_rb = jugadores_rb.drop(columns={'team', 'pos', 'pases_dos_pt', 'dos_pt_conv', 'pass_comp', 'pass_att', 'pass_yds','pass_tds', 'ints','pts_x_gm', 'games', 'games_started', 'PPR', 'rank', 'posrank'})"
   ],
   "metadata": {
    "collapsed": false,
    "pycharm": {
     "name": "#%%\n"
    }
   }
  },
  {
   "cell_type": "markdown",
   "source": [
    "saco las columnas de pase ya que los rbs rara vez se dedican a pasar la pelota, las columnas de conversion de dos puntos porque los equipos solo hacen conversiones de 2 ptos en raras ocaciones, la columna de posicion no se necesita porque ya sabemos que son todos rbs y la columna de equipo es irrelevantes para el fantasy. saco pts_x_partido porque la clasificacion esta directamente relacionada con esta columna y games por la misma razon, ademas casi todos tienen la misma cantidad de partidos jugados ademas es muy dificil de predecir si un jugador se va a perder partidos durante la temporada."
   ],
   "metadata": {
    "collapsed": false,
    "pycharm": {
     "name": "#%% md\n"
    }
   }
  },
  {
   "cell_type": "markdown",
   "source": [
    "## escalado de variables numericas"
   ],
   "metadata": {
    "collapsed": false,
    "pycharm": {
     "name": "#%% md\n"
    }
   }
  },
  {
   "cell_type": "code",
   "execution_count": 359,
   "outputs": [
    {
     "data": {
      "text/plain": "<AxesSubplot:title={'center':'Boxplot derushing_att'}, xlabel='rushing_att'>"
     },
     "execution_count": 359,
     "metadata": {},
     "output_type": "execute_result"
    },
    {
     "data": {
      "text/plain": "<Figure size 720x360 with 2 Axes>",
      "image/png": "[encoded data removed]"
     },
     "metadata": {
      "needs_background": "light"
     },
     "output_type": "display_data"
    }
   ],
   "source": [
    "variable = 'rushing_att'\n",
    "\n",
    "fig, ax = plt.subplots(1,2,figsize=(10,5))\n",
    "\n",
    "ax[0].set_title(f\"Distribucion de {variable}\")\n",
    "sns.histplot(data = jugadores_rb, x = f\"{variable}\", kde=True, ax = ax[0])\n",
    "\n",
    "ax[1].set_title(f\"Boxplot de{variable}\")\n",
    "sns.boxplot(data = jugadores_rb, x = f\"{variable}\", ax=ax[1])"
   ],
   "metadata": {
    "collapsed": false,
    "pycharm": {
     "name": "#%%\n"
    }
   }
  },
  {
   "cell_type": "code",
   "execution_count": 360,
   "outputs": [
    {
     "data": {
      "text/plain": "<AxesSubplot:title={'center':'Boxplot derush_yds'}, xlabel='rush_yds'>"
     },
     "execution_count": 360,
     "metadata": {},
     "output_type": "execute_result"
    },
    {
     "data": {
      "text/plain": "<Figure size 720x360 with 2 Axes>",
      "image/png": "[encoded data removed]"
     },
     "metadata": {
      "needs_background": "light"
     },
     "output_type": "display_data"
    }
   ],
   "source": [
    "variable = 'rush_yds'\n",
    "\n",
    "fig, ax = plt.subplots(1,2,figsize=(10,5))\n",
    "\n",
    "ax[0].set_title(f\"Distribucion de {variable}\")\n",
    "sns.histplot(data = jugadores_rb, x = f\"{variable}\", kde=True, ax = ax[0])\n",
    "\n",
    "ax[1].set_title(f\"Boxplot de{variable}\")\n",
    "sns.boxplot(data = jugadores_rb, x = f\"{variable}\", ax=ax[1])"
   ],
   "metadata": {
    "collapsed": false,
    "pycharm": {
     "name": "#%%\n"
    }
   }
  },
  {
   "cell_type": "code",
   "execution_count": 361,
   "outputs": [
    {
     "data": {
      "text/plain": "<AxesSubplot:title={'center':'Boxplot derec'}, xlabel='rec'>"
     },
     "execution_count": 361,
     "metadata": {},
     "output_type": "execute_result"
    },
    {
     "data": {
      "text/plain": "<Figure size 720x360 with 2 Axes>",
      "image/png": "[encoded data removed]"
     },
     "metadata": {
      "needs_background": "light"
     },
     "output_type": "display_data"
    }
   ],
   "source": [
    "variable = 'rec'\n",
    "\n",
    "fig, ax = plt.subplots(1,2,figsize=(10,5))\n",
    "\n",
    "ax[0].set_title(f\"Distribucion de {variable}\")\n",
    "sns.histplot(data = jugadores_rb, x = f\"{variable}\", kde=True, ax = ax[0])\n",
    "\n",
    "ax[1].set_title(f\"Boxplot de{variable}\")\n",
    "sns.boxplot(data = jugadores_rb, x = f\"{variable}\", ax=ax[1])"
   ],
   "metadata": {
    "collapsed": false,
    "pycharm": {
     "name": "#%%\n"
    }
   }
  },
  {
   "cell_type": "code",
   "execution_count": 238,
   "outputs": [
    {
     "data": {
      "text/plain": "<AxesSubplot:title={'center':'Boxplot derec_yds'}, xlabel='rec_yds'>"
     },
     "execution_count": 238,
     "metadata": {},
     "output_type": "execute_result"
    },
    {
     "data": {
      "text/plain": "<Figure size 720x360 with 2 Axes>",
      "image/png": "[encoded data removed]"
     },
     "metadata": {
      "needs_background": "light"
     },
     "output_type": "display_data"
    }
   ],
   "source": [
    "variable = 'rec_yds'\n",
    "\n",
    "fig, ax = plt.subplots(1,2,figsize=(10,5))\n",
    "\n",
    "ax[0].set_title(f\"Distribucion de {variable}\")\n",
    "sns.histplot(data = jugadores_rb, x = f\"{variable}\", kde=True, ax = ax[0])\n",
    "\n",
    "ax[1].set_title(f\"Boxplot de{variable}\")\n",
    "sns.boxplot(data = jugadores_rb, x = f\"{variable}\", ax=ax[1])"
   ],
   "metadata": {
    "collapsed": false,
    "pycharm": {
     "name": "#%%\n"
    }
   }
  },
  {
   "cell_type": "code",
   "execution_count": 240,
   "outputs": [
    {
     "data": {
      "text/plain": "<AxesSubplot:title={'center':'Boxplot detd_tot'}, xlabel='td_tot'>"
     },
     "execution_count": 240,
     "metadata": {},
     "output_type": "execute_result"
    },
    {
     "data": {
      "text/plain": "<Figure size 720x360 with 2 Axes>",
      "image/png": "[encoded data removed]"
     },
     "metadata": {
      "needs_background": "light"
     },
     "output_type": "display_data"
    }
   ],
   "source": [
    "variable = 'td_tot'\n",
    "\n",
    "fig, ax = plt.subplots(1,2,figsize=(10,5))\n",
    "\n",
    "ax[0].set_title(f\"Distribucion de {variable}\")\n",
    "sns.histplot(data = jugadores_rb, x = f\"{variable}\", kde=True, ax = ax[0])\n",
    "\n",
    "ax[1].set_title(f\"Boxplot de{variable}\")\n",
    "sns.boxplot(data = jugadores_rb, x = f\"{variable}\", ax=ax[1])"
   ],
   "metadata": {
    "collapsed": false,
    "pycharm": {
     "name": "#%%\n"
    }
   }
  },
  {
   "cell_type": "code",
   "execution_count": 340,
   "outputs": [
    {
     "data": {
      "text/plain": "<AxesSubplot:title={'center':'Boxplot deyds_x_rec'}, xlabel='yds_x_rec'>"
     },
     "execution_count": 340,
     "metadata": {},
     "output_type": "execute_result"
    },
    {
     "data": {
      "text/plain": "<Figure size 720x360 with 2 Axes>",
      "image/png": "[encoded data removed]"
     },
     "metadata": {
      "needs_background": "light"
     },
     "output_type": "display_data"
    }
   ],
   "source": [
    "variable = 'yds_x_rec'\n",
    "\n",
    "fig, ax = plt.subplots(1,2,figsize=(10,5))\n",
    "\n",
    "ax[0].set_title(f\"Distribucion de {variable}\")\n",
    "sns.histplot(data = jugadores_rb, x = f\"{variable}\", kde=True, ax = ax[0])\n",
    "\n",
    "ax[1].set_title(f\"Boxplot de{variable}\")\n",
    "sns.boxplot(data = jugadores_rb, x = f\"{variable}\", ax=ax[1])"
   ],
   "metadata": {
    "collapsed": false,
    "pycharm": {
     "name": "#%%\n"
    }
   }
  },
  {
   "cell_type": "code",
   "execution_count": 341,
   "outputs": [
    {
     "data": {
      "text/plain": "<AxesSubplot:title={'center':'Boxplot deyds_x_att'}, xlabel='yds_x_att'>"
     },
     "execution_count": 341,
     "metadata": {},
     "output_type": "execute_result"
    },
    {
     "data": {
      "text/plain": "<Figure size 720x360 with 2 Axes>",
      "image/png": "[encoded data removed]"
     },
     "metadata": {
      "needs_background": "light"
     },
     "output_type": "display_data"
    }
   ],
   "source": [
    "variable = 'yds_x_att'\n",
    "\n",
    "fig, ax = plt.subplots(1,2,figsize=(10,5))\n",
    "\n",
    "ax[0].set_title(f\"Distribucion de {variable}\")\n",
    "sns.histplot(data = jugadores_rb, x = f\"{variable}\", kde=True, ax = ax[0])\n",
    "\n",
    "ax[1].set_title(f\"Boxplot de{variable}\")\n",
    "sns.boxplot(data = jugadores_rb, x = f\"{variable}\", ax=ax[1])"
   ],
   "metadata": {
    "collapsed": false,
    "pycharm": {
     "name": "#%%\n"
    }
   }
  },
  {
   "cell_type": "code",
   "execution_count": 670,
   "outputs": [
    {
     "data": {
      "text/plain": "   age  rushing_att  rush_yds  yds_x_att  rush_tds  targets       rec  \\\n0   23     1.459716  1.744086   0.675159      15.0    142.0  3.659574   \n2   25     1.611374  2.073118   0.993631      16.0     24.0 -0.510638   \n3   25     0.976303  1.092473   0.369427      16.0     68.0  0.808511   \n4   24     1.592417  1.679570   0.267516      12.0     71.0  1.021277   \n5   24     1.109005  1.202151   0.305732      13.0     63.0  0.978723   \n\n    rec_yds  yds_x_rec  rec_tds  ...  player_Saquon Barkley  \\\n0  4.449438   0.493333      4.0  ...                    0.0   \n2 -0.039326   1.728889      2.0  ...                    0.0   \n3  1.466292   0.942222      3.0  ...                    0.0   \n4  1.162921   0.102222      2.0  ...                    0.0   \n5  1.719101   0.995556      0.0  ...                    0.0   \n\n   player_Sony Michel  player_Tarik Cohen player_Tevin Coleman  \\\n0                 0.0                 0.0                  0.0   \n2                 0.0                 0.0                  0.0   \n3                 0.0                 0.0                  0.0   \n4                 0.0                 0.0                  0.0   \n5                 0.0                 0.0                  0.0   \n\n   player_Todd Gurley  player_Tony Pollard  player_Travis Homer  \\\n0                 0.0                  0.0                  0.0   \n2                 0.0                  0.0                  0.0   \n3                 0.0                  0.0                  0.0   \n4                 0.0                  0.0                  0.0   \n5                 0.0                  0.0                  0.0   \n\n   player_Ty Johnson  player_Wayne Gallman  player_Zack Moss  \n0                0.0                   0.0               0.0  \n2                0.0                   0.0               0.0  \n3                0.0                   0.0               0.0  \n4                0.0                   0.0               0.0  \n5                0.0                   0.0               0.0  \n\n[5 rows x 136 columns]",
      "text/html": "<div>\n<style scoped>\n    .dataframe tbody tr th:only-of-type {\n        vertical-align: middle;\n    }\n\n    .dataframe tbody tr th {\n        vertical-align: top;\n    }\n\n    .dataframe thead th {\n        text-align: right;\n    }\n</style>\n<table border=\"1\" class=\"dataframe\">\n  <thead>\n    <tr style=\"text-align: right;\">\n      <th></th>\n      <th>age</th>\n      <th>rushing_att</th>\n      <th>rush_yds</th>\n      <th>yds_x_att</th>\n      <th>rush_tds</th>\n      <th>targets</th>\n      <th>rec</th>\n      <th>rec_yds</th>\n      <th>yds_x_rec</th>\n      <th>rec_tds</th>\n      <th>...</th>\n      <th>player_Saquon Barkley</th>\n      <th>player_Sony Michel</th>\n      <th>player_Tarik Cohen</th>\n      <th>player_Tevin Coleman</th>\n      <th>player_Todd Gurley</th>\n      <th>player_Tony Pollard</th>\n      <th>player_Travis Homer</th>\n      <th>player_Ty Johnson</th>\n      <th>player_Wayne Gallman</th>\n      <th>player_Zack Moss</th>\n    </tr>\n  </thead>\n  <tbody>\n    <tr>\n      <th>0</th>\n      <td>23</td>\n      <td>1.459716</td>\n      <td>1.744086</td>\n      <td>0.675159</td>\n      <td>15.0</td>\n      <td>142.0</td>\n      <td>3.659574</td>\n      <td>4.449438</td>\n      <td>0.493333</td>\n      <td>4.0</td>\n      <td>...</td>\n      <td>0.0</td>\n      <td>0.0</td>\n      <td>0.0</td>\n      <td>0.0</td>\n      <td>0.0</td>\n      <td>0.0</td>\n      <td>0.0</td>\n      <td>0.0</td>\n      <td>0.0</td>\n      <td>0.0</td>\n    </tr>\n    <tr>\n      <th>2</th>\n      <td>25</td>\n      <td>1.611374</td>\n      <td>2.073118</td>\n      <td>0.993631</td>\n      <td>16.0</td>\n      <td>24.0</td>\n      <td>-0.510638</td>\n      <td>-0.039326</td>\n      <td>1.728889</td>\n      <td>2.0</td>\n      <td>...</td>\n      <td>0.0</td>\n      <td>0.0</td>\n      <td>0.0</td>\n      <td>0.0</td>\n      <td>0.0</td>\n      <td>0.0</td>\n      <td>0.0</td>\n      <td>0.0</td>\n      <td>0.0</td>\n      <td>0.0</td>\n    </tr>\n    <tr>\n      <th>3</th>\n      <td>25</td>\n      <td>0.976303</td>\n      <td>1.092473</td>\n      <td>0.369427</td>\n      <td>16.0</td>\n      <td>68.0</td>\n      <td>0.808511</td>\n      <td>1.466292</td>\n      <td>0.942222</td>\n      <td>3.0</td>\n      <td>...</td>\n      <td>0.0</td>\n      <td>0.0</td>\n      <td>0.0</td>\n      <td>0.0</td>\n      <td>0.0</td>\n      <td>0.0</td>\n      <td>0.0</td>\n      <td>0.0</td>\n      <td>0.0</td>\n      <td>0.0</td>\n    </tr>\n    <tr>\n      <th>4</th>\n      <td>24</td>\n      <td>1.592417</td>\n      <td>1.679570</td>\n      <td>0.267516</td>\n      <td>12.0</td>\n      <td>71.0</td>\n      <td>1.021277</td>\n      <td>1.162921</td>\n      <td>0.102222</td>\n      <td>2.0</td>\n      <td>...</td>\n      <td>0.0</td>\n      <td>0.0</td>\n      <td>0.0</td>\n      <td>0.0</td>\n      <td>0.0</td>\n      <td>0.0</td>\n      <td>0.0</td>\n      <td>0.0</td>\n      <td>0.0</td>\n      <td>0.0</td>\n    </tr>\n    <tr>\n      <th>5</th>\n      <td>24</td>\n      <td>1.109005</td>\n      <td>1.202151</td>\n      <td>0.305732</td>\n      <td>13.0</td>\n      <td>63.0</td>\n      <td>0.978723</td>\n      <td>1.719101</td>\n      <td>0.995556</td>\n      <td>0.0</td>\n      <td>...</td>\n      <td>0.0</td>\n      <td>0.0</td>\n      <td>0.0</td>\n      <td>0.0</td>\n      <td>0.0</td>\n      <td>0.0</td>\n      <td>0.0</td>\n      <td>0.0</td>\n      <td>0.0</td>\n      <td>0.0</td>\n    </tr>\n  </tbody>\n</table>\n<p>5 rows × 136 columns</p>\n</div>"
     },
     "execution_count": 670,
     "metadata": {},
     "output_type": "execute_result"
    }
   ],
   "source": [
    "from sklearn.preprocessing import RobustScaler\n",
    "\n",
    "rb_scaler = RobustScaler()\n",
    "jugadores_rb['td_tot'],jugadores_rb['rushing_att'],jugadores_rb['rush_yds'], jugadores_rb['rec'], jugadores_rb['rec_yds'], jugadores_rb['yds_x_rec'], jugadores_rb['yds_x_att']= rb_scaler.fit_transform(jugadores_rb[['td_tot','rushing_att','rush_yds', 'rec', 'rec_yds', 'yds_x_att', 'yds_x_rec']]).T\n",
    "jugadores_rb.head()"
   ],
   "metadata": {
    "collapsed": false,
    "pycharm": {
     "name": "#%%\n"
    }
   }
  },
  {
   "cell_type": "markdown",
   "source": [
    "veo las distribuciones de cada variable numerica y como todas tienen outliers hago un escalado robusto porque no es muy afectado por los outliers. los outliers no son eliminados porque son los jugadores que mas puntos hicieron."
   ],
   "metadata": {
    "collapsed": false,
    "pycharm": {
     "name": "#%% md\n"
    }
   }
  },
  {
   "cell_type": "markdown",
   "source": [
    "## encoding de variables categoricas"
   ],
   "metadata": {
    "collapsed": false,
    "pycharm": {
     "name": "#%% md\n"
    }
   }
  },
  {
   "cell_type": "code",
   "execution_count": 671,
   "outputs": [
    {
     "ename": "KeyError",
     "evalue": "\"None of [Index(['player'], dtype='object')] are in the [columns]\"",
     "output_type": "error",
     "traceback": [
      "\u001B[1;31m---------------------------------------------------------------------------\u001B[0m",
      "\u001B[1;31mKeyError\u001B[0m                                  Traceback (most recent call last)",
      "Input \u001B[1;32mIn [671]\u001B[0m, in \u001B[0;36m<cell line: 4>\u001B[1;34m()\u001B[0m\n\u001B[0;32m      1\u001B[0m \u001B[38;5;28;01mfrom\u001B[39;00m \u001B[38;5;21;01msklearn\u001B[39;00m\u001B[38;5;21;01m.\u001B[39;00m\u001B[38;5;21;01mpreprocessing\u001B[39;00m \u001B[38;5;28;01mimport\u001B[39;00m OneHotEncoder\n\u001B[0;32m      3\u001B[0m ohe \u001B[38;5;241m=\u001B[39m OneHotEncoder(sparse\u001B[38;5;241m=\u001B[39m\u001B[38;5;28;01mFalse\u001B[39;00m)\n\u001B[1;32m----> 4\u001B[0m ohe\u001B[38;5;241m.\u001B[39mfit(\u001B[43mjugadores_rb\u001B[49m\u001B[43m[\u001B[49m\u001B[43m[\u001B[49m\u001B[38;5;124;43m'\u001B[39;49m\u001B[38;5;124;43mplayer\u001B[39;49m\u001B[38;5;124;43m'\u001B[39;49m\u001B[43m]\u001B[49m\u001B[43m]\u001B[49m)\n\u001B[0;32m      5\u001B[0m display(ohe\u001B[38;5;241m.\u001B[39mcategories_)\n\u001B[0;32m      6\u001B[0m display(ohe\u001B[38;5;241m.\u001B[39mget_feature_names_out())\n",
      "File \u001B[1;32mc:\\users\\tomas\\appdata\\local\\programs\\python\\python39\\lib\\site-packages\\pandas\\core\\frame.py:3811\u001B[0m, in \u001B[0;36mDataFrame.__getitem__\u001B[1;34m(self, key)\u001B[0m\n\u001B[0;32m   3809\u001B[0m     \u001B[38;5;28;01mif\u001B[39;00m is_iterator(key):\n\u001B[0;32m   3810\u001B[0m         key \u001B[38;5;241m=\u001B[39m \u001B[38;5;28mlist\u001B[39m(key)\n\u001B[1;32m-> 3811\u001B[0m     indexer \u001B[38;5;241m=\u001B[39m \u001B[38;5;28;43mself\u001B[39;49m\u001B[38;5;241;43m.\u001B[39;49m\u001B[43mcolumns\u001B[49m\u001B[38;5;241;43m.\u001B[39;49m\u001B[43m_get_indexer_strict\u001B[49m\u001B[43m(\u001B[49m\u001B[43mkey\u001B[49m\u001B[43m,\u001B[49m\u001B[43m \u001B[49m\u001B[38;5;124;43m\"\u001B[39;49m\u001B[38;5;124;43mcolumns\u001B[39;49m\u001B[38;5;124;43m\"\u001B[39;49m\u001B[43m)\u001B[49m[\u001B[38;5;241m1\u001B[39m]\n\u001B[0;32m   3813\u001B[0m \u001B[38;5;66;03m# take() does not accept boolean indexers\u001B[39;00m\n\u001B[0;32m   3814\u001B[0m \u001B[38;5;28;01mif\u001B[39;00m \u001B[38;5;28mgetattr\u001B[39m(indexer, \u001B[38;5;124m\"\u001B[39m\u001B[38;5;124mdtype\u001B[39m\u001B[38;5;124m\"\u001B[39m, \u001B[38;5;28;01mNone\u001B[39;00m) \u001B[38;5;241m==\u001B[39m \u001B[38;5;28mbool\u001B[39m:\n",
      "File \u001B[1;32mc:\\users\\tomas\\appdata\\local\\programs\\python\\python39\\lib\\site-packages\\pandas\\core\\indexes\\base.py:6113\u001B[0m, in \u001B[0;36mIndex._get_indexer_strict\u001B[1;34m(self, key, axis_name)\u001B[0m\n\u001B[0;32m   6110\u001B[0m \u001B[38;5;28;01melse\u001B[39;00m:\n\u001B[0;32m   6111\u001B[0m     keyarr, indexer, new_indexer \u001B[38;5;241m=\u001B[39m \u001B[38;5;28mself\u001B[39m\u001B[38;5;241m.\u001B[39m_reindex_non_unique(keyarr)\n\u001B[1;32m-> 6113\u001B[0m \u001B[38;5;28;43mself\u001B[39;49m\u001B[38;5;241;43m.\u001B[39;49m\u001B[43m_raise_if_missing\u001B[49m\u001B[43m(\u001B[49m\u001B[43mkeyarr\u001B[49m\u001B[43m,\u001B[49m\u001B[43m \u001B[49m\u001B[43mindexer\u001B[49m\u001B[43m,\u001B[49m\u001B[43m \u001B[49m\u001B[43maxis_name\u001B[49m\u001B[43m)\u001B[49m\n\u001B[0;32m   6115\u001B[0m keyarr \u001B[38;5;241m=\u001B[39m \u001B[38;5;28mself\u001B[39m\u001B[38;5;241m.\u001B[39mtake(indexer)\n\u001B[0;32m   6116\u001B[0m \u001B[38;5;28;01mif\u001B[39;00m \u001B[38;5;28misinstance\u001B[39m(key, Index):\n\u001B[0;32m   6117\u001B[0m     \u001B[38;5;66;03m# GH 42790 - Preserve name from an Index\u001B[39;00m\n",
      "File \u001B[1;32mc:\\users\\tomas\\appdata\\local\\programs\\python\\python39\\lib\\site-packages\\pandas\\core\\indexes\\base.py:6173\u001B[0m, in \u001B[0;36mIndex._raise_if_missing\u001B[1;34m(self, key, indexer, axis_name)\u001B[0m\n\u001B[0;32m   6171\u001B[0m     \u001B[38;5;28;01mif\u001B[39;00m use_interval_msg:\n\u001B[0;32m   6172\u001B[0m         key \u001B[38;5;241m=\u001B[39m \u001B[38;5;28mlist\u001B[39m(key)\n\u001B[1;32m-> 6173\u001B[0m     \u001B[38;5;28;01mraise\u001B[39;00m \u001B[38;5;167;01mKeyError\u001B[39;00m(\u001B[38;5;124mf\u001B[39m\u001B[38;5;124m\"\u001B[39m\u001B[38;5;124mNone of [\u001B[39m\u001B[38;5;132;01m{\u001B[39;00mkey\u001B[38;5;132;01m}\u001B[39;00m\u001B[38;5;124m] are in the [\u001B[39m\u001B[38;5;132;01m{\u001B[39;00maxis_name\u001B[38;5;132;01m}\u001B[39;00m\u001B[38;5;124m]\u001B[39m\u001B[38;5;124m\"\u001B[39m)\n\u001B[0;32m   6175\u001B[0m not_found \u001B[38;5;241m=\u001B[39m \u001B[38;5;28mlist\u001B[39m(ensure_index(key)[missing_mask\u001B[38;5;241m.\u001B[39mnonzero()[\u001B[38;5;241m0\u001B[39m]]\u001B[38;5;241m.\u001B[39munique())\n\u001B[0;32m   6176\u001B[0m \u001B[38;5;28;01mraise\u001B[39;00m \u001B[38;5;167;01mKeyError\u001B[39;00m(\u001B[38;5;124mf\u001B[39m\u001B[38;5;124m\"\u001B[39m\u001B[38;5;132;01m{\u001B[39;00mnot_found\u001B[38;5;132;01m}\u001B[39;00m\u001B[38;5;124m not in index\u001B[39m\u001B[38;5;124m\"\u001B[39m)\n",
      "\u001B[1;31mKeyError\u001B[0m: \"None of [Index(['player'], dtype='object')] are in the [columns]\""
     ]
    }
   ],
   "source": [
    "from sklearn.preprocessing import OneHotEncoder\n",
    "\n",
    "ohe = OneHotEncoder(sparse=False)\n",
    "ohe.fit(jugadores_rb[['player']])\n",
    "display(ohe.categories_)\n",
    "display(ohe.get_feature_names_out())\n",
    "rb_encoded = ohe.transform(jugadores_rb[['player']])\n",
    "\n",
    "jugadores_rb[ohe.get_feature_names_out()] = rb_encoded\n",
    "\n",
    "\n",
    "jugadores_rb.drop(columns='player', inplace = True)"
   ],
   "metadata": {
    "collapsed": false,
    "pycharm": {
     "name": "#%%\n"
    }
   }
  },
  {
   "cell_type": "markdown",
   "source": [
    "pongo los jugadores en filas en vez de columnas para poder hacer el encoding de la variable clasificacion que es la target."
   ],
   "metadata": {
    "collapsed": false,
    "pycharm": {
     "name": "#%% md\n"
    }
   }
  },
  {
   "cell_type": "code",
   "execution_count": null,
   "outputs": [],
   "source": [
    "from sklearn.preprocessing import LabelEncoder\n",
    "\n",
    "jugadores_rb['clasificacion'] = LabelEncoder().fit_transform(jugadores_rb['clasificacion'])\n",
    "jugadores_rb\n",
    "#donde la clasificacion es 1 significa que el jugador es malo si es 0 significa que es bueno\n"
   ],
   "metadata": {
    "collapsed": false,
    "pycharm": {
     "name": "#%%\n"
    }
   }
  },
  {
   "cell_type": "markdown",
   "source": [
    "## creacion del modelo"
   ],
   "metadata": {
    "collapsed": false,
    "pycharm": {
     "name": "#%% md\n"
    }
   }
  },
  {
   "cell_type": "code",
   "execution_count": 672,
   "outputs": [
    {
     "data": {
      "text/plain": "0.8790940766550521"
     },
     "execution_count": 672,
     "metadata": {},
     "output_type": "execute_result"
    }
   ],
   "source": [
    "from sklearn.linear_model import LogisticRegression\n",
    "from sklearn.model_selection import cross_val_score\n",
    "\n",
    "X = jugadores_rb.drop(columns=['clasificacion'])\n",
    "y = jugadores_rb['clasificacion']\n",
    "\n",
    "model = LogisticRegression(solver='lbfgs', max_iter=5000)\n",
    "\n",
    "scores = cross_val_score(model, X, y, cv=5)\n",
    "base_model_score = scores.mean()\n",
    "\n",
    "base_model_score"
   ],
   "metadata": {
    "collapsed": false,
    "pycharm": {
     "name": "#%%\n"
    }
   }
  },
  {
   "cell_type": "code",
   "execution_count": 673,
   "outputs": [
    {
     "name": "stdout",
     "output_type": "stream",
     "text": [
      "Antes de la permutacion, el score del modelo es: 0.88\n",
      "Despues de la permutacion de variables, asi decrece el score en terminos de variables:\n"
     ]
    },
    {
     "data": {
      "text/plain": "                       feature feature_importance\n4                     rush_tds           0.087246\n7                      rec_yds           0.058502\n14                     td_x_gm           0.040338\n3                    yds_x_att           0.031739\n6                          rec           0.017971\n..                         ...                ...\n20   player_Alexander Mattison          -0.000048\n134           player_Zack Moss          -0.000048\n30          player_Carlos Hyde          -0.000097\n36        player_Chuba Hubbard          -0.000097\n1                  rushing_att          -0.000628\n\n[135 rows x 2 columns]",
      "text/html": "<div>\n<style scoped>\n    .dataframe tbody tr th:only-of-type {\n        vertical-align: middle;\n    }\n\n    .dataframe tbody tr th {\n        vertical-align: top;\n    }\n\n    .dataframe thead th {\n        text-align: right;\n    }\n</style>\n<table border=\"1\" class=\"dataframe\">\n  <thead>\n    <tr style=\"text-align: right;\">\n      <th></th>\n      <th>feature</th>\n      <th>feature_importance</th>\n    </tr>\n  </thead>\n  <tbody>\n    <tr>\n      <th>4</th>\n      <td>rush_tds</td>\n      <td>0.087246</td>\n    </tr>\n    <tr>\n      <th>7</th>\n      <td>rec_yds</td>\n      <td>0.058502</td>\n    </tr>\n    <tr>\n      <th>14</th>\n      <td>td_x_gm</td>\n      <td>0.040338</td>\n    </tr>\n    <tr>\n      <th>3</th>\n      <td>yds_x_att</td>\n      <td>0.031739</td>\n    </tr>\n    <tr>\n      <th>6</th>\n      <td>rec</td>\n      <td>0.017971</td>\n    </tr>\n    <tr>\n      <th>...</th>\n      <td>...</td>\n      <td>...</td>\n    </tr>\n    <tr>\n      <th>20</th>\n      <td>player_Alexander Mattison</td>\n      <td>-0.000048</td>\n    </tr>\n    <tr>\n      <th>134</th>\n      <td>player_Zack Moss</td>\n      <td>-0.000048</td>\n    </tr>\n    <tr>\n      <th>30</th>\n      <td>player_Carlos Hyde</td>\n      <td>-0.000097</td>\n    </tr>\n    <tr>\n      <th>36</th>\n      <td>player_Chuba Hubbard</td>\n      <td>-0.000097</td>\n    </tr>\n    <tr>\n      <th>1</th>\n      <td>rushing_att</td>\n      <td>-0.000628</td>\n    </tr>\n  </tbody>\n</table>\n<p>135 rows × 2 columns</p>\n</div>"
     },
     "execution_count": 673,
     "metadata": {},
     "output_type": "execute_result"
    }
   ],
   "source": [
    "from sklearn.model_selection import cross_validate\n",
    "from sklearn.inspection import permutation_importance\n",
    "\n",
    "model = LogisticRegression(solver='lbfgs', max_iter=1000)\n",
    "cv_results = cross_validate(model, X, y, cv = 5)\n",
    "score = cv_results[\"test_score\"].mean()\n",
    "print(f\"Antes de la permutacion, el score del modelo es: {round(score,2)}\")\n",
    "\n",
    "\n",
    "model = LogisticRegression(solver='lbfgs', max_iter=1000).fit(X,y)\n",
    "permutation_score = permutation_importance(model, X, y, n_repeats=100)\n",
    "importance_df = pd.DataFrame(np.vstack((X.columns,\n",
    "                                        permutation_score.importances_mean)).T,\n",
    "                            columns = ['feature','feature_importance'])\n",
    "\n",
    "print(\"Despues de la permutacion de variables, asi decrece el score en terminos de variables:\")\n",
    "importance_df = importance_df.sort_values(by=\"feature_importance\", ascending = False)\n",
    "importance_df"
   ],
   "metadata": {
    "collapsed": false,
    "pycharm": {
     "name": "#%%\n"
    }
   }
  },
  {
   "cell_type": "code",
   "execution_count": 674,
   "outputs": [
    {
     "data": {
      "text/plain": "array(['td_x_gm', 'yds_x_att', 'rec', 'rush_yds', 'yds_x_rec', 'age',\n       'rec_tds', 'player_Kareem Hunt', 'fumbles',\n       'player_Ronald Jones II', 'player_Jamaal Williams',\n       'player_Clyde Edwards-Helaire', 'player_Duke Johnson',\n       'player_Devin Singletary', 'player_Michael Carter', 'fum_lst',\n       'player_J.D. McKissic', 'player_Christian McCaffrey',\n       'player_Joe Mixon', 'player_James Conner', 'targets',\n       'player_David Montgomery', 'player_Salvon Ahmed',\n       'player_Sony Michel', 'player_Todd Gurley',\n       'player_Leonard Fournette', 'player_Austin Ekeler',\n       'player_Saquon Barkley', 'player_Royce Freeman',\n       'player_Raheem Mostert', 'player_Rashaad Penny',\n       'player_Giovani Bernard', 'player_Kenyan Drake',\n       'player_Tarik Cohen', 'player_Latavius Murray',\n       'player_Boston Scott', 'player_AJ Dillon',\n       'player_Damien Williams', 'player_Darrel Williams',\n       'player_Elijah Mitchell', \"player_Le'Veon Bell\",\n       'player_Marlon Mack', 'player_James Robinson',\n       'player_Jeff Wilson', 'player_Chris Carson', 'player_Travis Homer',\n       'player_Jordan Howard', 'player_Nyheim Hines',\n       'player_Wayne Gallman', 'player_Jordan Wilkins',\n       'player_Josh Jacobs', 'player_Jonathan Taylor*+',\n       'player_Josh Jacobs*', 'player_Kerryon Johnson',\n       'player_Joshua Kelley', 'player_Jonathan Taylor',\n       'player_Tevin Coleman', 'player_Justin Jackson',\n       'player_Kalen Ballage', 'year', 'player_Samaje Perine',\n       'player_Najee Harris*', 'player_Khalil Herbert',\n       'player_Miles Sanders', 'player_Kyle Juszczyk*',\n       'player_Rhamondre Stevenson', 'player_Phillip Lindsay',\n       'player_Peyton Barber', 'player_LeSean McCoy',\n       'player_Patrick Laird', 'player_Malcolm Brown',\n       'player_Mark Ingram', 'player_Mark Ingram*', 'player_Matt Breida',\n       'player_Melvin Gordon', 'player_Joe Mixon*', 'player_Nick Chubb*',\n       'player_Mike Davis', 'td_tot', 'player_Alex Collins',\n       'player_David Johnson', \"player_D'Ernest Johnson\",\n       'player_DeeJay Dallas', 'player_DeAndre Washington',\n       'player_Jeremy McNichols', 'player_Darrell Henderson',\n       'player_Dare Ogunbowale', 'player_Damien Harris',\n       'player_Dalvin Cook*', \"player_D'Onta Foreman\",\n       \"player_D'Andre Swift\", 'player_Brandon Bolden',\n       'player_Cordarrelle Patterson', 'player_Adrian Peterson',\n       'player_Antonio Gibson', 'player_Christian McCaffrey*+',\n       'player_Chris Thompson', 'player_Chase Edmonds',\n       'player_Benny Snell Jr.', 'player_Cam Akers',\n       'player_Derrick Henry', 'player_Derrick Henry *',\n       'player_Derrick Henry *+', 'player_Frank Gore',\n       'player_Alvin Kamara*', 'player_Jaylen Samuels',\n       'player_Javonte Williams', 'player_James White',\n       'player_James Conner*', 'player_Jalen Richard',\n       'player_J.K. Dobbins', 'player_Aaron Jones*', 'player_Gus Edwards',\n       'player_Ezekiel Elliott*', 'player_Ezekiel Elliott',\n       'player_Aaron Jones', 'player_Dontrell Hilliard',\n       'player_Dion Lewis', 'player_Ameer Abdullah',\n       'player_Devonta Freeman', 'player_Brian Hill',\n       'player_Tony Pollard', 'player_Kenneth Gainwell',\n       'player_Myles Gaskin', 'player_Ty Johnson',\n       'player_Jerick McKinnon', 'player_Rex Burkhead',\n       'player_Devontae Booker', 'player_Alexander Mattison',\n       'player_Zack Moss', 'player_Carlos Hyde', 'player_Chuba Hubbard',\n       'rushing_att'], dtype=object)"
     },
     "execution_count": 674,
     "metadata": {},
     "output_type": "execute_result"
    }
   ],
   "source": [
    "threshold = 0.05\n",
    "\n",
    "# Decompose this one-liner piece of code step by step if you don't understand it at first sight!\n",
    "weak_features = importance_df[importance_df.feature_importance <= threshold][\"feature\"].values\n",
    "weak_features"
   ],
   "metadata": {
    "collapsed": false,
    "pycharm": {
     "name": "#%%\n"
    }
   }
  },
  {
   "cell_type": "markdown",
   "source": [
    "saco las variables con poca importancia aquellas con una importancia menor a 0.05 la accuracy del modelo esdel 85% que esta bien porque no esta siendo ni muy perfecto ni es muy bajo, es decir que no hay overfitting ni underfitting"
   ],
   "metadata": {
    "collapsed": false,
    "pycharm": {
     "name": "#%% md\n"
    }
   }
  },
  {
   "cell_type": "code",
   "execution_count": 601,
   "outputs": [
    {
     "name": "stdout",
     "output_type": "stream",
     "text": [
      "Las variables fuertes son ['rush_tds', 'rec_yds']\n",
      "Antes de remover las variables el Accurracy es 0.85\n",
      "El modelo entrenado con las variables fuertes dan un accuracy de 0.84\n"
     ]
    }
   ],
   "source": [
    "X_strong_features = jugadores_rb.drop(columns=list(weak_features) + [\"clasificacion\"])\n",
    "\n",
    "print(f\"Las variables fuertes son {list(X_strong_features.columns)}\")\n",
    "\n",
    "model = LogisticRegression()\n",
    "\n",
    "scores = cross_val_score(model, X_strong_features, y, cv = 5)\n",
    "strong_model_score = scores.mean()\n",
    "\n",
    "print(f\"Antes de remover las variables el Accurracy es {round(score,2)}\")\n",
    "\n",
    "print(f\"El modelo entrenado con las variables fuertes dan un accuracy de {round(strong_model_score,2)}\")"
   ],
   "metadata": {
    "collapsed": false,
    "pycharm": {
     "name": "#%%\n"
    }
   }
  },
  {
   "cell_type": "markdown",
   "source": [
    "el modelo utilizando unicamente las variables fuertes tiene una accuracy mas baja, de 0.84 bajo 1%"
   ],
   "metadata": {
    "collapsed": false,
    "pycharm": {
     "name": "#%% md\n"
    }
   }
  },
  {
   "cell_type": "code",
   "execution_count": 602,
   "outputs": [
    {
     "name": "stdout",
     "output_type": "stream",
     "text": [
      "Train data de clase 1: 0.5208333333333334\n",
      "Test data de clase 1: 0.6507936507936508\n"
     ]
    }
   ],
   "source": [
    "from sklearn.model_selection import train_test_split\n",
    "\n",
    "X_train, X_test, y_train, y_test = train_test_split(X, y, test_size=0.3, random_state=1)\n",
    "print('Train data de clase 1:', y_train.mean())\n",
    "print('Test data de clase 1:', y_test.mean())"
   ],
   "metadata": {
    "collapsed": false,
    "pycharm": {
     "name": "#%%\n"
    }
   }
  },
  {
   "cell_type": "markdown",
   "source": [
    "la proporcion de train y test es de 52/65 no esta mal pero podria ser mejor"
   ],
   "metadata": {
    "collapsed": false,
    "pycharm": {
     "name": "#%% md\n"
    }
   }
  },
  {
   "cell_type": "code",
   "execution_count": 527,
   "outputs": [
    {
     "name": "stdout",
     "output_type": "stream",
     "text": [
      "--------------------------------------------------\n",
      "##### Random state set = 1\n",
      "Train data de clase 1: 0.521\n",
      "Test data de clase 1: 0.651\n",
      "--------------------------------------------------\n",
      "##### Random state set = 2\n",
      "Train data de clase 1: 0.576\n",
      "Test data de clase 1: 0.524\n",
      "--------------------------------------------------\n",
      "##### Random state set = 3\n",
      "Train data de clase 1: 0.569\n",
      "Test data de clase 1: 0.54\n",
      "--------------------------------------------------\n",
      "##### Random state set = 4\n",
      "Train data de clase 1: 0.583\n",
      "Test data de clase 1: 0.508\n",
      "--------------------------------------------------\n",
      "##### Random state set = 5\n",
      "Train data de clase 1: 0.556\n",
      "Test data de clase 1: 0.571\n",
      "--------------------------------------------------\n",
      "##### Random state set = 6\n",
      "Train data de clase 1: 0.549\n",
      "Test data de clase 1: 0.587\n",
      "--------------------------------------------------\n",
      "##### Random state set = 7\n",
      "Train data de clase 1: 0.535\n",
      "Test data de clase 1: 0.619\n",
      "--------------------------------------------------\n",
      "##### Random state set = 8\n",
      "Train data de clase 1: 0.583\n",
      "Test data de clase 1: 0.508\n",
      "--------------------------------------------------\n",
      "##### Random state set = 9\n",
      "Train data de clase 1: 0.569\n",
      "Test data de clase 1: 0.54\n"
     ]
    }
   ],
   "source": [
    "for i in range(1, 10):\n",
    "\n",
    "    print(\"-\"*50)\n",
    "    print(\"##### Random state set =\", i)\n",
    "    X_train, X_test, y_train, y_test = train_test_split(X, y, test_size=0.3, random_state=i)\n",
    "    print('Train data de clase 1:', round(y_train.mean(), 3))\n",
    "    print('Test data de clase 1:', round(y_test.mean(), 3))"
   ],
   "metadata": {
    "collapsed": false,
    "pycharm": {
     "name": "#%%\n"
    }
   }
  },
  {
   "cell_type": "code",
   "execution_count": 528,
   "outputs": [
    {
     "data": {
      "text/plain": "0.8571428571428571"
     },
     "execution_count": 528,
     "metadata": {},
     "output_type": "execute_result"
    }
   ],
   "source": [
    "model_8 = LogisticRegression(solver='lbfgs', max_iter=5000)\n",
    "\n",
    "X_train, X_test, y_train, y_test = train_test_split(X, y, test_size=0.3, random_state=1)\n",
    "\n",
    "model_8.fit(X_train, y_train)\n",
    "\n",
    "model_8.score(X_test, y_test)"
   ],
   "metadata": {
    "collapsed": false,
    "pycharm": {
     "name": "#%%\n"
    }
   }
  },
  {
   "cell_type": "code",
   "execution_count": 529,
   "outputs": [
    {
     "data": {
      "text/plain": "0.873015873015873"
     },
     "execution_count": 529,
     "metadata": {},
     "output_type": "execute_result"
    }
   ],
   "source": [
    "model_2 = LogisticRegression(solver='lbfgs', max_iter=5000)\n",
    "\n",
    "X_train, X_test, y_train, y_test = train_test_split(X, y, test_size=0.3, random_state=2)\n",
    "\n",
    "model_2.fit(X_train, y_train)\n",
    "\n",
    "model_2.score(X_test, y_test)"
   ],
   "metadata": {
    "collapsed": false,
    "pycharm": {
     "name": "#%%\n"
    }
   }
  },
  {
   "cell_type": "code",
   "execution_count": 530,
   "outputs": [
    {
     "data": {
      "text/plain": "0.7936507936507936"
     },
     "execution_count": 530,
     "metadata": {},
     "output_type": "execute_result"
    }
   ],
   "source": [
    "model_9 = LogisticRegression(solver='lbfgs', max_iter=5000)\n",
    "\n",
    "X_train, X_test, y_train, y_test = train_test_split(X, y, test_size=0.3, random_state=5)\n",
    "\n",
    "model_9.fit(X_train, y_train)\n",
    "\n",
    "model_9.score(X_test, y_test)"
   ],
   "metadata": {
    "collapsed": false,
    "pycharm": {
     "name": "#%%\n"
    }
   }
  },
  {
   "cell_type": "code",
   "execution_count": 531,
   "outputs": [
    {
     "data": {
      "text/plain": "0.7936507936507936"
     },
     "execution_count": 531,
     "metadata": {},
     "output_type": "execute_result"
    }
   ],
   "source": [
    "model_4 = LogisticRegression(solver='lbfgs', max_iter=5000)\n",
    "\n",
    "X_train, X_test, y_train, y_test = train_test_split(X, y, test_size=0.3, random_state=5)\n",
    "\n",
    "model_4.fit(X_train, y_train)\n",
    "\n",
    "model_4.score(X_test, y_test)"
   ],
   "metadata": {
    "collapsed": false,
    "pycharm": {
     "name": "#%%\n"
    }
   }
  },
  {
   "cell_type": "markdown",
   "source": [
    "Estos modelos al momento de hacer la validacion nos genera una baja en el accuracy."
   ],
   "metadata": {
    "collapsed": false,
    "pycharm": {
     "name": "#%% md\n"
    }
   }
  },
  {
   "cell_type": "code",
   "execution_count": 533,
   "outputs": [
    {
     "name": "stdout",
     "output_type": "stream",
     "text": [
      "--------------------------------------------------\n",
      "##### Random state set = 1\n",
      "Training data share of class 1 rbs: 0.562\n",
      "Testing data share of class 1 rbs: 0.556\n",
      "--------------------------------------------------\n",
      "##### Random state set = 2\n",
      "Training data share of class 1 rbs: 0.562\n",
      "Testing data share of class 1 rbs: 0.556\n",
      "--------------------------------------------------\n",
      "##### Random state set = 3\n",
      "Training data share of class 1 rbs: 0.562\n",
      "Testing data share of class 1 rbs: 0.556\n",
      "--------------------------------------------------\n",
      "##### Random state set = 4\n",
      "Training data share of class 1 rbs: 0.562\n",
      "Testing data share of class 1 rbs: 0.556\n",
      "--------------------------------------------------\n",
      "##### Random state set = 5\n",
      "Training data share of class 1 rbs: 0.562\n",
      "Testing data share of class 1 rbs: 0.556\n",
      "--------------------------------------------------\n",
      "##### Random state set = 6\n",
      "Training data share of class 1 rbs: 0.562\n",
      "Testing data share of class 1 rbs: 0.556\n",
      "--------------------------------------------------\n",
      "##### Random state set = 7\n",
      "Training data share of class 1 rbs: 0.562\n",
      "Testing data share of class 1 rbs: 0.556\n",
      "--------------------------------------------------\n",
      "##### Random state set = 8\n",
      "Training data share of class 1 rbs: 0.562\n",
      "Testing data share of class 1 rbs: 0.556\n",
      "--------------------------------------------------\n",
      "##### Random state set = 9\n",
      "Training data share of class 1 rbs: 0.562\n",
      "Testing data share of class 1 rbs: 0.556\n"
     ]
    }
   ],
   "source": [
    "for i in range(1, 10):\n",
    "    print(\"-\"*50)\n",
    "    print(\"##### Random state set =\", i)\n",
    "    X_train, X_test, y_train, y_test = train_test_split(X, y, test_size=0.3, random_state=i, stratify=y)\n",
    "    print('Training data share of class 1 rbs:', round(y_train.mean(), 3))\n",
    "    print('Testing data share of class 1 rbs:', round(y_test.mean(), 3))"
   ],
   "metadata": {
    "collapsed": false,
    "pycharm": {
     "name": "#%%\n"
    }
   }
  },
  {
   "cell_type": "markdown",
   "source": [
    "para mantener una mejor proporcion usamos stratify para agregarle la variable deseada en este caso clasificacion. y cambiando el parametro random la proporcion se mantiene"
   ],
   "metadata": {
    "collapsed": false,
    "pycharm": {
     "name": "#%% md\n"
    }
   }
  },
  {
   "cell_type": "code",
   "execution_count": 592,
   "outputs": [
    {
     "data": {
      "text/plain": "<matplotlib.legend.Legend at 0x27149624fd0>"
     },
     "execution_count": 592,
     "metadata": {},
     "output_type": "execute_result"
    },
    {
     "data": {
      "text/plain": "<Figure size 1440x1440 with 1 Axes>",
      "image/png": "[encoded data removed]"
     },
     "metadata": {
      "needs_background": "light"
     },
     "output_type": "display_data"
    }
   ],
   "source": [
    "import matplotlib.pyplot as plt\n",
    "from sklearn.model_selection import learning_curve\n",
    "import numpy as np\n",
    "\n",
    "# Get train scores, train sizes, and validation scores using `learning_curve`, r2 score\n",
    "train_sizes, train_scores, test_scores = learning_curve(estimator = LogisticRegression(max_iter=1000),\n",
    "                                                              X = X,\n",
    "                                                              y = y,\n",
    "                                                              train_sizes = [25,50,75,100,150],\n",
    "                                                              cv = 20)\n",
    "\n",
    "# Take the mean of cross-validated train scores and validation scores\n",
    "train_scores_mean = np.mean(train_scores, axis=1)\n",
    "test_scores_mean = np.mean(test_scores, axis=1)\n",
    "\n",
    "# Plot the learning curves!\n",
    "plt.plot(train_sizes, train_scores_mean, label = 'Training score')\n",
    "plt.plot(train_sizes, test_scores_mean, label = 'Test score')\n",
    "plt.ylabel('Accuracy score', fontsize = 14)\n",
    "plt.xlabel('Training set size', fontsize = 14)\n",
    "plt.title('Learning curves', fontsize = 18, y = 1.03)\n",
    "#plt.xlim([0, 1000])\n",
    "#plt.ylim([0, 1])\n",
    "plt.legend()"
   ],
   "metadata": {
    "collapsed": false,
    "pycharm": {
     "name": "#%%\n"
    }
   }
  },
  {
   "cell_type": "markdown",
   "source": [
    "las curvas muestran que a medida que el dataset tiene mas filas el test score aumenta su accuracy y el training score disminuye."
   ],
   "metadata": {
    "collapsed": false,
    "pycharm": {
     "name": "#%% md\n"
    }
   }
  },
  {
   "cell_type": "markdown",
   "source": [
    "## prediccion si un jugador sera bueno o malo\n",
    "0 = bueno\n",
    "1 = malo"
   ],
   "metadata": {
    "collapsed": false,
    "pycharm": {
     "name": "#%% md\n"
    }
   }
  },
  {
   "cell_type": "code",
   "execution_count": 567,
   "outputs": [],
   "source": [
    "jug_2022 = pd.read_csv(\"data/data-master/data-master/yearly/jugadores_2022.csv\", header=[1])\n",
    "jug_2022[\"year\"] = np.where(jug_2022[\"Player\"] == 2022, '2022', '2022')\n",
    "jug_2022.columns = [\"rank\", \"player\", \"team\", \"pos\", \"age\", \"games\", \"games_started\", \"pass_comp\", \"pass_att\", \"pass_yds\",\"pass_tds\", \"ints\", \"rushing_att\", \"rush_yds\", \"yds_x_att\", \"rush_tds\", \"targets\", \"rec\", \"rec_yds\", \"yds_x_rec\", \"rec_tds\", \"fumbles\", \"fum_lst\", \"td_tot\", \"dos_pt_conv\", \"pases_dos_pt\",'FantPt', 'PPR', 'DKPt', 'FDPt', 'VBD', 'posrank', 'OvRank',\n",
    "       'year', '-9999']\n",
    "jug_2022 = jug_2022.drop(columns={'FantPt', 'DKPt', 'FDPt', 'VBD', '-9999', 'OvRank'})"
   ],
   "metadata": {
    "collapsed": false,
    "pycharm": {
     "name": "#%%\n"
    }
   }
  },
  {
   "cell_type": "code",
   "execution_count": 574,
   "outputs": [
    {
     "data": {
      "text/plain": "    rank         player team pos  age  games  games_started  pass_comp  \\\n48    49  Dameon Pierce  HOU  RB   22     12             12          0   \n\n    pass_att  pass_yds  ...  yds_x_rec  rec_tds  fumbles  fum_lst  td_tot  \\\n48         0         0  ...        5.5        1        3        1       4   \n\n    dos_pt_conv  pases_dos_pt    PPR  posrank      year  \n48          NaN           NaN  154.6       15  PierDa01  \n\n[1 rows x 29 columns]",
      "text/html": "<div>\n<style scoped>\n    .dataframe tbody tr th:only-of-type {\n        vertical-align: middle;\n    }\n\n    .dataframe tbody tr th {\n        vertical-align: top;\n    }\n\n    .dataframe thead th {\n        text-align: right;\n    }\n</style>\n<table border=\"1\" class=\"dataframe\">\n  <thead>\n    <tr style=\"text-align: right;\">\n      <th></th>\n      <th>rank</th>\n      <th>player</th>\n      <th>team</th>\n      <th>pos</th>\n      <th>age</th>\n      <th>games</th>\n      <th>games_started</th>\n      <th>pass_comp</th>\n      <th>pass_att</th>\n      <th>pass_yds</th>\n      <th>...</th>\n      <th>yds_x_rec</th>\n      <th>rec_tds</th>\n      <th>fumbles</th>\n      <th>fum_lst</th>\n      <th>td_tot</th>\n      <th>dos_pt_conv</th>\n      <th>pases_dos_pt</th>\n      <th>PPR</th>\n      <th>posrank</th>\n      <th>year</th>\n    </tr>\n  </thead>\n  <tbody>\n    <tr>\n      <th>48</th>\n      <td>49</td>\n      <td>Dameon Pierce</td>\n      <td>HOU</td>\n      <td>RB</td>\n      <td>22</td>\n      <td>12</td>\n      <td>12</td>\n      <td>0</td>\n      <td>0</td>\n      <td>0</td>\n      <td>...</td>\n      <td>5.5</td>\n      <td>1</td>\n      <td>3</td>\n      <td>1</td>\n      <td>4</td>\n      <td>NaN</td>\n      <td>NaN</td>\n      <td>154.6</td>\n      <td>15</td>\n      <td>PierDa01</td>\n    </tr>\n  </tbody>\n</table>\n<p>1 rows × 29 columns</p>\n</div>"
     },
     "execution_count": 574,
     "metadata": {},
     "output_type": "execute_result"
    }
   ],
   "source": [
    "jug_rb_22 = jug_2022.loc[jug_2022[\"pos\"]== \"RB\"]"
   ],
   "metadata": {
    "collapsed": false,
    "pycharm": {
     "name": "#%%\n"
    }
   }
  },
  {
   "cell_type": "code",
   "execution_count": 660,
   "outputs": [],
   "source": [
    "jug_rb_22 = jug_rb_22.loc[jug_rb_22[\"PPR\"]>60]\n",
    "jug_rb_22[\"pts_x_gm\"] = jug_rb_22[\"PPR\"]/ jug_rb_22[\"games\"]\n",
    "jug_rb_22[\"td_x_gm\"] = jug_rb_22[\"PPR\"]/ jug_rb_22[\"games\"]\n",
    "\n",
    "def clasificacion (x):\n",
    "       if x > jug_rb_22.pts_x_gm.mean():\n",
    "              return \"bueno\"\n",
    "       else: return \"malo\"\n",
    "jug_rb_22[\"clasificacion\"] = jug_rb_22[\"pts_x_gm\"].apply(clasificacion)"
   ],
   "metadata": {
    "collapsed": false,
    "pycharm": {
     "name": "#%%\n"
    }
   }
  },
  {
   "cell_type": "code",
   "execution_count": 675,
   "outputs": [
    {
     "data": {
      "text/plain": "0.96"
     },
     "execution_count": 675,
     "metadata": {},
     "output_type": "execute_result"
    }
   ],
   "source": [
    "df_reduced = jug_rb_22.sample(n=23, random_state=1)\n",
    "X_reduced = df_reduced[['yds_x_rec','td_x_gm','yds_x_att']]\n",
    "y_reduced = df_reduced['clasificacion']\n",
    "\n",
    "# 5-Fold Cross validate model\n",
    "cv_results = cross_validate(LogisticRegression(max_iter=1000), X_reduced, y_reduced, cv=5)\n",
    "\n",
    "# Mean of accuracies\n",
    "reduced_training_accuracy = cv_results['test_score'].mean()\n",
    "\n",
    "reduced_training_accuracy"
   ],
   "metadata": {
    "collapsed": false,
    "pycharm": {
     "name": "#%%\n"
    }
   }
  },
  {
   "cell_type": "markdown",
   "source": [
    "utilizando un dataframe mas chico con las 4 variables con mas fuerza obtenidas previamente el training accuracy es mayor"
   ],
   "metadata": {
    "collapsed": false,
    "pycharm": {
     "name": "#%% md\n"
    }
   }
  },
  {
   "cell_type": "code",
   "execution_count": 677,
   "outputs": [
    {
     "data": {
      "text/plain": "'malo'"
     },
     "execution_count": 677,
     "metadata": {},
     "output_type": "execute_result"
    }
   ],
   "source": [
    "from sklearn.linear_model import LogisticRegression\n",
    "\n",
    "# Instanciate the model\n",
    "log_model = LogisticRegression(max_iter=100)\n",
    "\n",
    "# Train the model on the training data\n",
    "log_model.fit(np.array(X_reduced), y_reduced)\n",
    "\n",
    "# Use the trained model to predict\n",
    "#'rec','rec_tds','rush_tds','yds_x_att'\n",
    "prediction = log_model.predict([[30,1,4.5]])[0]\n",
    "\n",
    "prediction"
   ],
   "metadata": {
    "collapsed": false,
    "pycharm": {
     "name": "#%%\n"
    }
   }
  },
  {
   "cell_type": "markdown",
   "source": [
    "al usar los numeros de dameon pierce el modelo dice que el jugador va a terminar la temporada como uno bueno."
   ],
   "metadata": {
    "collapsed": false,
    "pycharm": {
     "name": "#%% md\n"
    }
   }
  }
 ],
 "metadata": {
  "kernelspec": {
   "display_name": "Python 3",
   "language": "python",
   "name": "python3"
  },
  "language_info": {
   "codemirror_mode": {
    "name": "ipython",
    "version": 2
   },
   "file_extension": ".py",
   "mimetype": "text/x-python",
   "name": "python",
   "nbconvert_exporter": "python",
   "pygments_lexer": "ipython2",
   "version": "2.7.6"
  }
 },
 "nbformat": 4,
 "nbformat_minor": 0
}